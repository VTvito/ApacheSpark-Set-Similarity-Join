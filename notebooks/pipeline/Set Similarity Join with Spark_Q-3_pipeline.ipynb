{
 "cells": [
  {
   "cell_type": "markdown",
   "metadata": {
    "application/vnd.databricks.v1+cell": {
     "cellMetadata": {
      "byteLimit": 2048000,
      "rowLimit": 10000
     },
     "inputWidgets": {},
     "nuid": "4ea795dd-d233-405b-ac5e-e5e60cda4421",
     "showTitle": false,
     "title": ""
    }
   },
   "source": [
    "#PRE-PROCESSING"
   ]
  },
  {
   "cell_type": "markdown",
   "metadata": {
    "application/vnd.databricks.v1+cell": {
     "cellMetadata": {
      "byteLimit": 2048000,
      "rowLimit": 10000
     },
     "inputWidgets": {},
     "nuid": "a0524693-e786-423b-bf98-0f7d7f2e4b92",
     "showTitle": false,
     "title": ""
    }
   },
   "source": [
    "Initialization (__init__):\n",
    "sets up a Spark context for distributed computing.\n",
    "Stores the path to the JSON file containing the data to be processed.\n",
    "\n",
    "Reading JSON File (read_json_file):\n",
    "reads the JSON file from the specified path into an RDD (Resilient Distributed Dataset), which is a fundamental data structure of Spark.\n",
    "\n",
    "Trigram Tokenization (generate_trigrams):\n",
    "converts text to lowercase and generates trigrams (sequences of three consecutive characters) from the text, returning these trigrams as a set.\n",
    "\n",
    "Tokenizing Each Line (tokenize_line_with_trigrams):\n",
    "parses each line of the JSON file, extracts the 'realProfileID' and other values.\n",
    "It applies either trigram tokenization to the values, excluding the 'realProfileID'.\n",
    "Returns a tuple of the record ID and the set of tokens.\n",
    "\n",
    "Analyzing Token Frequency (analyze_token_frequency):\n",
    "calculates the frequency of each token across the dataset. This information can be used to prioritize or filter tokens based on their occurrence.\n",
    "\n",
    "Sorting Tokens by Frequency (sort_tokens_by_frequency):\n",
    "sorts the tokens in each record by their frequency (using the broadcasted token frequency dictionary to the nome for efficiency).\n",
    "\n",
    "Running the Pipeline (run):\n",
    "executes the pipeline steps: reads the JSON file, tokenizes each line, analyzes token frequency, and sorts tokens by frequency.\n",
    "Returns the sorted tokens RDD and the tokenized RDD for further processing."
   ]
  },
  {
   "cell_type": "markdown",
   "metadata": {
    "application/vnd.databricks.v1+cell": {
     "cellMetadata": {
      "byteLimit": 2048000,
      "rowLimit": 10000
     },
     "inputWidgets": {},
     "nuid": "6aedeb86-0dca-41a0-bd64-8fa7469e00ed",
     "showTitle": false,
     "title": ""
    }
   },
   "source": [
    "For example, a name like \"Smith\" would be broken down into trigrams like ['smi', 'mit', 'ith']. This set of trigrams can then be compared to other sets to find similarities, even with slightly misspelled versions of the name.\n",
    "\n",
    "The tokens in an RDD for each record are tuple of (recordID, [token1, token2, ...])"
   ]
  },
  {
   "cell_type": "markdown",
   "metadata": {
    "application/vnd.databricks.v1+cell": {
     "cellMetadata": {
      "byteLimit": 2048000,
      "rowLimit": 10000
     },
     "inputWidgets": {},
     "nuid": "d702fac7-37af-4ec5-8caf-91f2c5acd812",
     "showTitle": false,
     "title": ""
    }
   },
   "source": [
    "Remember that if token_freq... is an RDD then bring the data to the driver node.\n",
    "\n",
    "Then we have the (token, frequency) in each worker and the (RID, {tokens}) RDD\n",
    "\n",
    "The sort_tokens_by_frequency function aims to reorder the tokens in each record of an RDD based on their global frequency,\n",
    "which was previously computed and broadcasted. \n",
    "\n",
    "Tokens are sorted based on their frequency in ascending order, meaning the rarest tokens (lowest frequency) appear first, followed by more common tokens. "
   ]
  },
  {
   "cell_type": "markdown",
   "metadata": {
    "application/vnd.databricks.v1+cell": {
     "cellMetadata": {
      "byteLimit": 2048000,
      "rowLimit": 10000
     },
     "inputWidgets": {},
     "nuid": "7247fd97-1294-41ef-8508-b227562e6d86",
     "showTitle": false,
     "title": ""
    }
   },
   "source": [
    "For each record in (RID, {tokens}) RDD:\n",
    "\n",
    "-Fetch its tokens.\n",
    "\n",
    "-Sort these tokens using the broadcasted frequencies.\n",
    "\n",
    "-Return the sorted tokens along with the original RID.\n",
    "\n",
    "IT'S DONE LOCALLY ON EACH WORKERS"
   ]
  },
  {
   "cell_type": "code",
   "execution_count": 0,
   "metadata": {
    "application/vnd.databricks.v1+cell": {
     "cellMetadata": {
      "byteLimit": 2048000,
      "rowLimit": 10000
     },
     "inputWidgets": {},
     "nuid": "b7cd52fa-021b-48de-b870-881f9bbd8b32",
     "showTitle": false,
     "title": ""
    }
   },
   "outputs": [],
   "source": [
    "from pyspark import SparkContext\n",
    "import json\n",
    "\n",
    "class PreprocessingPipeline:\n",
    "    def __init__(self, json_file_path):\n",
    "        \"\"\"\n",
    "        Initialize the Preprocessing Pipeline.\n",
    "\n",
    "        Parameters:\n",
    "        - json_file_path: Path to the JSON file.\n",
    "        \"\"\"\n",
    "        self.sc = SparkContext.getOrCreate()\n",
    "        self.json_file_path = json_file_path\n",
    "        self.token_freq_broadcast = None\n",
    "\n",
    "    def read_json_file(self):\n",
    "        \"\"\"\n",
    "        Reads the JSON file into an RDD.\n",
    "        \"\"\"\n",
    "        json_rdd = self.sc.textFile(self.json_file_path)\n",
    "        return json_rdd\n",
    "\n",
    "    @staticmethod\n",
    "    def generate_trigrams(text):\n",
    "        \"\"\"\n",
    "        Generates trigrams from the given text (Qgram-3 tokenization), excluding white spaces.\n",
    "        \"\"\"\n",
    "        text = text.lower().replace(\" \", \"\")  # Remove white spaces from the text\n",
    "        trigrams = set(text[i:i+3] for i in range(len(text) - 2))\n",
    "        return trigrams\n",
    "\n",
    "    @staticmethod\n",
    "    def tokenize_line_with_trigrams(line):\n",
    "        \"\"\"\n",
    "        Tokenizes a line of the JSON file based on the selected method.\n",
    "        \"\"\"\n",
    "        try:\n",
    "            record = json.loads(line)\n",
    "            record_id = record[\"realProfileID\"]\n",
    "            tokens = set()\n",
    "            for key, value in record.items():\n",
    "                if key != \"realProfileID\" and value:\n",
    "                    tokens.update(PreprocessingPipeline.generate_trigrams(str(value)))\n",
    "            return (record_id, tokens)\n",
    "        except json.JSONDecodeError:\n",
    "            return None\n",
    "\n",
    "    @staticmethod\n",
    "    def analyze_token_frequency(rdd):\n",
    "        \"\"\"\n",
    "        Analyzes the frequency of tokens within the RDD.\n",
    "        \"\"\"\n",
    "        token_freq_dict = rdd.flatMap(lambda x: x[1]).countByValue()\n",
    "        return token_freq_dict\n",
    "\n",
    "    @staticmethod\n",
    "    def sort_tokens_by_frequency(rdd, broadcast_freq):\n",
    "        \"\"\"\n",
    "        Sorts tokens in each record by their frequency using the broadcast frequency dictionary.\n",
    "        \"\"\"\n",
    "        def sort_tokens_by_freq(record):\n",
    "            record_id, tokens = record\n",
    "            sorted_tokens = sorted(tokens, key=lambda token: broadcast_freq.value.get(token, 0))\n",
    "            return (record_id, sorted_tokens)\n",
    "        sorted_rdd = rdd.map(sort_tokens_by_freq)\n",
    "        return sorted_rdd\n",
    "\n",
    "    def run(self):\n",
    "        \"\"\"\n",
    "        Executes the preprocessing pipeline.\n",
    "        \"\"\"\n",
    "        json_rdd = self.read_json_file()\n",
    "        tokenized_rdd = json_rdd.map(self.tokenize_line_with_trigrams).filter(lambda x: x is not None)\n",
    "        tokenized_rdd = tokenized_rdd.cache()\n",
    "\n",
    "        # Analyze token frequency and broadcast it\n",
    "        token_freq_dict = self.analyze_token_frequency(tokenized_rdd)\n",
    "        self.token_freq_broadcast = self.sc.broadcast(token_freq_dict)\n",
    "        \n",
    "        sorted_tokens_rdd = self.sort_tokens_by_frequency(tokenized_rdd, self.token_freq_broadcast)\n",
    "\n",
    "        return sorted_tokens_rdd, tokenized_rdd\n"
   ]
  },
  {
   "cell_type": "markdown",
   "metadata": {
    "application/vnd.databricks.v1+cell": {
     "cellMetadata": {
      "byteLimit": 2048000,
      "rowLimit": 10000
     },
     "inputWidgets": {},
     "nuid": "909010cb-89d5-4e26-85b1-3e51f06ca417",
     "showTitle": false,
     "title": ""
    }
   },
   "source": [
    "### PREFIX FILTERING"
   ]
  },
  {
   "cell_type": "markdown",
   "metadata": {
    "application/vnd.databricks.v1+cell": {
     "cellMetadata": {
      "byteLimit": 2048000,
      "rowLimit": 10000
     },
     "inputWidgets": {},
     "nuid": "09f3e430-982c-48a6-937a-77e426febab9",
     "showTitle": false,
     "title": ""
    }
   },
   "source": [
    "Initialization (__init__):\n",
    "accepts a preprocessed (sorted tokens) RDD and a threshold t.\n",
    "The threshold t is crucial for determining the prefix length of each record.\n",
    "\n",
    "Generating Prefix Pairs (generate_prefix_pairs_from_rdd):\n",
    "this method takes an RDD where each record consists of a record ID and a set of tokens.\n",
    "It computes the prefix for each record, which is a subset of tokens determined by the threshold t. The length of the prefix is n - t + 1, where n is the total number of tokens in the record.\n",
    "It yields pairs of each token in the prefix and the record ID. This step is essential for identifying potential candidate pairs in the dataset.\n",
    "\n",
    "Generating Candidate Pairs (generate_candidate_pairs):\n",
    "after generating prefix pairs, this method groups the RDD by tokens, so each group contains a list of record IDs that share the same token in their prefixes.\n",
    "It then applies the combinations function to each group to generate all possible candidate pairs from these record IDs.\n",
    "This process significantly reduces the number of pairs to be compared in later stages, as it only considers pairs that share at least one token in their prefix.\n",
    "\n",
    "Ordering Record IDs (order_rids):\n",
    "a utility function to ensure that each pair of record IDs is ordered. This standardization is important for further eliminatination of duplicates with distinct() that allow to optimize the computing resources usage.\n",
    "\n",
    "Running the Pipeline (run):\n",
    "executes the pipeline steps: generates prefix pairs, groups them by tokens, generates candidate pairs, and orders these pairs.\n",
    "\n",
    "Removes duplicate pairs by using distinct().\n",
    "Returns an RDD of unique candidate pairs, which is a smaller subset of the original dataset, containing pairs that are more likely to be similar."
   ]
  },
  {
   "cell_type": "markdown",
   "metadata": {
    "application/vnd.databricks.v1+cell": {
     "cellMetadata": {
      "byteLimit": 2048000,
      "rowLimit": 10000
     },
     "inputWidgets": {},
     "nuid": "20466e82-1014-4ad9-ac1f-987fd4f9774f",
     "showTitle": false,
     "title": ""
    }
   },
   "source": [
    "CHOICE OF THRESHOLD T\n",
    "\n",
    "Higher t: Select this for stricter similarity requirements, generating fewer more likely candidate pairs -> increase precision (fewer false positives) but decrease recall (missed true positives).\n",
    "\n",
    "Lower t: Use this for broader similarity requirements, generating more candidate pairs, including those with less overlap ->  increase recall but decrease precision."
   ]
  },
  {
   "cell_type": "markdown",
   "metadata": {
    "application/vnd.databricks.v1+cell": {
     "cellMetadata": {
      "byteLimit": 2048000,
      "rowLimit": 10000
     },
     "inputWidgets": {},
     "nuid": "d46923dc-1f24-4b72-b035-a7e74beb8737",
     "showTitle": false,
     "title": ""
    }
   },
   "source": [
    "For each record, we will emit key-value pairs for every token in its prefix (doclen - t + 1), where the key is the token and the value is the record's RID. Generate pairs of the form (token, record_id)\n",
    "\n",
    "The function generate pairs (tokens[i], record_id) for each token in the prefix.\n",
    "\n",
    "For this record:(1, ['apple', 'banana', 'cherry']) and prefix length 2, the Mapper will emit:\n",
    "('apple', 1)\n",
    "('banana', 1)"
   ]
  },
  {
   "cell_type": "markdown",
   "metadata": {
    "application/vnd.databricks.v1+cell": {
     "cellMetadata": {
      "byteLimit": 2048000,
      "rowLimit": 10000
     },
     "inputWidgets": {},
     "nuid": "42f01089-801d-4106-b62c-cb49d260e9a2",
     "showTitle": false,
     "title": ""
    }
   },
   "source": [
    "Shuffle: before the reducer starts, there's a shuffle phase. All emitted key-value pairs are shuffled across the network so that all pairs with the same key (in this case with the same token) are grouped together and end up on the same machine.\n",
    "\n",
    "This requires moving data across different nodes in the cluster, which can be network-intensive, especially for large datasets.\n",
    "\n",
    "\n",
    "Grouping(reducing): the reducer groups these key-value pairs by their keys. This means all the RIDs that have the same token in their prefix are collected together.\n",
    "\n",
    "After the shuffle, for each unique token, you get an iterable of record IDs (rids) that contain this token. This operation effectively groups all record IDs by common tokens.\n",
    "\n",
    "\n",
    "After Shuffle:\n",
    "('apple', 1)\n",
    "('apple', 3)\n",
    "('banana', 1)\n",
    "('banana', 2)\n",
    "('cherry', 2)\n",
    "\n",
    "After Grouping:\n",
    "('apple', [1, 3])\n",
    "('banana', [1, 2])\n",
    "('cherry', [2])\n",
    "\n",
    "\n",
    "Essentially, it's an inverted index.. example: Token: \"mol\" RIDs:  ['0', '373', '398', '435', '585', '652'...]  "
   ]
  },
  {
   "cell_type": "markdown",
   "metadata": {
    "application/vnd.databricks.v1+cell": {
     "cellMetadata": {
      "byteLimit": 2048000,
      "rowLimit": 10000
     },
     "inputWidgets": {},
     "nuid": "40de097a-7048-4e7b-8190-38dbad2b6da3",
     "showTitle": false,
     "title": ""
    }
   },
   "source": [
    "The function generate_candidate_pairs: \n",
    "\n",
    "Generate all 2-combinations of the list of RIDs. For each token returns all possible pairs of RIDs that have this token in their prefix.\n",
    "\n",
    "input (kv) is a key-value pair, where the key is a token and the value (kv[1]) is a list of RIDs associated with that token."
   ]
  },
  {
   "cell_type": "markdown",
   "metadata": {
    "application/vnd.databricks.v1+cell": {
     "cellMetadata": {
      "byteLimit": 2048000,
      "rowLimit": 10000
     },
     "inputWidgets": {},
     "nuid": "9e24e1f8-1117-4c6b-8285-045d05c73765",
     "showTitle": false,
     "title": ""
    }
   },
   "source": [
    "Duplicate pairs removing, ensuring that each pair of record IDs (RIDs) appears only once in distinct_pairs_rdd.\n",
    "\n",
    "This way, (A, B) and (B, A) are considered the same because they both become (A, B)."
   ]
  },
  {
   "cell_type": "code",
   "execution_count": 0,
   "metadata": {
    "application/vnd.databricks.v1+cell": {
     "cellMetadata": {
      "byteLimit": 2048000,
      "rowLimit": 10000
     },
     "inputWidgets": {},
     "nuid": "7e0e2818-d508-43b7-ae52-320cb6b7674a",
     "showTitle": false,
     "title": ""
    }
   },
   "outputs": [],
   "source": [
    "from itertools import combinations\n",
    "\n",
    "class PrefixFilteringPipeline:\n",
    "    def __init__(self, sorted_tokens_rdd, t):\n",
    "        \"\"\"\n",
    "        Initialize the Prefix Filtering Pipeline.\n",
    "\n",
    "        Parameters:\n",
    "        - sorted_tokens_rdd: RDD of sorted tokens.\n",
    "        - t: Prefix length for filtering.\n",
    "        \"\"\"\n",
    "        self.sorted_tokens_rdd = sorted_tokens_rdd\n",
    "        self.t = t\n",
    "\n",
    "    @staticmethod\n",
    "    def generate_prefix_pairs_from_rdd(rdd, t):\n",
    "        \"\"\"\n",
    "        Generates prefix pairs from the given RDD based on the prefix length t.\n",
    "        \"\"\"\n",
    "        def generate_prefix_pairs(record):\n",
    "            record_id, tokens = record\n",
    "            n = len(tokens)\n",
    "            prefix_length = n - t + 1\n",
    "            if prefix_length <= 0:\n",
    "                return []\n",
    "            for i in range(prefix_length):\n",
    "                yield (tokens[i], record_id)\n",
    "        prefix_rdd = rdd.flatMap(generate_prefix_pairs)\n",
    "        return prefix_rdd\n",
    "\n",
    "    @staticmethod\n",
    "    def generate_candidate_pairs(grouped_rdd):\n",
    "        \"\"\"\n",
    "        Generates candidate pairs by combining records that share a prefix token.\n",
    "        \"\"\"\n",
    "        candidate_pairs_rdd = grouped_rdd.flatMap(lambda kv: combinations(kv[1], 2))\n",
    "        return candidate_pairs_rdd\n",
    "\n",
    "    @staticmethod\n",
    "    def order_rids(pair):\n",
    "        \"\"\"\n",
    "        Orders the record IDs (RID) of a pair in ascending order.\n",
    "        \"\"\"\n",
    "        RID1, RID2 = pair\n",
    "        return (RID1, RID2) if RID1 < RID2 else (RID2, RID1)\n",
    "\n",
    "    def run(self):\n",
    "        \"\"\"\n",
    "        Executes the prefix filtering pipeline and returns distinct candidate pairs.\n",
    "        \"\"\"\n",
    "        prefix_rdd = self.generate_prefix_pairs_from_rdd(self.sorted_tokens_rdd, self.t)\n",
    "        \n",
    "        # Group records by prefix token\n",
    "        grouped_rdd = prefix_rdd.groupByKey()\n",
    "\n",
    "        # Generate candidate pairs from grouped records\n",
    "        candidate_pairs_rdd = self.generate_candidate_pairs(grouped_rdd)\n",
    "\n",
    "        # Order and deduplicate the candidate pairs\n",
    "        ordered_pairs_rdd = candidate_pairs_rdd #.map(self.order_rids)\n",
    "        distinct_pairs_rdd = ordered_pairs_rdd #.distinct()\n",
    "        \n",
    "        return distinct_pairs_rdd"
   ]
  },
  {
   "cell_type": "markdown",
   "metadata": {
    "application/vnd.databricks.v1+cell": {
     "cellMetadata": {
      "byteLimit": 2048000,
      "rowLimit": 10000
     },
     "inputWidgets": {},
     "nuid": "d7152bbc-7282-4f1e-be50-8abd94121e09",
     "showTitle": false,
     "title": ""
    }
   },
   "source": [
    "EXTRA - POSSIBLE OPTIMISATIONS\n",
    "\n",
    "Broadcasting Frequent Tokens: if your dataset has some tokens that are very common across many records, these tokens might not be very useful in generating candidate pairs. You could consider broadcasting a list of these frequent tokens and then filter them out during the prefix pair generation. This could reduce the number of unproductive candidate pairs.\n",
    "\n",
    "Parallel Processing of Groups: in the generate_candidate_pairs method, if some groups (tokens) have a significantly higher number of record IDs than others, it might lead to imbalanced processing load across the nodes. Consider adding a step to split very large groups into smaller ones to ensure more even distribution of computation."
   ]
  },
  {
   "cell_type": "markdown",
   "metadata": {
    "application/vnd.databricks.v1+cell": {
     "cellMetadata": {
      "byteLimit": 2048000,
      "rowLimit": 10000
     },
     "inputWidgets": {},
     "nuid": "c673d33b-ff79-4337-8233-f6ad23a10fe6",
     "showTitle": false,
     "title": ""
    }
   },
   "source": [
    "### LENGHT FILTER"
   ]
  },
  {
   "cell_type": "markdown",
   "metadata": {
    "application/vnd.databricks.v1+cell": {
     "cellMetadata": {
      "byteLimit": 2048000,
      "rowLimit": 10000
     },
     "inputWidgets": {},
     "nuid": "102ec1bc-f690-4094-93bc-af5aadb16af8",
     "showTitle": false,
     "title": ""
    }
   },
   "source": [
    "Class Initialization:\n",
    "\n",
    "the __init__ method initializes the LengthFilteringPipeline object with three parameters: tokenized_rdd, distinct_pairs_rdd, and threshold.\n",
    "tokenized_rdd is an RDD of tokenized records.\n",
    "distinct_pairs_rdd is an RDD containing distinct candidate pairs for comparison.\n",
    "Threshold is the minimum similarity length filtering\n",
    "\n",
    "Filtering Function:\n",
    "\n",
    "the filter_pairs_by_length static method filters pairs based on their lengths.\n",
    "It takes pair_lengths_rdd_refactored and threshold as parameters. The pair_lengths_rdd_refactored RDD contains tuples of the format (pair, (length1, length2)), where pair is a tuple of record IDs and length1, length2 are the lengths of the respective records.\n",
    "The length_filter inner function calculates the minimum and maximum lengths between a pair of records. It then computes the maximum possible overlap and the minimum required overlap based on the threshold. If the condition (min_length - max_length + max_overlap) >= min_required_overlap holds true, the pair is considered similar enough to be included.\n",
    "\n",
    "Running the Pipeline:\n",
    "\n",
    "the run method executes the length filtering pipeline.\n",
    "It first computes the lengths of each record in tokenized_rdd and joins this information with the distinct_pairs_rdd.\n",
    "The pair_lengths_rdd is refactored to align with the expected format for the filter_pairs_by_length method.\n",
    "After applying the length filter, it maps the filtered pairs RDD to keep only the record IDs in each pair."
   ]
  },
  {
   "cell_type": "markdown",
   "metadata": {
    "application/vnd.databricks.v1+cell": {
     "cellMetadata": {
      "byteLimit": 2048000,
      "rowLimit": 10000
     },
     "inputWidgets": {},
     "nuid": "7e01572a-9e48-45db-bdee-06e486df557b",
     "showTitle": false,
     "title": ""
    }
   },
   "source": [
    "The lambda function \"lambda kv\": (kv[0], len(kv[1])) takes each key-value pair kv (where kv[0] is the RID and kv[1] is the token set) and transforms it into a new pair (RID, number_of_tokens)\n",
    "\n",
    "The result is a new RDD, record_lengths_rdd, where each element is a tuple consisting of a record ID and the corresponding number of tokens in that record."
   ]
  },
  {
   "cell_type": "markdown",
   "metadata": {
    "application/vnd.databricks.v1+cell": {
     "cellMetadata": {
      "byteLimit": 2048000,
      "rowLimit": 10000
     },
     "inputWidgets": {},
     "nuid": "9638a9bf-54c0-4515-a27b-67fe5c64c8eb",
     "showTitle": false,
     "title": ""
    }
   },
   "source": [
    "We start with distinct_pairs_rdd, which is a result from the previous step containing potential similar pairs (RID1, RID2). This line is joining this RDD with the record_lengths_rdd to associate the length of the token set with each RID. The join operation combines records with the same key (RID) from both RDDs.\n",
    "The result, pair_lengths_rdd, will have elements in the form: {RID1, (RID2, length_of_RID1)}.\n",
    "\n",
    "After the join, we restructure the RDD to facilitate another join to get lengths for both RIDs in the pair, by swapping the keys and values. \n",
    "The key becomes RID2, and the value becomes a tuple (RID1, length_of_RID1).\n",
    "\n",
    "After this mapping, we join the refactored RDD with record_lengths_rdd again.\n",
    "The resulting RDD, pair_lengths_rdd_refactored, will have elements in the form: {RID2, ((RID1, length_of_RID1), length_of_RID2)}."
   ]
  },
  {
   "cell_type": "markdown",
   "metadata": {
    "application/vnd.databricks.v1+cell": {
     "cellMetadata": {
      "byteLimit": 2048000,
      "rowLimit": 10000
     },
     "inputWidgets": {},
     "nuid": "2bde868a-732d-4464-be58-f6496ec0ff14",
     "showTitle": false,
     "title": ""
    }
   },
   "source": [
    "After the length filter, we have an RDD structure somewhat like:\n",
    "\n",
    "{RID2, ((RID1, length_of_RID1), length_of_RID2)}\n",
    "Now, you just need the RID pairs (RID1, RID2), so we can map the structure to get only the pairs of RIDs.\n",
    "\n",
    "This should get an RDD of the form: (RID1, RID2)"
   ]
  },
  {
   "cell_type": "markdown",
   "metadata": {
    "application/vnd.databricks.v1+cell": {
     "cellMetadata": {
      "byteLimit": 2048000,
      "rowLimit": 10000
     },
     "inputWidgets": {},
     "nuid": "8de5877f-3ccf-4724-8166-5e044a7c8a9b",
     "showTitle": false,
     "title": ""
    }
   },
   "source": [
    "THRESHOLD CONSIDERATION:\n",
    "\n",
    "Strict Matching: If the goal is to identify records that are very similar or nearly duplicates, a higher threshold (e.g., 0.8-0.9) ensures only very similar records are considered.\n",
    "\n",
    "Broad Matching: For exploratory analysis or when broader similarities are relevant, a lower threshold (e.g., 0.5-0.7) might be more suitable.\n",
    "\n",
    "A higher threshold generally results in fewer comparisons and better performance but might miss some relevant matches.\n",
    "\n",
    "A lower threshold increases the computational load but might capture more potential similarities."
   ]
  },
  {
   "cell_type": "code",
   "execution_count": 0,
   "metadata": {
    "application/vnd.databricks.v1+cell": {
     "cellMetadata": {
      "byteLimit": 2048000,
      "rowLimit": 10000
     },
     "inputWidgets": {},
     "nuid": "967fed21-ff67-4a04-a09f-a0b81a9e81fb",
     "showTitle": false,
     "title": ""
    }
   },
   "outputs": [],
   "source": [
    "class LengthFilteringPipeline:\n",
    "    def __init__(self, tokenized_rdd, distinct_pairs_rdd, threshold):\n",
    "        \"\"\"\n",
    "        Initialize the Length Filtering Pipeline.\n",
    "\n",
    "        Parameters:\n",
    "        - tokenized_rdd: RDD of tokenized records.\n",
    "        - distinct_pairs_rdd: RDD of distinct pairs generated from previous steps.\n",
    "        - threshold: Length filtering threshold based on Jaccard similarity.\n",
    "        \"\"\"\n",
    "        self.tokenized_rdd = tokenized_rdd\n",
    "        self.distinct_pairs_rdd = distinct_pairs_rdd\n",
    "        self.threshold = threshold\n",
    "\n",
    "    @staticmethod\n",
    "    def filter_pairs_by_length(pair_lengths_rdd_refactored, threshold):\n",
    "        \"\"\"\n",
    "        Filters pairs based on length using the refactored length filtering logic.\n",
    "        \"\"\"\n",
    "        def length_filter(value):\n",
    "            rid1_length, rid2_length = value[0][1], value[1]\n",
    "            min_length, max_length = min(rid1_length, rid2_length), max(rid1_length, rid2_length)\n",
    "            max_overlap = min_length\n",
    "            min_required_overlap = threshold * min_length\n",
    "            return (min_length - max_length + max_overlap) >= min_required_overlap\n",
    "        return pair_lengths_rdd_refactored.filter(lambda kv: length_filter(kv[1]))\n",
    "\n",
    "    def run(self):\n",
    "        \"\"\"\n",
    "        Executes the length filtering pipeline using either the refactored method or the alpha-based method.\n",
    "        \"\"\"\n",
    "        record_lengths_rdd = self.tokenized_rdd.map(lambda kv: (kv[0], len(kv[1])))\n",
    "        pair_lengths_rdd = self.distinct_pairs_rdd.join(record_lengths_rdd)\n",
    "        pair_lengths_rdd_refactored = pair_lengths_rdd.map(lambda kv: (kv[1][0],(kv[0], kv[1][1]))).join(record_lengths_rdd)\n",
    "        filtered_pairs_rdd = self.filter_pairs_by_length(pair_lengths_rdd_refactored, self.threshold)\n",
    "        final_pairs_rdd = filtered_pairs_rdd.map(lambda kv: (kv[1][0][0], kv[0]))\n",
    "        return final_pairs_rdd\n"
   ]
  },
  {
   "cell_type": "markdown",
   "metadata": {
    "application/vnd.databricks.v1+cell": {
     "cellMetadata": {
      "byteLimit": 2048000,
      "rowLimit": 10000
     },
     "inputWidgets": {},
     "nuid": "28f3ca3e-ff1e-4d45-a6bb-a6734ba15933",
     "showTitle": false,
     "title": ""
    }
   },
   "source": [
    "### POSITION FILTER"
   ]
  },
  {
   "cell_type": "markdown",
   "metadata": {
    "application/vnd.databricks.v1+cell": {
     "cellMetadata": {
      "byteLimit": 2048000,
      "rowLimit": 10000
     },
     "inputWidgets": {},
     "nuid": "eb529dbd-274a-4001-a2d6-721b14b27b1c",
     "showTitle": false,
     "title": ""
    }
   },
   "source": [
    "The position_tokens function assigns an index to each token in a set, facilitating positional comparisons.\n",
    "\n",
    "positional_filter_optimized applies the positional filtering logic to a pair of records, using the similarity threshold and maximum positional difference parameters.\n",
    "\n",
    "positional_filtering orchestrates the entire positional filtering process. It involves joining the candidate pairs with positioned tokens, reformulating and joining again, and then applying the positional filter. \n",
    "\n",
    "The final output is an RDD of candidate pairs that pass the positional filter."
   ]
  },
  {
   "cell_type": "markdown",
   "metadata": {
    "application/vnd.databricks.v1+cell": {
     "cellMetadata": {
      "byteLimit": 2048000,
      "rowLimit": 10000
     },
     "inputWidgets": {},
     "nuid": "a15a2393-48e0-4816-8260-1641df39dda0",
     "showTitle": false,
     "title": ""
    }
   },
   "source": [
    "position_tokens takes a set of tokens and returns a list of tuples, each consisting of a token and its corresponding index (position) in the set.\n",
    "\n",
    "[ ('record_id1', [('token1', 0), ('token2', 1), ...]),\n",
    " ('record_id2', [('tokenA', 0), ('tokenB', 1), ...]),\n",
    " ...\n",
    "]\n",
    "\n",
    "original:\n",
    "    'record_id1', ['molly', '41', '6050']\n",
    "transformed:\n",
    "        ('record_id1', [('molly', 0), ('41', 1), ('6050', 2)])"
   ]
  },
  {
   "cell_type": "markdown",
   "metadata": {
    "application/vnd.databricks.v1+cell": {
     "cellMetadata": {
      "byteLimit": 2048000,
      "rowLimit": 10000
     },
     "inputWidgets": {},
     "nuid": "9d50bcb5-3bca-408d-9772-74b948746991",
     "showTitle": false,
     "title": ""
    }
   },
   "source": [
    "We have the positioned_rdd in the format:\n",
    "('record_id', [('token1', position1), ('token2', position2), ...])\n",
    "\n",
    "And the final_pairs_rdd (from previous prefix filtering) in the format:\n",
    "('RID1', 'RID2') where RID1 < RID2\n",
    "\n",
    "After the join, the RDD first_join should have elements in the format:\n",
    "('RID1', ('RID2', [('token_rid1_1', position1), ('token_rid_2', position2), ..., ('token_rid1_N', positionN)]))\n",
    "\n",
    "It changes the format from ('RID1', ('RID2', [('token1', position1), ...])) to ('RID2', ('RID1', [('token1', position1), ...])).\n",
    "so the final form will be this one: ('RID2', ('RID1', [positioned tokens of RID1])).\n",
    "\n",
    "\n",
    "The lambda function inside map restructures each element of first_join. It changes the format from ('RID1', ('RID2', [('token1', position1), ...])) to ('RID2', ('RID1', [('token1', position1), ...])).\n",
    "\n",
    "\n",
    "Then join this transformed RDD with positioned_rdd on RID2.\n",
    "\n",
    "This join operation combines the positioned tokens of RID1 (already in the transformed RDD) with the positioned tokens of RID2 (from positioned_rdd).\n",
    "\n",
    "Output Format:\n",
    "('RID2', (('RID1', [('token1_RID1', pos1_RID1), ...]), [('token1_RID2', pos1_RID2), ...])) - ('RID2', (('RID1', [positioned tokens of RID1]), [positioned tokens of RID2]))\n"
   ]
  },
  {
   "cell_type": "markdown",
   "metadata": {
    "application/vnd.databricks.v1+cell": {
     "cellMetadata": {
      "byteLimit": 2048000,
      "rowLimit": 10000
     },
     "inputWidgets": {},
     "nuid": "133bd526-0de0-45af-bb68-a0a994a94ae6",
     "showTitle": false,
     "title": ""
    }
   },
   "source": [
    "Threshold Interpretation\n",
    "\n",
    "The similarity_threshold represents the robustness of the similarity requirement. A higher threshold requires more evidence of similarity (more matching tokens), making it stricter.\n",
    "\n",
    "A lower threshold is more lenient, requiring fewer matching tokens to consider two records as similar.\n",
    "\n",
    "The max_positional_difference accounts for variations in the token positions between the records. It defines how closely the positions must align for a token to be considered common."
   ]
  },
  {
   "cell_type": "markdown",
   "metadata": {
    "application/vnd.databricks.v1+cell": {
     "cellMetadata": {
      "byteLimit": 2048000,
      "rowLimit": 10000
     },
     "inputWidgets": {},
     "nuid": "04ee464c-1bb1-4cf8-8c8b-4bc1b553a63e",
     "showTitle": false,
     "title": ""
    }
   },
   "source": [
    "Logic of filter:\n",
    "\n",
    "similarity_threshold is the minimum number of common tokens that two records must have to be considered similar.\n",
    "\n",
    "max_positional_difference is the maximum distance allowed between the positions of the same token in the two records.\n",
    "\n",
    "rec1_tokens contains the positioned tokens from the first record (RID1), and rec2_tokens_dict is a dictionary that is used to lookups of the positions of tokens from the second record (RID2).\n",
    "\n",
    "common_tokens counter is initialized to zero and will keep track of how many token matches have been found between the two records.\n",
    "\n",
    "possible_common_tokens starts as the minimum length of the two token lists (since that's the maximum possible matches) and decrements as we iterate through the tokens of RID1, because there's one less token to potentially match with.\n",
    "\n",
    "For each token in rec1_tokens, the function looks up the position of the same token in rec2_positions. If the token exists in both records and the absolute difference in their positions is less than or equal to max_positional_difference, it is counted as a common token (common_tokens + 1)\n",
    "\n",
    "After each token comparison, the function checks if it's still possible to meet the similarity_threshold.\n",
    "It does this by adding common_tokens and possible_common_tokens. If their sum is less than similarity_threshold, the function concludes that the records can't be similar and returns False.\n",
    "This check allows the function to stop early if it's already impossible for the pair to meet the similarity criteria, saving unnecessary computation.\n",
    "\n",
    "If the loop completes without triggering the early stopping rule, the function checks if the number of common_tokens found meets or exceeds the similarity_threshold.\n",
    "If it does, the function returns True, indicating that the records are similar. Otherwise, it returns False."
   ]
  },
  {
   "cell_type": "markdown",
   "metadata": {
    "application/vnd.databricks.v1+cell": {
     "cellMetadata": {
      "byteLimit": 2048000,
      "rowLimit": 10000
     },
     "inputWidgets": {},
     "nuid": "09c20427-651d-448b-a0bb-b804a1e8f94c",
     "showTitle": false,
     "title": ""
    }
   },
   "source": [
    "Then after the filtering we're going to map to Candidate Pair RDD to extract just the RIDs for each pair.. then we also sorted the pairs\n",
    "\n",
    "candidate_pairs_final_rdd have the structure (recordID_A, recordID_B)"
   ]
  },
  {
   "cell_type": "code",
   "execution_count": 0,
   "metadata": {
    "application/vnd.databricks.v1+cell": {
     "cellMetadata": {
      "byteLimit": 2048000,
      "rowLimit": 10000
     },
     "inputWidgets": {},
     "nuid": "51eb3a22-3e18-4e3b-aa99-77313d4eff66",
     "showTitle": false,
     "title": ""
    }
   },
   "outputs": [],
   "source": [
    "def position_tokens(tokens):\n",
    "    \"\"\"\n",
    "    Assigns an index to each token in the set of tokens.\n",
    "\n",
    "    Parameters:\n",
    "    - tokens: A set of tokens.\n",
    "\n",
    "    Returns:\n",
    "    - A list of tuples where each tuple contains a token and its index.\n",
    "    \"\"\"\n",
    "    return [(token, idx) for idx, token in enumerate(tokens)]\n",
    "\n",
    "\n",
    "def positional_filter_optimized(pair, similarity_threshold, max_positional_difference):\n",
    "    \"\"\"\n",
    "    Optimizes positional filtering for a given pair of records.\n",
    "\n",
    "    Parameters:\n",
    "    - pair: A tuple representing a pair of records.\n",
    "    - similarity_threshold: The minimum number of common tokens required.\n",
    "    - max_positional_difference: The maximum allowed difference in token positions.\n",
    "\n",
    "    Returns:\n",
    "    - Boolean indicating whether the pair passes the positional filtering.\n",
    "    \"\"\"\n",
    "    RID2, ((RID1, rec1_tokens), rec2_tokens_dict) = pair\n",
    "    \n",
    "    # Initialize counters\n",
    "    common_tokens = 0\n",
    "    \n",
    "    # Create a dictionary for the second record for fast lookups\n",
    "    rec2_positions = {token: pos for token, pos in rec2_tokens_dict}\n",
    "\n",
    "    # Calculate the maximum possible common tokens at the beginning\n",
    "    possible_common_tokens = min(len(rec1_tokens), len(rec2_tokens_dict))\n",
    "    \n",
    "    # Iterate through the positioned tokens of the first record (the prefix)\n",
    "    for token, pos1 in rec1_tokens:\n",
    "        # Decrement possible common tokens as we advance\n",
    "        possible_common_tokens -= 1\n",
    "        \n",
    "        pos2 = rec2_positions.get(token)\n",
    "        if pos2 is not None and abs(pos1 - pos2) <= max_positional_difference:\n",
    "            common_tokens += 1\n",
    "        \n",
    "        if common_tokens + possible_common_tokens < similarity_threshold:\n",
    "            return False\n",
    "\n",
    "    # If we complete the loop without returning False, the pair is similar\n",
    "    return common_tokens >= similarity_threshold\n",
    "\n",
    "\n",
    "#POSITIONAL-FILTERING\n",
    "def positional_filtering(tokenized_rdd, final_pairs_rdd, similarity_threshold, max_positional_difference):\n",
    "    \"\"\"\n",
    "    Applies positional filtering to an RDD of candidate pairs.\n",
    "\n",
    "    Parameters:\n",
    "    - tokenized_rdd: An RDD of tokenized records.\n",
    "    - final_pairs_rdd: An RDD of candidate pairs after length filtering.\n",
    "    - similarity_threshold: Minimum number of common tokens required.\n",
    "    - max_positional_difference: Maximum positional difference allowed.\n",
    "\n",
    "    Returns:\n",
    "    - An RDD of candidate pairs after positional filtering.\n",
    "    \"\"\"\n",
    "    positioned_rdd = tokenized_rdd.mapValues(position_tokens)\n",
    "    positioned_rdd = positioned_rdd.cache()\n",
    "    \n",
    "    # Join the candidate pairs with the positioned RDD based on tokens\n",
    "    first_join = final_pairs_rdd.join(positioned_rdd)\n",
    "    \n",
    "    # Reformat the RID and token, then join again\n",
    "    second_join = first_join.map(lambda kv: (kv[1][0], (kv[0], kv[1][1]))).join(positioned_rdd)\n",
    "    \n",
    "    filtered_positional_rdd = second_join.filter(\n",
    "        lambda pair: positional_filter_optimized(pair, similarity_threshold, max_positional_difference))\n",
    "    \n",
    "    # Extract Candidate Pairs and sort them\n",
    "    candidate_pairs_final_rdd = filtered_positional_rdd.map(lambda x: (x[1][0][0], x[0])).map(lambda x: tuple(sorted(x)))\n",
    "\n",
    "    candidate_pairs_final_rdd = candidate_pairs_final_rdd.cache()\n",
    "    \n",
    "    return candidate_pairs_final_rdd"
   ]
  },
  {
   "cell_type": "markdown",
   "metadata": {
    "application/vnd.databricks.v1+cell": {
     "cellMetadata": {
      "byteLimit": 2048000,
      "rowLimit": 10000
     },
     "inputWidgets": {},
     "nuid": "9102ed2b-013d-4264-a26b-f841ab2504f9",
     "showTitle": false,
     "title": ""
    }
   },
   "source": [
    "###JACCARD SIMILARITY"
   ]
  },
  {
   "cell_type": "markdown",
   "metadata": {
    "application/vnd.databricks.v1+cell": {
     "cellMetadata": {
      "byteLimit": 2048000,
      "rowLimit": 10000
     },
     "inputWidgets": {},
     "nuid": "bb53a192-e1a1-4664-8dac-9f69632e34b8",
     "showTitle": false,
     "title": ""
    }
   },
   "source": [
    "jaccard_similarity computes the Jaccard similarity score between two sets of tokens. Jaccard(A,B)= ∣A∪B∣/∣A∩B∣\n",
    "\n",
    "jaccard_similarity_filtering orchestrates the entire process of Jaccard similarity filtering. It involves joining the candidate pairs with their respective token sets, computing the Jaccard similarity for each pair, and then filtering the pairs that meet or exceed the specified threshold.\n",
    "\n",
    "The result is an RDD of candidate pairs that are considered similar based on the Jaccard similarity threshold."
   ]
  },
  {
   "cell_type": "markdown",
   "metadata": {
    "application/vnd.databricks.v1+cell": {
     "cellMetadata": {
      "byteLimit": 2048000,
      "rowLimit": 10000
     },
     "inputWidgets": {},
     "nuid": "6f25032e-2b27-4116-88eb-050c5e91d219",
     "showTitle": false,
     "title": ""
    }
   },
   "source": [
    "Join with the Tokenized RDD: For each candidate pair (A, B), you need to retrieve the original token sets for both A and B. You'll join the candidate_pairs_deduplicate_rdd with the tokenized_rdd to achieve this."
   ]
  },
  {
   "cell_type": "markdown",
   "metadata": {
    "application/vnd.databricks.v1+cell": {
     "cellMetadata": {
      "byteLimit": 2048000,
      "rowLimit": 10000
     },
     "inputWidgets": {},
     "nuid": "440b5fb6-29e7-4ef7-9349-463a47278090",
     "showTitle": false,
     "title": ""
    }
   },
   "source": [
    "candidate_pairs_final_rdd is mapped to include the record ID (x[0]) as a key and the pair itself (x) as a value.\n",
    "You join this RDD with tokenized_rdd to bring in the tokens for the first record in each pair.\n",
    "Joining Tokens with Pairs:\n",
    "\n",
    "You then map the result to restructure it, using the second record ID in the pair as the key for another join with tokenized_rdd to bring in the tokens for the second record.\n",
    "\n",
    "Final Pairing:\n",
    "After the second join, you map over the result to create a final structure where each element is a tuple of:\n",
    "A pair of record IDs: (record1, record2)\n",
    "Corresponding tokens for each record: (tokens1, tokens2)"
   ]
  },
  {
   "cell_type": "code",
   "execution_count": 0,
   "metadata": {
    "application/vnd.databricks.v1+cell": {
     "cellMetadata": {
      "byteLimit": 2048000,
      "rowLimit": 10000
     },
     "inputWidgets": {},
     "nuid": "49addb6b-b9c2-4ec5-a485-24f671f41c7c",
     "showTitle": false,
     "title": ""
    }
   },
   "outputs": [],
   "source": [
    "def jaccard_similarity(set_a, set_b):\n",
    "\n",
    "    \"\"\"\n",
    "    Calculate the Jaccard Similarity between two sets.\n",
    "\n",
    "    Parameters:\n",
    "    - set_a: A set of tokens.\n",
    "    - set_b: Another set of tokens.\n",
    "\n",
    "    Returns:\n",
    "    - A float representing the Jaccard Similarity between the two sets.\n",
    "    \"\"\"\n",
    "    intersection = len(set_a.intersection(set_b))\n",
    "    union = len(set_a.union(set_b))\n",
    "    \n",
    "    # Avoid division by zero\n",
    "    if union == 0:\n",
    "        return 0.0\n",
    "    \n",
    "    return intersection / union\n",
    "\n",
    "    \n",
    "\n",
    "def jaccard_similarity_filtering(candidate_pairs_final_rdd, tokenized_rdd, threshold):\n",
    "    \n",
    "    \"\"\"\n",
    "    Applies Jaccard similarity filtering to an RDD of candidate pairs.\n",
    "\n",
    "    Parameters:\n",
    "    - candidate_pairs_final_rdd: RDD of candidate pairs.\n",
    "    - tokenized_rdd: RDD of tokenized records.\n",
    "    - threshold: The threshold for Jaccard similarity to consider a pair as similar.\n",
    "\n",
    "    Returns:\n",
    "    - An RDD of candidate pairs filtered by the Jaccard similarity threshold.\n",
    "    \"\"\"\n",
    "    # Join candidate pairs with their corresponding token sets\n",
    "    paired_tokens_rdd = (\n",
    "        candidate_pairs_final_rdd\n",
    "        .map(lambda x: (x[0], x))   # Map to format (RID, (RID1, RID2))\n",
    "        .join(tokenized_rdd)    # Join with tokenized RDD to get token set for RID1\n",
    "        .map(lambda x: (x[1][0][1], x[1]))  # Reformat to join with RID2's tokens\n",
    "        .join(tokenized_rdd)    # Join with tokenized RDD to get token set for RID2\n",
    "        .map(lambda x: ((x[1][0][0][0], x[0]), (x[1][0][1], x[1][1])))  # Reformat to (RID pair, (token set 1, token set 2))\n",
    "    )\n",
    "    paired_tokens_rdd = paired_tokens_rdd.cache()\n",
    "\n",
    "    # Compute Jaccard Similarity for each pair\n",
    "    jaccard_rdd = paired_tokens_rdd.map(lambda x: (x[0], jaccard_similarity(x[1][0], x[1][1])))\n",
    "    jaccard_rdd = jaccard_rdd.cache()\n",
    "\n",
    "    # Filter by threshold\n",
    "    filtered_jaccard_rdd = jaccard_rdd.filter(lambda x: x[1] >= threshold)\n",
    "    filtered_jaccard_rdd = filtered_jaccard_rdd.cache()\n",
    "\n",
    "    return filtered_jaccard_rdd\n"
   ]
  },
  {
   "cell_type": "markdown",
   "metadata": {
    "application/vnd.databricks.v1+cell": {
     "cellMetadata": {
      "byteLimit": 2048000,
      "rowLimit": 10000
     },
     "inputWidgets": {},
     "nuid": "84b8ed6f-cdbe-4434-a94d-5d84614e6a7b",
     "showTitle": false,
     "title": ""
    }
   },
   "source": [
    "### LOAD GROUND TRUTH"
   ]
  },
  {
   "cell_type": "markdown",
   "metadata": {
    "application/vnd.databricks.v1+cell": {
     "cellMetadata": {
      "byteLimit": 2048000,
      "rowLimit": 10000
     },
     "inputWidgets": {},
     "nuid": "e57a7317-6e43-46c2-896b-0c8a7a54525f",
     "showTitle": false,
     "title": ""
    }
   },
   "source": [
    "The function load_ground_truth takes the path to a JSON file as input (file contain ground truth data)\n",
    "\n",
    "The JSON file is read into a Spark DataFrame using spark.read.json\n",
    "\n",
    "The DataFrame is then converted into an RDD. \n",
    "Each row of the DataFrame is mapped to a tuple (d1Id, d2Id), where d1Id and d2Id are fields in the JSON file representing a pair of duplicate record IDs.\n",
    "\n",
    "The function returns this RDD, which can be used in subsequent steps of the pipeline to evaluate the performance of the duplicate detection process."
   ]
  },
  {
   "cell_type": "code",
   "execution_count": 0,
   "metadata": {
    "application/vnd.databricks.v1+cell": {
     "cellMetadata": {
      "byteLimit": 2048000,
      "rowLimit": 10000
     },
     "inputWidgets": {},
     "nuid": "86a49f71-c75d-4d5c-a661-ed7554c09116",
     "showTitle": false,
     "title": ""
    }
   },
   "outputs": [],
   "source": [
    "def load_ground_truth(json_file_path):\n",
    "    \"\"\"\n",
    "    Load ground truth data from a JSON file and convert it into an RDD of pairs.\n",
    "\n",
    "    Parameters:\n",
    "    - json_file_path: Path to the JSON file containing the ground truth data.\n",
    "\n",
    "    Returns:\n",
    "    - An RDD containing pairs of duplicate record IDs (d1Id, d2Id) from the ground truth.\n",
    "    \"\"\"\n",
    "    # Use Spark's DataFrame API to read the JSON file\n",
    "    ground_truth_df = spark.read.json(json_file_path)\n",
    "\n",
    "    # Convert the DataFrame to an RDD\n",
    "    # Each row in the DataFrame is expected to have 'd1Id' and 'd2Id' fields\n",
    "    # The RDD is mapped to a pair format (d1Id, d2Id) representing duplicates\n",
    "    ground_truth_rdd = ground_truth_df.rdd.map(lambda row: (row.d1Id, row.d2Id))\n",
    "\n",
    "    return ground_truth_rdd"
   ]
  },
  {
   "cell_type": "markdown",
   "metadata": {
    "application/vnd.databricks.v1+cell": {
     "cellMetadata": {
      "byteLimit": 2048000,
      "rowLimit": 10000
     },
     "inputWidgets": {},
     "nuid": "d6ccc539-fb6f-4b60-a785-db9008049864",
     "showTitle": false,
     "title": ""
    }
   },
   "source": [
    "### PIPELINE"
   ]
  },
  {
   "cell_type": "markdown",
   "metadata": {
    "application/vnd.databricks.v1+cell": {
     "cellMetadata": {
      "byteLimit": 2048000,
      "rowLimit": 10000
     },
     "inputWidgets": {},
     "nuid": "357ca2da-6d35-4ba5-a329-904b898f0deb",
     "showTitle": false,
     "title": ""
    }
   },
   "source": [
    "Setting Up Datasets and Ground Truth Paths:\n",
    "here, you're defining the paths to your datasets and their corresponding ground truth data. Each dataset is a JSON file containing profile information, and each ground truth file contains pairs of IDs that are considered duplicates.\n",
    "\n",
    "Defining calculate_metrics Function:\n",
    "this function calculates precision and recall metrics for the similarity join results. It takes the result pairs from your similarity join process and the ground truth set, then computes the number of true positives (common pairs in both result and ground truth), precision (true positives divided by total result pairs), and recall (true positives divided by total pairs in ground truth).\n",
    "\n",
    "Defining run_jaccard_and_calculate_metrics Function:\n",
    "this function runs the Jaccard similarity filtering on the candidate pairs from the positional filtering step. After filtering pairs based on the Jaccard threshold, it calculates precision and recall using the calculate_metrics function. The thresholds for Jaccard similarity are varied to evaluate the performance at different levels of similarity strictness.\n",
    "\n",
    "\n",
    "Processing Each Dataset:\n",
    "here, you loop through each dataset and its corresponding ground truth. For each dataset:\n",
    "\n",
    "-You start a timer to measure the execution time.\n",
    "\n",
    "-Run the preprocessing pipeline (tokenization, sorting tokens by frequency).\n",
    "\n",
    "-Run prefix filtering to generate candidate pairs.\n",
    "\n",
    "-Run length filtering to refine candidate pairs.\n",
    "\n",
    "-Run positional filtering to further refine candidate pairs.\n",
    "\n",
    "-Load the ground truth data and convert it to a set for efficient computation.\n",
    "\n",
    "-For each Jaccard threshold, run the Jaccard similarity filtering and calculate metrics. The execution time is recorded for each threshold.\n",
    "\n",
    "Recording Results:\n",
    "for each dataset and threshold, you store the precision, recall, and execution time in the results dictionary. This data structure allows you to easily access the performance metrics for different combinations of datasets and thresholds.\n",
    "\n",
    "Resetting Timer:\n",
    "before moving to the next dataset, you reset the timer. This ensures that the execution time for each dataset is measured independently."
   ]
  },
  {
   "cell_type": "code",
   "execution_count": 0,
   "metadata": {
    "application/vnd.databricks.v1+cell": {
     "cellMetadata": {
      "byteLimit": 2048000,
      "rowLimit": 10000
     },
     "inputWidgets": {},
     "nuid": "8d12d088-7c69-4268-aaf4-f0259b399ebf",
     "showTitle": false,
     "title": ""
    }
   },
   "outputs": [],
   "source": [
    "import time\n",
    "\n",
    "# Datasets and ground truth paths\n",
    "datasets = [\"/FileStore/shared_uploads/datasets/10Kprofiles.json\", \n",
    "            \"/FileStore/shared_uploads/datasets/50Kprofiles.json\",\n",
    "            \"/FileStore/shared_uploads/datasets/100Kprofiles.json\"]\n",
    "\n",
    "ground_truths = [\"/FileStore/shared_uploads/datasets/10KIdDuplicates.json\",\n",
    "                 \"/FileStore/shared_uploads/datasets/50KIdDuplicates.json\",\n",
    "                 \"/FileStore/shared_uploads/datasets/100KIdDuplicates.json\"]\n",
    "\n",
    "thresholds = [0.7, 0.8, 0.9, 1.0]\n",
    "results = {}\n",
    "\n",
    "def calculate_metrics(result_pairs, ground_truth_set):\n",
    "    # Calculate true positives, precision, and recall\n",
    "    true_positives = result_pairs.intersection(ground_truth_set)\n",
    "    precision = len(true_positives) / len(result_pairs) if result_pairs else 0\n",
    "    recall = len(true_positives) / len(ground_truth_set) if ground_truth_set else 0\n",
    "    return precision, recall\n",
    "\n",
    "def run_jaccard_and_calculate_metrics(candidate_pairs_final_rdd, tokenized_rdd, ground_truth_set, jaccard_threshold):\n",
    "    # Jaccard similarity filtering\n",
    "    filtered_jaccard_rdd = jaccard_similarity_filtering(candidate_pairs_final_rdd, tokenized_rdd, jaccard_threshold)\n",
    "    filtered_pairs = set(filtered_jaccard_rdd.map(lambda x: x[0]).collect())\n",
    "\n",
    "    # Calculate metrics\n",
    "    precision, recall = calculate_metrics(filtered_pairs, ground_truth_set)\n",
    "    return precision, recall\n",
    "\n",
    "# Process each dataset\n",
    "for dataset, ground_truth_path in zip(datasets, ground_truths):\n",
    "    # Start timer\n",
    "    start_time = time.time()\n",
    "\n",
    "    # Run pipeline up to positional filtering\n",
    "    preprocessing_pipeline = PreprocessingPipeline(dataset)\n",
    "    sorted_tokens_rdd, tokenized_rdd = preprocessing_pipeline.run()\n",
    "    prefix_filtering_pipeline = PrefixFilteringPipeline(sorted_tokens_rdd, t=36)\n",
    "    distinct_pairs_rdd = prefix_filtering_pipeline.run()\n",
    "    length_filtering_pipeline = LengthFilteringPipeline(tokenized_rdd, distinct_pairs_rdd, threshold=0.70)\n",
    "    final_pairs_rdd = length_filtering_pipeline.run()\n",
    "    candidate_pairs_final_rdd = positional_filtering(tokenized_rdd, final_pairs_rdd, similarity_threshold=10, max_positional_difference=10)\n",
    "\n",
    "    # Load ground truth data and convert to set\n",
    "    ground_truth_rdd = load_ground_truth(ground_truth_path)\n",
    "    ground_truth_set = set(ground_truth_rdd.collect())\n",
    "\n",
    "    # Process each threshold\n",
    "    for threshold in thresholds:\n",
    "        precision, recall = run_jaccard_and_calculate_metrics(candidate_pairs_final_rdd, tokenized_rdd, ground_truth_set, threshold)\n",
    "        exec_time = time.time() - start_time  # Execution time for the entire pipeline\n",
    "        results[(dataset, threshold)] = (precision, recall, exec_time)\n",
    "\n",
    "    # Reset timer for the next dataset\n",
    "    start_time = time.time()"
   ]
  },
  {
   "cell_type": "markdown",
   "metadata": {
    "application/vnd.databricks.v1+cell": {
     "cellMetadata": {},
     "inputWidgets": {},
     "nuid": "26d1c425-41e8-4dc4-8de3-3d6837a8c2db",
     "showTitle": false,
     "title": ""
    }
   },
   "source": [
    "Iterating Over Datasets: The for loop iterates over each dataset in the datasets list.\n",
    "\n",
    "Extracting Metrics for Each Threshold: For each dataset, the code extracts precision, recall, and execution time for each Jaccard threshold. These metrics are stored in the results dictionary, where each key is a tuple of the dataset and threshold value."
   ]
  },
  {
   "cell_type": "code",
   "execution_count": 0,
   "metadata": {
    "application/vnd.databricks.v1+cell": {
     "cellMetadata": {
      "byteLimit": 2048000,
      "rowLimit": 10000
     },
     "inputWidgets": {},
     "nuid": "0247b1ad-e151-4a70-8522-d1c2e8a4b73c",
     "showTitle": false,
     "title": ""
    }
   },
   "outputs": [
    {
     "output_type": "display_data",
     "data": {
      "image/png": "[encoded data removed]"
     },
     "metadata": {
      "application/vnd.databricks.v1+output": {
       "addedWidgets": {},
       "arguments": {},
       "data": "data:image/png;base64,iVBORw0KGgoAAAANSUhEUgAAAvIAAAGDCAYAAABJDfS1AAAAOXRFWHRTb2Z0d2FyZQBNYXRwbG90bGliIHZlcnNpb24zLjUuMSwgaHR0cHM6Ly9tYXRwbG90bGliLm9yZy/YYfK9AAAACXBIWXMAAAsTAAALEwEAmpwYAAB9nUlEQVR4nO3dd3hU5dbG4d9KI4QSepfeexNEOkpRUGzYFewFAcWGx+OnYAEUAQEF0YOI2MCKCiKKSO+9g4gUKdJLgLT3+2MGDBjIhJSd8tzXlYuZPbs8ySbJyjtrv9ucc4iIiIiISOYS5HUAERERERFJPhXyIiIiIiKZkAp5EREREZFMSIW8iIiIiEgmpEJeRERERCQTUiEvIiIiIpIJqZAXEUlFZjbDzO5PpX29Ymb7zGx3auwvszCfD8zsoJktNLPmZrYhwetbzexKLzOKiGQEKuRFJMvyF3wnzOyYme02s7Fmljsdj9/NzGZf5LalgSeB6s65YqmU52UzW2VmsWb2UiKv325mf5rZcTP7xswKJHjtrOLZzG71F9otUyPbOZoBbYFSzrlGzrlZzrkqaXAcEZFMTYW8iGR11zjncgN1gXrAc97GCVhpYL9zbm9yNzSzkPO8tBl4BvghkW1qAO8CdwFFgSjgnfPsvyvwNtDROfdbKuY7rQyw1Tl3PLn7FhHJTlTIi0i24JzbDUzFV9ADYGaXmdlcMztkZivMrFWC17qZ2RYzO2pmf5jZHf7lL5nZ+ATrlTUzd25xambVgFFAE/87Aof8y682s7X+/e40s6fOzeof+Z4GlPBvO9a//FozW+PPO8N/jNPbbDWzZ81sJXA8sWLZOfehc24KcDSRL9EdwHfOuZnOuWPAC8ANZpbnnGwPAW8C7Z1zc8/5GjxoZn+Z2a6En5f/a/aFmY03syNANzMrYWaTzOyAmW02swf8694HvJ/g69bXzFqZ2Y5EMmNmQWbWx8x+N7P9Zjbh9DsJZhbuP+Z+/9dskZkVTWw/IiKZUVKjIiIiWYKZlQKuAqb7n5fENzJ9F/AjcAXwpZlVxTcaPQy41Dm3wcyKAwUS3fF5OOfWmdnDwP3OuWYJXvofcLNzbpaZ5QfKJbLtz2Z2FTDeOVfKn7cy8ClwHTADeAL4zsyqO+ei/ZveBnQE9jnnYpOTF6gBzE2Q4XcziwYqA0v8ix/B1/ZyhXNuRSL7aA1UAsoD081suXPuZ/9rnYEuwN1ADnx/VK0GSgBVgWlm9rtz7n9mFkeCr1vCP7AS0QPf16Ql8De+8/Y2vq9FVyASuAQ4he+PuBMBfTVERDIBjciLSFb3jZkdBbYDe4EX/cvvBCY75yY75+Kdc9OAxcDV/tfjgZpmltM5t8s5tyaV8sQA1c0sr3PuoHNuaYDb3QL84Jyb5pyLAQYBOYHLE6wzzDm33Tl3McVqbuDwOcsOAwlH5NsC84FV59lHX+fccefcKuADfMX0afOcc9845+KBQkBT4Fnn3Enn3HJ8o/B3X0Tuh4HnnXM7nHOngJeAm/zvSMQABYGKzrk459wS59yRiziGiEiGpEJeRLK665xzeYBW+EZ+C/mXlwG6+FsuDvlbX5oBxf292bfgKxJ3mdkP/pH61HAjvj8W/jSz38ysSYDblQD+PP3EXxBvB0omWGd7CnIdA/KesywvZ7fhPIJvhP59M7NE9pHw+H/6Myf2WgnggHPu6DnrJ/xcAlUG+DrBOVwHxOHr8/8I38j/Z/6Wn9fNLPQijiEikiGpkBeRbMF/UeZYfCPZ4CssP3LO5Uvwkcs5N8C//lTnXFugOLAeeM+/3XEgIsGuLzSjjEskxyLnXGegCPANMCHAT+EvfEUr4JuiEV/LyM4LHS8Z1gB1Euy/PL4WmI0J1tmDrwWpOYlfCHtJgsel/ZkTy/YXUOCc/vvSnP25BGo7cNU55zHcObfTORfjnOvrnKuO752LTlzcqL+ISIakQl5EspOhQFszqwOMB64xs/ZmFuy/MLKVmZUys6Jm1tnMcuHrrT6Gr9UGYDnQwsxKm1kkF54FZw9QyszCAMwszMzuMLNIf3vMkQT7TcoEoKOZXeEfVX7Sn23uhTf7h5mFmlk4vp/9If7POdj/8sf+r0dz/+fdD/jqnFFznHN/4SvmO5jZkHMO8YKZRZhvBpx7gM8Ty+Gc2+7P3d+foTZwH75zklyjgFfNrIz/cyxsZp39j1ubWS3/53gEX6tNoF9vEZEMT4W8iGQbzrm/gXHA//mLyc7Af/BdJLkdeBrfz8UgoDe+keMD+C6kfMS/j2n4CtSV+C4C/f4Ch5yOb6R7t5nt8y+7C9jqn73lYXyzxQSSfQO+vv7hwD7gGnxTa0ZfcMOzvYfvYs/bgOf9j+/y73+NP8/H+K4lyAM8ep4s24A2+HrR+yd46Td8U1z+Agxyzv10gSy3AWXxfY2/Bl5McGFscrwFTAJ+8l8LMR9o7H+tGPAFviJ+nT/fRxdxDBGRDMmcS8k7sSIikt2ZWVngDyD0ImbLERGRi6QReRERERGRTEiFvIiIiIhIJqTWGhERERGRTEgj8iIiIiIimZAKeRERERGRTCjE6wDJFRQU5HLmzOl1DBERERHJ4qKiopxzLsMOfGe6Qj5nzpwcP37c6xgiIiIiksWZ2QmvM1xIhv0LQ0REREREzk+FvIiIiIhIJqRCXkREREQkE8p0PfKJiYmJYceOHZw8edLrKJlSeHg4pUqVIjQ01OsoIiIinlAtkb1l1loo090QKleuXO7ci13/+OMP8uTJQ8GCBTEzj5JlTs459u/fz9GjRylXrpzXcURERDyhWiL7ulAtZGZRzrlcHkVLUpZorTl58qS+8S6SmVGwYEGNQIiISLamWiL7ysy1UJYo5AF946WAvnYiIiL6fZidZdZzn2UKea8FBwdTt25datasSZcuXYiKikrxPv/v//6Pn3/++byvjxo1inHjxqX4OCIiIiKS+WTLQv6bZTtpOmA65fr8QNMB0/lm2c4U7zNnzpwsX76c1atXExYWxqhRo856PTY2Ntn77NevH1deeeV5X3/44Ye5++67k71fERERuXjFBhXD+tq/PooNKpai/Z4eFDz9MWDAgFRKfH5bt27lk08+OfN88eLF9OzZM8X7bdy4MXXr1qV06dIULlz4zOc0d+5cbrrpphTvPzHffPMN/fr1O+/rq1atolu3bmlybK+k2aw1ZjYG6ATsdc7VTOR1A94CrgaigG7OuaVplee0b5bt5LmvVnEiJg6AnYdO8NxXqwC4rl7JVDlG8+bNWblyJTNmzOCFF14gf/78rF+/nnXr1tGnTx9mzJjBqVOn6N69Ow899BAAAwcOZPz48QQFBXHVVVcxYMAAunXrRqdOnbjpppvo06cPkyZNIiQkhHbt2jFo0CBeeuklcufOzVNPPcXy5ct5+OGHiYqKokKFCowZM4b8+fPTqlUrGjduzK+//sqhQ4f43//+R/PmzVPl8xRJ6JtlO3lj6gb+OnSCEvly8nT7Kqn2PSUikpHsOb4nWcsDdXpQMD2dLuRvv/12ABo2bEjDhg1TvN8FCxYAMHbsWBYvXsyIESPOvHb55Zcnuf2K3SuIiY/51/LQoFDqFKuT6Davv/46kyZNOu8+a9WqxY4dO9i2bRulS5dOMkNmkJbTT44FRgDn6/24Cqjk/2gMjPT/myJ9v1vD2r+OnPf1ZdsOER0Xf9ayEzFxPPPFSj5duC3RbaqXyMuL19QI6PixsbFMmTKFDh06ALB06VJWr15NuXLlGD16NJGRkSxatIhTp07RtGlT2rVrx/r16/n2229ZsGABERERHDhw4Kx97t+/n6+//pr169djZhw6dOhfx7377rsZPnw4LVu25P/+7//o27cvQ4cOPZNp4cKFTJ48mb59+16wXUfkYqTHH8giIunl8R8fZ/nu5Re1bauxrRJdXrdYXYZ2GJrs/R0+fJhGjRoxadIkqlSpwm233UabNm144IEHeOONN5gwYQKnTp3i+uuvp2/fvgCMGzeOQYMGYWbUrl2bjz766KzBQYDcuXNz7Ngx+vTpw7p166hbty5du3alXr16DBo0iO+//54DBw5w7733smXLFiIiIhg9ejS1a9fmpZdeYtu2bWzZsoVt27bx+OOPBzyKv3XrVjp16sTq1asZO3Ys33zzDcePH2fTpk089dRTREdH89FHHxFrsQz9aCiR+SPZsXUHA58fyKH9hwjPGc6nH35K1apVz9rvxo0byZEjB4UKFQJg4sSJ9O3bl+DgYCIjI5k5cyYA11xzDZ999hnPPPNMss9FRpRmrTXOuZnAgQus0hkY53zmA/nMrHha5Tnt3CI+qeWBOnHiBHXr1qVhw4aULl2a++67D4BGjRqdmcrop59+Yty4cdStW5fGjRuzf/9+Nm3axM8//8w999xDREQEAAUKFDhr35GRkYSHh3Pffffx1VdfnVnvtMOHD3Po0CFatmwJQNeuXc/8hwW44YYbAGjQoAFbt25N0ecpkpjXf1x/pog/7URMHG9M3eBRIhGRzOd0LXH64/PPPycyMpIRI0bQrVs3PvvsMw4ePMgDDzzATz/9xKZNm1i4cCHLly9nyZIlzJw5kzVr1vDKK68wffp0VqxYwVtvvXXBYw4YMIDmzZuzfPlynnjiibNee/HFF6lXrx4rV67ktddeO6udd/369UydOpWFCxfSt29fYmL+PXoeiNWrV/PVV1+xaNEinn/+eSIiIli2bBm1GtTihy9+AODVZ17l6Zef5qMfP6LXC7149NFH/7WfOXPmUL9+/TPP+/Xrx9SpU1mxYsVZo/QNGzZk1qxZF5U1I/LyhlAlge0Jnu/wL9t17opm9iDwIEBYWNgFd5rUyHnTAdPZeejEv8Pky8nnDzVJKvN5ne/tsFy5/pl61DnH8OHDad++/VnrTJ069YL7DgkJYeHChfzyyy988cUXjBgxgunTpwecLUeOHICv9+5ievUl+4mNi+dAVDT7j/k/jp9i37Fo9h87dfbz477nUdFxie7nr0S+10REMrqkRs6t7/lnOJnRbcZFH/d8tUTbtm2ZOHEi3bt3Z8WKFYBvcPCnn36iXr16ABw7doxNmzaxYsUKunTpcmZk+tzBweSYPXs2X375JQBt2rRh//79HDni63ro2LEjOXLkIEeOHBQpUoQ9e/ZQqlSpZB+jdevW5MmThzx58hAZGck111wDQMVqFdm0dhNRx6NYtWQVfR7qc2ab4Pjgf+1n165dFC5c+Mzzpk2b0q1bN26++eYzA5oARYoU4a+//kp2zowqU9zZ1Tk3GhgNvhtCpWRfT7evclYLAEDO0GCebl8lZSED0L59e0aOHEmbNm0IDQ1l48aNlCxZkrZt29KvXz/uuOOOM601Cb/xjh07RlRUFFdffTVNmzalfPnyZ+03MjKS/PnzM2vWLJo3b85HH310ZnReBHx/RB45GesrxI/7CvJ9CYr0/cei2ZfgtUMnYkjsXnEhQUaBXGEUzJ2DQrnDKFswgoK5czBx8XaOnPz3H4kl8uVMh89ORCRri4+PZ926dURERHDw4EFKlSqFc47nnnvuzLV2pw0fPjzRfYSEhBAfH39mf9HR0SnKdHqQEFI2UJhwP0FBQbhgx9ZDWzEz4uLiiI+PJ3fe3Hwy7Z8LchuW+HcPf86cOTl8+PCZ56NGjWLBggX88MMPNGjQgCVLlpyZKz5nzqzzu8nLQn4ncEmC56X8y9LU6X5dLy7Ku//++9m6dSv169fHOUfhwoX55ptv6NChA8uXL6dhw4aEhYVx9dVX89prr53Z7ujRo3Tu3JmTJ0/inGPw4MH/2veHH3545mLX8uXL88EHH6T55yPeOhkTd6bwPrcQ338smn3Hzx5Bj4lL/G/gyJyhFMwdRqFcOahUJDeXlS9AwVy+Qr1g7hwUTFC45w0PJSjo3yNRtUpG/usP5CCDp9pVTrPPX0TEK0VzFU30wtaiuYqmyfGGDBlCtWrVeO2117jnnnuYN28e7du354UXXuCOO+4gd+7c7Ny5k9DQUNq0acP1119P7969KViw4JnBwbJly7JkyRJuvvlmJk2adKYVJk+ePBw9ejTR4zZv3pyPP/6YF154gRkzZlCoUCHy5s2bJp9jVHQUsfGxrN+3nvwF8p9ZnjtPbkpcUoKfv/uZK6+5EuccK1asoE6dsy94rVatGuPHjz/z/Pfff6dx48Y0btyYKVOmsH37dgoWLMjGjRupWfNfc7BkWl4W8pOAx8zsM3wXuR52zv2rrSYtXFevZKoX7seOHfvXslatWtGqVaszz4OCgnjttdfOKtJP69OnD3369Dlr2dixY888Xrhw4b+2eemll848rlu3LvPnz//XOjNmzDjzuFChQuqRz8Di4h0Hz7SznPpXIX6mteW4b51jpxIf/cgREkQhf+FdNG841YvnPVOIF8wdRsFcOXyFe+4c5I8IIywk5ZfKnPsHct6coRw+EcPx87TciIhkZruf2p0m+z3dI39ahw4duOeee3j//fdZuHAhefLkoUWLFrzyyiv07duXdevW0aSJry04d+7cjB8/nho1avD888/TsmVLgoODqVevHmPHjuWBBx6gc+fO1KlThw4dOpxp/a1duzbBwcHUqVOHbt26nWnVAV+dce+991K7dm0iIiL48MMPU/Xzdc4RHRfNxv0bOXLqCPEuniK5ilCtaDV+CPrhzHovj3iZAc8NYMxbY4iLjaPrnV3/Vci3aNGCJ598EuccZsbTTz/Npk2bcM5xxRVXnFn/119/pWPHjqn6eXjJXGLvn6fGjs0+BVoBhYA9wItAKIBzbpR/+skRQAd800/e45xbnNR+c+XK5Y4fP37WsnXr1lGtWrVUzZ/d6GuY+pxzHDsVe04h/k8xvi9Bkb7/WDQHoqITbWcJMiiQK/FC/PRo+ekR9YK5w4gIC/b8DnXx8Y67xyxk6baDTOnVnDIFcyW9kYiIh/R7MP045zh86jC7j+3mWPQxQoJCKJqrKIVzFSYk6OLHmHv16sU111xz3nvwnDp1ipYtWzJ79mxCQv59nMT+D5hZlHMuw/4SS7MReefcbUm87oDuaXV8kbQQHRvPAX8Rfm4hnvDiz9Mj6tGxic+GlCc85EwhXq5QLhqWLUChBEV5wtaWfDkTb2fJyIKCjNdvqk37oTN5csIKPn+oCcGZ7HMQEZHU5ZzjwIkD7D62mxOxJwgLDqN0ZGkK5SxEUFDK3x3+z3/+c2b++sRs27aNAQMGJFrEZ1ZZ5zMRuQjx8Y7DJ2LOHjFPZIaW0z3oiV3QCRAWEnRWIV65aJ7ER9Bzh1EgVxg5Qv59xX1WUyJfTvpeW4PeE1bw/qwtPNSygteRRETEA/Hx8ew7sY/dx3YTHRdNzpCclMtXjvw58xNkqTcTetGiRbn22mvP+3qlSpWoVKlSqh0vI1AhL1lOVHTsPxd/ntvWcs4MLQeORxMX/+9+FjMoEPFPIV69RN5/t7IkKNJz5wjxvJ0lI7q+XkmmrtnNmz9tpFWVIlQplsfrSCIi53W6v1pSR2x8LH8f/5u9x/cSEx9DrtBclI4sTWSOyAz3dU6rVvO0pkJeMryYuHgOHj+7deVCM7Sce2Oi03LnCPEX5mFcUiCCeqXznSnEC+bOcdaIev6IMLWCpAIz47Xra9FuyEx6T1jO1482TZWLa0VEUlt4eDj79++nYMGCGa7IzGxi4mLYc3wPfx//mzgXR94ceSmfuzy5w3JnyK+tc479+/cTHh5+UdubWTCwGNjpnOvkvw70FaALEAeMdM4NS7XACaiQl3TnnOPIiVj2ndNPfr4ZWg5FJX63uNBgO6sQr1Ao15nHBXP908py+nl4aNZvZ8mICubOwWs31OKhj5YwfPomnmyX9vdsEBFJrlKlSrFjxw7+/vtvr6NkWrHxsRw5dYRj0cdwzhERGkFkeCRxwXHs2LvD63gXFB4eflE3tPLrBawDTs/N2Q3fFOtVnXPxZlYk5QkTp0I+lQQHB1OrVi1iY2MpV64cH330Efny5Uu1/ZctW5bFixdTqFAhcufOneh0l146ER33z4WeAczQEptIOwtA/ojQM4V31WJ5z+kxP3te87zhamfJLNrXKMaN9UvxzozfuaJaUepeks/rSCIiZwkNDaVcuXJex8iUVu9dzcA5A/l01acEWRBd63Tl6aZPU7lg1r+XiJmVAjoCrwK9/YsfAW53zsUDOOf2ptXxs18hP3solKwP5Vr8s+yPmbBzKTR7/KJ3m/C2yl27duXtt9/m+eefT1FUL8XGxXMwKubsVpYLzNByvvnCI8KCzxTjJfKFU6tk5D+tLAmK9NPtLKHBarvIql68tjrzft9H7wnLmdyzud4hERHJ5OZtn0f/2f35buN35ArNRa/GvejdpDcl86b9TTYzkKHAM0DCi8AqALeY2fXA30BP59ymtDh49ivkS9aHid2gy1hfMf/HzH+ep5ImTZqwcuVKwHdnse7du/P3338TERHBe++9R9WqVdmzZw8PP/wwW7ZsAWDkyJFcfvnlXHfddWzfvp2TJ0/Sq1cvHnzwwVTJ5Jwj3jli4xyx8f6PuPgzjw8cj+bW0fP8xXo0B88zp3lwkJ11p88yBSL+NY/5P6PmYUSEZb//YpK4vOGhvNGlDne8v4CBP67nxWtqeB1JRESSyTnH1N+nMmD2AH778zcK5CzASy1f4rFGj1EwoqDX8dJCiJklvM/RaOfcaAAz6wTsdc4tMbNWCdbJAZx0zjU0sxuAMUDzNAmXFjv11JQ+sHvVhdfJUxw+ut7379FdULgqzBjo+0hMsVpw1YCADh8XF8cvv/zCfffdB8CDDz7IqFGjqFSpEgsWLODRRx9l+vTp9OzZk5YtW/L1118TFxd3plVmzJgxFChQgBMnTnDppZdy4403UrBg4t8Y8acL8nh/QR7niEvw+Nxi/XxXZAcHGTFx8cTHQ8UiuWl8zjzmCQv3vOGZb05zyTiaVixE1yZl+GDOVtpWL8rlFQp5HUlERAIQFx/Hl+u+ZMDsASzbvYxSeUsxpP0QHqj/ALnCMuz9klJDrHOu4Xleawpca2ZXA+FAXjMbD+wAvvKv8zXwQVqFy3qFfCDC8/mK+MPbIfIS3/MUOn1b5Z07d1KtWjXatm3LsWPHmDt3Ll26dDmz3qlTpwCYPn0648aNA3z99ZGRkTjnGDr0Lb755hscjm3bt7NoxRrqNmhEXLxj2/7jHIoPxzlYs/MwcecpzIPMCAkyQoKN0OAgwkN9j0OCgvz/nn49iOAgI8iMdYfDmfBwvUT3J5Ka+lxVjZmb9vH0xJVMebw5ecNDvY4kIiLncSr2FB+t/IjX57zOpgObqFywMv+79n/cWftOwoLDvI7nKefcc8BzAP4R+aecc3ea2QCgNfAH0BLYmFYZsl4hH8jI+el2mhbPwOL/Qatnz+6ZP8fBqGj27DpCdFw8YcFBFI0MJ3/E2f95T/fIR0VF0b59e95++226du1Kvnz5WLB4SYKWlnj2HjlJvINt+6MIDo05M4I+f85MvvtxKu99OYWcOSO4r0sndu4/QsmjvvWj4xxBBhjkzxV2plgPCfIV5KcfBxm6CFQyrJxhwbx5cx1uGjmXl79byxtd6ngdSUREznEs+hjvLn6XwfMH89fRv2hQvAFfdPmC66peR3CQrnFKwgDgYzN7AjgG3J9WB8p6hXxSEvbEl2sB5Zqf/fwcB6Oi2XnwBPH+0e/ouHh2HjxBdGw8EWHBZwp0B2w/EEVsvOOpl/rzSNfbadH5DoqWvITh739Eu07X4Zxj47rVVKlei0ZNW/DB++9y78OPEYwjNuY4QTEnKFKwIFVKFuL3TRtZtWwxZQtEULNkJKHBRsUiuSlUKDeG766ZIplV/dL5eaRVBd7+9Xfa1yjGldWLeh1JRESAfVH7GL5gOMMXDufgyYO0KdeGsZ3HcmX5KzVIeAHOuRnADP/jQ/hmsklz2W+KkJ1Lzy7ay7XwPd+5NNHV9xw+eaaIPy3eOfYcOckf+46z/WAUuw6fwDk4diqW2Lh4atepR/WaNZn14ze8/8E4pnz5CXdc3YJb2zVl9dzp1CwRydjR77BmyTyuv6IJN7ZvweG/tnLbjdcSRDxNGtTh5Rf/y2WXXUZwcJC+cSRL6nVFZaoVz0ufr1Zx4Hi013FERLK17Ye38/iPj1NmaBn6zexHy7ItmX/ffH65+xfaVmirWiSDssx2S9pcuXK548ePn7Vs3bp1VKtWLU2Ot3LHofO+VqFw7jPtLUFmmfo/eVp+DUXOZ92uI1w7YjZXVivKO3fUz9TfQyIimdGGfRsYOGcg41eOx+G4vdbtPNv0WaoXru51tAzBzKKccxn2at7s11qTTGHBQUTHxSe6PFcOfflEUqJa8bw80bYyr/+4gW+X/8V19bLV3MMiIp5Z/NdiBswewFfrviI8JJyHGz7Mk02epEy+Ml5Hk2RQJZqEopHhZ/XIg29WmKKR4R6mEsk6HmpRgZ/X7uH/vl3NZeULUkzfWyIiacI5x69bf6X/7P78vOVnInNE8p/m/6Fn454UyVXE63hyEbJfj3wy5Y8Io2T+nIT57zgaFhxEyfw5/zVrjYhcnOAg482b6xIT53jmy5Xnvd+BiIhcnHgXz9frvuay/13GFeOuYPXe1bx+5etse2Ibr7R5RUV8JpZlRuSdc2nWX5s/IixLF+4qnMRr5Qrl4j9XV+WFb9fw8YJt3HmZ3toVEUmpmLgYPln1CQPnDGTdvnWUz1+eUR1H0bVuV8JD9O5nVpAlCvnw8HD2799PwYIFdbFcMjnn2L9/P+Hh+oYWb915WRl+WruHV39YR7OKhShbKMNeWyQikqFFxUTx/tL3GTR3ENuPbKd20dp8euOn3FT9JkKCskTpJ35ZYtaamJgYduzYwcmTJz1KlbmFh4dTqlQpQkN1h03x1q7DJ2g3ZCZViubh84eaEBykP8xFRAJ18MRB3l70Nm8teIt9UftoVroZzzV7jqsqXqWBzouU0WetyRKFvIhkHV8t3UHvCSvoc1VVHm5Zwes4IiIZ3q6juxgyfwgjF4/kWPQxOlbqSJ9mfWhWupnX0TK9jF7I6/0VEclQrq9Xkp/W7GHwTxtpVaUwVYvl9TqSiEiG9PuB33l9zuuMXTGW2PhYbqlxC32a9aF20dpeR5N0ohF5Eclw9h87RfuhMymSJ5xvujclLEQTbImInLZ893IGzhnIhDUTCAkK4Z669/D05U9ToYDexUxtGX1EXoW8iGRIP63ZzYMfLaFHm4o82a6K13FERDw3689Z9J/dnymbp5AnLA+PNHyExy97nOJ5insdLcvK6IW8WmtEJENqV6MYN9Yvxdu/bqZN1SLUK53f60giIunOOcfkTZPpP7s/c7bPoVBEIV5p/QrdG3UnX3g+r+OJxzQiLyIZ1pGTMXQYMpPw0GB+6NmcnGHBXkcSEUkXsfGxTFgzgQGzB7Bq7ypKR5bm6cuf5t569xIRGuF1vGwjo4/Iq/FURDKsvOGhvNGlDlv2HWfgj+u9jiMikuZOxp5k1OJRVBlRhTu+uoM4F8eH133I5h6beazRYyri5SxqrRGRDK1pxUJ0u7wsY+dupV31olxesZDXkUREUt2RU0cYuWgkQ+YPYc/xPTQu2ZjB7QZzTZVrCDKNu0ri1FojIhneieg4Og6bxanYeKY83py84bp5mYhkDXuP7+Wt+W/x9qK3OXzqMG3Lt+W5Zs/Rqmwr3cQpA8jorTUq5EUkU1i67SA3jZzLjfVL8UaXOl7HERFJka2HtvLm3Dd5f9n7nIo9xY3Vb6RP0z40KNHA62iSQEYv5NVaIyKZQv3S+XmkVQXe/vV32tUoRtvqRb2OJCKSbGv2rmHgnIF8suoTgiyIu2rfxTNNn6FKIU2zK8mnEXkRyTSiY+Pp/PYc/j56kqmPt6Bg7hxeRxIRCcj8HfMZMHsA3274lojQCB5q8BC9m/SmVN5SXkeTC8joI/Iq5EUkU1m/+wjXDp/DFdWK8M4d9dVDKiIZlnOOaVum0X92f2ZsnUH+8Pz0bNyTHo16UDCioNfxJAAZvZBXa42IZCpVi+XlibaVGfjjer5d/hfX1SvpdSQRkbPExcfx1bqvGDBnAEt3LaVknpIMbjeYBxo8QO6w3F7HkyxEhbyIZDoPtijPz+v28H/frqZx+QIUj8zpdSQREaLjovloxUe8Pvd1Nu7fSKUClXj/mve5s/ad5AhRK6CkPk1MKiKZTnCQ8WaXOsTEOZ75YiWZrUVQRLKWY9HHGDJvCOXfKs/9391PrtBcTLhpAuu6r+O++vepiJc0oxF5EcmUyhbKxX+ursoL365h/IJt3HVZGa8jiUg2sz9qP8MXDmf4wuEcOHGAVmVbMabzGNqWb6vrdyRdqJAXkUzrzsvK8NPaPbz2wzqaVyxE2UIZ9nokEclCdhzZweB5gxm9ZDTHY45zbZVrea7Zc1xW6jKvo0k2o1lrRCRT23X4BO2GzKRK0Tx8/lATgoM0CiYiaWPj/o0MnD2Qj1Z+RLyL5/Zat/Ns02epUaSG19EkjWT0WWvUIy8imVrxyJz061yDxX8e5L1ZW7yOIyJZ0JK/ltBlYheqjqjKJ6s/4aEGD7G552bGXT9ORbx4Sq01IpLpXVe3JFNX72HwTxtpVaUwVYvl9TqSiGRyzjlmbJ1B/9n9mbZlGpE5Inmu2XP0uqwXRXIV8TqeCKDWGhHJIvYfO0X7oTMpnCecb7s3JSxEbziKSPLFu3i+2/Ad/Wf3Z8HOBRTNVZQnLnuChxs+TGR4pNfxJJ2ptUZEJB0UzJ2D166vxbpdRxj2yyav44hIJhMTF8O4FeOoNbIW131+HXuP72Vkx5FsfXwrzzZ7VkW8ZEhqrRGRLKNdjWLc1KAU78zYzBXVilCvdH6vI4lIBhcVE8WYZWMYNHcQfx7+k1pFavHxDR9zc42bCQlSmSQZm1prRCRLOXIyhquGziJHSBA/9GxOzrBgryOJSAZ06OQh3ln0DkPnD+XvqL9peklTnmv2HFdXulpzwMsZaq0REUlHecNDeeOm2mzZd5yBP673Oo6IZDC7j+3m2WnPUnpIaZ6f/jwNSzRkZreZzL53Nh0rd1QRL8lmZsFmtszMvj9n+TAzO5aWx9Z7RiKS5VxesRDdLi/L2LlbaVu9KE0rFvI6koh4bMvBLbwx5w0+WP4BMfEx3FzjZp5t+ix1i9X1Oppkfr2AdcCZKdPMrCGQ5v2daq0RkSzpRHQcHYfN4mRMHD8+0YK84aFeRxIRD6zcs5IBswfw+ZrPCQkKoVudbjzd9GkqFqjodTTJBJJqrTGzUsCHwKtAb+dcJzMLBn4Gbgc2Oedyp1U+tdaISJaUMyyYN2+uw+4jJ+n33Vqv44hIOpu9bTadPulEnVF1+G7jdzzZ5En+6PUH717zrop4SU1DgWeA+ATLHgMmOed2pfXB1VojIllWvdL5ebRVRUb8upn2NYrRtnpRryOJSBpyzjFl8xT6z+7P7G2zKRRRiJdbv0z3S7uTP6dmsZKLEmJmixM8H+2cGw1gZp2Avc65JWbWyr+sBNAFaJUe4dRaIyJZWnRsPNe9PYe9R08y9fEWFMydw+tIIpLKYuNj+WLtFwyYPYAVe1ZwSd5LeOryp7i//v1EhEZ4HU8ysQu11phZf+AuIBYIx9cjf8r/cdK/Wmlgi3MuTd4GStPWGjPrYGYbzGyzmfVJ5PXSZvar/0rflWZ2dVrmEZHsJywkiMG31OHIiVie/3o1mW3wQkTO72TsSd5d/C5VR1Tlti9vIzoumrGdx/J7z9/p2bininhJU86555xzpZxzZYFbgenOufzOuWLOubL+5VFpVcRDGhby/kb/t4GrgOrAbWZW/ZzV/gtMcM7Vw/cFeCet8ohI9lW1WF6eaFuZH9fs5pvlO72OIyIpdOTUEd6Y8wbl3irHwz88TIGcBfjq5q9Y/ehqutbtSmiwLm6X7CEte+QbAZudc1sAzOwzoDOQ8Kozxz9T9UQCf6VhHhHJxh5sUZ6f1+3h/75dw2XlC1I8MqfXkUQkmf4+/jdvLXiLtxe9zaGTh7iy/JV8fMPHtC7bWvO/i6ecczOAGYksT7MZayBtW2tKAtsTPN/hX5bQS8CdZrYDmAz0SMM8IpKNBQcZb3apQ2yc45kvVqrFRiQT2XZ4Gz2n9KTM0DK8Nus1rih3BQvvX8i0u6bRplwbFfGSbXk9/eRtwFjnXCngauAjM/tXJjN70MwWm9ni2NjYdA8pIllD2UK5+E/HaszatI/xC7Z5HUdEkrD277V0/aYrFYZVYOTikdxa81bWdl/LFzd/waUlL/U6nojn0rK1ZidwSYLnpfzLEroP6ADgnJtnZuFAIWBvwpX80/yMBt+sNWkVWESyvjsbl+anNbt57Yd1NK9YiLKFznufDxHxyMKdC+k/uz/frP+GiNAIul/anSebPMklkZckvbFINpKWI/KLgEpmVs7MwvBdzDrpnHW2AVcAmFk1fFP3/J2GmUQkmzMzXr+pNiHBxpMTVxAXr7EBkYzAOce036dxxbgraPx+Y37b+hv/1+L/+PPxPxnaYaiKeJFEpFkh75yLxXdnq6nAOnyz06wxs35mdq1/tSeBB8xsBfAp0M2pcVVE0ljxyJy83LkmS/48yOiZW7yOI5Ktxbt4vlz7JZe+dyntxrdj/b71DGo7iD8f/5O+rftSKKKQ1xFFMizdEEpEsiXnHI9+vJRf1u1lUo+mVC2WN+mNRCTVRMdF8/HKjxk4ZyAb9m+gYoGKPNv0We6qfRc5QnTjNskYLnRDqIxAhbyIZFv7j52i/dCZFM4TzrfdmxIW4vX1/yJZ3/Ho47y39D3enPcmO47soG6xujzX7DlurHYjwUHBXscTOUtGL+T1W0tEsq2CuXPQ/4barNt1hLd+2eh1HJEs7cCJA/T7rR9lhpbhialPUCF/BabcMYWlDy7l5ho3q4gXuQhpOWuNiEiG17Z6UW5qUIqRM37nimpFqV86v9eRRLKUnUd2MnjeYN5d8i7HY45zTeVreK7ZczS5pInX0UQyPbXWiEi2d+RkDFcNnUWOkCB+6NmcnGEaGRRJqU37N/H6nNf5cMWHxLt4bqt1G882fZaaRWp6HU0kYBm9tUaFvIgIMPf3fdz+3gK6XV6Wl66t4XUckUxr2a5l9J/dny/WfkGOkBzcW/denrr8KcrlL+d1NJFky+iFvFprRESAyysUotvlZRk7dyttqxelaUVNeScSKOccM/+cSf/Z/Zn6+1Ty5sjLs02f5fHLHqdo7qJexxPJsjQiLyLidyI6jo7DZnEyJo4fn2hB3vBQryOJZGjxLp7vN37PgNkDmLdjHkVyFeGJy57gkYaPEBke6XU8kRTL6CPymrVGRMQvZ1gwb95ch91HTtJ30lqv44hkWDFxMYxfOZ7aI2vT+bPO7Dq2i3eufoetvbbSp1kfFfEi6UStNSIiCdQrnZ/urSsyfPpm2tcoSrsaxbyOJJJhnIg5wZhlYxg0bxBbD22lZpGajL9+PLfUvIWQIJUUIulNrTUiIueIjo3n+nfmsOfISaY+3oKCuXWXScneDp88zDuL3mHogqHsPb6XJqWa8Fyz5+hYuSNBpjf3JevK6K01KuRFRBKxYfdRrhk+mzZVizDyzvqYmdeRRNLdnmN7GDJ/CCMXj+TIqSN0qNiB55o9R/PSzfU9IdlCRi/k9T6YiEgiqhTLQ+92lRkwZT3fLN/J9fVKeR1JJN38cfAP3pj7BmOWjSEmPoabqt9En6Z9qFe8ntfRRCQBjciLiJxHXLzjlnfnsWHPUaY+3oIS+XJ6HUkkTa3as4qBcwby2erPCA4Kpmudrjx9+dNUKljJ62ginsjoI/Iq5EVELmDrvuNc9dYsGpbNz7h7G6mdQLKkudvn0n92f77f+D25QnPxcMOH6d2kNyXylPA6moinMnohrytUREQuoGyhXDzfsRqzNu1j/Pw/vY4jkmqcc0zZNIWWY1vSdExT5m2fR79W/dj2xDYGtRukIl4kE1CPvIhIEu5oXJqf1u7htcnraV6pMGULZdjBGZEkxcXH8cXaLxgwZwDLdy+nVN5SDG0/lPvr30+uMP3fFslM1FojIhKA3YdP0m7Ib1QskpuJD19OcJBabCRzORV7inErxvH63NfZfGAzVQtV5dmmz3J7rdsJCw7zOp5IhqTWGhGRLKBYZDj9Otdk6bZDvDvzd6/jiATs6KmjDJo7iHJvlePB7x8kX3g+vrz5S9Y8uoZudbupiBfJxNRaIyISoM51SzB1zW6GTNtI6ypFqFY8r9eRRM5rX9Q+hi0YxoiFIzh48iBXlLuCcdeP44pyV+iibZEsQq01IiLJsP/YKdoPnUXhPDn4tntTwkL0xqZkLNsOb+PNuW/y3tL3OBF7guurXk+fZn1oVLKR19FEMp2M3lqjQl5EJJl+XruH+8ctpnvrCjzdvqrXcUQAWL9vPQPnDGT8yvEA3FHrDp5t+izVClfzOJlI5pXRC3m11oiIJNOV1YvSpUEpRs74nSuqFaV+6fxeR5JsbNHORQyYM4Cv131NeEg4jzZ8lCcvf5LSkaW9jiYiATCzIkBToARwAlgNLHbOxSe5rUbkRUSS7+jJGDoMnUVYSBA/9GxGRJjGRST9OOeY/sd0+s/uzy9//EK+8Hz0aNSDHo16UDhXYa/jiWQZaTkib2atgT5AAWAZsBcIByoDFYAvgDedc0fOuw8V8iIiF2fu7/u4/b0FdG1Shr6da3odR7KBeBfPN+u/YcDsASz6axHFcxend5PePNTgIfLkyON1PJEsJ40L+TeA4c65bYm8FgJ0AoKdc1+edx8q5EVELl7f79bwwZytfHx/Y5pWLOR1HMmiouOi+WTVJwycM5D1+9ZTIX8Fnmn6DHfXuZvwkHCv44lkWRm9R17TLYiIpMCzHapSvnAunp64giMnY7yOI1nM8ejjvDX/LSoOq8g9395DjuAcfHbjZ2x4bAMPNnhQRbxIFmBmvcwsr/n8z8yWmlm7QLZVIS8ikgLhocEMvrkue46eou+ktV7HkSzi4ImDvPzby5R9qyyPT32csvnKMvn2ySx7aBm31LyF4KBgryOKSOq5198H3w7ID9wFDAhkQ12dJSKSQnUvycejrSowfPpm2tUoSvsaxbyOJJnUX0f/Ysi8IYxaMopj0cfoVLkTfZr2oWnppl5HE5HzMLNgYDGw0znXycw+BhoCMcBC4CHn3IXesj19h7argY+cc2sswLu2qZAXEUkFPdpUYvr6vfznq1U0KJOfQrlzeB1JMqBig4qx5/iefy0vFFGI66tez4crPiQ2PpZba95Kn6Z9qFW0lgcpRSSZegHrgNO3+/4YuNP/+BPgfmDkBbZfYmY/AeWA58wsD5Dk1JOg1hoRkVQRFhLE4JvrcvRkLM9/vYrMNpGApI/EiniAfVH7GLdiHPfVu49NPTbx8Q0fq4gXyQTMrBTQEXj/9DLn3GTnh29EvlQSu7kP3zSUlzrnooAw4J5Ajq8ReRGRVFKlWB6ebFeZ/lPW8/WyndxQP6mf3SL/2Pr4VorlVluWSCYzFHgG+Nf8r2YWiq/fvVdiG5pZ/XMWlQ+wo+YMFfIiIqno/ubl+XndHl6ctIbLyhekRL6cXkeSDOJ49IWnTlYRL5IhhZjZ4gTPRzvnRgOYWSdgr3NuiZm1SmTbd4CZzrlZ59n3m/5/w4EGwEp8/fK18fXcN0kqnFprRERSUXCQMahLHeLiHc98sZL4eLXYZHdbDm7hyalPUnJwSa+jiEjyxTrnGib4GJ3gtabAtWa2FfgMaGNm4wHM7EWgMND7fDt2zrV2zrUGdgEN/PtvANQDdgYSToW8iEgqK1MwF/+5uhqzN+9j/II/vY4jHnDOMe33aVz76bVUHFaRYQuHcVWlq7yOJSKpyDn3nHOulHOuLHArMN05d6eZ3Q+0B25zzgVy0WoV59yqBPtdDVQLJIMKeRGRNHBH49K0qFyY1yav4499uht1dnEs+hjvLHqHGu/UoN34dizYuYD/tvgvfz7+J5/e+ClFcxVNdLvzLReRTGkUUBSYZ2bLzez/klh/pZm9b2at/B/v4WuzSZJltpkVcuXK5Y4f1y9FEcn4dh8+Sbshv1GxSG4mPnw5wUHJu4hJMo/fD/zO24veZsyyMRw+dZiGJRrSs1FPbq5xMzlCNBWpSGZlZlHOuVxpfIxw4BGghX/RTGCkc+5kktuqkBcRSTvfLt9Jr8+W80yHKjzaqqLXcSQVOeeYtmUawxcO54eNPxAcFEyX6l3o2bgnjUs2JrmzT4hIxpMehXxKaNYaEZE0dG2dEkxds5sh0zbSukoRqhXPm/RGkqEdPXWUcSvGMWLRCNbvW0/RXEV5ocULPNTwIUrkKeF1PBHJZMysKfASUIYEtblzrnyS22pEXkQkbR04Hk27ITMplDuMbx9rSo6QYK8jyUXYfGAzIxaO4IPlH3Dk1BEuLXEpPRv3pEv1LmqfEcmi0qm1Zj3wBLAEiDu93Dm3P8ltVciLiKS9n9fu4f5xi3m0VQWe6VDV6zgSoHgXz7TfpzFs4TCmbJpCSFAIXWp0oWejnjQu1djreCKSxtKpkF/gnLuoHyhqrRERSQdXVi/KzQ1LMeq337miWlEalMnvdSS5gKOnjvLhig8ZsXAEG/ZvoGiuovxfy//joQYPUTxPca/jiUjW8quZvQF8BZw6vdA5tzSpDTUiLyKSTo6ejKHD0FmEhQTxQ89mRIRpLCWj2bR/05n2maPRR2lcsjE9GvWgS40uhAWHeR1PRNJZOo3I/5rIYueca5PktirkRUTSz9zf93H7ewvo2qQMfTvX9DqO4Guf+en3nxi2YBhTNk8hNCiUW2reQo9GPWhUspHX8UTEQ5q1RkREzri8QiHuaVqWD+ZspW31YjSrVMjrSNnWkVNH+HD5hwxfOJxNBzZRLHcx+rbqy4MNHqRY7mJexxORbMLMIoEX+Wce+d+Afs65w0luqxF5EZH0dTImjquHzeJEdBw/Pt6CyJyhXkfKVjbu38iIhSMYu3wsR6OPclmpy+jRqAc3Vb9J7TMicpZ0aq35ElgNfOhfdBdQxzl3Q5LbqpAXEUl/y7cf4saRc+lctwSDb67rdZwsL97FM3XzVIYtHMaPm38kNCiUW2veSo9GPbi05KVexxORDCqdCvnlzrm6SS1LjFprREQ8UPeSfHRvVYFh0zfTvkYx2tdQK0daOHLqCGOXj2XEwhFsOrCJ4rmL069VPx5s8CBFcxf1Op6ICMAJM2vmnJsNZ24QdSKQDS84Im9mBS60sXPuQHJSpgaNyItIVhEdG8/178xh9+GTTH2iBYVy66ZCqWXDvg2+9pkVYzkWfYwmpZrQs3FPbqh2g9pnRCRg6TQiXxdfW02kf9FBoJtzbkWS2yZRyP8BOMASedkFcuvY1KZCXkSykg27j3LN8Nm0qlKYd+9qgFliP24lEPEunh83/8iwBcOY+vtUwoLDzrTPNCzR0Ot4IpIJpeesNWaWF8A5dyTQbS7YWuOcK5fSUCIicn5ViuXhyXaV6T9lPV8t3cmNDUp5HSnTOXzysK99ZtEINh/YTPHcxXm59cs82OBBiuQq4nU8EZELMrPXgNedc4f8z/MDTzrn/pvktkmMyNe/0MaB3HEqtWlEXkSymrh4x62j57F+11GmPtGCEvlyeh0pU1i/bz0jFo7gwxUfciz6GJdfcjk9G/naZ0KDNROQiKRcOrXWLHPO1Ttn2VLn3AXrcEi6kE/sTlOnJXnHKTPrALwFBAPvO+cGJLLOzcBL+Fp4Vjjnbr/QPlXIi0hW9Of+41z11izql87PuHsbERSkFpvExLt4Jm+azPCFw/np958ICw7jtpq30aNRDxqUaOB1PBHJYtKpkF8JXOqcO+V/nhNY7JyrkdS2SbXWtE5BqGDgbaAtsANYZGaTnHNrE6xTCXgOaOqcO2hmeg9URLKlMgVz8XzHajz/9WrGL/iTu5uU9TpShnL45GE+WP4BIxaO4PeDv1MiTwleaf0KDzR4QO0zIpLZfQz8YmYf+J/fwz9zyl9QwNNPmllNoDoQfnqZc27cBTZpBGx2zm3xb/8Z0BlYm2CdB4C3nXMH/fvbG2geEZGs5vZGpflpzR5em7yOZhULUb5wbq8jeW7d3+vOtM8cjzlO00ua8toVr3F91evVPiMiWYJzbqCZrQCu9C962Tk3NZBtAyrkzexFoBW+Qn4ycBUwG7hQIV8S2J7g+Q6g8TnrVPbvfw6+9puXnHM/JnL8B4EHAcLCNG2YiGRNZsbAG2vTbshvPDlxBRMfakJIcJDXsdJdXHwcUzZPYdiCYUzbMo0cwTm4rZavfaZ+8SRbRkVEMqN1QKxz7mczizCzPM65o0ltFOhviJuAK4Ddzrl7gDr8M9dlSoQAlfD9kXAb8J6Z5Tt3JefcaOdcQ+dcw5AQ3cNKRLKuYpHhvHxdTZZtO8S7M7d4HSddHTp5iMHzBlN5RGWu+fQa1v69llfbvMr2J7bzQecPVMSLSJZkZg8AXwDv+heVBL4JZNtAq+ITzrl4M4v1z3G5F7gkiW12nrNOKf+yhHYAC5xzMcAfZrYRX2G/KMBcIiJZzrV1SvDTmj0M/XkjrasUoXqJvF5HSlNr/17L8AXDGbdyHFExUTQr3YwBVwzguqrXqX1GRLKD7vha0hcAOOc2BXrdaKCF/GL/SPl7wBLgGDAviW0WAZXMrBy+Av5W4NwZab7BNxL/gZkVwtdqk72GoEREzmFmvHxdTRb8cYDeE5bz7WNNyRES7HWsVBUXH8cPm35g+MLh/LzlZ3IE5+D2WrfTo1EP6hWvl/QORESyjlPOuejTNwQ0sxB8szkm6YLTTya6gVlZIK9zbmUA614NDMXX/z7GOfeqmfXDN6XOJPMlfhPoAMQBrzrnPrvQPjX9pIhkF7+s28N9Hy7m0VYVeKZDVa/jpIqDJw4yZtkY3l70Nn8c+oNSeUvxaMNHeaDBAxSKKOR1PBGRs6TT9JOvA4eAu4EewKPAWufc80luG0ghb2bXA9Odc4f9z/MBrZxz31x06oukQl5EspNnvljBF0t2MPHhJjQoU8DrOBdtzd41DF84nI9WfkRUTBTNSzenZ+OeXFf1OkKCdO2TiGRM6VTIBwH3Ae0AA6biu/9SkkV6oIX8cudc3XOW/esuVOlBhbyIZCdHT8bQYegsQoONyb2aExGWeYreuPg4vt/4PcMWDmP6H9MJDwnn9pq306NxD+oWq+t1PBGRJKVHIX/O8QoApQLpfIHAZ61JbL3M89tERCSTyhMeyqAuddi6P4oBU9Z7HScgB08cZNDcQVQcXpHrPr+OTfs30f+K/mx/Yjv/6/w/FfEiIgmY2Qwzy+sv4pfgm8VxSCDbJudi18H47tQKvqtrlyQ/qoiIJFeTCgW5t2k5xsz5g3bVi9GsUsbsJV+9dzXDFwxn/KrxRMVE0bJMSwa1HUTnqp3VPiMicn6RzrkjZnY/MM4596KZBTQiH2hrTS7gBXx3nHLANHwXpqZ7j4taa0QkOzoZE0fHYbOIio7jx8dbEJkzY0zLGBcfx3cbv2P4wuFn2mfuqHUHPRr1oE6xOl7HExFJkXTqkV+Frz/+Q+B559wiM1vpnKud5LbJmbXGzHJ5UbwnpEJeRLKrFdsPccPIuXSuU4LBt9T1NMuBEwf439L/8c7id9h6aCulI0vzaMNHub/+/RSMKOhpNhGR1JJOhXwXfAPms51zj5pZeeAN59yNSW4b4Ij85cD7QG7nXGkzqwM85Jx7NIXZk02FvIhkZ4N/2sCw6ZsZdWcDOtQslu7HX7VnFcMXDmf8yvGciD1Bq7Kt6NGoB9dWuVbtMyKS5aT3xa7JFWghvwC4CZh0eqYaM1vtnKuZxvn+RYW8iGRn0bHxXP/OHHYfPsnUJ1pQKHeOND9mbHws3234jmELhzFj6wxyhuT0tc807kHtokm+8ysikmmlZSFvZv8F3nHOHTjP622ACOfc9+fbR8DDJ8657afvOOUXF+i2IiKSOsJCghhyS106DZ/Nf75axbt3NeCcn82p5sCJA7y/9H3eXvQ22w5vo3RkaV6/8nXuq38fBXJm3jntRUQyiFXAd2Z2ElgK/A2EA5WAusDPwGsX2kGghfx2f3uNM7NQoBew7iJDi4hIClQumoen2lXmtcnr+WrpTm5sUCpV979yz0qGLxjOx6s+5kTsCVqXbc3Q9kO5pso1ap8REUklzrlvgW/NrBLQFCgOHAHGAw86504ktY9AW2sKAW/hm7XGgJ+Anud7KyAtqbVGRATi4h23jZ7Pul1H+PGJFpTMlzNF+4uNj2XShkkMWzCM3/78jZwhObmr9l081ugxahWtlUqpRUQyl0Baa8wsGFgM7HTOdTKzcsBnQEF807Xf5ZyLTpN8yZm15sxGZvmBR51zr6Z+pAtTIS8i4rNtfxQd3ppJvdL5+OjexgQFJb/FZn/U/jPtM9uPbKdMZBm6X9pd7TMiIgRcyPcGGgJ5/YX8BOAr59xnZjYKWOGcG5kW+S54Z1czu8TMRpvZ92Z2n5nlMrNBwAagSFoEEhGRwJQuGMHzHasxZ/N+Ppr/Z7K2XbF7BfdPup9SQ0rR55c+VCpYia9v+Zrfe/7O002fVhEvIhIAMysFdMQ3uyPmu2ipDfCFf5UPgevS6vhJNTuOA34DvgQ64HvbYDlQ2zm3O61CiYhIYG5vVJqf1uyh/5R1NK9UiPKFc5933dj4WL5d/y3DFg5j5p8zyRmSk651uvJYo8eoWSTdJyETEckKhgLPAHn8zwsCh5xzsf7nO4CSaXXwC47IAwWccy8556Y6557wh7xDRbyISMZgZrx+U21yhATz5MQVxMbF/2udfVH7GDB7AOXfKs9NE29i2+FtDGo7iJ29dzKq0ygV8SIi5xdiZosTfDx4+gUz6wTsdc4tSckBzKyymf1iZqv9z2v7p6ZMOlwAO8+P7wJXgP1ApP9tA7y42FVERM5WNG84/TrXoNdny3l35ha6t64IwPLdy8/MPnMq7hRXlLuCEVePoGOljgQHBXucWkQkU4h1zjU8z2tNgWvN7Gp800bmxTc5TD4zC/GPypcCdiZxjPeAp4F3AZxzK83sE+CVpMIlVchH4pvXMqHTzx1QPqkDiIhI2ru2Tgl+WrOHIT+vIzp0Dl9v+h+zts0iIjSCe+rew2ONHqNGkRpexxQRyTKcc88BzwGYWSvgKefcHWY2Ed+NVD8DugLfJrGrCOfcwnPuCRJ7vpUTSqqQr+SciwlkRyIi4p39J/ZToPhktm0eRu9f/qZsvnK82e5N7ql7D/lz5vc6nohIdvIs8JmZvQIsA/6XxPr7zKwCvkFyzOwmYFcgB7rg9JNmthhfk/6PwI/Oua2B7DQtafpJEZF/LNu1jOELh/PJqk84FXeK+kVbsH1bS55ofgvPXaUReBGRlAhk+slUOEZ5YDRwOXAQ+AO4M5C6O8l55M2sLL4Zazrgu+p2NjAF+M05dyolwS+GCnkRye5i4mL4ev3XDF84nNnbZhMRGnFm9pnqhavz7BcrmbhkOxMfbkKDMppGUkTkYqVHIZ/gWLmAIOfc0YC3Sc4NocwsFGiOr6hvBfztnOuYzJwpokJeRLKrv4//zegloxm5eCQ7j+6kfP7yPHbpY9xT7x7yhec7s97RkzF0GDqL0GBjcq/mRIQlOa+BiIgkIp1G5PMBdwNlSdD27pzrmeS2F3Nn1wQHLumcS+pK3FSlQl5Espulu5YybMEwPlv9GafiTtG2fFt6Nu7JVRWvOu/sM/N+389t783nrsvK8PJ1ml5SRORipFMhPxeYD6wCzswh7Jz7MKltAxqmMbOmwEtAGc7+S0Gz1oiIpIGYuBi+WvcVwxcOZ872OeQKzcV99e7jsUaPUa1wtSS3b1KhIPc2LceYOX/QrkZRmlcqnA6pRUTkIoQ753pfzIYBjcib2XrgCWAJEHd6uXNu/8UcNCU0Ii8iWdne43vPtM/8dfQvKuSvwGONHqNb3W5ntc8E4mRMHB2HzeL4qTimPtGCyJyhaRNaRCSLSqcR+SeAY8D3wJnrTwO5X1OghfwC51zjlIRMLSrkRSQrWvLXEoYt9LXPRMdF065CO3o26slVla4iyJK6Cff5rdxxiOvfmUvnOiUYfEvd1AssIpINpFMh3x14FTiEfwpKwAXS+RJoIT8ACAa+4uy/FM69WVSaUyEvIllFTFwMX677kmELhjFvxzxyh+U+M/tM1UJVU+04g6dtZNgvmxh1Z3061CyeavsVEcnq0qmQ3wI0cs7tS+62gU5lcHo0PuEtah3QJrkHFBHJ7vYc28PoJaMZtWTUmfaZoe2H0q1uNyLDI1P9eD3aVGT6+j385+vVNChTgMJ5cqT6MURE5KJtBqIuZsMUzVrjBY3Ii0hmtfivxQxbMIzP13xOdFw07Su0p2fjnnSo2CFF7TOB2LjnKJ2Gz6Zl5cKMvqsB59wKXEREEpFOI/JfAzWAXzm78yXJ6ScDnbUmEngRaOFf9BvQzzl3ONlpRUSykei4aL5c+yXDFg5j/o755A7LzYP1H+SxRo9RpVCVdMtRuWgenmpXmdcmr+fLpTu5qUGpdDu2iIhc0Df+j2QLtEf+S2A1cHo+y7uAOs65Gy7moCmhEXkRyQz2HNvDu0veZeTikew+tptKBSqdmX0mb468nmSKi3fcNno+63Yd4ccnWlAyX05PcoiIZBbpeWfXixFoIb/cOVc3qWXpQYW8iGRki3YuYtjCYXy++nNi4mPoULEDPRv1pH3F9mnePhOIbfuj6PDWTOqVzsdH9zYmKEgtNiIi55OWhbyZTXDO3Wxmq/hntpoznHO1k9pHoBe7njCzZs652f4DNwVOJCutiEgWFR0XzRdrv2DYgmEs2LmAPGF5eLjhwzzW6DEqF6zsdbyzlC4YwX87Vuc/X69i3LytdGtazutIIiLZ1RD/v50udgeBjsjXxddWEwkYcADo5pxbcbEHvlgakReRjGL3sd28u/hdRi0Zxe5ju6lcsDKPXfoYXet29ax9JhDOOe4Zu4j5W/YzuWdzyhfO7XUkEZEMKY1H5Jc65+qnaB/JmbXGzPICOOeOpOSgKaFCXkS8tmDHAoYvHM6ENROIiY/h6kpX06NRD9pVaJch2mcCsefISdoNmUm5Qrn44uEmhARnjtwiIukpjQv5Zc65einax4UKeTO70zk33sx6J/a6c25wSg5+MVTIi4gXouOimbhmIsMWDmPhzoXkCcvDvfXupful3alUsJLX8S7KpBV/0fPTZTzdvgrdW1f0Oo6ISIaTxoX8XuCz872eGtNPng6eJxm5RESyjF1Hd/HukncZtXgUe47voUrBKgy/ajhd63QlT47M/aPx2jolmLpmN0N/3kirKoWpUSL1b0YlIiLndQJYkpId6IZQIiKJWLBjAcMWDmPimonExMfQsVJHejTqQdsKbTNN+0wgDh6Ppt3QmRSICGNSj6bkCAn2OpKISIaR0XvkA/ptZGavm1leMws1s1/M7G8zuzMlBxYRyWhOxZ7ioxUf0ei9Rlz2v8v4fuP3PHrpo2x8bCPf3/59hplCMjXlzxXGwBtrsWHPUYZM2+R1HBGR7CQ6pTtI1jzyZnY9vilyegMznXN1UhoguTQiLyKp7a+jfzFq8SjeXfIue4/vpWqhqjx26WPcXefuTN8+E6hnv1jJxCXbmfhwExqUKeB1HBGRDCGj3xAq0HnkT6/XEZjonDtsppuIiEjm5Zxj/o75DF84nIlrJxIXH0fHyh3p2agnV5a/kuz2M+6/naox5/d99J6wgim9mhMRFuivBxER8UqgP6m/N7P1+JryHzGzwsDJtIslIpI2TsWe4vM1nzN84XAW/7WYvDny0qNRD7pf2p0KBSp4Hc8zecJDGdSlDre9N5/+k9fz8nU1vY4kIiJJCPhiVzMrABx2zsWZWQSQ1zm3O03TJUKtNSJyMRJrn+nZqCd31bmL3GG6IdJpL3+/lv/N/oNx9zaiReXCXscREfFUerXWmFkwUJQEg+zOuW1JbpfEPPJtnHPTzeyGxF53zn11EVlTRIW8iATKOce8HfMYvnA4X6z9grj4ODpV7kSPRj2yZftMIE7GxNFp+GyOnYxl6uMtiIwI9TqSiIhn0qOQN7MewIvAHiDev9g552onuW0ShXxf59yLZvZBIi8759y9FxM4JVTIi0hSTsae5PPVvvaZJbuWEJkjkvvq3cejlz6ardtnArVyxyGuf2cu19YpwZBb6nodR0TEM+lUyG8GGjvn9id7W80jLyJZxc4jOxm5eCSjl4zm76i/qVaoGj0b9+TO2neqfSaZBk/byLBfNjHqzvp0qFnc6zgiIp5Ip0L+V6Ctcy42udsGdLGrmb0GvO6cO+R/nh940jn33+QeUEQkNTnnmLt9LsMWDuOrdV8RFx/HNVWuoWejnrQp10btMxepR5uKTF+/h/98vZoGZQpQOE8OryOJiGRVW4AZZvYDcOr0Qufc4KQ2DHQe+WXOuXrnLEvx3aguhkbkRQR87TOfrf6M4QuHs3TXUiJzRHJ//ft59NJHKZ+/vNfxsoRNe47ScfhsWlYuzOi7GuiPIhHJdtJpRP7FxJY75/omtW2g008Gm1kO59wp/wFzAhqeEZF0t+PIDkYuGsnopaPZF7WP6oWrM6rjKO6sfSe5wjLsPTsypUpF8/B0uyq8OnkdXyzZQZeGl3gdSUQkyzldsJtZbv/zY4FuG2gh/zHwS4KLXu8BPkxOSBGRi+WcY872OQxb4GufiXfxXFvlWno27knrsq01UpyG7m1Wjmlr99Dvu7VcXrEQJfPl9DqSiEiWYmY1gY+AAv7n+4C7nXNrktw2GfPIdwCu9D+d5pybenFxU0atNSLZx8nYk3y66lOGLRzG8t3LyReej/vr+dpnyuUv53W8bGPb/ig6vDWTupfkY/x9jQkK0h9OIpI9pFNrzVzgeefcr/7nrYDXnHOXJ7Vtcu7BvQ6Idc79bGYRZpbHOXf0YgKLiFzI9sPbGbl4JO8tfY99UfuoUbgG73Z6lztq3aH2GQ+ULhjBC52q89xXqxg3byvdmuqPKBGRVJTrdBEP4JybYWYB/bILdNaaB4AH8Q35VwBKAqOAK5LYrgPwFhAMvO+cG3Ce9W4EvgAudc4tDiSTiGQtzjlmb5vNsIXD+Hrd1zicr32mUU9alW2l9hmP3XrpJUxds5sBP66neeXCVCis6TxFRFLJFjN7AV97DcCd+GaySVKgs9YsBxoBC07PXmNmq5xztS6wTTCwEWgL7AAWAbc559aes14e4AcgDHgsqUJerTUiWcuJmBN8uvpThi0Yxoo9K8gfnv/M7DNl85X1Op4ksOfISdoNmUnZQrn48uEmhAQHeR1JRCRNpVNrTX6gL9DMv2gW8JJz7mBS2wbaWnPKORd9ekTMzEKApP4CaARsds5t8W/zGdAZWHvOei8DA4GnA8wiIlnAtsPbGLnI1z6z/8R+ahWpxehOo7mj9h1EhEZ4HU8SUTRvOC9fV5Oeny5j1G+/81ibSl5HEhHxjJmFAzPxzeQYAnzhnHvRzK4A3gCCgGNAN+fc5vPtx1+w97yYDIEW8r+Z2X+AnGbWFngU+C6JbUoC2xM83wE0TriCmdUHLnHO/WBm5y3kzexBfK09hIWFBRhZRDIa5xyzts1i2IJhfL3+awA6V+lMz8Y9aVmmpdpnMoFr65Rg6prdvPXLJlpXLUKNEpFeRxIR8copoI1z7piZhQKzzWwKMBLo7JxbZ2aPAv8Fup27sZkNdc49bmbfkcgAuXPu2qQCBFrIPwvcD6wCHgImA+8HuG2izCwIGEwin9i5nHOjgdHga61JyXFFJP2diDnBJ6s+YdjCYazcs5ICOQvwVJOnePTSRymTr4zX8SSZXulck4V/HKD35yuY1KMpOUKCvY4kIpLunK8//fSc76H+D+f/yOtfHgn8dZ5dnO6JH3SxGZIs5P297mucc1WB95Kx751AwruHlPIvOy0PUBPfLWkBigGTzOxaXfAqkrkUG1SMPcf3/Gt5oYhC3FfvPt5b+h4HThygdtHavHfNe9xe63a1z2Ri+XOF8fqNtbln7CKGTNtEn6uqeh1JRCSthJhZwrp0tH+AGThTJy8BKgJvO+cWmNn9wGQzOwEcAS5LbMfOuSX+h3Wdc28lfM3MegG/JRUu0ItdvwV6OOe2JbnyP9uE4LvY9Qp8Bfwi4PbzTW5vZjOAp3Sxq0jmY33P3xITZEFcV/U6ejbqSYsyLdQ+k4X0+XIlny/ezsSHmtCwbAGv44iIpLpAL3Y1s3zA10APoB8w0F/UPw1Ucc7df4Ftlzrn6p+zbNnpCWYuJNDWmvzAGjNbCJypoi/Uu+OcizWzx4Cp+KafHOOcW2Nm/YDFzrlJAR5bRDKxLT23qH0mi/pvp+rM3ryPJyeuYHLP5uTKkZxbk4iIZB3OuUNm9itwFVDHObfA/9LnwI+JbWNmtwG3A+XMLGFdnAc4EMhxA/2p+0KA653FOTcZXz99wmX/d551W13MMUQkY1MRn3XlzhHCoC51uO29+fSfso5XrjvvjMQiIlmOmRUGYvxFfE58U64PBCLNrLJz7vQ07OvOs4u5wC6gEPBmguVHgZWBZLhgIe+fVudhfH0/q4D/OediA9mxiGR9O47s4Pnpz3sdQzx0WfmC3Ne0HO/P/oN21YvRonJhryOJiKSX4sCH/j75IGCCc+57/41UvzSzeOAgcG9iGzvn/gT+BJpcbIAL9sib2edADL6J6a8C/nTO9brYg6UG9ciLeO9Y9DHemPMGb8x9gzgXR3Rc9HnXdS9qoqms7mRMHJ2Gz+bYyVimPt6CyIhQryOJiKSKdLoh1FH+mX4yDN/sN8edc3nPv5VPUrflq+6cu9M59y5wE9A8RUlFJFOLi49jzLIxVB5emX4z+3FtlWtZ3309RXMVTXT98y2XrCU8NJjBN9fh72OneOm7ROczEBGR83DO5XHO5fUX7jmBG4F3Atk2qRH5s66iTeyq2vSmEXkRb/yy5Ree/OlJVuxZwWWlLmNwu8E0ueSi3w2ULGjItI289csmRt5Rn6tqFfc6johIiqXHiPx5jpsqs9bUMbMjp/eJ786uR/yPXSBD/iKSua3ft56npz3N9xu/p2y+snx242fcXONmTSMp//JYm4pMX7+X/3y9ioZlC1A4Tw6vI4mIZHhmdkOCp0FAQ+BkQNsGMo98RqIReZH0sS9qH31n9GXk4pFEhEbw3xb/pWfjnoSHhHsdTTKwTXuO0nH4bFpUKsx7dzfQH3wikqmlU4/8BwmexgJbgfecc3uT3FaFvIgkdCr2FMMXDueVma9wNPooDzV4iJdavUSRXEW8jiaZxPuztvDKD+t446badGl4SdIbiIhkUF611gQqqYtdRSSbcM7xxdovqPZ2NZ6e9jSXX3I5Kx9eyTsd31ERL8lyb9NyNCpXgH7frWXHwSiv44iIZGhm9qH/zrCnn+c3szGBbKtCXkRYuHMhzT9oTpeJXcgVloupd05l8h2TqVGkhtfRJBMKCjLe7FKHeOd4euJK4uMz1zu/IiLprLZz7tDpJ865g0CSF7qCCnmRbG3b4W3c8dUdNH6/MZsPbGZ0p9Esf2g57Sq08zqaZHKXFIjgv52qM2/Lfj6ct9XrOCIiGVmQmeU//cTMCpD0hDQQ6EoikrUcPXWUAbMHMHj+YACeb/48zzZ9ljw58nicTLKSWy+9hKlrdjNgynpaVC5MhcK5vY4kIpIRvQnMM7OJ/uddgFcD2VAXu4pkI7HxsYxZNoYXfn2Bvcf3cketO3jtitcoHVna62iSRe09cpJ2Q2dSpmAuvny4CSHBeiNYRDKP9LrY1cyqA238T6c759YGsp1+oopkEz/9/hP13q3HQ98/ROWClVl4/0LG3zBeRbykqSJ5w3m5c01WbD/EqN9+9zqOiEhGVQA47pwbAfxtZuUC2UiFvEgWt2bvGq76+Craj29PVEwUX3T5gpndZnJpyUu9jibZxDV1StCpdnGG/ryJ1TsPex1HRCRDMbMXgWeB5/yLQoHxgWyrQl4ki9p7fC+PfP8ItUfVZt72eQxqO4i1j67lxuo36iY9ku5e7lyT/LnCeHLCCk7FxnkdR0QkI7keuBY4DuCc+wsI6KI1FfIiWczJ2JMMmD2AisMq8t7S9+h+aXc299zMk5c/SY6QHF7Hk2wqf64wXr+xNhv2HGXwtI1exxERyUiine+iVQdgZgH35GvWGpEswjnH52s+p8/Pffjz8J9cU/kaXm/7OlULVfU6mggArasW4bZGlzB65hbaVitKw7IFvI4kIpIRTDCzd4F8ZvYAcC/wfiAbatYakSxg3vZ59P6pN/N3zKdusbq82e5N2pRrk/SGIuns2KlYrnprJkFmTO7ZnFw5NJ4kIhlXOs5a0xZoBxgw1Tk3LZDt1Fojkon9cfAPbvniFi4fczl/HvqTMdeOYfEDi1XES4aVO0cIg26qw7YDUbw2eZ3XcUREPGdm9znnpjnnnnbOPQVM918AmyQV8iKZ0OGTh3lm2jNUfbsq3234jhdbvsjGHhu5p949BAcFex1P5IIaly/IfU3L8fGCbfy28W+v44iIeO0KM5tsZsXNrAYwnwAvdlVrjUgmEhsfy+glo3lxxovsj9rP3XXu5tU2r1Iyb0mvo4kky8mYODoNn83RkzH89HhLIiNCvY4kIvIv6dhacwvwNr6Za253zs0JZDuNyItkAs45Jm+aTO2Rtek+uTs1i9Rk8YOLGXvdWBXxkimFhwYz+OY67DsWzYuTVnsdR0TEM2ZWCegFfAn8CdxlZhGBbKtCXiSDW7lnJe3Ht6fjJx2JjY/lm1u+Yfrd06lfvL7X0URSpHapfPRoU5Fvlv/FlFW7vI4jIuKV74AXnHMPAS2BTcCiQDZUa41IBrX72G5emP4CY5aPITJHJC+2fJFHLn2EsOAwr6OJpJqYuHhueGcuOw5GMfWJFhTJE+51JBGRM9KjtcbM8jrnjpyzrLJzLsmbbmhEXiSDiYqJ4pWZr1BxWEU+XPEhvRr3YnPPzfS6rJeKeMlyQoODGHxzHY5Hx/Gfr1aR2QaXREQulpk9A+CcO2JmXc55uVsg+1AhL5JBxLt4xq8cT5URVXjh1xdoV6Edax5dw+D2gymQUzfOkayrUtE8PNO+Cj+v28vEJTu8jiMikl5uTfD4uXNe6xDIDlTIi2QAs/6cReP3G3PX13dRNFdRfuv2G1/d8hWVClbyOppIuri3aTkalStAv+/WsuNglNdxRETSg53ncWLPE6VCXsRDmw9s5sYJN9JibAt2Hd3FuOvGsfCBhbQo08LraCLpKijIeLNLHZxzPD1xJfHxarERkSzPnedxYs8TpYtdRTxw8MRBXp75MiMWjiAsOIw+zfrQu0lvIkIDmm1KJMv6bOE2+ny1ihevqc49Tct5HUdEsrm0vNjVzOLwzRtvQE7g9NuRBoQ755K8wUZIWgQTkcTFxMUwcvFI+v7Wl4MnDnJvvXt5ufXLFM9T3OtoIhnCLZdewk9r9zBgynqaVypMxSK5vY4kIpImnHMpvhW7WmtE0oFzjkkbJlFzZE16/diLesXqseyhZbx/7fsq4kUSMDMG3FCLnGHBPDlxBbFx8V5HEhHJsFTIi6SxZbuWccW4K+j8WWeCLIjvb/ueaXdNo06xOl5HE8mQiuQN5+XONVmx/RAjZ/zudRwRkQxLrTUiaWTnkZ3899f/8uHyDymQswAjrhrBgw0eJDQ4yZY3kWzvmjol+GntHt76ZROtqxahZslIryOJiGQ4uthVJJUdjz7OG3Pf4I25bxAbH0uvxr34T/P/kC88n9fRRDKVQ1HRtBsyk/wRYXz7WFPCQ1PcTioikizpcWfXlFBrjUgqiXfxjF0+lsojKtP3t750rNSRdd3X8Xrb11XEi1yEfBFhDLyxNhv2HGXItCTvVC4iku2okBdJBb/+8SsNRzfknm/voVTeUsy+ZzYTukygfP7yXkcTydRaVy3CbY0uYfSsLSzaesDrOCIiZ5hZuJktNLMVZrbGzPr6l5uZvWpmG81snZn1TLMMaq0RuXgb9m3gmZ+fYdKGSZSOLM2AKwZwS81bCDL9jSySWo6diuWqt2ZiGFN6NSdXDl3eJSLp40KtNWZmQC7n3DEzCwVmA72AakBroJtzLt7Mijjn9qZFPlUbIhdhf9R+ek3pRc2RNfn1j1/pf0V/1ndfz221blMRL5LKcucIYdBNddh+MIrXJq/zOo6ICADO55j/aaj/wwGPAP2cc/H+9dKkiAcV8iLJcir2FIPnDabi8IqMWDSC++rdx6Yem+jTrA85Q3N6HU8ky2pcviD3NyvHxwu28dvGv72OIyLZR4iZLU7w8WDCF80s2MyWA3uBac65BUAF4Bb/+lPMrFJahVNrjUgAnHN8vf5rnpn2DL8f/J0OFTvwRts3qFmkptfRRLKNkzFxXDN8NkdOxvDT4y2JjNBUriKStgKdtcbM8gFfAz2A+cCLzrk3zewG4AnnXPO0yKcReZEkLP5rMS3HtuTGCTcSHhLOlDumMOWOKSriRdJZeGgwg2+uy/5j0fzfpNVexxEROcM5dwj4FegA7AC+8r/0NVA7rY6rQl7kPLYf3s5dX9/Fpe9dyvp96xnVcRTLH15Oh4odvI4mkm3VKhXJY20q8u3yv5i8apfXcUQkGzOzwv6ReMwsJ9AWWA98g+9iV4CWQJrNn6vWGpFzHD11lNfnvM6geYNwztG7SW/6NOtD3hx5vY4mIkBMXDw3vDOXHQejmPpEC4rkCfc6kohkUUnMWlMb+BAIxjc4PsE5189f3H8MlAaOAQ8751akST4V8iI+cfFxfLD8A/47/b/sOb6H22reRv8r+lMmXxmvo4nIOTbvPcrVw2bTolIh3ru7Ib5Z4EREUpfu7CqSCUz7fRr13q3HA989QIUCFZh/33w+ufETFfEiGVTFInl4pn0Vfl63l4mLd3gdR0TEEyrkJVtb+/daOn7SkXbj23Es+hgTbprA7Htm07hUY6+jiUgS7m1ajsblCtDv+7VsPxDldRwRkXSnQl6ypb+P/033H7pTe2RtZm+bzRtt32Bd93V0qdFFb9GLZBJBQcagLnVwzvH0FyuIj89craIiIimlQl6ylZOxJ3l9zutUHF6Rd5e8y8MNH2Zzj808dflT5AjJ4XU8EUmmSwpE8EKn6szfcoCxc7d6HUdEJF2FeB1AJD0455iwZgJ9funD1kNb6VS5E69f+TrVClfzOpqIpNAtl17CT2v3MPDH9bSoXJiKRXJ7HUlEJF1oRF6yvPk75tN0TFNu/fJW8ubIy7S7pvHdbd+piBfJIsyMATfUImdYME9OWE5sXLzXkURE0kWaFvJm1sHMNpjZZjPrk8jrvc1srZmtNLNfzExThEiq2XpoK7d9eRtN/teEPw79wfvXvM/SB5dyZfkrvY4mIqmsSN5wXrmuJit2HOadGb97HUdEJF2k2TzyZhaM705WbfHdqnYRcJtzbm2CdVoDC5xzUWb2CNDKOXfLhfareeQlKUdOHaH/rP4MmT+EIAviqcuf4pmmz5A7TG+3i2R1PT5dxpRVu/ime1Nqloz0Oo6IZHLZeR75RsBm59wW51w08BnQOeEKzrlfnXOn5wybD5RKwzySxcXGxzJq8SgqDqvIgDkDuLnGzWx4bAP9WvdTES+STbzcuQYFcoXRe8JyTsbEeR1HRCRNpWUhXxLYnuD5Dv+y87kPmJKGeSQL+3Hzj9QZVYdHfniEaoWrseiBRYy7fhyXRF7idTQRSUf5IsIYeFNtNu45xpBpG72OIyKSpjLExa5mdifQEHjjPK8/aGaLzWxxbGxs+oaTDG3VnlW0H9+eqz6+ilOxp/jq5q+Y0XUGDUs09DqaiHikdZUi3NaoNKNnbWHR1gNexxERSTNpWcjvBBIOh5byLzuLmV0JPA9c65w7ldiOnHOjnXMNnXMNQ0I0Y6bAnmN7eOi7h6j7bl0W7lzIkPZDWNt9LddXu143dBIRnu9YjVL5c/LkhBUcP6UBIBHJmtKykF8EVDKzcmYWBtwKTEq4gpnVA97FV8TvTcMskkWciDnBa7Neo+LwioxZPoYejXqwucdmHr/sccKCw7yOJyIZRO4cIbzZpS7bD0bx6uR1XscREUkTaTa87ZyLNbPHgKlAMDDGObfGzPoBi51zk/C10uQGJvpHUbc5565Nq0ySecW7eD5b/Rl9fu7D9iPbua7qdQy8ciCVC1b2OpqIZFCNyhXg/mbleG/WH7SrXpRWVYp4HUlEJFWl2fSTaUXTT2Y/s7fNpvfU3iz6axH1itVjcPvBtCrbyutYIpIJnIyJ45rhszlyMoafHm9JZESo15FEJBPJztNPiqTIloNb6DKxC80/aM7OozsZ23ksix9crCJeRAIWHhrM4Jvrsv9YNP83abXXcUREUpUKeclwDp08xNM/PU21t6sxedNkXmr5Ehsf20jXul0JMv2XFZHkqVUqkh5tKvHt8r/4YeUur+OIiKQatdZIhhETF8O7S97lpRkvceDEAbrV7cYrbV6hRJ4SXkcTkUwuJi6eG0fOZfuBKKY+0YIiecK9jiQimYBaa0SS4Jzj+43fU2tkLXpM6UHtorVZ+tBSxnQeoyJeRFJFaHAQg2+uw/HoOJ77chWZbRBLRCQxKuTFU8t3L+fKj67kmk+vweGYdOskfrn7F+oWq+t1NBHJYioWycMz7avwy/q9TFy8w+s4IiIppkJePPHX0b+479v7qP9ufZbvXs6wDsNY/chqrqlyjW7oJCJp5t6m5WhcrgD9vl/L9gNRXscREUkR9chLujoefZw3573JwDkDiYmLoWfjnjzf/Hny58zvdTQRySa2H4jiqrdmUaNEXj594DKCgjR4ICKJU4+8CL4bOo1bMY4qI6rw4owXubrS1azrvo5B7QapiBeRdHVJgQhe6FSNBX8c4IO5W72OIyJy0dLszq4ip83YOoMnf3qSpbuW0rBEQz676TOalW7mdSwRycZubngJU9fs4fUf19OycmEqFsntdSQRkWTTiLykmU37N3H959fT+sPW7D2+l/HXj2fB/QtUxIuI58yMATfUImdYME9OWE5sXLzXkUREkk2FvKS6AycO8MSPT1D9ner8vOVnXmn9Chse28Adte/QDZ1EJMMokjecV6+rxYodh3lnxu9exxERSTa11kiqiY6L5p1F79Dvt34cPnWY++rdR7/W/SiWu5jX0UREEtWxdnGmrinBsF820aZqEWqWjPQ6kohIwDRrjaSYc45vN3zL09OeZvOBzbQt35Y3271JraK1vI4mIpKkQ1HRtBsyk8icoXzXoxnhocFeRxKRDEKz1kiWtuSvJbT6sBXXf349oUGhTL59MlPvnKoiXkQyjXwRYQy8qTab9h5j8LSNXscREQmYCnm5KDuO7KDrN11p+F5D1v29jneufoeVj6zkqkpX6YZOIpLptK5ShNsalea9WVtY+McBr+OIiARErTWSLMeij/H6nNcZNHcQcS6OJy57gueaPUdkuPpKRSRzO34qlqvemgXAlF7NyZVDl5GJZHdqrZEsIS4+jjHLxlBpeCVenvky11a5lvXd1zPgygEq4kUkS8iVI4RBXeqw/WAUr05e53UcEZEkabhBkvTLll/o/VNvVu5ZyWWlLuOrm7+iySVNvI4lIpLqGpUrwAPNyzN65hbaVi9K6ypFvI4kInJeGpGX81q/bz3XfHoNV350JYdPHuazGz9j7r1zVcSLSJbWu21lKhfNzbNfrORQVLTXcUQkgzKzcDNbaGYrzGyNmfU95/VhZnYsLTOokJd/2Re1jx6Te1DznZr8tvU3BlwxgPWPreeWmrfoQlYRyfLCQ4MZfHNdDhyP5v++XeN1HBHJuE4BbZxzdYC6QAczuwzAzBoC+dM6gAp5OeNU7CkGzR1ExWEVeWfxOzzY4EE299zMs82eJTwk3Ot4IiLppmbJSHq0qcSkFX/xw8pdXscRkQzI+ZwecQ/1fzgzCwbeAJ5J6wzqkRecc3y57kuemfYMfxz6g6sqXsUbbd+gRpEaXkcTEfHMo60rMH39Hv77zSouLZufInk1oCGSDYWY2eIEz0c750affuIv2pcAFYG3nXMLzKwXMMk5tyutOxk0/WQ2t3DnQnpP7c2c7XOoWaQmb7Z7k3YV2nkdS0QkQ9i89xgdh82iacVC/K9rQ7UXimQzgU4/aWb5gK+BF4HXgFbOuVgzO+acy51W+dRak01tO7yNO766g8bvN2bzgc2M7jSa5Q8tVxEvIpJAxSK5eaZDVaav38uExdu9jiMiGZRz7hDwK9Aa3+j8ZjPbCkSY2ea0Oq5aa7KZI6eOMGD2AIbMHwLA882f59mmz5InRx6Pk4mIZEz3XF6WaWt30++7tVxeoRCXFIjwOpKIZABmVhiIcc4dMrOcQFtgoHOuWIJ1jjnnKqZVBo3IZxOx8bGMXjKaSsMr0X92f26sdiMbHtvAK21eUREvInIBQUHGGzfVwcx4auIK4uMzV0uqiKSZ4sCvZrYSWARMc859n54B1COfDUzdPJUnf3qSNX+voVnpZgxuN5hLS17qdSwRkUxlwqLtPPPlSl7oVJ37mpXzOo6IpINAe+S9ohH5LGzN3jVc9fFVdPi4AydiT/BFly+Y2W2mingRkYvQpWEprqhahIE/rmfz3qNexxERUSGfFe05toeHv3+Y2qNqM2/7PAa1HcTaR9dyY/UbNeOCiMhFMjP631iLXGHB9J6wgpi4eK8jiUg2p0I+CzkZe5IBswdQaXgl3l/6Pt0v7c7mnpt58vInyRGSw+t4IiKZXpE84bxyXS1W7jjMO7/+7nUcEcnmNGtNFuCc4/M1n9Pn5z78efhPrql8Da+3fZ2qhap6HU1EJMvpWLs4U9eUYPj0TbSpWoRapSK9jiQi2ZRG5DO5edvncfmYy7nty9vInzM/v9z9C5Num6QiXkQkDfXrXIOCucPoPWE5J2PivI4jItmUCvlM6o+Df3DLF7dw+ZjL+fPQn4y5dgyLH1hMm3JtvI4mIpLl5YsIY+CNtdm09xiDp230Oo6IZFNqrclkDp88zKuzXuWtBW8RbMG82PJFnrr8KXKHpdndf0VEJBGtqhTh9saleW/WFq6oWoTG5Qt6HUlEshnNI59JnL6h04szXmR/1H7urnM3r7Z5lZJ5S3odTUQk2zp+Kpar3pqFwzGlVwty59D4mEhWonnkJUWcc/yw8Qdqj6xN98ndqVG4BosfXMzY68aqiBcR8ViuHCEM6lKHHQdP8OoP67yOIyLZjAr5DGzlnpW0G9+OTp92IjY+lm9u+YZfu/5K/eL1vY4mIiJ+jcoV4IHm5fl04TZ+3bDX6zgiko2otSYD2nV0Fy/8+gJjlo0hX3g+Xmz5Io9c+ghhwWFeRxMRkUScjInj2hGzORQVw09PtCBfhH5ei2QFaq2RgEXFRPHKzFeoNLwS41aM4/HLHmdzz830uqyXingRkQwsPDSYwTfX5cDxaF74do3XcUQkm9BVORlAvIvnk1Wf8Nwvz7HjyA6ur3o9A68cSKWClbyOJiIiAapZMpKeV1Ri8LSNtK9RlE61S3gdSUSyOI3Ie2zWn7No/H5j7vr6LormKspv3X7jq1u+UhEvIpIJPdqqAnVKRfLfb1az98hJr+OISBanQt4jmw9s5sYJN9JibAt2Hd3FuOvGsfCBhbQo08LraCIicpFCgoN48+a6nIiOo89Xq8hs16GJSOaiQj6dHTxxkN5Te1P97epM3TyVl1u/zMYeG7mrzl0EmU6HiEhmV7FIbp7tUJXp6/cyYfF2r+OISBamHvl0EhMXw8jFI+n7W18OnjjIvfXu5eXWL1M8T3Gvo4mISCrrdnlZpq3dQ7/v1nJ5hUJcUiDC60gikgVpCDiNOef4dv231BxZk14/9qJesXose2gZ71/7vop4EZEsKijIeKNLbcyMpyauID5eLTYikvpUyKehpbuW0mZcG677/DqCLIjvb/ueaXdNo06xOl5HExGRNFYqfwT/16k6C/44wJg5f3gdR0SyIBXyaWDnkZ10+6YbDUc3ZNWeVYy4agQrH15Jx8odMTOv44mISDrp0rAUV1QtwutTN7B571Gv44hIFqM7u6ai49HHeWPuG7wx9w1i42Pp1bgX/2n+H/KF5/M6moiIeGTv0ZO0HzKTSwpE8OUjlxMarDE0kcxCd3bNBuJdPGOXj6XS8Er0/a0vHSt1ZF33dbze9nUV8SIi2VyRPOG8en0tVu44zNu/bvY6johkIZq1JoV+/eNXnvzpSZbtXkajko2Y2GUiTUs39TqWiIhkIFfXKk7nuiUYMX0zV1QtSq1SkV5HEpEsQCPySZk9FP6YefayP2ayYep/6PxZZ9qMa8P+E/v55IZPmHffPBXxkj2d5/uE2UO9SCOSIfW7tiYFc4fRe8JyTsbEeR1HRLKANB2RN7MOwFtAMPC+c27AOa/nAMYBDYD9wC3Oua1pmSm5is3px56TBxN9LU9YHvpf0Z9ejXuRMzRnOicTyUBK1oeJ3aDLWCjXwlfEn34uIgBERoTySbX5/HdRGA1fOcHxU3GUyJeTgfUP0SxiGzR73OuIIhnH7KHMjirNs0vz8dehE/peOY80K+TNLBh4G2gL7AAWmdkk59zaBKvdBxx0zlU0s1uBgcAtaZXpYpyviAfYlLMMRZdOgGUTAYMzM9Kcfux/fvrxWcu4iG3s/NsknA0n2dskdZwk9nMxef/1NQh0m0COc6GvQUq+LlzENl6cs4TLuIhtAjkO/17W7HH47A6ochVsmAItn/Ut3zr7n30l+rkm8nX913oEuF6g+zvPeufOKpWa+w5oPY+Oq9m00s2uXNUZEdqTx2J6Mo8alD6ymOpzhjG76TCaeR1OJAOZHVWa6nN6UjqmJzv1vXJeaTZrjZk1AV5yzrX3P38OwDnXP8E6U/3rzDOzEGA3UNhdIFR6z1pjfc//C87VuBdw4JzvX/jn8ZlPIcHjfy1LbJuk9nPOvpK9TSDH4eKznffYXMQ2FzoOF7FNEscREdLnD4jEjpVWxyXA9VLjuOdu8+/11u46QlhcFGVsN/uIpBCH+cMV4zi5iAgLRkR8oqLjyMVxytlu/iYfOYjhsZiebMvbkDl92qRbjow+a01attaUBLYneL4DaHy+dZxzsWZ2GCgI7Eu4kpk9CDwIEBYWllZ5k++m/3mdQFLbuX8gZZo/vpLzx+I5rye5DYFts2sF/PoaVL0a1k+Gln2geK3z5OLfx0mwKOn1At3fedY7d6wgNfcd0HrpfVwCXC81j0safB4Z4P/OhT7HAPa3NzYOI4JQYikTtJc/44uw2xUEIDgkA/1+E/HY0VPRHCWcHP7vlbdir2defA3s0Amvo2UomWLWGufcaGA0+EbkPY4jWZlaDS7OHzNh5htw68f/7pEv18LrdCIZxvMDplP6yGJGhA7jrdjruTP4Z0bGXpvuo4wiGV3TRL5X5sdXZ1vehl5Hy1DSspDfCVyS4Hkp/7LE1tnhb62JxHfRq4hkJjuXnl20l2vhe75zqQp5kQQG1j9E9TnD6B7Tk3nxNZgfX523Q4extv4wr6OJZCj6XglMWk4/uQioZGblzCwMuBWYdM46k4Cu/sc3AdMv1B/vhaK5iiZruUi21Ozxfxfs5VpoZgGRczSL2MbapsPYlrchBmzL25C1TYf5ZuIQkTP0vRKYNLvYFcDMrgaG4pt+coxz7lUz6wcsds5NMrNw4COgHnAAuNU5t+VC+0zvi11FREREJHvK6Be7pmkhnxZUyIuIiIhIesjohbzu7CoiIiIikkxmFm5mC81shZmtMbO+/uUfm9kGM1ttZmPMLDStMqiQFxERERFJvlNAG+dcHaAu0MHMLgM+BqoCtYCcwP1pFSBTTD8pIiIiIpKR+CdoOeZ/Gur/cM65yafXMbOF+GZuTBMakRcRERERSVyImS1O8PFgwhfNLNjMlgN7gWnOuQUJXgsF7gJ+TLNwabVjEREREZFMLtY5d967UDnn4oC6ZpYP+NrMajrnVvtffgeY6ZyblVbhNCIvIiIiIpICzrlDwK9ABwAzexEoDPROy+OqkBcRERERSSYzK+wficfMcgJtgfVmdj/QHrjNOReflhnUWiMiIiIiknzFgQ/NLBjf4PgE59z3ZhYL/AnMMzOAr5xz/dIigG4IJSIiIiKSiIx+Q6hMV8ibWTxwwqPDhwCxHh1bEqdzkvHonGRMOi8Zj85JxqTzkvF4eU5yOucybCt6pivkvWRmiy905bKkP52TjEfnJGPSecl4dE4yJp2XjEfn5Pwy7F8YIiIiIiJyfirkRUREREQyIRXyyTPa6wDyLzonGY/OScak85Lx6JxkTDovGY/OyXmoR15EREREJBPSiLyIiIiISCakQh4wsw5mtsHMNptZn0ReH2Jmy/0fG83sUILXuprZJv9H13QNnoWl8JzEJXhtUroGz+ICOC+lzexXM1tmZivN7OoErz3n326DmbVP3+RZ18WeEzMra2YnEnyvjEr/9FlXAOeljJn94j8nM8ysVILX9HslDaTwnOj3ShowszFmttfMVp/ndTOzYf5zttLM6id4Td8nAM65bP0BBAO/A+WBMGAFUP0C6/cAxvgfFwC2+P/N73+c3+vPKbN/pOSc+J8f8/pzyIofgZwXfH2Mj/gfVwe2Jni8AsgBlPPvJ9jrzymzf6TwnJQFVnv9OWTFjwDPy0Sgq/9xG+Aj/2P9Xslg58T/XL9X0ua8tADqn+9nEXA1MAUw4DJggX+5vk/8HxqRh0bAZufcFudcNPAZ0PkC698GfOp/3B6Y5pw74Jw7CEwDOqRp2uwhJedE0k4g58UBef2PI4G//I87A58550455/4ANvv3JymTknMiaSeQ81IdmO5//GuC1/V7JW2k5JxIGnHOzQQOXGCVzsA45zMfyGdmxdH3yRkq5KEksD3B8x3+Zf9iZmXwjSae/kYPeFtJlpScE4BwM1tsZvPN7Lo0S5n9BHJeXgLuNLMdwGR875YEuq0kX0rOCUA5f8vNb2bWPE2TZi+BnJcVwA3+x9cDecysYIDbSvKl5JyAfq945XznTd8nfirkk+dW4AvnXJzXQeSMxM5JGee7A9ztwFAzq+BNtGzpNmCsc64UvrdEPzIz/Zzx1vnOyS6gtHOuHtAb+MTM8l5gP5K6ngJamtkyoCWwE9DvFm9d6Jzo94pkSPoF6/tGvSTB81L+ZYm5lbNbOJKzrQQuJecE59xO/79bgBlAvdSPmC0Fcl7uAyYAOOfmAeFAoQC3leS76HPib3Pa71++BF//cOU0T5w9JHlenHN/Oedu8P8h9bx/2aFAtpWLkpJzot8r3jnfedP3iZ8KeVgEVDKzcmYWhq8w/NcV6WZWFd8FFfMSLJ4KtDOz/GaWH2jnXyYpc9HnxH8ucvgfFwKaAmvTJXXWF8h52QZcAWBm1fAVjX/717vVzHKYWTmgErAw3ZJnXRd9TsyssJkF+5eXx3dOtqRb8qwtyfNiZoUSvFv1HDDG/1i/V9LGRZ8T/V7x1CTgbv/sNZcBh51zu9D3yRkhXgfwmnMu1swew/cfIBjf7CdrzKwfsNg5d/ob/VZ8F+u5BNseMLOX8f2AAOjnnLvQRRsSgJScE6Aa8K6ZxeP7Q3WAc04/cFNBgOflSeA9M3sC30WW3fznZ42ZTcD3yy8W6K4WtZRLyTkxsxZAPzOLAeKBh/XzK3UEeF5aAf3NzAEzge7+bfV7JQ2k5Jyg3ytpxsw+xfd1L+S/judFIBTAOTcK33U9V+ObICEKuMf/mr5P/HRnVxERERGRTEitNSIiIiIimZAKeRERERGRTEiFvIiIiIhIJqRCXkREREQkE1IhLyIiIiKSCamQFxG5SGZ2zOPjdzOzEecsu8fMlvs/os1slf/xADN7ycyeSoMcW/3za1907gSvefo1FRHJTLL9PPIiIpmFmQUnNf++c+4D4AP/+luB1s65ff7nLwVwDMM3NXF8igOLiEia0oi8iEgKmFluM/vFzJb6R787J3jtbjNbaWYrzOwj/7KiZva1f9kKM7vcv/wbM1tiZmvM7MEE+zhmZm+a2QqgiX/EfaOZLcR3h8nkqm5mM8xsi5n19B+jrJltMLNxwGrgEjN72swW+fP39a+Xy8x+8OdebWa3JNhvjwRfg6r+9Qv4P6+VZjbfzGon8vUrZ2bz/Nu9chGfj4hItqUReRGRlDkJXO+cO+JvL5lvZpOA6sB/gcudc/vMrIB//WHAb865680sGMjtX36v/26FOYFFZvalc24/kAtY4Jx70syKA58ADYDDwK/AsmTmrQq0BvIAG8xspH95JaCrc26+mbXzP28EGDDJfyfYwsBfzrmOAGYWmWC/+5xz9c3sUeAp4H6gL7DMOXedmbUBxgF1z8nzFjDSOTfOzLojIiIB04i8iEjKGPCama0EfgZKAkWBNsDE020tCW4f3gYY6V8W55w77F/e0z/qPh+4BF8hDRAHfOl/3BiY4Zz72zkXDXx+EXl/cM6d8ufa688K8Kdzbr7/cTv/xzJgKb7ivxKwCmhrZgPNrHmC7ABf+f9dApT1P24GfOT/XKcDBc0s7zl5mgKf+h9/dBGfj4hItqUReRGRlLkD30h1A+dcjL8vPTw5OzCzVsCVQBPnXJSZzUiwj5NJ9cUn06kEj+P45/fA8YSRgP7OuXcTyVofuBp4xcx+cc71O2e/CfcZKJfM9UVEBI3Ii4ikVCSw11/EtwbK+JdPB7qYWUHw9Yv7l/8CPOJfFuxvT4kEDvqL+KrAZec51gKgpZkVNLNQoEvafEpMBe41s9z+nCXNrIiZlQCinHPjgTeA+knsZxa+P3RO/7Gyzzl35Jx15gC3+h/fkTrxRUSyB43Ii4hcBDMLwTcK/THwnZmtAhYD6wGcc2vM7FXgNzOLw9em0g3oBYw2s/vwjV4/AvwIPGxm64AN+Npr/sU5t8s/88w84BCwPC0+N+fcT2ZWDZjnm8SGY8CdQEXgDTOLB2L82S/kJWCMv+0oCuiayDq9gE/M7Fng29T5DEREsgdzTu9oiogkl5nVAd5zzjXyOouIiGRPaq0REUkmM3sY3wWa//U6i4iIZF8akRcRERERyYQ0Ii8iIiIikgmpkBcRERERyYRUyIuIiIiIZEIq5EVEREREMiEV8iIiIiIimZAKeRERERGRTOj/AeSGL5JhoYK6AAAAAElFTkSuQmCC\n",
       "datasetInfos": [],
       "metadata": {},
       "removedWidgets": [],
       "type": "image"
      }
     },
     "output_type": "display_data"
    },
    {
     "output_type": "display_data",
     "data": {
      "image/png": "[encoded data removed]"
     },
     "metadata": {
      "application/vnd.databricks.v1+output": {
       "addedWidgets": {},
       "arguments": {},
       "data": "data:image/png;base64,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\n",
       "datasetInfos": [],
       "metadata": {},
       "removedWidgets": [],
       "type": "image"
      }
     },
     "output_type": "display_data"
    },
    {
     "output_type": "display_data",
     "data": {
      "image/png": "[encoded data removed]"
     },
     "metadata": {
      "application/vnd.databricks.v1+output": {
       "addedWidgets": {},
       "arguments": {},
       "data": "data:image/png;base64,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\n",
       "datasetInfos": [],
       "metadata": {},
       "removedWidgets": [],
       "type": "image"
      }
     },
     "output_type": "display_data"
    }
   ],
   "source": [
    "import matplotlib.pyplot as plt\n",
    "\n",
    "for dataset in datasets:\n",
    "    precisions = [results[(dataset, t)][0] for t in thresholds]\n",
    "    recalls = [results[(dataset, t)][1] for t in thresholds]\n",
    "    exec_times = [results[(dataset, t)][2] for t in thresholds]\n",
    "\n",
    "    # Extract dataset name for title\n",
    "    dataset_name = dataset.split('/')[-1].split('.')[0]  # Adjust this based on your actual path format\n",
    "\n",
    "    plt.figure(figsize=(12, 6))\n",
    "\n",
    "    # Plot Precision and Recall\n",
    "    plt.plot(thresholds, precisions, label='Precision', marker='o')\n",
    "    plt.plot(thresholds, recalls, label='Recall', marker='x')\n",
    "\n",
    "    plt.xlabel('Jaccard Threshold')\n",
    "    plt.ylabel('Precision/Recall')\n",
    "    plt.title(f'Results for {dataset_name}')\n",
    "    plt.legend(loc='upper left')\n",
    "\n",
    "    # Plot Execution Time on a secondary axis\n",
    "    ax2 = plt.gca().twinx()\n",
    "    ax2.plot(thresholds, exec_times, label='Execution Time (s)', color='green', marker='s')\n",
    "    ax2.set_ylabel('Execution Time (seconds)')\n",
    "    ax2.legend(loc='upper right')\n",
    "\n",
    "    plt.show()"
   ]
  },
  {
   "cell_type": "markdown",
   "metadata": {
    "application/vnd.databricks.v1+cell": {
     "cellMetadata": {
      "byteLimit": 2048000,
      "rowLimit": 10000
     },
     "inputWidgets": {},
     "nuid": "d2384076-dccd-481a-9983-66498df267c4",
     "showTitle": false,
     "title": ""
    }
   },
   "source": [
    "### DEBUGGING PIPELINE"
   ]
  },
  {
   "cell_type": "code",
   "execution_count": 0,
   "metadata": {
    "application/vnd.databricks.v1+cell": {
     "cellMetadata": {
      "byteLimit": 2048000,
      "rowLimit": 10000
     },
     "inputWidgets": {},
     "nuid": "80db5f12-d52a-422f-b543-ef5f07525afe",
     "showTitle": false,
     "title": ""
    }
   },
   "outputs": [
    {
     "output_type": "stream",
     "name": "stdout",
     "output_type": "stream",
     "text": [
      "Sample of tokenized records: \n\n('0', ['dty', 'yld', 'ldt', 'tyn', 'bom', 'tyl', 'jer', 'abo', 'raa', 'aav', 'yne', 'gol', 'lde', '675', '576', 'rab', '767', '752', 'old', 'eid', 'cho', '551', 'rei', 'omb', '257', '115', 'nic', 'mbe', '955', '520', '790', '703', 'las', '113', 'ola', 'hol', '511', '130', '907', '036', 'ich', '204', 'enu', '025', 'nue', '211', 'err', 'ven', 'den', '070', 'ave', 'rra', 'ber', '195', '191', 'nsw'])\n('1', ['mey', 'eye', 'rsp', 'roy', 'yer', '646', '681', '364', 'spl', '815', '468', '521', '821', 'aro', '982', 'por', 'orr', '270', '705', '150', '506', '130', '313', '215', '052', '036', 'gar', 'kin', 'nga', '210', '102', 'rra', '020', 'lle', 'ers', '198', 'ing', 'ell', 'pla', 'ace', 'lac'])\n"
     ]
    }
   ],
   "source": [
    "#PRE-PROCESSING\n",
    "preprocessing_pipeline = PreprocessingPipeline(\"/FileStore/shared_uploads/datasets/50Kprofiles.json\")\n",
    "sorted_tokens_rdd, tokenized_rdd = preprocessing_pipeline.run()\n",
    "\n",
    "print(\"Sample of tokenized records: \\n\")\n",
    "for record in sorted_tokens_rdd.take(2):\n",
    "    print(record)\n",
    "\n",
    "\n",
    "#PREFIX-FILTERING\n",
    "prefix_filtering_pipeline = PrefixFilteringPipeline(sorted_tokens_rdd, t=36)\n",
    "distinct_pairs_rdd = prefix_filtering_pipeline.run()\n",
    "\n",
    "# Testing\n",
    "print(f\"\\nCandidate Pairs after Prefix Filter: {distinct_pairs_rdd.count()}\",\"\\n\")\n",
    "sample_candidate_pairs = distinct_pairs_rdd.take(3)\n",
    "print(\"A sample of candidate pairs:\",\"\\n\")\n",
    "for pair in sample_candidate_pairs:\n",
    "    print(pair)\n",
    "\n",
    "\n",
    "\n",
    "#LENGHT-FILTERING\n",
    "length_filtering_pipeline = LengthFilteringPipeline(tokenized_rdd, distinct_pairs_rdd, threshold=0.70)\n",
    "final_pairs_rdd = length_filtering_pipeline.run()\n",
    "\n",
    "# Testing\n",
    "print(f\"\\nCandidate Pairs after Length Filter: {final_pairs_rdd.count()}\",\"\\n\")\n",
    "sample_final_pairs = final_pairs_rdd.take(3)\n",
    "print(\"A sample of candidate pairs:\",\"\\n\")\n",
    "for pair in sample_final_pairs:\n",
    "    print(pair)\n",
    "\n",
    "\n",
    "\n",
    "#POSITIONAL-FILTERING\n",
    "def positional_filtering(tokenized_rdd, final_pairs_rdd, similarity_threshold, max_positional_difference):\n",
    "    # Token Positioning\n",
    "    positioned_rdd = tokenized_rdd.mapValues(position_tokens)\n",
    "    positioned_rdd = positioned_rdd.cache()\n",
    "    \n",
    "    # Join the candidate pairs with the positioned RDD based on tokens\n",
    "    first_join = final_pairs_rdd.join(positioned_rdd)\n",
    "    \n",
    "    # Reformat the RID and token, then join again\n",
    "    second_join = first_join.map(lambda kv: (kv[1][0], (kv[0], kv[1][1]))).join(positioned_rdd)\n",
    "    \n",
    "    # Filter out the pairs of records that don't satisfy the positional constraint\n",
    "    filtered_positional_rdd = second_join.filter(\n",
    "        lambda pair: positional_filter_optimized(pair, similarity_threshold, max_positional_difference))\n",
    "    \n",
    "    # Extract Candidate Pairs and sort them\n",
    "    candidate_pairs_final_rdd = filtered_positional_rdd.map(lambda x: (x[1][0][0], x[0])).map(lambda x: tuple(sorted(x)))\n",
    "\n",
    "    candidate_pairs_final_rdd = candidate_pairs_final_rdd.cache()\n",
    "    return candidate_pairs_final_rdd\n",
    "\n",
    "\n",
    "similarity_threshold = 10  # The number of min. common tokens required for a pair to be considered similar\n",
    "max_positional_difference = 10  # The maximum allowed positional difference between tokens\n",
    "candidate_pairs_final_rdd = positional_filtering(tokenized_rdd, final_pairs_rdd, similarity_threshold, max_positional_difference)\n",
    "\n",
    "# Testing\n",
    "print(f\"\\nCandidate pairs after positional filtering: {candidate_pairs_final_rdd.count()}\",\"\\n\")\n",
    "\n",
    "\n",
    "# JACCARD SIMILARITY\n",
    "jaccard_threshold = 0.7\n",
    "filtered_jaccard_rdd = jaccard_similarity_filtering(candidate_pairs_final_rdd, tokenized_rdd, jaccard_threshold)\n",
    "\n",
    "# Testing\n",
    "print(f\"Sample of pairs with Jaccard sim >= {jaccard_threshold}:\", filtered_jaccard_rdd.take(5),\"\\n\")\n",
    "print(f\"Number of pairs with Jaccard sim >= {jaccard_threshold}:\", filtered_jaccard_rdd.count(),\"\\n\")\n",
    "\n",
    "\n",
    "# Load Ground Truth\n",
    "ground_truth_path = \"/FileStore/shared_uploads/datasets/50KIdDuplicates.json\"\n",
    "ground_truth_rdd = load_ground_truth(ground_truth_path)\n",
    "\n",
    "print(\"\\nSample of pairs from Ground Truth dataset: \")\n",
    "for pairs in ground_truth_rdd.take(3):\n",
    "    print(pairs)"
   ]
  }
 ],
 "metadata": {
  "application/vnd.databricks.v1+notebook": {
   "dashboards": [],
   "language": "python",
   "notebookMetadata": {
    "pythonIndentUnit": 4
   },
   "notebookName": "Set Similarity Join with Spark_Q-3_pipeline",
   "widgets": {}
  }
 },
 "nbformat": 4,
 "nbformat_minor": 0
}
