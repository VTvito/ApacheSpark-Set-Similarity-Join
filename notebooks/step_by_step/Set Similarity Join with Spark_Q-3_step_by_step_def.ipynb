{
 "cells": [
  {
   "cell_type": "markdown",
   "metadata": {
    "application/vnd.databricks.v1+cell": {
     "cellMetadata": {
      "byteLimit": 2048000,
      "rowLimit": 10000
     },
     "inputWidgets": {},
     "nuid": "ea57f802-4cf3-42cb-8a08-ab1dc6704370",
     "showTitle": false,
     "title": ""
    }
   },
   "source": [
    "# INITIALIZATION "
   ]
  },
  {
   "cell_type": "code",
   "execution_count": 0,
   "metadata": {
    "application/vnd.databricks.v1+cell": {
     "cellMetadata": {
      "byteLimit": 2048000,
      "rowLimit": 10000
     },
     "inputWidgets": {},
     "nuid": "91a5f4a7-44cb-49a3-a46a-ea23250c575b",
     "showTitle": false,
     "title": ""
    }
   },
   "outputs": [],
   "source": [
    "from pyspark import SparkContext\n",
    "import json\n",
    "import time\n",
    "\n",
    "# Path to the JSON file (in DBFS)\n",
    "json_file_path = \"/FileStore/shared_uploads/datasets/100Kprofiles.json\"\n",
    "\n",
    "# path of ground_truth\n",
    "ground_truth_path = \"/FileStore/shared_uploads/datasets/100KIdDuplicates.json\" "
   ]
  },
  {
   "cell_type": "markdown",
   "metadata": {
    "application/vnd.databricks.v1+cell": {
     "cellMetadata": {
      "byteLimit": 2048000,
      "rowLimit": 10000
     },
     "inputWidgets": {},
     "nuid": "4ea795dd-d233-405b-ac5e-e5e60cda4421",
     "showTitle": false,
     "title": ""
    }
   },
   "source": [
    "#LOAD THE JSON FILE"
   ]
  },
  {
   "cell_type": "markdown",
   "metadata": {
    "application/vnd.databricks.v1+cell": {
     "cellMetadata": {
      "byteLimit": 2048000,
      "rowLimit": 10000
     },
     "inputWidgets": {},
     "nuid": "7667752f-bcb8-4560-94f1-265e9f3698e4",
     "showTitle": false,
     "title": ""
    }
   },
   "source": [
    "The code json_rdd = sc.textFile(json_file_path) reads the contents of the file as plain text (located at the json_file_path) and creates an RDD where each element corresponds to a line in the text file. This is often the first step in processing data with Spark, as it allows you to work with large datasets that are distributed across a cluster.\n",
    "\n",
    "SO IT'S ALREADY PARALLELIZE! \n",
    "reads the data in parallel from multiple workers in the cluster and distributes it across the RDD.\n",
    "sc.parallelize() it's used when we read from a list\n"
   ]
  },
  {
   "cell_type": "code",
   "execution_count": 0,
   "metadata": {
    "application/vnd.databricks.v1+cell": {
     "cellMetadata": {
      "byteLimit": 2048000,
      "rowLimit": 10000
     },
     "inputWidgets": {},
     "nuid": "4c2e5e76-bc9b-4a40-b2e0-78e200a3c17e",
     "showTitle": false,
     "title": ""
    }
   },
   "outputs": [
    {
     "output_type": "stream",
     "name": "stdout",
     "output_type": "stream",
     "text": [
      "{\"date_of_birth\":\"19190809\",\"address_1\":\"pudney street\",\"address_2\":\"arlington\",\"postcode\":\"3764\",\"soc_sec_id\":\"3423802\",\"given_name\":\"luke\",\"realProfileID\":\"0\",\"surname\":\"chandler\",\"street_number\":\"376\",\"suburb\":\"hemmant\",\"phone_number\":\"02 24496575\",\"state\":\"qld\",\"age\":\"35\"} \n\n{\"realProfileID\":\"1\",\"date_of_birth\":\"19300528\",\"surname\":\"hawes\",\"address_2\":\"northern tablelands tennis academy\",\"postcode\":\"2168\",\"soc_sec_id\":\"2180735\",\"street_number\":\"8\",\"suburb\":\"keilor east\",\"phone_number\":\"04 87308830\",\"state\":\"qld\",\"given_name\":\"millane\",\"age\":\"36\"} \n\n{\"realProfileID\":\"2\",\"surname\":\"novadk\",\"address_1\":\"rfreet rankin\",\"date_of_birth\":\"19300112\",\"soc_sec_id\":\"4272019\",\"street_number\":\"1\",\"postcode\":\"3218\",\"suburb\":\"beulah park\",\"phone_number\":\"03 39054375\",\"state\":\"qld\",\"given_name\":\"jatmike\",\"age\":\"26\"} \n\n{\"address_1\":\"davenport street\",\"date_of_birth\":\"19950727\",\"address_2\":\"vinery\",\"postcode\":\"3030\",\"soc_sec_id\":\"5381275\",\"given_name\":\"madeleine\",\"realProfileID\":\"3\",\"surname\":\"redmond\",\"street_number\":\"12\",\"suburb\":\"kangaroo flat\",\"phone_number\":\"07 69720733\",\"state\":\"qld\",\"age\":\"33\"} \n\n{\"date_of_birth\":\"19631123\",\"address_1\":\"corona place\",\"address_2\":\"glen elgin\",\"soc_sec_id\":\"2894006\",\"postcode\":\"4030\",\"given_name\":\"kayden\",\"realProfileID\":\"4\",\"surname\":\"zimmermann\",\"street_number\":\"7\",\"suburb\":\"greenacres\",\"phone_number\":\"03 48393238\",\"state\":\"nsw\",\"age\":\"31\"} \n\n"
     ]
    }
   ],
   "source": [
    "# starting measuring time for data preprocessing\n",
    "starting_preprocessing = time.time()\n",
    "\n",
    "\n",
    "def read_json_file(json_file_path):\n",
    "    # Start a Spark Context\n",
    "    sc = SparkContext.getOrCreate()\n",
    "\n",
    "    # Read the JSON file as plain text\n",
    "    json_rdd = sc.textFile(json_file_path)\n",
    "\n",
    "    return json_rdd\n",
    "\n",
    "# Call the function to read the JSON file\n",
    "json_rdd = read_json_file(json_file_path)\n",
    "\n",
    "# Print the first 5 lines to check\n",
    "for record in json_rdd.take(5):\n",
    "    print(f\"{record} \\n\")"
   ]
  },
  {
   "cell_type": "markdown",
   "metadata": {
    "application/vnd.databricks.v1+cell": {
     "cellMetadata": {
      "byteLimit": 2048000,
      "rowLimit": 10000
     },
     "inputWidgets": {},
     "nuid": "96f843ef-8d3c-47b7-a896-2a59a0c7de9a",
     "showTitle": false,
     "title": ""
    }
   },
   "source": [
    "#TOKENIZATION PHASE"
   ]
  },
  {
   "cell_type": "markdown",
   "metadata": {
    "application/vnd.databricks.v1+cell": {
     "cellMetadata": {
      "byteLimit": 2048000,
      "rowLimit": 10000
     },
     "inputWidgets": {},
     "nuid": "34694429-eadd-4fc3-aea9-acc9da1e64e2",
     "showTitle": false,
     "title": ""
    }
   },
   "source": [
    "This approach is effective for creating a rich representation of text data, capturing local patterns within strings. The use of trigrams is particularly useful for fuzzy matching, as it allows for the detection of similarities even in the presence of minor differences or typographical errors.\n",
    "\n",
    "For example, a name like \"Smith\" would be broken down into trigrams like ['smi', 'mit', 'ith']. This set of trigrams can then be compared to other sets to find similarities, even with slightly misspelled versions of the name.\n",
    "\n",
    "The tokens in an RDD for each record are tuple of (recordID, [token1, token2, ...])"
   ]
  },
  {
   "cell_type": "code",
   "execution_count": 0,
   "metadata": {
    "application/vnd.databricks.v1+cell": {
     "cellMetadata": {
      "byteLimit": 2048000,
      "rowLimit": 10000
     },
     "inputWidgets": {},
     "nuid": "c708a467-7bb8-43ad-ae55-f9e58c401e33",
     "showTitle": false,
     "title": ""
    }
   },
   "outputs": [
    {
     "output_type": "stream",
     "name": "stdout",
     "output_type": "stream",
     "text": [
      "['0', {'190', 'ton', '376', 'cha', '080', 'ngt', 'ney', '919', 'qld', '575', 'rli', 'han', 'ant', 'eet', 'yst', '496', 'lin', '965', 'udn', 'uke', '908', 'and', 'luk', '342', 'dne', '238', '224', 'hem', 'pud', 'dle', 'emm', 'ree', '380', 'ndl', 'tre', 'man', 'arl', 'ing', 'eys', '764', 'ler', '244', 'mma', '022', '809', '449', '657', '423', '802', '191', 'gto', 'str'}]\n numero di token: 52\n['1', {'216', 'nis', 'ill', 'ane', 'ort', 'ore', '883', '300', '088', 'the', 'abl', 'ade', 'isa', '735', 'rnt', 'qld', 'rea', '073', 'ast', 'kei', 'eil', '005', '930', '730', 'ten', '048', 'dem', 'lan', 'cad', '308', '180', '052', 'aca', '830', 'and', 'wes', 'rth', 'sac', 'her', 'ela', 'nor', 'tab', 'mil', '193', 'ste', '168', 'ilo', 'emy', 'nta', 'ern', 'nds', 'ble', '218', '528', 'awe', 'dst', 'lor', '487', 'lla', 'nni', 'eas', '873', 'enn', 'lel', 'haw', '807'}]\n numero di token: 66\n['2', {'011', 'adk', 'fre', 'etr', '201', '437', '300', 'tmi', 'nki', 'kin', 'qld', '543', 'par', 'mik', 'atm', '930', 'vad', 'eet', '720', 'hpa', 'ahp', 'rfr', '272', 'ark', 'eul', '339', 'tra', 'jat', '427', 'ree', 'ran', 'ank', '193', 'ova', '112', '033', 'beu', '321', 'nov', '054', '218', '375', '001', '905', '390', '019', 'lah', 'ike', 'ula'}]\n numero di token: 49\n['3', {'127', 'mad', '733', 'nga', 'ort', '072', '538', '207', 'edm', '381', '972', 'ang', 'lei', 'ade', 'qld', 'por', '073', '769', 'ein', 'fla', 'eet', 'mon', '720', '076', '995', 'tst', '507', 'ofl', 'vin', 'ond', 'del', 'lat', 'dmo', '030', 'dav', 'ree', '303', '275', 'tre', 'kan', 'gar', 'roo', 'rts', '727', '812', 'aro', '950', 'red', 'enp', 'ner', 'ine', 'npo', 'ery', 'ele', 'oof', 'ven', 'ave', 'str', '199', '697'}]\n numero di token: 60\n['4', {'348', '289', 'ena', 'gin', 'nac', 'ayd', 'nsw', 'apl', '034', 'res', '400', '311', 'cor', 'nap', 'lgi', '483', '006', 'nel', 'ron', '631', 'ace', '196', 'gre', '932', 'zim', '839', 'pla', '123', '030', '238', '403', '393', 'den', 'rma', 'ree', 'len', '112', '894', 'gle', 'ann', 'mme', 'man', '323', 'cre', 'erm', 'acr', 'imm', 'ene', 'lac', 'yde', 'mer', 'oro', '963', 'elg', 'kay', 'ona', '940', 'een'}]\n numero di token: 58\n\nAverage length of tokens: 49.08987\n"
     ]
    }
   ],
   "source": [
    "def generate_trigrams(text):\n",
    "    \"\"\"\n",
    "    Generates trigrams (3-grams) for a given text, treating each word separately.\n",
    "\n",
    "    Parameters:\n",
    "    - text: A string from which trigrams will be generated.\n",
    "    \n",
    "    Returns:\n",
    "    - A set of trigrams for the text.\n",
    "    \"\"\"\n",
    "    text = text.lower().replace(\" \", \"\")  # Remove white spaces from the text\n",
    "\n",
    "    # Generate trigrams\n",
    "    trigrams = set(text[i:i+3] for i in range(len(text) - 2))\n",
    "       \n",
    "    return trigrams\n",
    "\n",
    "\n",
    "def tokenize_line_with_trigrams(line):\n",
    "    try:\n",
    "        # Convert the JSON string to a dictionary\n",
    "        record = json.loads(line)\n",
    "        record_id = record[\"realProfileID\"]\n",
    "\n",
    "        # Tokenization using trigrams..  extracting the rpID and generate trigrams from other\n",
    "        tokens = set()\n",
    "        for key, value in record.items():\n",
    "            if key != \"realProfileID\" and value:\n",
    "                tokens.update(generate_trigrams(str(value)))  # Convert value to string to handle non-text fields\n",
    "\n",
    "        return (record_id, tokens)\n",
    "    except json.JSONDecodeError:\n",
    "        return None\n",
    "\n",
    "# Applying the tokenization with trigrams to RDD\n",
    "tokenized_rdd = json_rdd.map(tokenize_line_with_trigrams).filter(lambda x: x is not None)\n",
    "\n",
    "# Cache the results\n",
    "tokenized_rdd = tokenized_rdd.cache()\n",
    "\n",
    "# Print the first 5 sets of tokens to check\n",
    "for i, record in tokenized_rdd.take(5):\n",
    "    print([i,record])\n",
    "    print(f\" numero di token: {len(record)}\")\n",
    "\n",
    "\n",
    "# Map the RDD to lengths\n",
    "lengths_rdd = tokenized_rdd.map(lambda x: len(x[1]))\n",
    "\n",
    "# Calculate the average length of the tokens in the records\n",
    "total_length = lengths_rdd.reduce(lambda a, b: a + b)\n",
    "average_length = total_length / lengths_rdd.count()\n",
    "\n",
    "print(f\"\\nAverage length of tokens: {average_length}\")"
   ]
  },
  {
   "cell_type": "markdown",
   "metadata": {
    "application/vnd.databricks.v1+cell": {
     "cellMetadata": {
      "byteLimit": 2048000,
      "rowLimit": 10000
     },
     "inputWidgets": {},
     "nuid": "172e919f-151d-4de7-894a-15116ef367ba",
     "showTitle": false,
     "title": ""
    }
   },
   "source": [
    "#COMPUTE THE FREQUENCY"
   ]
  },
  {
   "cell_type": "markdown",
   "metadata": {
    "application/vnd.databricks.v1+cell": {
     "cellMetadata": {
      "byteLimit": 2048000,
      "rowLimit": 10000
     },
     "inputWidgets": {},
     "nuid": "78766e3b-8393-49c0-bf6d-de5a1eef063f",
     "showTitle": false,
     "title": ""
    }
   },
   "source": [
    "Remember that if token_freq... is an RDD, you'll need to first use the .collect() method to bring the data to the driver node before doing the above operations. If it's a dictionary resulting from countByValue(), you can directly use the above snippets."
   ]
  },
  {
   "cell_type": "code",
   "execution_count": 0,
   "metadata": {
    "application/vnd.databricks.v1+cell": {
     "cellMetadata": {
      "byteLimit": 2048000,
      "rowLimit": 10000
     },
     "inputWidgets": {},
     "nuid": "d2c63337-dfc7-4d25-a7e7-2bce03f09e32",
     "showTitle": false,
     "title": ""
    }
   },
   "outputs": [
    {
     "output_type": "stream",
     "name": "stdout",
     "output_type": "stream",
     "text": [
      "COMMON TOKENS: \n\nToken: ree, Frequency: 41931\nToken: eet, Frequency: 39275\nToken: tre, Frequency: 38109\nToken: str, Frequency: 35167\nToken: nsw, Frequency: 27126\nToken: vic, Frequency: 20457\nToken: ent, Frequency: 20069\nToken: lac, Frequency: 18548\nToken: cen, Frequency: 17807\nToken: ace, Frequency: 17499\n\nUNCOMMON TOKENS: \n\nToken: 17l, Frequency: 1\nToken: 7l3, Frequency: 1\nToken: sfg, Frequency: 1\nToken: kgw, Frequency: 1\nToken: mwg, Frequency: 1\nToken: vqx, Frequency: 1\nToken: jwm, Frequency: 1\nToken: hpq, Frequency: 1\nToken: 2u2, Frequency: 1\nToken: 12u, Frequency: 1\n"
     ]
    }
   ],
   "source": [
    "def analyze_token_frequency(rdd, top_k=10):\n",
    "    \"\"\"\n",
    "    Analyze and display the most common and uncommon tokens in an RDD of tokenized records.\n",
    "    \n",
    "    Parameters:\n",
    "    - rdd: Input RDD where each record is of the form (recordID, [token1, token2, ...])\n",
    "    - top_k: Number of top tokens to display for common and uncommon tokens.\n",
    "    \n",
    "    Returns:\n",
    "    - A variable containing the token frequency dictionary.\n",
    "    \"\"\"\n",
    "    \n",
    "    # Compute the frequency of each token across all sets\n",
    "    token_freq_dict = rdd.flatMap(lambda x: x[1]).countByValue()\n",
    "    \n",
    "    # Sort the tokens \n",
    "    sorted_tokens_common = sorted(token_freq_dict.items(), key=lambda x: x[1], reverse=True)\n",
    "    sorted_tokens_uncommon = sorted(token_freq_dict.items(), key=lambda x: x[1])\n",
    "    \n",
    "    # Display the most common tokens\n",
    "    print(\"COMMON TOKENS: \\n\")\n",
    "    for token, freq in sorted_tokens_common[:top_k]:\n",
    "        print(f\"Token: {token}, Frequency: {freq}\")\n",
    "    \n",
    "    # Display the most uncommon tokens\n",
    "    print(\"\\nUNCOMMON TOKENS: \\n\")\n",
    "    for token, freq in sorted_tokens_uncommon[:top_k]:\n",
    "        print(f\"Token: {token}, Frequency: {freq}\")\n",
    "    \n",
    "\n",
    "    return token_freq_dict\n",
    "\n",
    "token_freq_dict = analyze_token_frequency(tokenized_rdd)\n",
    "\n",
    "# Broadcast the dictionary of the frequency to workers\n",
    "token_freq_broadcast = sc.broadcast(token_freq_dict)"
   ]
  },
  {
   "cell_type": "markdown",
   "metadata": {
    "application/vnd.databricks.v1+cell": {
     "cellMetadata": {
      "byteLimit": 2048000,
      "rowLimit": 10000
     },
     "inputWidgets": {},
     "nuid": "a54e5a0d-3861-48a6-95ad-5645b6107f5d",
     "showTitle": false,
     "title": ""
    }
   },
   "source": [
    "#SORT TOKENS IN EACH RECORDS BY FREQUENCY\n",
    "\n",
    "Now we have the (token, frequency) in each worker and the (RID, {tokens}) RDD\n",
    "\n",
    "The sort_tokens_by_frequency function aims to reorder the tokens in each record of an RDD based on their global frequency,\n",
    "which was previously computed and broadcasted. \n",
    "\n",
    "\n",
    "Tokens are sorted based on their frequency in ascending order, meaning the rarest tokens (lowest frequency) appear first, followed by more common tokens. \n",
    "This is indicated by sorted(tokens, key=lambda token: broadcast_freq.value.get(token, 0))... good before to apply the Prefix filter"
   ]
  },
  {
   "cell_type": "markdown",
   "metadata": {
    "application/vnd.databricks.v1+cell": {
     "cellMetadata": {
      "byteLimit": 2048000,
      "rowLimit": 10000
     },
     "inputWidgets": {},
     "nuid": "abe30eba-9500-43ed-9afd-283b811840f2",
     "showTitle": false,
     "title": ""
    }
   },
   "source": [
    "\n",
    "For each record in (RID, {tokens}) RDD:\n",
    "\n",
    "-Fetch its tokens.\n",
    "\n",
    "-Sort these tokens using the broadcasted frequencies.\n",
    "\n",
    "-Return the sorted tokens along with the original RID.\n",
    "\n",
    "IT'S DONE LOCALLY ON EACH WORKERS"
   ]
  },
  {
   "cell_type": "code",
   "execution_count": 0,
   "metadata": {
    "application/vnd.databricks.v1+cell": {
     "cellMetadata": {
      "byteLimit": 2048000,
      "rowLimit": 10000
     },
     "inputWidgets": {},
     "nuid": "279b609a-9e0d-4647-8780-d9668587b923",
     "showTitle": false,
     "title": ""
    }
   },
   "outputs": [
    {
     "output_type": "stream",
     "name": "stdout",
     "output_type": "stream",
     "text": [
      "('0', ['pud', 'udn', 'dne', 'hem', 'uke', 'luk', 'mma', 'ndl', 'emm', '657', '575', '449', '496', '764', '376', 'rli', 'ney', '238', '342', '423', 'eys', 'dle', '965', '224', '244', '919', 'gto', 'ngt', '809', '802', '380', 'ler', '908', 'ant', 'yst', 'arl', 'han', '080', 'lin', 'cha', '022', 'man', 'and', '191', '190', 'ing', 'ton', 'qld', 'str', 'tre', 'eet', 'ree'])\n('1', ['rnt', 'emy', 'tab', 'sac', 'abl', 'dem', 'aca', 'awe', 'kei', 'cad', 'lel', 'ilo', 'eil', 'nis', 'rea', 'ten', 'nta', '883', 'nni', '735', '873', 'haw', 'ble', '528', '168', 'lor', 'ela', 'nds', 'ade', '180', 'isa', 'dst', '218', '487', 'ern', 'enn', '005', 'wes', '807', '830', 'ane', '730', '300', 'mil', 'eas', '930', '308', '216', '048', '088', '052', 'ore', '073', 'ste', 'her', 'nor', 'the', 'rth', 'ast', 'ort', 'lan', 'and', 'lla', '193', 'ill', 'qld'])\n\nTime of preprocessing execution: 10.539979219436646\n"
     ]
    }
   ],
   "source": [
    "def sort_tokens_by_frequency(rdd, broadcast_freq):\n",
    "    \"\"\"\n",
    "    Sort the tokens in each record by their global frequency.\n",
    "    \n",
    "    Parameters:\n",
    "    - rdd: Input RDD where each record is of the form (recordID, [token1, token2, ...])\n",
    "    - broadcast_freq: A Spark broadcast variable containing the global frequency of tokens.\n",
    "    \n",
    "    Returns:\n",
    "    - An RDD with each record having tokens sorted by their frequency.\n",
    "    \"\"\"\n",
    "    def sort_tokens_by_freq(record):\n",
    "        # unpack the record\n",
    "        record_id, tokens = record \n",
    "        # Use the broadcast variable for sorting from rare to common\n",
    "        sorted_tokens = sorted(tokens, key=lambda token: broadcast_freq.value.get(token, 0))  # if no frequencies are founded = 0\n",
    "        # Return the RID with the Sorted Tokens\n",
    "        return (record_id, sorted_tokens)\n",
    "\n",
    "    # Apply the function MAP on each RDD record\n",
    "    sorted_rdd = rdd.map(sort_tokens_by_freq)\n",
    "    return sorted_rdd\n",
    "\n",
    "sorted_tokens_rdd = sort_tokens_by_frequency(tokenized_rdd, token_freq_broadcast)\n",
    "\n",
    "# Print a sample of ordered records\n",
    "for record in sorted_tokens_rdd.take(2):\n",
    "    print(record)\n",
    "\n",
    "# stopping measuring the time for data preprocessing\n",
    "time_of_preprocessing = time.time() - starting_preprocessing\n",
    "print(f\"\\nTime of preprocessing execution: {time_of_preprocessing}\")"
   ]
  },
  {
   "cell_type": "markdown",
   "metadata": {
    "application/vnd.databricks.v1+cell": {
     "cellMetadata": {
      "byteLimit": 2048000,
      "rowLimit": 10000
     },
     "inputWidgets": {},
     "nuid": "f6ac2e1c-e3d0-4c6f-afd2-fdd884b5d182",
     "showTitle": false,
     "title": ""
    }
   },
   "source": [
    "#PREFIX FILTERING"
   ]
  },
  {
   "cell_type": "markdown",
   "metadata": {
    "application/vnd.databricks.v1+cell": {
     "cellMetadata": {
      "byteLimit": 2048000,
      "rowLimit": 10000
     },
     "inputWidgets": {},
     "nuid": "095f87d0-c6b0-4e65-a27a-ba21cb019427",
     "showTitle": false,
     "title": ""
    }
   },
   "source": [
    "\n",
    "\n",
    "The primary goal of the prefix filter is to significantly reduce the number of candidate pairs that the more computationally intensive subsequent filters (like positional filtering) have to deal with.\n",
    "The chosen threshold should balance computational efficiency with the risk of missing similar pairs.\n",
    "\n",
    "Given two documents, they can reach requested overlap similarity if they shares at least one token in theirfirst 𝑑𝑜𝑐𝐿𝑒𝑛−t+1 tokens"
   ]
  },
  {
   "cell_type": "markdown",
   "metadata": {
    "application/vnd.databricks.v1+cell": {
     "cellMetadata": {
      "byteLimit": 2048000,
      "rowLimit": 10000
     },
     "inputWidgets": {},
     "nuid": "d84128a1-0244-4aac-bf34-73b6145e4ca2",
     "showTitle": false,
     "title": ""
    }
   },
   "source": [
    "Generate Key-Value Pairs for Prefix Tokens:\n",
    " \n",
    "For each record, we will emit key-value pairs for every token in its prefix (doclen - t + 1), where the key is the token and the value is the record's RID. Generate pairs of the form (token, record_id)\n",
    "\n",
    "The function generate pairs (tokens[i], record_id) for each token in the prefix.\n",
    "\n",
    "For this record:(1, ['apple', 'banana', 'cherry']) and prefix length 2, the Mapper will emit:\n",
    "('apple', 1)\n",
    "('banana', 1)\n",
    "\n",
    "Calculating Prefix Length: The length of the prefix for each record is calculated based on the total number of tokens n and the threshold t. \n",
    "The formula prefix_length = n - t + 1 determines how many tokens to consider for generating pairs."
   ]
  },
  {
   "cell_type": "markdown",
   "metadata": {
    "application/vnd.databricks.v1+cell": {
     "cellMetadata": {
      "byteLimit": 2048000,
      "rowLimit": 10000
     },
     "inputWidgets": {},
     "nuid": "1a8b2e20-0893-439d-afad-616c444f3225",
     "showTitle": false,
     "title": ""
    }
   },
   "source": [
    "prefix_lengh = docLen|A| - t + 1 (in our datasets the lenght of A_records it's about 50 tokens)\n",
    "\n",
    "If you're getting too many candidate pairs (which might result in longer computation times in subsequent filtering stages), you can adjust the threshold to be stricter (decrease the prefix length). If you're filtering out too much and potentially missing similar pairs, increase the prefix length."
   ]
  },
  {
   "cell_type": "markdown",
   "metadata": {
    "application/vnd.databricks.v1+cell": {
     "cellMetadata": {
      "byteLimit": 2048000,
      "rowLimit": 10000
     },
     "inputWidgets": {},
     "nuid": "0ea74983-e0a6-4c90-9966-6b039b4ef2e1",
     "showTitle": false,
     "title": ""
    }
   },
   "source": [
    "Higher t: Select this for stricter similarity requirements, generating fewer more likely candidate pairs -> increase precision (fewer false positives) but decrease recall (missed true positives).\n",
    "\n",
    "Lower t: Use this for broader similarity requirements, generating more candidate pairs, including those with less overlap ->  increase recall but decrease precision.\n",
    "\n"
   ]
  },
  {
   "cell_type": "markdown",
   "metadata": {
    "application/vnd.databricks.v1+cell": {
     "cellMetadata": {
      "byteLimit": 2048000,
      "rowLimit": 10000
     },
     "inputWidgets": {},
     "nuid": "b4d13779-4ead-4ca7-82eb-087f37dc7c5d",
     "showTitle": false,
     "title": ""
    }
   },
   "source": [
    "The generate_prefix_pairs_from_rdd function now dynamically calculates the prefix length for each record using the formula\n",
    "\n",
    "prefix_length = n - int(threshold_prefix * n) + 1, \n",
    "\n",
    "Prefix Length=Tokens_of_record − ⌈threshold × Tokens_of_record⌉ + 1\n",
    "\n",
    "This allow to adjusting the prefix length based on the size of the token sets and the desired similarity threshold, this ensures that the number of tokens considered for each record is proportional to its size and the desired similarity level that allows to fine-tune the filtering process based on the characteristics of dataset and the desired level of similarity."
   ]
  },
  {
   "cell_type": "code",
   "execution_count": 0,
   "metadata": {
    "application/vnd.databricks.v1+cell": {
     "cellMetadata": {
      "byteLimit": 2048000,
      "rowLimit": 10000
     },
     "inputWidgets": {},
     "nuid": "51dde98c-32ea-48f9-96ac-6d982cd5fd25",
     "showTitle": false,
     "title": ""
    }
   },
   "outputs": [
    {
     "output_type": "stream",
     "name": "stdout",
     "output_type": "stream",
     "text": [
      "('pud', '0')\n('udn', '0')\n('dne', '0')\n('hem', '0')\n('uke', '0')\n('luk', '0')\n('mma', '0')\n('ndl', '0')\n('emm', '0')\n('657', '0')\n('575', '0')\n('449', '0')\n('rnt', '1')\n('emy', '1')\n('tab', '1')\n('sac', '1')\n('abl', '1')\n('dem', '1')\n('aca', '1')\n('awe', '1')\n"
     ]
    }
   ],
   "source": [
    "# starting measure of prefix filter execution time\n",
    "starting_prefix_filtering = time.time()\n",
    "\n",
    "# Define the similarity threshold\n",
    "threshold_prefix = 0.8  \n",
    "\n",
    "# Updated MAPPER to dynamically calculate prefix length\n",
    "def generate_prefix_pairs_from_rdd(rdd, threshold_prefix):\n",
    "    \"\"\"\n",
    "    Generates prefix pairs for each record in the RDD dynamically based on threshold.\n",
    "    \n",
    "    Parameters:\n",
    "    - rdd: Input RDD where each record is of the form (recordID, [token1, token2, ...])\n",
    "    - jaccard_threshold: The Jaccard similarity threshold.\n",
    "    \n",
    "    Returns:\n",
    "    - An RDD with prefix pairs.\n",
    "    \"\"\"\n",
    "    def generate_prefix_pairs(record):\n",
    "        record_id, tokens = record\n",
    "        # contains the number of tokens of each record\n",
    "        n = len(tokens)\n",
    "        # Dynamic calculation of prefix length\n",
    "        prefix_length = n - int(threshold_prefix * n) + 1 #prefix_lengh = docLen|A| - t + 1 \n",
    "        \n",
    "        if prefix_length <= 0:\n",
    "            return []\n",
    "        \n",
    "        for i in range(prefix_length):\n",
    "            yield (tokens[i], record_id)\n",
    "\n",
    "    prefix_rdd = rdd.flatMap(generate_prefix_pairs)\n",
    "    return prefix_rdd\n",
    "\n",
    "prefix_rdd = generate_prefix_pairs_from_rdd(sorted_tokens_rdd, threshold_prefix)\n",
    "\n",
    "# For debugging or verification:\n",
    "for pair in prefix_rdd.take(20):\n",
    "    print(pair)"
   ]
  },
  {
   "cell_type": "markdown",
   "metadata": {
    "application/vnd.databricks.v1+cell": {
     "cellMetadata": {
      "byteLimit": 2048000,
      "rowLimit": 10000
     },
     "inputWidgets": {},
     "nuid": "7fe48088-b342-47cc-91de-f06611f7d15a",
     "showTitle": false,
     "title": ""
    }
   },
   "source": [
    "\n",
    "Shuffle: before the reducer starts, there's a shuffle phase. All emitted key-value pairs are shuffled across the network so that all pairs with the same key (in this case with the same token) are grouped together and end up on the same machine.\n",
    "\n",
    "This requires moving data across different nodes in the cluster, which can be network-intensive, especially for large datasets.\n",
    "\n",
    "\n",
    "Grouping(reducing): the reducer groups these key-value pairs by their keys. This means all the RIDs that have the same token in their prefix are collected together.\n",
    "\n",
    "After the shuffle, for each unique token, you get an iterable of record IDs (rids) that contain this token. This operation effectively groups all record IDs by common tokens.\n",
    "\n",
    "\n",
    "After Shuffle:\n",
    "('apple', 1)\n",
    "('apple', 3)\n",
    "('banana', 1)\n",
    "('banana', 2)\n",
    "('cherry', 2)\n",
    "\n",
    "After Grouping:\n",
    "('apple', [1, 3])\n",
    "('banana', [1, 2])\n",
    "('cherry', [2])\n"
   ]
  },
  {
   "cell_type": "code",
   "execution_count": 0,
   "metadata": {
    "application/vnd.databricks.v1+cell": {
     "cellMetadata": {
      "byteLimit": 2048000,
      "rowLimit": 10000
     },
     "inputWidgets": {},
     "nuid": "a90c206f-814e-45c2-bd42-951ddb0fac8d",
     "showTitle": false,
     "title": ""
    }
   },
   "outputs": [
    {
     "output_type": "stream",
     "name": "stdout",
     "output_type": "stream",
     "text": [
      "Token: udn RIDs:  ['0', '7624', '7735', '8026', '9171', '11091', '15394', '17116', '18078', '21413', '22890', '23314', '25055', '33918', '36351', '37994', '38001', '43931', '45144', '46751', '49421', '52590', '52982', '62550', '63746', '74606', '76267', '81961', '83778', '86442', '87984', '89667', '90012', '90431', '92289', '95228', '95448']\nToken: hem RIDs:  ['0', '33', '597', '800', '1029', '1103', '1302', '1365', '2156', '2471', '4499', '5116', '5689', '5932', '5949', '6005', '6071', '6203', '6703', '6946', '7625', '7722', '8281', '9083', '9356', '9519', '10149', '10171', '10377', '10559', '10883', '11470', '11982', '11989', '12433', '12546', '12560', '12630', '12667', '13188', '13311', '13611', '13616', '14041', '14075', '14255', '14748', '15093', '17035', '17278', '17592', '18627', '19233', '19486', '19895', '19920', '20081', '20321', '20380', '20436', '21336', '21465', '21495', '21556', '22557', '23019', '23483', '23623', '24071', '24168', '24376', '24985', '25602', '25861', '26128', '26415', '26454', '26475', '27661', '27982', '28074', '28886', '28917', '28994', '29173', '29468', '29479', '29628', '29839', '29852', '29889', '29989', '30274', '30704', '30869', '30880', '30930', '31039', '31178', '31492', '31790', '32736', '32780', '32872', '33505', '33779', '34031', '34203', '34533', '34552', '34960', '34961', '35161', '36589', '37052', '37093', '37794', '38062', '38290', '38587', '38679', '38811', '38887', '38916', '39270', '39700', '40131', '40162', '40956', '40986', '41176', '41303', '41641', '42170', '43656', '43702', '43822', '43837', '44232', '44447', '44891', '44958', '45119', '45189', '45471', '45840', '45975', '46029', '46150', '46362', '47075', '47419', '47734', '47767', '47830', '47937', '48138', '49083', '49767', '50174', '50524', '51163', '51926', '51955', '53130', '53573', '53750', '54002', '54143', '54380', '54398', '54580', '54685', '55157', '55216', '55605', '55896', '56196', '57072', '57136', '57233', '57728', '58096', '58923', '58996', '59041', '59309', '59370', '59440', '59636', '59958', '60075', '60460', '60803', '61274', '62268', '62300', '62374', '62689', '62797', '62888', '63905', '64191', '64242', '64260', '64742', '65344', '65662', '66830', '67182', '67334', '67712', '67820', '67932', '68121', '68679', '69115', '69484', '69980', '70085', '70175', '70220', '70397', '70457', '70708', '70795', '70853', '70916', '71855', '71872', '71919', '72135', '72451', '72467', '72477', '72772', '73590', '73737', '73802', '73937', '74051', '74490', '74556', '74852', '75255', '75294', '75759', '76796', '76798', '76990', '77326', '77622', '77861', '77936', '77979', '78001', '78146', '78345', '79187', '79429', '79588', '79705', '79814', '80310', '80509', '81107', '81122', '81840', '81858', '82076', '82096', '82172', '82641', '82829', '82987', '83554', '83806', '83934', '83990', '84922', '84929', '85046', '85195', '85532', '85801', '86097', '86297', '86371', '86548', '86816', '87403', '87682', '87752', '88010', '88483', '89009', '89306', '89580', '89610', '90030', '90180', '90317', '91037', '91556', '92419', '92455', '92493', '93011', '93111', '93206', '93381', '93391', '93937', '94277', '94709', '94994', '95329', '95482', '95507', '95682', '95738', '95750', '96297', '96749', '97148', '97226', '97293', '97651', '97755', '98183', '98413', '98584', '98760', '98861']\n"
     ]
    }
   ],
   "source": [
    "#SHUFFLING AND REDUCING\n",
    "grouped_rdd = prefix_rdd.groupByKey()\n",
    "\n",
    "# print a sample of 1 tokens and the corresponding list of record IDs (rids) from grouped_rdd.\n",
    "for token, rids in grouped_rdd.take(2):\n",
    "    print(\"Token:\",token,\"RIDs: \", list(rids))"
   ]
  },
  {
   "cell_type": "markdown",
   "metadata": {
    "application/vnd.databricks.v1+cell": {
     "cellMetadata": {
      "byteLimit": 2048000,
      "rowLimit": 10000
     },
     "inputWidgets": {},
     "nuid": "af1296b5-d10c-4c92-99da-97f03154e23d",
     "showTitle": false,
     "title": ""
    }
   },
   "source": [
    "Essentially, it's an inverted index"
   ]
  },
  {
   "cell_type": "markdown",
   "metadata": {
    "application/vnd.databricks.v1+cell": {
     "cellMetadata": {
      "byteLimit": 2048000,
      "rowLimit": 10000
     },
     "inputWidgets": {},
     "nuid": "e9227ce3-99ac-4f29-a131-da8723205265",
     "showTitle": false,
     "title": ""
    }
   },
   "source": [
    "##GENERATING CANDIDATE PAIRS"
   ]
  },
  {
   "cell_type": "markdown",
   "metadata": {
    "application/vnd.databricks.v1+cell": {
     "cellMetadata": {
      "byteLimit": 2048000,
      "rowLimit": 10000
     },
     "inputWidgets": {},
     "nuid": "c7933a01-ca47-49f4-84e9-adf6d098e002",
     "showTitle": false,
     "title": ""
    }
   },
   "source": [
    "For each token, take the list of RIDs and form candidate pairs. This essentially means for a list of RIDs [a, b, c], you will form pairs [(a, b), (a, c), (b, c)].\n",
    "\n",
    "The idea behind this step is that if two records share a token in their prefix, they might be similar. Hence, they are considered as candidate pairs and will be subjected to subsequent filters to restrict down true similarities.\n",
    "\n",
    "The function generate_candidate_pairs: \n",
    "\n",
    "Generate all 2-combinations of the list of RIDs. For each token returns all possible pairs of RIDs that have this token in their prefix.\n",
    "\n",
    "input (kv) is a key-value pair, where the key is a token and the value (kv[1]) is a list of RIDs associated with that token.\n",
    "\n",
    "flatMap \"flattens\" the results, producing an RDD of the individual elements instead an RDD of list"
   ]
  },
  {
   "cell_type": "code",
   "execution_count": 0,
   "metadata": {
    "application/vnd.databricks.v1+cell": {
     "cellMetadata": {
      "byteLimit": 2048000,
      "rowLimit": 10000
     },
     "inputWidgets": {},
     "nuid": "0a12bbab-0dff-42e8-977f-7418406a8555",
     "showTitle": false,
     "title": ""
    }
   },
   "outputs": [
    {
     "output_type": "stream",
     "name": "stdout",
     "output_type": "stream",
     "text": [
      "Candidate Pairs after Prefix Filter: 173805553 \n\n['0', '7624']\n['0', '7735']\n['0', '8026']\n['0', '9171']\n['0', '11091']\n['0', '15394']\n['0', '17116']\n['0', '18078']\n['0', '21413']\n['0', '22890']\n\nTime of execution of prefix filtering 19.592532634735107\n"
     ]
    }
   ],
   "source": [
    "from itertools import combinations\n",
    "\n",
    "def generate_candidate_pairs(grouped_rdd):\n",
    "    \"\"\"\n",
    "    Generates candidate pairs of RIDs that share a common token in their prefix.\n",
    "\n",
    "    Parameters:\n",
    "    - grouped_rdd: Input RDD where each record is a key-value pair. The key is a token and the value is a list of RIDs associated with that token.\n",
    "\n",
    "    Returns:\n",
    "    - An RDD of candidate pairs, where each element is a tuple representing a pair of RIDs that share at least one common token in their prefix.\n",
    "    \"\"\"\n",
    "    candidate_pairs_after_prefix_rdd = grouped_rdd.flatMap(lambda kv: combinations(kv[1], 2))\n",
    "\n",
    "    return candidate_pairs_after_prefix_rdd\n",
    "\n",
    "\n",
    "candidate_pairs_after_prefix_rdd = generate_candidate_pairs(grouped_rdd)\n",
    "\n",
    "candidate_pairs_after_prefix_rdd_count = candidate_pairs_after_prefix_rdd.count()\n",
    "\n",
    "print(\"Candidate Pairs after Prefix Filter:\", candidate_pairs_after_prefix_rdd_count, \"\\n\")\n",
    "\n",
    "\n",
    "# For debugging:\n",
    "sample_candidate_pairs = candidate_pairs_after_prefix_rdd.take(10)\n",
    "for pair in sample_candidate_pairs:\n",
    "    print(list(pair))\n",
    "\n",
    "#This will give you pairs of RIDs that share a common token in their prefix.\n",
    "\n",
    "# stopping measure of lenght filter execution time\n",
    "time_of_prefix_filtering = time.time() - starting_prefix_filtering\n",
    "print(f\"\\nTime of execution of prefix filtering {time_of_prefix_filtering}\")"
   ]
  },
  {
   "cell_type": "markdown",
   "metadata": {
    "application/vnd.databricks.v1+cell": {
     "cellMetadata": {
      "byteLimit": 2048000,
      "rowLimit": 10000
     },
     "inputWidgets": {},
     "nuid": "6f67662c-adba-4b09-bce6-17539a7d8a3a",
     "showTitle": false,
     "title": ""
    }
   },
   "source": [
    "#LENGHT FILTER:"
   ]
  },
  {
   "cell_type": "markdown",
   "metadata": {
    "application/vnd.databricks.v1+cell": {
     "cellMetadata": {
      "byteLimit": 2048000,
      "rowLimit": 10000
     },
     "inputWidgets": {},
     "nuid": "1eb320ee-49b3-43d0-a889-ec4225b01f09",
     "showTitle": false,
     "title": ""
    }
   },
   "source": [
    "###Create an RDD of records with RID and length of the token set\n",
    "we'll create an RDD of records that includes both the RID and the length of the token set:\n",
    "\n",
    "\n",
    "The lambda function \"lambda kv\": (kv[0], len(kv[1])) takes each key-value pair kv (where kv[0] is the RID and kv[1] is the token set) and transforms it into a new pair (RID, number_of_tokens)\n",
    "\n",
    "The result is a new RDD, record_lengths_rdd, where each element is a tuple consisting of a record ID and the corresponding number of tokens in that record.\n",
    "\n",
    "\n",
    "Purpose of Length Information: The length of the token set for each record is useful in many scenarios, especially when we need to compute similarity measures or apply filters based on token counts. For instance, in similarity join tasks, we might want to compare only those records that have a similar number of tokens.\n",
    "\n",
    "Other Steps: typically, this length information might be used in subsequent steps to apply length-based filters, such as discarding pairs of records where the difference in the number of tokens exceeds a certain threshold. This can significantly reduce the number of comparisons in similarity join algorithms."
   ]
  },
  {
   "cell_type": "code",
   "execution_count": 0,
   "metadata": {
    "application/vnd.databricks.v1+cell": {
     "cellMetadata": {
      "byteLimit": 2048000,
      "rowLimit": 10000
     },
     "inputWidgets": {},
     "nuid": "c21a2bc0-baf6-49a6-81ec-73ec997f4b38",
     "showTitle": false,
     "title": ""
    }
   },
   "outputs": [
    {
     "output_type": "stream",
     "name": "stdout",
     "output_type": "stream",
     "text": [
      "('0', 52)\n('1', 66)\n('2', 49)\n('3', 60)\n('4', 58)\n"
     ]
    }
   ],
   "source": [
    "# starting measure of lenght filter execution time\n",
    "starting_lenght_filtering = time.time()\n",
    "\n",
    "# compute the lenght of the token set for each record - len(kv[1]) -> number of tokens in the set\n",
    "record_lengths_rdd = tokenized_rdd.map(lambda kv: (kv[0], len(kv[1])))\n",
    "\n",
    "#MAPPER\n",
    "for record in record_lengths_rdd.take(5):\n",
    "    print(record)"
   ]
  },
  {
   "cell_type": "markdown",
   "metadata": {
    "application/vnd.databricks.v1+cell": {
     "cellMetadata": {
      "byteLimit": 2048000,
      "rowLimit": 10000
     },
     "inputWidgets": {},
     "nuid": "0a59ac61-98dc-46a2-8984-64bb5ea2b3d8",
     "showTitle": false,
     "title": ""
    }
   },
   "source": [
    "###Join the RDD with candidate pairs to get lengths for both RIDs:\n",
    "\n",
    "In this step, we're joining the candidate pairs with their corresponding token lengths. This is an important step in filtering candidate pairs based on their token lengths.\n",
    "\n",
    "We start with candidate_pairs_after_prefix_rdd, which is a result from the previous step containing potential similar pairs (RID1, RID2). This line is joining this RDD with the record_lengths_rdd to associate the length of the token set with each RID. The join operation combines records with the same key (RID) from both RDDs.\n",
    "The result, pair_lengths_rdd, will have elements in the form: {RID1, (RID2, length_of_RID1)}.\n",
    "\n",
    "After the join, we restructure the RDD to facilitate another join to get lengths for both RIDs in the pair, by swapping the keys and values. \n",
    "\n",
    "The key becomes RID2, and the value becomes a tuple (RID1, length_of_RID1).\n",
    "\n",
    "After this mapping, we join the refactored RDD with record_lengths_rdd again.\n",
    "\n",
    "The resulting RDD, pair_lengths_rdd_refactored, will have elements in the form: {RID2, ((RID1, length_of_RID1), length_of_RID2)}.\n",
    "\n",
    "Why do we do this?\n",
    "\n",
    "By knowing the lengths of the token sets for each pair of RIDs, we can apply lenght filter (only consider pairs where the length difference is within a certain threshold) to reduce the number of pairs to those most likely to be similar."
   ]
  },
  {
   "cell_type": "code",
   "execution_count": 0,
   "metadata": {
    "application/vnd.databricks.v1+cell": {
     "cellMetadata": {
      "byteLimit": 2048000,
      "rowLimit": 10000
     },
     "inputWidgets": {},
     "nuid": "9f787992-4cfb-46e9-8fda-c05c7fc18570",
     "showTitle": false,
     "title": ""
    }
   },
   "outputs": [],
   "source": [
    "# join on RID\n",
    "\n",
    "# MAPPER \n",
    "# REDUCER (join): brings together pairs from RDDs that have the same key. Combines records with the same key (RID) from both RDDs.\n",
    "pair_lengths_rdd = candidate_pairs_after_prefix_rdd.join(record_lengths_rdd) # \n",
    "print(\"pair_lengths_rdd: {RID1, (RID2, lenght_of_RID1)} \", pair_lengths_rdd.take(1))\n",
    "\n",
    "pair_lenghts_rdd_refactored = pair_lengths_rdd.map(lambda kv: (kv[1][0],(kv[0], kv[1][1]))).join(record_lengths_rdd)\n",
    "\n",
    "print(\"pair_lengths_rdd: {RID2, (RID1, lenght_of_RID1), lenght_of_RID2} \", pair_lenghts_rdd_refactored.take(1))"
   ]
  },
  {
   "cell_type": "markdown",
   "metadata": {
    "application/vnd.databricks.v1+cell": {
     "cellMetadata": {
      "byteLimit": 2048000,
      "rowLimit": 10000
     },
     "inputWidgets": {},
     "nuid": "282dd28e-5dbf-4c08-8038-a23e6cc75606",
     "showTitle": false,
     "title": ""
    }
   },
   "source": [
    "###Use formula to filter pairs based on length criteria:\n",
    "\n",
    "This is the core step of the length filter: if the lengths of the two sets in a pair are too different, they can't possibly have a high similarity. By filtering these out, we're reducing the number of pairs we need to check in the next steps... filters out pairs that are unlikely to be similar based on the length of their token sets and a specified similarity threshold.\n",
    "\n",
    "\n",
    "Now, we'll use the derived formula to filter pairs based on the length criteria: by applying the formula derived from the Jaccard similarity principle, we filter out pairs where the lengths of their sets are too different to possibly meet the threshold.\n",
    "\n",
    "For the length filter, we're interested in the numerator: \n",
    "∣A∩B∣, the size of the intersection. The goal is to find a lower bound for this intersection given a certain threshold t.\n",
    "To achieve the similarity t, the intersection ∣A∩B∣ should be: ∣A∩B∣≥t×min(∣A∣,∣B∣)\n",
    "This gives the minimum required intersection size for a given similarity threshold t.\n",
    "\n",
    "Threshold Selection: the choice of the similarity threshold is important: a high threshold might lead to missing some similar pairs, while a low threshold could include more FP.\n",
    "\n",
    "Performance Impact: the filter operation is generally efficient as it processes each record independently and doesn't involve shuffling data, but the efficiency also depends on how many records pass the filter."
   ]
  },
  {
   "cell_type": "markdown",
   "metadata": {
    "application/vnd.databricks.v1+cell": {
     "cellMetadata": {
      "byteLimit": 2048000,
      "rowLimit": 10000
     },
     "inputWidgets": {},
     "nuid": "8d5d0abe-f730-409f-b4e1-e7de71f4636c",
     "showTitle": false,
     "title": ""
    }
   },
   "source": [
    "Example:\n",
    "    \n",
    "Pair: ('7078', (('4481', 63), 57))\n",
    "Lengths: RID1 (4481) = 63, RID2 (7078) = 57\n",
    "\n",
    "Applying the Length Filter:\n",
    "\n",
    "Min Length = min(63, 57) = 57\n",
    "\n",
    "Max Length = max(63, 57) = 63\n",
    "\n",
    "Max Possible Overlap = Min Length = 57\n",
    "\n",
    "Min Required Overlap = Threshold × Min Length = 0.7 × 57 ≈ 40\n",
    "\n",
    "Check for Filtering:\n",
    "\n",
    "Calculation: (Min Length - Max Length + Max Possible Overlap) = (57 - 63 + 57) = 51\n",
    "Since 51 is greater than the Min Required Overlap (40), this pair passes the filter."
   ]
  },
  {
   "cell_type": "markdown",
   "metadata": {
    "application/vnd.databricks.v1+cell": {
     "cellMetadata": {
      "byteLimit": 2048000,
      "rowLimit": 10000
     },
     "inputWidgets": {},
     "nuid": "426e9b53-0be3-4235-a958-474f4ed2f4f9",
     "showTitle": false,
     "title": ""
    }
   },
   "source": [
    "THRESHOLD CONSIDERATION:\n",
    "\n",
    "Strict Matching: If the goal is to identify records that are very similar or nearly duplicates, a higher threshold (e.g., 0.8-0.9) ensures only very similar records are considered.\n",
    "\n",
    "Broad Matching: For exploratory analysis or when broader similarities are relevant, a lower threshold (e.g., 0.5-0.7) might be more suitable.\n",
    "\n",
    "A higher threshold generally results in fewer comparisons and better performance but might miss some relevant matches.\n",
    "\n",
    "A lower threshold increases the computational load but might capture more potential similarities."
   ]
  },
  {
   "cell_type": "markdown",
   "metadata": {
    "application/vnd.databricks.v1+cell": {
     "cellMetadata": {
      "byteLimit": 2048000,
      "rowLimit": 10000
     },
     "inputWidgets": {},
     "nuid": "20668374-a195-4c9c-b2c0-621fef8aa1f9",
     "showTitle": false,
     "title": ""
    }
   },
   "source": [
    "### METHOD-1 [Bayardo et al, WWW 07 ] - not very effective in our case"
   ]
  },
  {
   "cell_type": "markdown",
   "metadata": {
    "application/vnd.databricks.v1+cell": {
     "cellMetadata": {
      "byteLimit": 2048000,
      "rowLimit": 10000
     },
     "inputWidgets": {},
     "nuid": "960a1950-c1e8-42b0-9c72-a005995305b8",
     "showTitle": false,
     "title": ""
    }
   },
   "source": [
    "def filter_pairs_by_length(pair_rdd, alpha):\n",
    "    \"\"\"\n",
    "    Filters the RDD pairs based on the given length criteria derived from the overlapping threshold alpha.\n",
    "\n",
    "    Parameters:\n",
    "    - pair_rdd: RDD in the format {(RID1, RID2), (length_of_RID1, length_of_RID2)}.\n",
    "    - alpha: The minimum number of overlapping tokens required for a pair to be considered similar.\n",
    "\n",
    "    Returns:\n",
    "    - An RDD with pairs filtered by the given criteria.\n",
    "    \"\"\"\n",
    "\n",
    "    def length_filter(value):\n",
    "        length1, length2 = value[1]\n",
    "        # The pair is pruned if the smaller document's length is less than alpha\n",
    "        return min(length1, length2) >= alpha\n",
    "\n",
    "    return pair_rdd.filter(lambda kv: length_filter(kv))\n",
    "\n",
    "# Assuming `pair_lengths_rdd` is an RDD with pairs and their lengths\n",
    "alpha = 10\n",
    "filtered_pairs_after_lenght_rdd = filter_pairs_by_length(pair_lengths_rdd, alpha)\n",
    "\n",
    "# Collecting a small sample for demonstration purposes\n",
    "for record in filtered_pairs_after_lenght_rdd.take(10):\n",
    "    print(record)\n"
   ]
  },
  {
   "cell_type": "markdown",
   "metadata": {
    "application/vnd.databricks.v1+cell": {
     "cellMetadata": {
      "byteLimit": 2048000,
      "rowLimit": 10000
     },
     "inputWidgets": {},
     "nuid": "58de6f40-9520-4a21-8df9-8bdff92cf9db",
     "showTitle": false,
     "title": ""
    }
   },
   "source": [
    "### ALTERNATIVE METHOD WITH JACCARD-LIKE'S THRESHOLD "
   ]
  },
  {
   "cell_type": "code",
   "execution_count": 0,
   "metadata": {
    "application/vnd.databricks.v1+cell": {
     "cellMetadata": {
      "byteLimit": 2048000,
      "rowLimit": 10000
     },
     "inputWidgets": {},
     "nuid": "7e6ad39b-bf47-40cb-8002-5e707e569a55",
     "showTitle": false,
     "title": ""
    }
   },
   "outputs": [
    {
     "output_type": "stream",
     "name": "stdout",
     "output_type": "stream",
     "text": [
      "('41903', (('16412', 54), 53))\n('41903', (('13977', 50), 53))\n('41903', (('12651', 57), 53))\n('41903', (('28943', 54), 53))\n('41903', (('21944', 51), 53))\n('41903', (('21944', 51), 53))\n('41903', (('2797', 59), 53))\n('41903', (('19933', 66), 53))\n('41903', (('26659', 49), 53))\n('41903', (('26659', 49), 53))\n"
     ]
    },
    {
     "output_type": "display_data",
     "data": {
      "text/html": [
       "<style scoped>\n",
       "  .ansiout {\n",
       "    display: block;\n",
       "    unicode-bidi: embed;\n",
       "    white-space: pre-wrap;\n",
       "    word-wrap: break-word;\n",
       "    word-break: break-all;\n",
       "    font-family: \"Menlo\", \"Monaco\", \"Consolas\", \"Ubuntu Mono\", \"Source Code Pro\", monospace;\n",
       "    font-size: 13px;\n",
       "    color: #555;\n",
       "    margin-left: 4px;\n",
       "    line-height: 19px;\n",
       "  }\n",
       "</style>"
      ]
     },
     "metadata": {
      "application/vnd.databricks.v1+output": {
       "arguments": {},
       "data": "",
       "errorSummary": "",
       "errorTraceType": null,
       "metadata": {},
       "type": "ipynbError"
      }
     },
     "output_type": "display_data"
    }
   ],
   "source": [
    "# MAPPER\n",
    "\n",
    "# parametrisations lenght_filter\n",
    "threshold_lenght = 0.70\n",
    "\n",
    "def filter_pairs_by_length(pair_lengths_rdd_refactored, threshold_lenght):\n",
    "    \"\"\"\n",
    "    Filters the RDD pairs based on the given length criteria derived from the similarity threshold.\n",
    "\n",
    "    Parameters:\n",
    "    - pair_lengths_rdd_refactored: RDD in the format {RID2, (RID1, length_of_RID1, length_of_RID2)}.\n",
    "    - threshold: Desired similarity threshold.\n",
    "\n",
    "    Returns:\n",
    "    - An RDD with pairs filtered by the given criteria.\n",
    "    \"\"\"\n",
    "\n",
    "    def length_filter(value):\n",
    "        # take the tuple that contains the lenghts of the 2RIDs\n",
    "        rid1_length = value[0][1]\n",
    "        rid2_length = value[1]\n",
    "        min_length = min(rid1_length, rid2_length)\n",
    "        max_length = max(rid1_length, rid2_length)\n",
    "\n",
    "        # Calculate the maximum possible overlap\n",
    "        max_overlap = min_length\n",
    "\n",
    "        # Derive the minimum required overlap - the min. number of tokens that must overlap for the pair to be considered similar.\n",
    "        min_required_overlap = threshold_lenght * min_length\n",
    "\n",
    "        # Check the minimum required overlap against the maximum possible overlap\n",
    "        return (min_length - max_length + max_overlap) >= min_required_overlap\n",
    "\n",
    "    return pair_lengths_rdd_refactored.filter(lambda kv: length_filter(kv[1]))\n",
    "\n",
    "\n",
    "filtered_pairs_after_lenght_rdd = filter_pairs_by_length(pair_lenghts_rdd_refactored, threshold_lenght)\n",
    "\n",
    "# debugging:\n",
    "for record in filtered_pairs_after_lenght_rdd.take(10):\n",
    "    print(record)"
   ]
  },
  {
   "cell_type": "markdown",
   "metadata": {
    "application/vnd.databricks.v1+cell": {
     "cellMetadata": {
      "byteLimit": 2048000,
      "rowLimit": 10000
     },
     "inputWidgets": {},
     "nuid": "e871ff10-7605-4aee-962a-268df6ef3124",
     "showTitle": false,
     "title": ""
    }
   },
   "source": [
    "###Keep only the RIDs:\n",
    "\n",
    "Finally, keep only the RIDs, discarding the lengths:\n",
    "\n",
    "Now that we've filtered the pairs based on length, we want to keep just the RIDs for further processing. This line maps over the filtered_pairs_after_lenght_rdd and extracts just the RIDs, discarding the lengths. \n",
    "FOR SIMPLIFY DATA STRUCTURE\n",
    "\n",
    "After the length filter, we will have an RDD structure somewhat like:\n",
    "\n",
    "{RID2, ((RID1, length_of_RID1), length_of_RID2)}\n",
    "Now, you just need the RID pairs (RID1, RID2), so we can map the structure to get only the pairs of RIDs.\n",
    "\n",
    "This should get an RDD of the form: (RID1, RID2)"
   ]
  },
  {
   "cell_type": "code",
   "execution_count": 0,
   "metadata": {
    "application/vnd.databricks.v1+cell": {
     "cellMetadata": {
      "byteLimit": 2048000,
      "rowLimit": 10000
     },
     "inputWidgets": {},
     "nuid": "a663d14d-e460-44e9-aff2-c1e0b15b3cb1",
     "showTitle": false,
     "title": ""
    }
   },
   "outputs": [
    {
     "output_type": "stream",
     "name": "stdout",
     "output_type": "stream",
     "text": [
      "('16412', '41903')\n('13977', '41903')\n('12651', '41903')\n('28943', '41903')\n('21944', '41903')\n\n Candidate Pairs after Length Filter: 131303333 \n\n Candidate Pairs filtered out by Lenght Filter: 15738605 \n\nTime of execution of lenght filtering 2447.7112233638763\n"
     ]
    },
    {
     "output_type": "display_data",
     "data": {
      "text/html": [
       "<style scoped>\n",
       "  .ansiout {\n",
       "    display: block;\n",
       "    unicode-bidi: embed;\n",
       "    white-space: pre-wrap;\n",
       "    word-wrap: break-word;\n",
       "    word-break: break-all;\n",
       "    font-family: \"Menlo\", \"Monaco\", \"Consolas\", \"Ubuntu Mono\", \"Source Code Pro\", monospace;\n",
       "    font-size: 13px;\n",
       "    color: #555;\n",
       "    margin-left: 4px;\n",
       "    line-height: 19px;\n",
       "  }\n",
       "</style>"
      ]
     },
     "metadata": {
      "application/vnd.databricks.v1+output": {
       "arguments": {},
       "data": "",
       "errorSummary": "",
       "errorTraceType": null,
       "metadata": {},
       "type": "ipynbError"
      }
     },
     "output_type": "display_data"
    }
   ],
   "source": [
    "#MAPPER\n",
    "pairs_after_lenght_rdd = filtered_pairs_after_lenght_rdd.map(lambda kv: (kv[1][0][0], kv[0]))\n",
    "\n",
    "for record in pairs_after_lenght_rdd.take(5):\n",
    "    print(record)\n",
    "\n",
    "pairs_after_lenght_rdd_count = pairs_after_lenght_rdd.count()\n",
    "\n",
    "print(\"\\n Candidate Pairs after Length Filter:\", pairs_after_lenght_rdd_count, \"\\n\")\n",
    "print(\" Candidate Pairs filtered out by Lenght Filter:\", candidate_pairs_after_prefix_rdd_count - pairs_after_lenght_rdd_count, \"\\n\")\n",
    "\n",
    "# stopping measuring the time of lenght filter\n",
    "time_of_lenght_filtering = time.time() - starting_lenght_filtering\n",
    "print(f\"Time of execution of lenght filtering {time_of_lenght_filtering}\")"
   ]
  },
  {
   "cell_type": "markdown",
   "metadata": {
    "application/vnd.databricks.v1+cell": {
     "cellMetadata": {
      "byteLimit": 2048000,
      "rowLimit": 10000
     },
     "inputWidgets": {},
     "nuid": "dfaa7ca4-79cb-4226-aec6-7bbc0fba1c78",
     "showTitle": false,
     "title": ""
    }
   },
   "source": [
    "After this step, final_pairs_rdd will contain candidate pairs that have passed both the prefix and length filters. These pairs have a higher likelihood of being true positives (i.e., genuinely similar pairs). The subsequent positional filter will further refine this set."
   ]
  },
  {
   "cell_type": "markdown",
   "metadata": {
    "application/vnd.databricks.v1+cell": {
     "cellMetadata": {
      "byteLimit": 2048000,
      "rowLimit": 10000
     },
     "inputWidgets": {},
     "nuid": "7e978007-6daa-4b87-a11d-345947a58918",
     "showTitle": false,
     "title": ""
    }
   },
   "source": [
    "#POSITIONAL FILTER\n",
    "\n",
    "\n",
    "Goal: Further refine our candidate pairs to those which are potentially similar by looking at the actual positions of tokens in each record.\n",
    "\n",
    "Why?\n",
    "Even after length and prefix filtering, we might have pairs of records that are not truly similar. Positional filtering checks if the common tokens between two records appear at nearly the same positions. If they do, it's likely that the records are similar. This step is particularly useful to eliminate false positives introduced by common tokens that appear at widely different positions in two records."
   ]
  },
  {
   "cell_type": "markdown",
   "metadata": {
    "application/vnd.databricks.v1+cell": {
     "cellMetadata": {
      "byteLimit": 2048000,
      "rowLimit": 10000
     },
     "inputWidgets": {},
     "nuid": "8568f99d-38ec-42e9-a42c-2ba36d246213",
     "showTitle": false,
     "title": ""
    }
   },
   "source": [
    "##1.Token Positioning\n",
    "\n",
    "For each record, mark each token with its position.\n",
    "Associate each token with its position"
   ]
  },
  {
   "cell_type": "markdown",
   "metadata": {
    "application/vnd.databricks.v1+cell": {
     "cellMetadata": {
      "byteLimit": 2048000,
      "rowLimit": 10000
     },
     "inputWidgets": {},
     "nuid": "8e7aa4f5-1294-404e-8276-b30fe5ab39db",
     "showTitle": false,
     "title": ""
    }
   },
   "source": [
    "\n",
    "This function takes a set of tokens and returns a list of tuples, each consisting of a token and its corresponding index (position) in the set.\n",
    "\n",
    "[ ('record_id1', [('token1', 0), ('token2', 1), ...]),\n",
    " ('record_id2', [('tokenA', 0), ('tokenB', 1), ...]),\n",
    " ...\n",
    "]\n",
    "\n",
    "original:\n",
    "    'record_id1', ['molly', '41', '6050']\n",
    "transformed:\n",
    "        ('record_id1', [('molly', 0), ('41', 1), ('6050', 2)])\n",
    "\n",
    "For the record '0':\n",
    "[    ('molly', 0),     ('41', 1),     ('6050', 2),     ...    ('batlow', 10)]\n",
    "\n",
    "\n",
    "The token 'molly' is in position 0, the token '41' is in position 1, and so on.\n",
    "\n",
    "This positional information will be crucial when applying the positional filtering. Positional filtering, in essence, ensures that tokens from similar records (candidate pairs) not only match but also are proximate in terms of their positions."
   ]
  },
  {
   "cell_type": "code",
   "execution_count": 0,
   "metadata": {
    "application/vnd.databricks.v1+cell": {
     "cellMetadata": {
      "byteLimit": 2048000,
      "rowLimit": 10000
     },
     "inputWidgets": {},
     "nuid": "2aa894e9-b16f-46d1-a64d-89826190d259",
     "showTitle": false,
     "title": ""
    }
   },
   "outputs": [
    {
     "output_type": "stream",
     "name": "stdout",
     "output_type": "stream",
     "text": [
      "Out[29]: [('0',\n  [('289', 0),\n   ('ent', 1),\n   ('tlo', 2),\n   ('290', 3),\n   ('esc', 4),\n   ('atl', 5),\n   ('841', 6),\n   ('829', 7),\n   ('050', 8),\n   ('res', 9),\n   ('899', 10),\n   ('qld', 11),\n   ('mol', 12),\n   ('hop', 13),\n   ('060', 14),\n   ('oll', 15),\n   ('lly', 16),\n   ('ley', 17),\n   ('939', 18),\n   ('082', 19),\n   ('ycr', 20),\n   ('609', 21),\n   ('bis', 22),\n   ('ale', 23),\n   ('ish', 24),\n   ('467', 25),\n   ('low', 26),\n   ('eyc', 27),\n   ('684', 28),\n   ('cen', 29),\n   ('193', 30),\n   ('dal', 31),\n   ('sce', 32),\n   ('906', 33),\n   ('cre', 34),\n   ('028', 35),\n   ('bat', 36),\n   ('902', 37),\n   ('605', 38),\n   ('390', 39),\n   ('768', 40),\n   ('sho', 41),\n   ('996', 42),\n   ('676', 43)]),\n ('1',\n  [('190', 0),\n   ('110', 1),\n   ('411', 2),\n   ('ort', 3),\n   ('756', 4),\n   ('294', 5),\n   ('ucc', 6),\n   ('nam', 7),\n   ('von', 8),\n   ('buc', 9),\n   ('amb', 10),\n   ('ast', 11),\n   ('mbu', 12),\n   ('200', 13),\n   ('eet', 14),\n   ('don', 15),\n   ('hkt', 16),\n   ('629', 17),\n   ('414', 18),\n   ('141', 19),\n   ('163', 20),\n   ('087', 21),\n   ('nor', 22),\n   ('904', 23),\n   ('ree', 24),\n   ('341', 25),\n   ('tre', 26),\n   ('vkf', 27),\n   ('459', 28),\n   ('945', 29),\n   ('416', 30),\n   ('562', 31),\n   ('whk', 32),\n   ('875', 33),\n   ('041', 34),\n   ('cca', 35),\n   ('dev', 36),\n   ('002', 37),\n   ('109', 38),\n   ('evo', 39),\n   ('ido', 40),\n   ('ono', 41),\n   ('str', 42),\n   ('cas', 43),\n   ('aid', 44)]),\n ('2',\n  [('110', 0),\n   ('411', 1),\n   ('841', 2),\n   ('ndr', 3),\n   ('iva', 4),\n   ('448', 5),\n   ('107', 6),\n   ('dre', 7),\n   ('228', 8),\n   ('071', 9),\n   ('hoe', 10),\n   ('and', 11),\n   ('844', 12),\n   ('116', 13),\n   ('876', 14),\n   ('684', 15),\n   ('991', 16),\n   ('711', 17),\n   ('021', 18),\n   ('287', 19),\n   ('ann', 20),\n   ('168', 21),\n   ('rew', 22),\n   ('784', 23),\n   ('910', 24),\n   ('nns', 25),\n   ('487', 26),\n   ('nho', 27),\n   ('211', 28),\n   ('van', 29),\n   ('vic', 30),\n   ('199', 31),\n   ('anh', 32)]),\n ('3',\n  [('406', 0),\n   ('040', 1),\n   ('chr', 2),\n   ('207', 3),\n   ('232', 4),\n   ('nst', 5),\n   ('709', 6),\n   ('418', 7),\n   ('400', 8),\n   ('qld', 9),\n   ('own', 10),\n   ('lsy', 11),\n   ('rob', 12),\n   ('eet', 13),\n   ('032', 14),\n   ('003', 15),\n   ('070', 16),\n   ('sne', 17),\n   ('939', 18),\n   ('shs', 19),\n   ('whi', 20),\n   ('183', 21),\n   ('065', 22),\n   ('tie', 23),\n   ('241', 24),\n   ('320', 25),\n   ('son', 26),\n   ('bso', 27),\n   ('obs', 28),\n   ('ree', 29),\n   ('193', 30),\n   ('hsn', 31),\n   ('tre', 32),\n   ('836', 33),\n   ('323', 34),\n   ('rls', 35),\n   ('907', 36),\n   ('itr', 37),\n   ('360', 38),\n   ('sti', 39),\n   ('trl', 40),\n   ('ons', 41),\n   ('ist', 42),\n   ('390', 43),\n   ('wns', 44),\n   ('dow', 45),\n   ('ris', 46),\n   ('hit', 47),\n   ('ied', 48),\n   ('edo', 49),\n   ('str', 50),\n   ('hri', 51)]),\n ('4',\n  [('och', 0),\n   ('757', 1),\n   ('644', 2),\n   ('328', 3),\n   ('532', 4),\n   ('577', 5),\n   ('fre', 6),\n   ('for', 7),\n   ('ore', 8),\n   ('774', 9),\n   ('phi', 10),\n   ('nst', 11),\n   ('nki', 12),\n   ('kin', 13),\n   ('res', 14),\n   ('qld', 15),\n   ('sfo', 16),\n   ('436', 17),\n   ('340', 18),\n   ('eet', 19),\n   ('032', 20),\n   ('250', 21),\n   ('743', 22),\n   ('oph', 23),\n   ('enc', 24),\n   ('853', 25),\n   ('272', 26),\n   ('est', 27),\n   ('403', 28),\n   ('che', 29),\n   ('ank', 30),\n   ('193', 31),\n   ('ran', 32),\n   ('ree', 33),\n   ('tre', 34),\n   ('hie', 35),\n   ('725', 36),\n   ('ren', 37),\n   ('ins', 38),\n   ('085', 39),\n   ('227', 40),\n   ('roc', 41),\n   ('364', 42),\n   ('nch', 43),\n   ('hsf', 44),\n   ('322', 45),\n   ('934', 46),\n   ('chs', 47),\n   ('sop', 48),\n   ('str', 49)])]"
     ]
    }
   ],
   "source": [
    "# starting measuring the time for position filtering\n",
    "starting_position_filtering = time.time()\n",
    "\n",
    "def position_tokens(tokens):\n",
    "    return [(token, idx) for idx, token in enumerate(tokens)]\n",
    "\n",
    "# mapValues only processes the values of the key-value pairs in the RDD, leaving the keys (the record IDs) unchanged.\n",
    "positioned_rdd = tokenized_rdd.mapValues(position_tokens)\n",
    "positioned_rdd = positioned_rdd.cache()\n",
    "#positioned_rdd have the same keys (RID) of tokenized_rdd, but the values now are lists of (token, index) pairs instead of sets of tokens.\n",
    "\n",
    "positioned_rdd.take(5)"
   ]
  },
  {
   "cell_type": "markdown",
   "metadata": {
    "application/vnd.databricks.v1+cell": {
     "cellMetadata": {
      "byteLimit": 2048000,
      "rowLimit": 10000
     },
     "inputWidgets": {},
     "nuid": "dca44db3-14a1-41fa-b8cc-d958e83a8dfe",
     "showTitle": false,
     "title": ""
    }
   },
   "source": [
    "##2.Join the distinct_pairs_rdd with the positioned_rdd based on tokens:"
   ]
  },
  {
   "cell_type": "markdown",
   "metadata": {
    "application/vnd.databricks.v1+cell": {
     "cellMetadata": {
      "byteLimit": 2048000,
      "rowLimit": 10000
     },
     "inputWidgets": {},
     "nuid": "3d34aaa9-85c8-49fc-b725-ba6e7241e240",
     "showTitle": false,
     "title": ""
    }
   },
   "source": [
    "Now, by using this positioned RDD (positioned_rdd) we:\n",
    "\n",
    "-Join candidate pairs based on their tokens and filter based on their positions.\n",
    "\n",
    "-Further prune candidate pairs based on Jaccard similarity.\n",
    "\n",
    "To achieve this, we first need to do the join operation on final_pairs_rdd with the positioned_rdd and then perform the positional filtering."
   ]
  },
  {
   "cell_type": "markdown",
   "metadata": {
    "application/vnd.databricks.v1+cell": {
     "cellMetadata": {
      "byteLimit": 2048000,
      "rowLimit": 10000
     },
     "inputWidgets": {},
     "nuid": "f60eb59b-a687-40cd-8381-f58a7e621297",
     "showTitle": false,
     "title": ""
    }
   },
   "source": [
    "We have the positioned_rdd in the format:\n",
    "('record_id', [('token1', position1), ('token2', position2), ...])\n",
    "\n",
    "And the pairs_after_lenght_rdd (from previous prefix filtering) in the format:\n",
    "('RID1', 'RID2')"
   ]
  },
  {
   "cell_type": "markdown",
   "metadata": {
    "application/vnd.databricks.v1+cell": {
     "cellMetadata": {
      "byteLimit": 2048000,
      "rowLimit": 10000
     },
     "inputWidgets": {},
     "nuid": "70f30205-03ae-494f-9556-5496a798aa5f",
     "showTitle": false,
     "title": ""
    }
   },
   "source": [
    "The join operation in Spark combines two RDDs based on their keys\n",
    "\n",
    "Each element in distinct_pairs_rdd is joined with the corresponding element in positioned_rdd based on matching record IDs. This join will result in a new RDD where each element consists of a record ID and a tuple containing the pair of RIDs from final_pairs_rdd and the list of positioned tokens from positioned_rdd.\n",
    "\n",
    "Output Format\n",
    "After the join, the RDD first_join should have elements in the format:\n",
    "('RID1', ('RID2', [('token_rid1_1', position1), ('token_rid_2', position2), ..., ('token_rid1_N', positionN)]))\n",
    "\n",
    "This format represents the association of each RID pair with the positioned tokens of one of the records in the pair."
   ]
  },
  {
   "cell_type": "markdown",
   "metadata": {
    "application/vnd.databricks.v1+cell": {
     "cellMetadata": {
      "byteLimit": 2048000,
      "rowLimit": 10000
     },
     "inputWidgets": {},
     "nuid": "c677d8c9-ea47-4bb6-8197-a627d96f85dd",
     "showTitle": false,
     "title": ""
    }
   },
   "source": [
    "Example:\n",
    "    \n",
    "Each element of the resulting RDD (first_join) is a tuple with two main components:\n",
    "    \n",
    "First Element:\n",
    "\n",
    "('1059', ...): This is RID1.\n",
    "\n",
    "Second Element (Nested Tuple):\n",
    "\n",
    "The first part of the nested tuple, '7078' is example of RID2.\n",
    "The second part of the nested tuple is a list of positioned tokens from RID1's (1059) token set, like [('och', 0), ('190', 1), ..., ('kwo', 62)].\n",
    "\n",
    "We get this format of data: ('RID1', ('RID2', [positioned tokens of RID1])).\n",
    "\n",
    "The key '1059' is RID1, and the value is a tuple containing '7078' as RID2 and the list of positioned tokens associated with RID1 ('1059').\n"
   ]
  },
  {
   "cell_type": "code",
   "execution_count": 0,
   "metadata": {
    "application/vnd.databricks.v1+cell": {
     "cellMetadata": {
      "byteLimit": 2048000,
      "rowLimit": 10000
     },
     "inputWidgets": {},
     "nuid": "1a0a3afe-1a61-4f7f-b7ba-25b55e433bf1",
     "showTitle": false,
     "title": ""
    }
   },
   "outputs": [
    {
     "output_type": "stream",
     "name": "stdout",
     "output_type": "stream",
     "text": [
      "Out[30]: [('2392',\n  ('3136',\n   [('190', 0),\n    ('avi', 1),\n    ('ent', 2),\n    ('tlo', 3),\n    ('cyc', 4),\n    ('esc', 5),\n    ('for', 6),\n    ('ore', 7),\n    ('000', 8),\n    ('075', 9),\n    ('300', 10),\n    ('591', 11),\n    ('dge', 12),\n    ('res', 13),\n    ('730', 14),\n    ('ier', 15),\n    ('936', 16),\n    ('adi', 17),\n    ('odg', 18),\n    ('nad', 19),\n    ('377', 20),\n    ('606', 21),\n    ('lod', 22),\n    ('007', 23),\n    ('ycr', 24),\n    ('071', 25),\n    ('719', 26),\n    ('xav', 27),\n    ('517', 28),\n    ('171', 29),\n    ('eon', 30),\n    ('est', 31),\n    ('037', 32),\n    ('cen', 33),\n    ('193', 34),\n    ('sce', 35),\n    ('755', 36),\n    ('773', 37),\n    ('vie', 38),\n    ('erc', 39),\n    ('cre', 40),\n    ('559', 41),\n    ('907', 42),\n    ('rcy', 43),\n    ('stl', 44),\n    ('ona', 45),\n    ('064', 46),\n    ('per', 47),\n    ('leo', 48)]))]"
     ]
    }
   ],
   "source": [
    "first_join = pairs_after_lenght_rdd.join(positioned_rdd)\n",
    "\n",
    "first_join.take(1)"
   ]
  },
  {
   "cell_type": "markdown",
   "metadata": {
    "application/vnd.databricks.v1+cell": {
     "cellMetadata": {
      "byteLimit": 2048000,
      "rowLimit": 10000
     },
     "inputWidgets": {},
     "nuid": "56f4b0f8-e2a7-4650-99eb-bcecb0fb39de",
     "showTitle": false,
     "title": ""
    }
   },
   "source": [
    "#### For debugging pourpose - check the correct structure of join - change to pythoncode\n",
    "\n",
    "for i, record in positioned_rdd.collect():\n",
    "    if i=='1059':\n",
    "        print(f\"{record} \\n\")\n",
    "    if i=='7078':\n",
    "        print(f\"{record} \\n\")\n",
    "\n"
   ]
  },
  {
   "cell_type": "markdown",
   "metadata": {
    "application/vnd.databricks.v1+cell": {
     "cellMetadata": {
      "byteLimit": 2048000,
      "rowLimit": 10000
     },
     "inputWidgets": {},
     "nuid": "f731f930-833f-485f-8588-99f187a30b90",
     "showTitle": false,
     "title": ""
    }
   },
   "source": [
    "##3.Reformat the RID and token, then join again:\n",
    "\n",
    "The lambda function inside map restructures each element of first_join. It changes the format from ('RID1', ('RID2', [('token1', position1), ...])) to ('RID2', ('RID1', [('token1', position1), ...])).\n",
    "\n",
    "so the final form will be this one: ('RID2', ('RID1', [positioned tokens of RID1])).\n",
    "\n",
    "In this step, we're performing a second join operation to bring together the positioned token data for both records in each candidate pair.\n"
   ]
  },
  {
   "cell_type": "markdown",
   "metadata": {
    "application/vnd.databricks.v1+cell": {
     "cellMetadata": {
      "byteLimit": 2048000,
      "rowLimit": 10000
     },
     "inputWidgets": {},
     "nuid": "b28ee46c-ecd9-4793-a38a-20fbd0a843fa",
     "showTitle": false,
     "title": ""
    }
   },
   "source": [
    "Then join this transformed RDD with positioned_rdd on RID2.\n",
    "\n",
    "This join operation combines the positioned tokens of RID1 (already in the transformed RDD) with the positioned tokens of RID2 (from positioned_rdd).\n",
    "\n",
    "Output Format:\n",
    "\n",
    "After the join, each element of second_join should have the following format:\n",
    "\n",
    "('RID2', (('RID1', [('token1_RID1', pos1_RID1), ...]), [('token1_RID2', pos1_RID2), ...])) - ('RID2', (('RID1', [positioned tokens of RID1]), [positioned tokens of RID2]))\n",
    "\n",
    "This means for each pair of record IDs (RID1 and RID2), we have now the positioned tokens of both RID1 and RID2."
   ]
  },
  {
   "cell_type": "markdown",
   "metadata": {
    "application/vnd.databricks.v1+cell": {
     "cellMetadata": {
      "byteLimit": 2048000,
      "rowLimit": 10000
     },
     "inputWidgets": {},
     "nuid": "12414c32-0909-441b-9e62-26552b878d6a",
     "showTitle": false,
     "title": ""
    }
   },
   "source": [
    "Example:\n",
    "    \n",
    "Key: RID2 ('7078')\n",
    "\n",
    "Value -> tuple consisting of:\n",
    "\n",
    "1a Part: a tuple (('RID1', [positioned tokens of RID1])) RID1 + list of (tokens,pos)\n",
    "\n",
    "2nd Part: ([positioned tokens of RID2]), list of positioned tokens associated with RID2"
   ]
  },
  {
   "cell_type": "code",
   "execution_count": 0,
   "metadata": {
    "application/vnd.databricks.v1+cell": {
     "cellMetadata": {
      "byteLimit": 2048000,
      "rowLimit": 10000
     },
     "inputWidgets": {},
     "nuid": "cfa777c3-29f6-4e89-8779-5ec1c90dbbc6",
     "showTitle": false,
     "title": ""
    }
   },
   "outputs": [
    {
     "output_type": "stream",
     "name": "stdout",
     "output_type": "stream",
     "text": [
      "Out[31]: [('6653',\n  (('2392',\n    [('190', 0),\n     ('avi', 1),\n     ('ent', 2),\n     ('tlo', 3),\n     ('cyc', 4),\n     ('esc', 5),\n     ('for', 6),\n     ('ore', 7),\n     ('000', 8),\n     ('075', 9),\n     ('300', 10),\n     ('591', 11),\n     ('dge', 12),\n     ('res', 13),\n     ('730', 14),\n     ('ier', 15),\n     ('936', 16),\n     ('adi', 17),\n     ('odg', 18),\n     ('nad', 19),\n     ('377', 20),\n     ('606', 21),\n     ('lod', 22),\n     ('007', 23),\n     ('ycr', 24),\n     ('071', 25),\n     ('719', 26),\n     ('xav', 27),\n     ('517', 28),\n     ('171', 29),\n     ('eon', 30),\n     ('est', 31),\n     ('037', 32),\n     ('cen', 33),\n     ('193', 34),\n     ('sce', 35),\n     ('755', 36),\n     ('773', 37),\n     ('vie', 38),\n     ('erc', 39),\n     ('cre', 40),\n     ('559', 41),\n     ('907', 42),\n     ('rcy', 43),\n     ('stl', 44),\n     ('ona', 45),\n     ('064', 46),\n     ('per', 47),\n     ('leo', 48)]),\n   [('102', 0),\n    ('040', 1),\n    ('018', 2),\n    ('pur', 3),\n    ('868', 4),\n    ('spu', 5),\n    ('ros', 6),\n    ('420', 7),\n    ('591', 8),\n    ('der', 9),\n    ('qld', 10),\n    ('873', 11),\n    ('sel', 12),\n    ('noo', 13),\n    ('nba', 14),\n    ('172', 15),\n    ('eet', 16),\n    ('316', 17),\n    ('ero', 18),\n    ('oon', 19),\n    ('084', 20),\n    ('184', 21),\n    ('731', 22),\n    ('ely', 23),\n    ('959', 24),\n    ('ond', 25),\n    ('195', 26),\n    ('geo', 27),\n    ('est', 28),\n    ('401', 29),\n    ('osa', 30),\n    ('eon', 31),\n    ('ark', 32),\n    ('nde', 33),\n    ('687', 34),\n    ('kes', 35),\n    ('lyn', 36),\n    ('ree', 37),\n    ('dar', 38),\n    ('tre', 39),\n    ('rge', 40),\n    ('204', 41),\n    ('910', 42),\n    ('jos', 43),\n    ('rke', 44),\n    ('pon', 45),\n    ('onb', 46),\n    ('ose', 47),\n    ('urg', 48),\n    ('417', 49),\n    ('842', 50),\n    ('ono', 51),\n    ('023', 52),\n    ('str', 53)]))]"
     ]
    }
   ],
   "source": [
    "second_join = first_join.map(lambda kv: (kv[1][0], (kv[0], kv[1][1]))).join(positioned_rdd)\n",
    "\n",
    "second_join.take(1)"
   ]
  },
  {
   "cell_type": "markdown",
   "metadata": {
    "application/vnd.databricks.v1+cell": {
     "cellMetadata": {
      "byteLimit": 2048000,
      "rowLimit": 10000
     },
     "inputWidgets": {},
     "nuid": "020b4620-980a-4e1d-b563-b8204ff1ce2a",
     "showTitle": false,
     "title": ""
    }
   },
   "source": [
    "#### For debugging pourpose - test to check the correct structure of join - chance to pythoncode\n",
    "\n",
    "for i, record in positioned_rdd.collect():\n",
    "    if i=='1059':\n",
    "        print(f\"{record} \\n\")\n",
    "    if i=='7078':\n",
    "        print(f\"{record} \\n\")"
   ]
  },
  {
   "cell_type": "markdown",
   "metadata": {
    "application/vnd.databricks.v1+cell": {
     "cellMetadata": {
      "byteLimit": 2048000,
      "rowLimit": 10000
     },
     "inputWidgets": {},
     "nuid": "414b7edc-be94-45fc-bb42-014c18ef094b",
     "showTitle": false,
     "title": ""
    }
   },
   "source": [
    "Comparing Tokens and Positions:\n",
    "\n",
    "This step is crucial for positional filtering because it aligns the positioned tokens of both records in each candidate pair.Both lists have tokens and their respective positions in the records. \n",
    "\n",
    "Now, we can filter pairs where the token positions in both records are close enough based on a threshold."
   ]
  },
  {
   "cell_type": "markdown",
   "metadata": {
    "application/vnd.databricks.v1+cell": {
     "cellMetadata": {
      "byteLimit": 2048000,
      "rowLimit": 10000
     },
     "inputWidgets": {},
     "nuid": "ce613ae1-f4e3-4f8c-a3db-1f0e4cc9326a",
     "showTitle": false,
     "title": ""
    }
   },
   "source": [
    "##4.Filter out the pairs of records that doesn't satisfy the positional constraint."
   ]
  },
  {
   "cell_type": "markdown",
   "metadata": {
    "application/vnd.databricks.v1+cell": {
     "cellMetadata": {
      "byteLimit": 2048000,
      "rowLimit": 10000
     },
     "inputWidgets": {},
     "nuid": "7c2589d9-65be-42be-a16e-86373fd3b403",
     "showTitle": false,
     "title": ""
    }
   },
   "source": [
    "Threshold Interpretation\n",
    "\n",
    "The similarity_threshold represents the robustness of the similarity requirement. A higher threshold requires more evidence of similarity (more matching tokens), making it stricter.\n",
    "\n",
    "A lower threshold is more lenient, requiring fewer matching tokens to consider two records as similar.\n",
    "\n",
    "The max_positional_difference accounts for variations in the token positions between the records. It defines how closely the positions must align for a token to be considered common."
   ]
  },
  {
   "cell_type": "markdown",
   "metadata": {
    "application/vnd.databricks.v1+cell": {
     "cellMetadata": {
      "byteLimit": 2048000,
      "rowLimit": 10000
     },
     "inputWidgets": {},
     "nuid": "dd2f5b2e-ac5b-409f-8d59-4bb253953028",
     "showTitle": false,
     "title": ""
    }
   },
   "source": [
    "Logic of filter:\n",
    "\n",
    "similarity_threshold is the minimum number of common tokens that two records must have to be considered similar.\n",
    "\n",
    "max_positional_difference is the maximum distance allowed between the positions of the same token in the two records.\n",
    "\n",
    "rec1_tokens contains the positioned tokens from the first record (RID1), and rec2_tokens_dict is a dictionary that is used to lookups of the positions of tokens from the second record (RID2).\n",
    "\n",
    "common_tokens counter is initialized to zero and will keep track of how many token matches have been found between the two records.\n",
    "\n",
    "possible_common_tokens starts as the minimum length of the two token lists (since that's the maximum possible matches) and decrements as we iterate through the tokens of RID1, because there's one less token to potentially match with.\n",
    "\n",
    "For each token in rec1_tokens, the function looks up the position of the same token in rec2_positions. If the token exists in both records and the absolute difference in their positions is less than or equal to max_positional_difference, it is counted as a common token (common_tokens + 1)\n",
    "\n",
    "After each token comparison, the function checks if it's still possible to meet the similarity_threshold.\n",
    "It does this by adding common_tokens and possible_common_tokens. If their sum is less than similarity_threshold, the function concludes that the records can't be similar and returns False.\n",
    "This check allows the function to stop early if it's already impossible for the pair to meet the similarity criteria, saving unnecessary computation.\n",
    "\n",
    "If the loop completes without triggering the early stopping rule, the function checks if the number of common_tokens found meets or exceeds the similarity_threshold.\n",
    "If it does, the function returns True, indicating that the records are similar. Otherwise, it returns False.\n"
   ]
  },
  {
   "cell_type": "code",
   "execution_count": 0,
   "metadata": {
    "application/vnd.databricks.v1+cell": {
     "cellMetadata": {
      "byteLimit": 2048000,
      "rowLimit": 10000
     },
     "inputWidgets": {},
     "nuid": "c8639ec8-6a41-4ccb-ba5d-45352ed90281",
     "showTitle": false,
     "title": ""
    }
   },
   "outputs": [
    {
     "output_type": "stream",
     "name": "stdout",
     "output_type": "stream",
     "text": [
      "Out[32]: [('6653',\n  (('2422',\n    [('956', 0),\n     ('ill', 1),\n     ('thr', 2),\n     ('ort', 3),\n     ('914', 4),\n     ('563', 5),\n     ('nst', 6),\n     ('stu', 7),\n     ('402', 8),\n     ('qld', 9),\n     ('pot', 10),\n     ('isa', 11),\n     ('aia', 12),\n     ('hro', 13),\n     ('079', 14),\n     ('192', 15),\n     ('tts', 16),\n     ('eet', 17),\n     ('404', 18),\n     ('iah', 19),\n     ('ock', 20),\n     ('240', 21),\n     ('sai', 22),\n     ('geo', 23),\n     ('195', 24),\n     ('881', 25),\n     ('170', 26),\n     ('ott', 27),\n     ('eon', 28),\n     ('ark', 29),\n     ('rth', 30),\n     ('cla', 31),\n     ('nor', 32),\n     ('ree', 33),\n     ('021', 34),\n     ('tur', 35),\n     ('988', 36),\n     ('tre', 37),\n     ('lar', 38),\n     ('798', 39),\n     ('rge', 40),\n     ('491', 41),\n     ('140', 42),\n     ('roc', 43),\n     ('shi', 44),\n     ('ons', 45),\n     ('924', 46),\n     ('tsh', 47),\n     ('hil', 48),\n     ('rke', 49),\n     ('449', 50),\n     ('urg', 51),\n     ('211', 52),\n     ('cks', 53),\n     ('417', 54),\n     ('819', 55),\n     ('str', 56)]),\n   [('102', 0),\n    ('040', 1),\n    ('018', 2),\n    ('pur', 3),\n    ('868', 4),\n    ('spu', 5),\n    ('ros', 6),\n    ('420', 7),\n    ('591', 8),\n    ('der', 9),\n    ('qld', 10),\n    ('873', 11),\n    ('sel', 12),\n    ('noo', 13),\n    ('nba', 14),\n    ('172', 15),\n    ('eet', 16),\n    ('316', 17),\n    ('ero', 18),\n    ('oon', 19),\n    ('084', 20),\n    ('184', 21),\n    ('731', 22),\n    ('ely', 23),\n    ('959', 24),\n    ('ond', 25),\n    ('195', 26),\n    ('geo', 27),\n    ('est', 28),\n    ('401', 29),\n    ('osa', 30),\n    ('eon', 31),\n    ('ark', 32),\n    ('nde', 33),\n    ('687', 34),\n    ('kes', 35),\n    ('lyn', 36),\n    ('ree', 37),\n    ('dar', 38),\n    ('tre', 39),\n    ('rge', 40),\n    ('204', 41),\n    ('910', 42),\n    ('jos', 43),\n    ('rke', 44),\n    ('pon', 45),\n    ('onb', 46),\n    ('ose', 47),\n    ('urg', 48),\n    ('417', 49),\n    ('842', 50),\n    ('ono', 51),\n    ('023', 52),\n    ('str', 53)]))]"
     ]
    }
   ],
   "source": [
    "# parametrisations of position filter\n",
    "similarity_threshold = 10  # Number of min. common tokens required for a pair to be considered similar\n",
    "max_positional_difference = 10  # Maximum allowed positional difference between tokens\n",
    "\n",
    "def positional_filter_optimized(pair, similarity_threshold, max_positional_difference):\n",
    "    RID2, ((RID1, rec1_tokens), rec2_tokens_dict) = pair\n",
    "    \n",
    "    # Initialize counters\n",
    "    common_tokens = 0\n",
    "    \n",
    "    # Create a dictionary for the second record for fast lookups\n",
    "    rec2_positions = {token: pos for token, pos in rec2_tokens_dict}\n",
    "\n",
    "    # Calculate the maximum possible common tokens at the beginning\n",
    "    possible_common_tokens = min(len(rec1_tokens), len(rec2_tokens_dict))\n",
    "    \n",
    "    # Iterate through the positioned tokens of the first record (the prefix)\n",
    "    for token, pos1 in rec1_tokens:\n",
    "        # Decrement possible common tokens as we advance\n",
    "        possible_common_tokens -= 1\n",
    "        \n",
    "        pos2 = rec2_positions.get(token)\n",
    "        if pos2 is not None and abs(pos1 - pos2) <= max_positional_difference:\n",
    "            common_tokens += 1\n",
    "        \n",
    "        # Apply early stopping rule based on the similarity threshold\n",
    "        if common_tokens + possible_common_tokens < similarity_threshold:\n",
    "            return False\n",
    "\n",
    "    # If we complete the loop without returning False, the pair is similar\n",
    "    return common_tokens >= similarity_threshold\n",
    "\n",
    "\n",
    "# Apply the filter to the second join RDD\n",
    "filtered_positional_rdd = second_join.filter(lambda pair: positional_filter_optimized(pair, similarity_threshold, max_positional_difference))\n",
    "\n",
    "# sample for debugging\n",
    "filtered_positional_rdd.take(1)\n"
   ]
  },
  {
   "cell_type": "markdown",
   "metadata": {
    "application/vnd.databricks.v1+cell": {
     "cellMetadata": {
      "byteLimit": 2048000,
      "rowLimit": 10000
     },
     "inputWidgets": {},
     "nuid": "12d18ff3-4156-4237-855f-4fffc7e79f9d",
     "showTitle": false,
     "title": ""
    }
   },
   "source": [
    "##5.Extract Candidate Pairs"
   ]
  },
  {
   "cell_type": "markdown",
   "metadata": {
    "application/vnd.databricks.v1+cell": {
     "cellMetadata": {
      "byteLimit": 2048000,
      "rowLimit": 10000
     },
     "inputWidgets": {},
     "nuid": "292c92df-2ab1-447e-b5eb-6b3eba126729",
     "showTitle": false,
     "title": ""
    }
   },
   "source": [
    "The goal now is to convert the nested structure of filtered_positional_rdd into a simpler structure: (recordID_A, recordID_B), where recordID_A and recordID_B are the IDs of the two records that passed the positional filtering.\n",
    "\n",
    "Here's how we achieve this:\n",
    "Map to Candidate Pair RDD: Extract just the RIDs for each pair.. then we also sorted the pairs"
   ]
  },
  {
   "cell_type": "code",
   "execution_count": 0,
   "metadata": {
    "application/vnd.databricks.v1+cell": {
     "cellMetadata": {
      "byteLimit": 2048000,
      "rowLimit": 10000
     },
     "inputWidgets": {},
     "nuid": "221a75d7-835a-44f1-a8db-f2e0ce2c83f5",
     "showTitle": false,
     "title": ""
    }
   },
   "outputs": [
    {
     "output_type": "stream",
     "name": "stdout",
     "output_type": "stream",
     "text": [
      "Candidate pairs after positional filtering: 109665 \n\nCandidate pairs removed by positional filter: 1183718 \n\nSample of candidate_pairs: [('2422', '6653'), ('2422', '6653'), ('2422', '6653'), ('6256', '6653'), ('8692', '8712')] \n\nTime of position filtering execution: 125.22339415550232\n"
     ]
    }
   ],
   "source": [
    "# Extracting candidate pairs and sorting\n",
    "candidate_pairs_rdd = filtered_positional_rdd.map(lambda x: (x[1][0][0], x[0]))\n",
    "candidate_pairs_final_rdd = candidate_pairs_rdd.map(lambda x: tuple(sorted(x)))\n",
    "\n",
    "# Caching the RDD\n",
    "candidate_pairs_final_rdd = candidate_pairs_final_rdd.cache()\n",
    "\n",
    "# Counting the candidate pairs\n",
    "candidate_pairs_final_count = candidate_pairs_final_rdd.count()\n",
    "\n",
    "print(\"Candidate pairs after positional filtering:\", candidate_pairs_final_count, \"\\n\")\n",
    "print(\"Candidate pairs removed by positional filter:\", pairs_after_lenght_rdd_count - candidate_pairs_final_count, \"\\n\")\n",
    "print(\"Sample of candidate_pairs:\", candidate_pairs_final_rdd.take(5), \"\\n\")\n",
    "\n",
    "# stopping measuring time for position filtering\n",
    "time_of_position_filtering = time.time() - starting_position_filtering\n",
    "print(f\"Time of position filtering execution: {time_of_position_filtering}\")\n"
   ]
  },
  {
   "cell_type": "markdown",
   "metadata": {
    "application/vnd.databricks.v1+cell": {
     "cellMetadata": {
      "byteLimit": 2048000,
      "rowLimit": 10000
     },
     "inputWidgets": {},
     "nuid": "7261020b-1daf-4984-af38-afdc1d629d53",
     "showTitle": false,
     "title": ""
    }
   },
   "source": [
    "#### Debugging  for check a specific RID - chanche to pythoncode to use it\n",
    "\n",
    "#### Filtering for a specific record ID '10001'\n",
    "specific_record_id = '10001'\n",
    "\n",
    "specific_pairs_rdd = candidate_pairs_final_rdd.filter(lambda x: specific_record_id in x)\n",
    "\n",
    "#### Counting and taking a sample of specific pairs\n",
    "specific_pair_sample = specific_pairs_rdd.take(5)\n",
    "\n",
    "#### print a specific sample\n",
    "for element in specific_pair_sample:\n",
    "\n",
    "    record1, record2 = element\n",
    "    \n",
    "    print(element)"
   ]
  },
  {
   "cell_type": "markdown",
   "metadata": {
    "application/vnd.databricks.v1+cell": {
     "cellMetadata": {
      "byteLimit": 2048000,
      "rowLimit": 10000
     },
     "inputWidgets": {},
     "nuid": "72f9e5a8-807f-405a-a634-5c2bb926fe2f",
     "showTitle": false,
     "title": ""
    }
   },
   "source": [
    "##DUPLICATE REMOVALS (optional) - avoided for computational cost\n",
    "\n",
    "This function ensures that the pairs of RIDs are ordered consistently.\n",
    "\n",
    "It takes a tuple (RID1, RID2) and checks which RID is smaller. It then returns the pair in sorted order (smaller RID, larger RID)."
   ]
  },
  {
   "cell_type": "code",
   "execution_count": 0,
   "metadata": {
    "application/vnd.databricks.v1+cell": {
     "cellMetadata": {
      "byteLimit": 2048000,
      "rowLimit": 10000
     },
     "inputWidgets": {},
     "nuid": "4da77b4e-7c7a-4c65-85c1-5c5d4041a4e8",
     "showTitle": false,
     "title": ""
    }
   },
   "outputs": [
    {
     "output_type": "stream",
     "name": "stdout",
     "output_type": "stream",
     "text": [
      "Out[36]: [('2422', '6653'),\n ('2422', '6653'),\n ('2422', '6653'),\n ('6256', '6653'),\n ('8692', '8712')]"
     ]
    }
   ],
   "source": [
    "# starting measuring time for deduplication\n",
    "starting_time_of_deduplication = time.time()\n",
    "\n",
    "def order_rids(pair):\n",
    "    RID1, RID2 = pair\n",
    "    return (RID1, RID2) if RID1 < RID2 else (RID2, RID1)\n",
    "\n",
    "candidate_pairs_ordered_rdd = candidate_pairs_final_rdd.map(order_rids) #Uncomment to execute the deduplication\n",
    "\n",
    "# print sample\n",
    "candidate_pairs_ordered_rdd.take(5)"
   ]
  },
  {
   "cell_type": "markdown",
   "metadata": {
    "application/vnd.databricks.v1+cell": {
     "cellMetadata": {
      "byteLimit": 2048000,
      "rowLimit": 10000
     },
     "inputWidgets": {},
     "nuid": "641fcb52-a729-48bf-8a3d-3b6e2683e05f",
     "showTitle": false,
     "title": ""
    }
   },
   "source": [
    "it's possible, especially in distributed systems like Spark, that we might have multiple identical candidate pairs being evaluated more than once\n",
    "\n",
    "It removes duplicate pairs, ensuring that each pair of record IDs (RIDs) appears only once in distinct_candidate_pairs_rdd.\n",
    "\n",
    "This way, (A, B) and (B, A) are considered the same because they both become (A, B).\n",
    "\n",
    "Efficiency: By removing duplicates, we reduce the dataset size, which can lead to performance improvements in subsequent processing steps."
   ]
  },
  {
   "cell_type": "code",
   "execution_count": 0,
   "metadata": {
    "application/vnd.databricks.v1+cell": {
     "cellMetadata": {
      "byteLimit": 2048000,
      "rowLimit": 10000
     },
     "inputWidgets": {},
     "nuid": "8f0bbc96-c2d4-472b-bca8-7b9919e68c56",
     "showTitle": false,
     "title": ""
    }
   },
   "outputs": [
    {
     "output_type": "stream",
     "name": "stdout",
     "output_type": "stream",
     "text": [
      "('3490', '4810')\n('4923', '5884')\n('1886', '2627')\n('4303', '5023')\n('4545', '5023')\n\n Number of candidate pairs after removing the duplicate:  37304 \n\nCandidate Pairs removed: 72361 \n\nTime of deduplication filtering execution: 48.58598589897156\n"
     ]
    }
   ],
   "source": [
    "# take only the \"unique\" candidate pair\n",
    "distinct_candidate_pairs_rdd = candidate_pairs_ordered_rdd.distinct() #Uncomment to do the deduplication\n",
    "\n",
    "# print sample\n",
    "for record in distinct_candidate_pairs_rdd.take(5):\n",
    "    print(record)\n",
    "\n",
    "distinct_candidate_pairs_rdd_count = distinct_candidate_pairs_rdd.count()\n",
    "\n",
    "print(\"\\n Number of candidate pairs after removing the duplicate: \", distinct_candidate_pairs_rdd_count,\"\\n\")\n",
    "print(\"Candidate Pairs removed:\", candidate_pairs_final_count - distinct_candidate_pairs_rdd_count,\"\\n\")\n",
    "\n",
    "# stopping measuring time for deduplication\n",
    "\n",
    "time_of_deduplication = time.time() - starting_time_of_deduplication\n",
    "print(f\"Time of deduplication filtering execution: {time_of_deduplication}\")"
   ]
  },
  {
   "cell_type": "markdown",
   "metadata": {
    "application/vnd.databricks.v1+cell": {
     "cellMetadata": {
      "byteLimit": 2048000,
      "rowLimit": 10000
     },
     "inputWidgets": {},
     "nuid": "cb7e345a-a12b-4f63-a6ed-6479f3a56672",
     "showTitle": false,
     "title": ""
    }
   },
   "source": [
    "After running this, candidate_pairs_ordered_rdd have the structure (recordID_A, recordID_B), where each pair is a candidate for having a Jaccard similarity above the threshold.\n",
    "\n",
    "Once you have this RDD, you can easily compute the Jaccard similarity for each pair, as you will only have to deal with their IDs and can use these to retrieve and compare their token sets."
   ]
  },
  {
   "cell_type": "markdown",
   "metadata": {
    "application/vnd.databricks.v1+cell": {
     "cellMetadata": {
      "byteLimit": 2048000,
      "rowLimit": 10000
     },
     "inputWidgets": {},
     "nuid": "17d6b6b0-0797-4baa-a11c-2a44f2a97378",
     "showTitle": false,
     "title": ""
    }
   },
   "source": [
    "#APPLY JACCARD SIMILARITY FUNCTION "
   ]
  },
  {
   "cell_type": "markdown",
   "metadata": {
    "application/vnd.databricks.v1+cell": {
     "cellMetadata": {
      "byteLimit": 2048000,
      "rowLimit": 10000
     },
     "inputWidgets": {},
     "nuid": "4a572028-cba6-4134-88dc-e2ebe59fe029",
     "showTitle": false,
     "title": ""
    }
   },
   "source": [
    "Now you have a list of candidate pairs of records. For each of these pairs, you can compute the Jaccard similarity using their token sets. This will allow you to filter out those pairs whose Jaccard similarity is below your desired threshold.\n",
    "\n",
    "The next steps would involve:\n",
    "\n",
    "Join with the Tokenized RDD: For each candidate pair (A, B), you need to retrieve the original token sets for both A and B. You'll join the distinct_candidate_pairs_rdd with the tokenized_rdd to achieve this.\n",
    "\n",
    "Compute Jaccard Similarity: Once you have both token sets for each candidate pair, compute their Jaccard similarity.\n",
    "\n",
    "Filter by Threshold: Keep only those pairs whose Jaccard similarity is above the threshold."
   ]
  },
  {
   "cell_type": "markdown",
   "metadata": {
    "application/vnd.databricks.v1+cell": {
     "cellMetadata": {
      "byteLimit": 2048000,
      "rowLimit": 10000
     },
     "inputWidgets": {},
     "nuid": "50dc058c-0a4a-429f-9362-e8321571d5ca",
     "showTitle": false,
     "title": ""
    }
   },
   "source": [
    "##1. Join with the Tokenized RDD:\n",
    "\n",
    "The goal here is to retrieve the full set of tokens for each record in our candidate pairs.\n"
   ]
  },
  {
   "cell_type": "markdown",
   "metadata": {
    "application/vnd.databricks.v1+cell": {
     "cellMetadata": {
      "byteLimit": 2048000,
      "rowLimit": 10000
     },
     "inputWidgets": {},
     "nuid": "605812fa-61cf-46e5-b526-9be9f4678109",
     "showTitle": false,
     "title": ""
    }
   },
   "source": [
    "Mapping Pairs to Tokens:\n",
    "\n",
    "distinct_candidate_pairs_rdd is mapped to include the record ID (x[0]) as a key and the pair itself (x) as a value.\n",
    "You join this RDD with tokenized_rdd to bring in the tokens for the first record in each pair.\n",
    "Joining Tokens with Pairs:\n",
    "\n",
    "You then map the result to restructure it, using the second record ID in the pair as the key for another join with tokenized_rdd to bring in the tokens for the second record.\n",
    "\n",
    "Final Pairing:\n",
    "After the second join, you map over the result to create a final structure where each element is a tuple of:\n",
    "A pair of record IDs: (record1, record2)\n",
    "Corresponding tokens for each record: (tokens1, tokens2)"
   ]
  },
  {
   "cell_type": "code",
   "execution_count": 0,
   "metadata": {
    "application/vnd.databricks.v1+cell": {
     "cellMetadata": {
      "byteLimit": 2048000,
      "rowLimit": 10000
     },
     "inputWidgets": {},
     "nuid": "7a10e76a-ad38-4844-9bba-a5efdd5e1f3d",
     "showTitle": false,
     "title": ""
    }
   },
   "outputs": [
    {
     "output_type": "stream",
     "name": "stdout",
     "output_type": "stream",
     "text": [
      "[(('4303', '4442'), ({'956', '040', 'urs', 'ent', 'pur', 'awa', 'lce', '230', 'rse', '300', '186', 'eph', 'ngu', '862', '545', 'eet', '404', 'ero', 'rst', 'ntr', 'tme', '595', '194', 'hed', '560', 'cis', 'hep', 'rom', '170', '854', 'dso', 'son', '602', '944', 'wal', 'edi', 'ree', 'ran', 'cen', 'tre', 'gun', '409', 'etm', '459', 'alc', '085', 'naw', '440', 'ers', 'unn', 'fra', 'phe', 'ica', 'sst', 'ser', 'nci', 'cal', 'iss', '623', '217', 'she', 'nna', 'eds', 'anc', 'med', 'str', 'dic'}, {'rar', 'ent', 'nfl', 'arr', 'rrc', 'lce', 'esc', '225', 'nnm', 'nsw', 'res', '209', 'lr5', 'car', '5jo', 'rcr', '258', 'ntr', 'dan', '789', 'rri', 'dic', 'flr', '422', '195', '278', 'nie', 'fly', 'nme', 'iff', '787', '542', 'hnf', 'r5j', 'rra', '892', 'ara', 'lyn', 'cen', 'edi', 'sce', 'tre', 'cre', '778', '927', 'err', 'alc', 'iel', '214', 'joh', '878', '950', 'ohn', '020', '500', 'ynn', 'ica', 'cal', 'ani', 'rif', '350', '002', '587', '077', 'med', 'she', '147', 'her'}))]\n"
     ]
    }
   ],
   "source": [
    "# starting measuring time for jaccard and grand-trouth loading\n",
    "starting_time_of_final_op = time.time()\n",
    "\n",
    "# This results in an RDD where each entry is ((record1, record2), (tokens1, tokens2))\n",
    "paired_tokens_rdd = distinct_candidate_pairs_rdd.map(lambda x: (x[0], x)).join(tokenized_rdd).map(lambda x: (x[1][0][1], x[1])).join(tokenized_rdd).map(lambda x: ((x[1][0][0][0], x[0]), (x[1][0][1], x[1][1])))\n",
    "\n",
    "paired_tokens_rdd = paired_tokens_rdd.cache()\n",
    "\n",
    "print(paired_tokens_rdd.take(1))"
   ]
  },
  {
   "cell_type": "markdown",
   "metadata": {
    "application/vnd.databricks.v1+cell": {
     "cellMetadata": {
      "byteLimit": 2048000,
      "rowLimit": 10000
     },
     "inputWidgets": {},
     "nuid": "c9b812b8-4472-49d0-8707-f0ceef22db28",
     "showTitle": false,
     "title": ""
    }
   },
   "source": [
    "The output is an RDD where each entry has the structure ((record1, record2), (tokens1, tokens2)), which we can use to compute the Jaccard Similarity."
   ]
  },
  {
   "cell_type": "markdown",
   "metadata": {
    "application/vnd.databricks.v1+cell": {
     "cellMetadata": {
      "byteLimit": 2048000,
      "rowLimit": 10000
     },
     "inputWidgets": {},
     "nuid": "8f24bb17-d4a9-4581-816e-e8e1b34603d2",
     "showTitle": false,
     "title": ""
    }
   },
   "source": [
    "##2. Compute Jaccard Similarity:\n",
    "We will now compute the Jaccard similarity for each pair using the formula:\n",
    "Jaccard(A,B)= ∣A∪B∣/∣A∩B∣\n",
    "​\n"
   ]
  },
  {
   "cell_type": "code",
   "execution_count": 0,
   "metadata": {
    "application/vnd.databricks.v1+cell": {
     "cellMetadata": {
      "byteLimit": 2048000,
      "rowLimit": 10000
     },
     "inputWidgets": {},
     "nuid": "ad8901e0-92cd-4485-b033-638bae2d4844",
     "showTitle": false,
     "title": ""
    }
   },
   "outputs": [
    {
     "output_type": "stream",
     "name": "stdout",
     "output_type": "stream",
     "text": [
      "[(('4303', '4442'), 0.0975609756097561)] \n\n"
     ]
    }
   ],
   "source": [
    "def jaccard_similarity(set_a, set_b):\n",
    "    \"\"\"Calculate the Jaccard Similarity between two sets\n",
    "    \n",
    "    Args:\n",
    "    set_a (set): The first set.\n",
    "    set_b (set): The second set.\n",
    "    \n",
    "    Returns:\n",
    "    float: The Jaccard Similarity between the two sets.\n",
    "    \"\"\"\n",
    "    intersection = len(set_a.intersection(set_b))\n",
    "    union = len(set_a.union(set_b))\n",
    "    \n",
    "    # Avoid division by zero\n",
    "    if union == 0:\n",
    "        return 0.0\n",
    "    \n",
    "    return intersection / union\n",
    "\n",
    "# Computing Jaccard Similarity for each pair\n",
    "jaccard_rdd = paired_tokens_rdd.map(lambda x: (x[0], jaccard_similarity(x[1][0], x[1][1])))\n",
    "jaccard_rdd = jaccard_rdd.cache()\n",
    "\n",
    "# Sample for debugging or inspection\n",
    "print(jaccard_rdd.take(1), \"\\n\")"
   ]
  },
  {
   "cell_type": "markdown",
   "metadata": {
    "application/vnd.databricks.v1+cell": {
     "cellMetadata": {
      "byteLimit": 2048000,
      "rowLimit": 10000
     },
     "inputWidgets": {},
     "nuid": "828b08b4-f82e-4473-baa3-8d8ae4b5881f",
     "showTitle": false,
     "title": ""
    }
   },
   "source": [
    "\n",
    "#### Debugging if we want to inspect a specific RID - change to pythoncode to use it\n",
    "\n",
    "#### Define the specific record ID\n",
    "specific_record_id = '10001'\n",
    "\n",
    "#### Filtering for the specific record ID and collecting the results\n",
    "specific_jaccard_rdd = jaccard_rdd.filter(lambda x: specific_record_id in x[0])\n",
    "\n",
    "specific_jaccard_sample = specific_jaccard_rdd.take(50)  # Take a small sample instead of collecting all\n",
    "\n",
    "#### Print the results for the specific record ID\n",
    "for records, similarity in specific_jaccard_sample:\n",
    "\n",
    "    print(f\"Records: {records[0]}, {records[1]} | Similarity: {similarity}\")"
   ]
  },
  {
   "cell_type": "markdown",
   "metadata": {
    "application/vnd.databricks.v1+cell": {
     "cellMetadata": {
      "byteLimit": 2048000,
      "rowLimit": 10000
     },
     "inputWidgets": {},
     "nuid": "9df56eb4-6e4a-49ef-b597-9bb70208c4e5",
     "showTitle": false,
     "title": ""
    }
   },
   "source": [
    "##3. Filter by Threshold:\n",
    "Assuming you want to keep pairs with a Jaccard similarity of at least 0.7:"
   ]
  },
  {
   "cell_type": "markdown",
   "metadata": {
    "application/vnd.databricks.v1+cell": {
     "cellMetadata": {
      "byteLimit": 2048000,
      "rowLimit": 10000
     },
     "inputWidgets": {},
     "nuid": "13f72d13-0c29-4e38-b312-15cd7307ddab",
     "showTitle": false,
     "title": ""
    }
   },
   "source": [
    "\n",
    "#### just for debug\n",
    "\n",
    "threshold = 0.7\n",
    "\n",
    "filtered_jaccard_rdd = jaccard_rdd.filter(lambda x: x[1] >= threshold)\n",
    "\n",
    "filtered_jaccard_rdd = filtered_jaccard_rdd.cache()\n",
    "\n",
    "print(f\"Sample of pairs with Jaccard sim >= {threshold}:\",filtered_jaccard_rdd.take(5), \"\\n\")\n",
    "\n",
    "print(f\"Number of pairs with Jaccard sim >= {threshold}:\",filtered_jaccard_rdd.count(), \"\\n\")"
   ]
  },
  {
   "cell_type": "markdown",
   "metadata": {
    "application/vnd.databricks.v1+cell": {
     "cellMetadata": {
      "byteLimit": 2048000,
      "rowLimit": 10000
     },
     "inputWidgets": {},
     "nuid": "4ded54fc-20ea-48a6-9a1b-9bbeeef82dec",
     "showTitle": false,
     "title": ""
    }
   },
   "source": [
    "\n",
    "#### Debugging for specific RID\n",
    "\n",
    "\n",
    "#### Define the specific record ID\n",
    "specific_record_id = '10001'\n",
    "\n",
    "#### Filtering for the specific record ID within the filtered Jaccard RDD\n",
    "specific_jaccard_rdd = filtered_jaccard_rdd.filter(lambda x: specific_record_id in x[0])\n",
    "\n",
    "#### Taking a sample of specific pairs\n",
    "specific_pair_sample = specific_jaccard_rdd.take(5)\n",
    "\n",
    "#### Print the results for the specific record ID\n",
    "for records, similarity in specific_pair_sample:\n",
    "\n",
    "    print(f\"Records: {records[0]}, {records[1]} | Similarity: {similarity}\")"
   ]
  },
  {
   "cell_type": "markdown",
   "metadata": {
    "application/vnd.databricks.v1+cell": {
     "cellMetadata": {
      "byteLimit": 2048000,
      "rowLimit": 10000
     },
     "inputWidgets": {},
     "nuid": "76c32a87-0dcd-44f7-be27-aab595e6bd05",
     "showTitle": false,
     "title": ""
    }
   },
   "source": [
    "eventually show all pairs\n",
    "\n",
    "filtered_jaccard_rdd.collect()"
   ]
  },
  {
   "cell_type": "markdown",
   "metadata": {
    "application/vnd.databricks.v1+cell": {
     "cellMetadata": {
      "byteLimit": 2048000,
      "rowLimit": 10000
     },
     "inputWidgets": {},
     "nuid": "d8574487-573d-4b4a-8a28-651affb1ca73",
     "showTitle": false,
     "title": ""
    }
   },
   "source": [
    "# Results"
   ]
  },
  {
   "cell_type": "markdown",
   "metadata": {
    "application/vnd.databricks.v1+cell": {
     "cellMetadata": {
      "byteLimit": 2048000,
      "rowLimit": 10000
     },
     "inputWidgets": {},
     "nuid": "dabcb919-3768-4e45-aaed-c83a12ca38ea",
     "showTitle": false,
     "title": ""
    }
   },
   "source": [
    "## 1. Load Ground Truth Data"
   ]
  },
  {
   "cell_type": "markdown",
   "metadata": {
    "application/vnd.databricks.v1+cell": {
     "cellMetadata": {
      "byteLimit": 2048000,
      "rowLimit": 10000
     },
     "inputWidgets": {},
     "nuid": "764aa90f-0af5-410e-8e03-46baa05494e1",
     "showTitle": false,
     "title": ""
    }
   },
   "source": [
    "Loaded the JSON file into a DataFrame, converted it to an RDD, and then mapped it to a tuple format that pairs each d1Id with its corresponding d2Id.\n",
    "\n",
    "The output shows a small sample of the ground truth pairs, indicating that the data is being processed as expected."
   ]
  },
  {
   "cell_type": "code",
   "execution_count": 0,
   "metadata": {
    "application/vnd.databricks.v1+cell": {
     "cellMetadata": {
      "byteLimit": 2048000,
      "rowLimit": 10000
     },
     "inputWidgets": {},
     "nuid": "c9a849c0-d02c-4de6-8f63-2f2d110b6c34",
     "showTitle": false,
     "title": ""
    }
   },
   "outputs": [
    {
     "output_type": "stream",
     "name": "stdout",
     "output_type": "stream",
     "text": [
      "('101', '8933')\n('4101', '4614')\n('7213', '8466')\n('4856', '7485')\n('4829', '9725')\n\n Time of final operations execution: 25.293837308883667\n"
     ]
    }
   ],
   "source": [
    "def load_ground_truth(json_file_path):\n",
    "    \"\"\"\n",
    "    Load ground truth data from a JSON file and convert it into an RDD of pairs.\n",
    "\n",
    "    Parameters:\n",
    "    - json_file_path: Path to the JSON file containing the ground truth data.\n",
    "\n",
    "    Returns:\n",
    "    - An RDD containing pairs of duplicate record IDs (d1Id, d2Id) from the ground truth.\n",
    "    \"\"\"\n",
    "    # Use Spark's DataFrame API to read the JSON file\n",
    "    ground_truth_df = spark.read.json(json_file_path)\n",
    "\n",
    "    # Convert the DataFrame to an RDD\n",
    "    # Each row in the DataFrame is expected to have 'd1Id' and 'd2Id' fields\n",
    "    # The RDD is mapped to a pair format (d1Id, d2Id) representing duplicates\n",
    "    ground_truth_rdd = ground_truth_df.rdd.map(lambda row: (row.d1Id, row.d2Id))\n",
    "\n",
    "    return ground_truth_rdd\n",
    "\n",
    "\n",
    "# Load ground truth data and convert to set\n",
    "ground_truth_rdd = load_ground_truth(ground_truth_path)\n",
    "\n",
    "for pairs in ground_truth_rdd.take(5):\n",
    "    print(pairs)\n",
    "\n",
    "\n",
    "# stopping measuring time for jaccard and grand-trouth loading\n",
    "\n",
    "time_of_final_op = time.time() - starting_time_of_final_op\n",
    "print(f\"\\n Time of final operations execution: {time_of_final_op}\")"
   ]
  },
  {
   "cell_type": "markdown",
   "metadata": {
    "application/vnd.databricks.v1+cell": {
     "cellMetadata": {
      "byteLimit": 2048000,
      "rowLimit": 10000
     },
     "inputWidgets": {},
     "nuid": "820f82b3-7827-4876-9f8c-b87b6ac0e4ae",
     "showTitle": false,
     "title": ""
    }
   },
   "source": [
    "##2.Plot the Results"
   ]
  },
  {
   "cell_type": "markdown",
   "metadata": {
    "application/vnd.databricks.v1+cell": {
     "cellMetadata": {
      "byteLimit": 2048000,
      "rowLimit": 10000
     },
     "inputWidgets": {},
     "nuid": "646b8615-7338-4ff0-aad2-abac2f152e6e",
     "showTitle": false,
     "title": ""
    }
   },
   "source": [
    "\n",
    "1. Calculate Jaccard Similarities: we created an RDD of paired tokens and applied a Jaccard similarity function to each pair. This is stored in jaccard_rdd.\n",
    "\n",
    "2. Filter by Thresholds: for a range of thresholds, we filter jaccard_rdd to retain only those pairs with a similarity above the threshold.\n",
    "\n",
    "3. Evaluate Against Ground Truth: we have a ground truth dataset, which we've loaded into ground_truth_rdd. Then we compare filtered pairs against this ground truth to determine precision and recall.\n",
    "\n",
    "4. Measure Execution Time: for each threshold, we measure the time it takes to perform the filtering and evaluation and then we add this time to the base_time_of_pipeline that measure the time passed from the starting of the operations\n",
    "\n",
    "5. Plot the Results: finally we plot precision, recall, and execution time against the different threshold values."
   ]
  },
  {
   "cell_type": "code",
   "execution_count": 0,
   "metadata": {
    "application/vnd.databricks.v1+cell": {
     "cellMetadata": {
      "byteLimit": 2048000,
      "rowLimit": 10000
     },
     "inputWidgets": {},
     "nuid": "987704ba-80e3-4f1d-a981-c1548200ed1f",
     "showTitle": false,
     "title": ""
    }
   },
   "outputs": [
    {
     "output_type": "stream",
     "name": "stdout",
     "output_type": "stream",
     "text": [
      "Number of pairings at threshold 0.7: 594\nNumber of pairings at threshold 0.8: 122\nNumber of pairings at threshold 0.9: 11\nNumber of pairings at threshold 1.0: 1\n"
     ]
    },
    {
     "output_type": "display_data",
     "data": {
      "image/png": "[encoded data removed]"
     },
     "metadata": {
      "application/vnd.databricks.v1+output": {
       "addedWidgets": {},
       "arguments": {},
       "data": "data:image/png;base64,iVBORw0KGgoAAAANSUhEUgAAAmEAAAFNCAYAAABIc7ibAAAAOXRFWHRTb2Z0d2FyZQBNYXRwbG90bGliIHZlcnNpb24zLjUuMSwgaHR0cHM6Ly9tYXRwbG90bGliLm9yZy/YYfK9AAAACXBIWXMAAAsTAAALEwEAmpwYAABMAklEQVR4nO3deXwV5d3+8c83C0kgIexbQFkE2RdFUSmCIrK4gFWp1i5alVq1ahefB39tqQ/dtNparVTUqnWr1rqwuKGCATdUkIjsIrIkAdkhIQtZ7t8fM4GTkIRAcjI5J9f75XnlnJk5M985k3gu5r7nHnPOISIiIiL1KyboAkREREQaI4UwERERkQAohImIiIgEQCFMREREJAAKYSIiIiIBUAgTERERCYBCmEgDZWZXmdlbNVhuppn9pj5qOl5m1tXMnJnFBV1LGTNLN7Pr/OdXm9n7VSxXL7XX52fkb+ek43hftTWa2Z1m9kztKxRpHBTCRI6DmW00s3wzyzWzb8zsX2aWXJfbcM4965w7vwbL3eCc+11dbru+Vfg8t4Xj8wyaH5Zz/cdBMysKef1G0PU1BGb2OzP7wsyKzezOSuZ/18w2mdkBM5tlZq1C5m00s/NCXl9hZnvMbGQ9lS9yzBTCRI7fRc65ZOAUYCjw64oLNKQzPxGg7PMcDAwB7gi2nLrlh+Vkfx//CPyn7LVzbvyxri9Kf7fWA/8DvFZxhpn1Ax4Gvg+0B/KAf1S2EjP7ITADuMA5tzBs1YrUkkKYSC0557KAN4D+cKip5yYz+xL40p92oZllmNleM/vQzAaWvd/MupjZy2a2w8x2mdmD/vRDTWTmuc/MtpvZfv9sQdn2/mVmvw9Z3/Vmtt7MdpvZHDPrFDLPmdkNZvalX8sMM7PK9svMTjezj/zltprZg2bWpCbrMrNYM7vXzHaa2QbggmP4PLcB8/DCWNm2zvA/t71m9rmZjQqZ18rMnjCzbP/Mxyx/eksze9X/XPf4zzvXtI5K/MjfxlYz+6W/jQ5mlmdmrUPqOcXfZvxxbucqM9vsf3a/ClnvnWb2opk9Y2b7gavNLNXMHvNryjKz35tZrL/8SWa20Mz2+ev6T4XtnFfFsYsxs1/7Z5y2m9lTZpZaWaFm1s3fRo6ZvQ20Oc59BsA596Rz7g0gp7LPBZjrnFvknMsFfgN828xSKtT0Y+AvwFjn3Ie1qUck3BTCRGrJzLoAE4BlIZMnAcOAvmY2BHgc+DHQGu9f83PMLMH/wnwV2AR0BdKA5yvZzPnA2UAvIBWYDOyqpJZzgT/58zv66624vguB04CB/nJjq9i1EuBneF+sZwKjgRtruK7r/XlD8M4SXlbFNo7gB6XxeGdFMLM0vDMjvwdaAb8EXjKztv5bngaaAv2AdsB9/vQY4AngROAEIB94sKZ1VOIcoCfesfhfMzvPD4zpePte5vvA8865ouPczreAk/E+72lm1idk3kTgRaAF8CzwL6AYOAnvsz4fuM5f9nfAW0BLoDPw9wrbqerYXe0/zgG6A8lU/bn9G1iK9zvyO+CHx7Kjx6gf8HnZC+fcV8BBvL+JMj8BpgOjnXNLwliLSJ1QCBM5frPMbC/wPrAQr4mpzJ+cc7udc/nAFOBh59zHzrkS59yTQCFwBnA60Am43Tl3wDlX4JyrrIN4EZAC9AbMObfaObe1kuWuAh53zn3mnCvEa9I708y6hixzl3Nur3NuM/AuIWecQjnnljrnFjvnip1zG/HCY8X+NVWtazLwN+fcFufcbrxgeDSzzCwH2AJsB37rT/8e8Lpz7nXnXKlz7m1gCTDBzDriBbYbnHN7nHNFZc1PzrldzrmXnHN5zrkc4A+V1H8s/s8/Rl/ghbsr/elP+jXih+or8YJhbbaT75z7HC90DAqZ95FzbpZzrhRojhf+b/Pr2o4XQK/wly3CC6Cdqvi9qurYXQX81Tm3wT/jdAdwhVVo/jSzE/BC3G+cc4XOuUXA3Frs99EkA/sqTNuH93dRZgywGPgijHWI1BmFMJHjN8k518I5d6Jz7kY/cJXZEvL8ROAXfrPPXj+4dcELX12ATc654uo25JxbgHc2Ygaw3cweMbPmlSzaCe/sV9n7cvHOmKWFLLMt5Hke3pfbEcysl9+Et81v/vojRzY3VbWuTpT/DDZxdJOccynAKLywWbatE4HLK3x+38I709cF2O2c21NJ/U3N7GG/WW0/sAhoUdZcdxwq7k9ZM+9svDOe3fBCwD7n3CfHuQ2o/vhU/L2KB7aGfC4P450NBK9vlQGfmNlKM/tRDbdT7nfIfx6H1w8rVCdgj3PuQIVlK2Vmb9jhCxGuqmq5auTiBc9QzSnfdPkTvDNj/yxrXhVpyBTCRMLDhTzfAvzBD2xlj6bOuef8eSdUPMtQ6Qqde8A5dyrQF++L5vZKFsvG+3IGwMya4TWBZh3HPjwErAF6OueaA/8P70u9JrbiBaQyJ9R0o/6ZrH8B9/qTtgBPV/j8mjnn7vLntTKzFpWs6hd4zXrD/PrP9qcf75dzxf3J9ustAF7AOxv2fWp3FuxoKv5eFQJtQj6X5s65fn5d25xz1zvnOuE1hf/DajYsRbnfIbx9LQa+qbDcVqCl/zsWumzlhTs3PuRChGdrUEdFKwk5K2hm3YEEYF3IMt/gNeOOoIpO+yINiUKYSPg9CtxgZsPM08zMLvA7FH+C92V2lz890cyGV1yBmZ3mvz8eOAAUAKWVbOs54BozG2xmCXhnrz72mxOPVQqwH8g1s954Zxlq6gXgFjPrbGYtganHuO2/AWPMbBDwDHCRmY01r8N/opmNMrPOfpPsG3gBo6WZxZtZWdhKwesHtte8oQx+W9mGjsFv/LNr/YBrgNCO7k/h9aO6mPCGsEP8fX8L+IuZNfc71Pcwf0gGM7vcDl+IsAcvwFX2O1PRc8DP/E73oVdyljtb65zbhNcs/H9m1sTMvgVcVJt98o9fIt53U5x/rMvOXD6L93swwg9+04GX/abm0Lqy8YLYODO7D5EGTCFMJMz8DsLX4zUn7sHrcH61P68E74vrJGAzkAl8p5LVNMcLc3vwmnx2AfdUsq138K4aewkv3PXgcB+hY/VL4Lt4zT2PUj50HM2jeFc4fg58Brx8LBt2zu3ACzbTnHNb8Dqk/z9gB94ZoNs5/P+v7+P1f1qD15fsNn/634AkYCdeP6E3j6WGSizEO3bzgXudc4cG0nXOfYAXcD7zw0l9+QHQBFiF97vxIl4zLXj9tT42s1xgDnCrc25DDdb5OF6QXAR8jRf4f1rFst/FuwBlN17Ifer4duOQR/GC85XAr/zn3wdwzq0EbsALY9vxQnbFC0Xwl90MnAtcZmY16Y8oEghzzh19KRERqZaZLQD+7Zz7Z9C1iEhkUAgTEaklMzsNeBvoUrF5TESkKmqOFBGpBTN7EngHb6gIBTARqTGdCRMREREJgM6EiYiIiARAIUxEREQkAEcdILKhadOmjevatWvQZUS8AwcO0KxZs6MvKA2WjmFk0/GLfDqGka8+juHSpUt3OufaVjYv4kJY165dWbJE92WtrfT0dEaNGhV0GVILOoaRTccv8ukYRr76OIZmVuXYgWqOFBEREQmAQpiIiIhIABTCRERERAIQcX3CKlNUVERmZiYFBQVBlxIxUlNTWb16NQCJiYl07tyZ+Pj4gKsSERFpPKIihGVmZpKSkkLXrl0xs6DLiQg5OTmkpKTgnGPXrl1kZmbSrVu3oMsSERFpNKKiObKgoIDWrVsrgB0HM6N169Y6iygiIlLPoiKEAQpgtaDPTkREpP6FLYSZ2eNmtt3MVlQx38zsATNbb2bLzeyUcNVSH2JjYxk8eDD9+/fn8ssvJy8vr9brnDZtGu+8806V82fOnMlTTz1V6+2IiIiUmbUsi+F3LaDb1NcYftcCZi3LCrqkOle2j1e/eSDQfQznmbB/AeOqmT8e6Ok/pgAPhbGWsEtKSiIjI4MVK1bQpEkTZs6cWW5+cXHxMa9z+vTpnHfeeVXOv+GGG/jBD35wzOsVERGpzKxlWdzx8hdk7c3HAVl787nj5S+iKoiF7iMEu49h65jvnFtkZl2rWWQi8JRzzgGLzayFmXV0zm0NV01lZi3L4p55a8nem0+nFkncPvZkJg1Jq7P1jxgxguXLl5Oens5vfvMbWrZsyZo1a1i9ejVTp04lPT2dwsJCbrrpJn784x8DcPfdd/PMM88QExPD+PHjueuuu7j66qu58MILueyyy5g6dSpz5swhLi6O888/n3vvvZc777yT5ORkfvnLX5KRkcENN9xAXl4ePXr04PHHH6dly5aMGjWKYcOG8e6777J3714ee+wxRowYUWf7KiIi0eOeeWvJLyopNy2/qIQ756w8YnqkuvuNNZXu4z3z1tZpFqiJIK+OTAO2hLzO9KcdEcLMbAre2TLat29Penp6ufmpqank5OTUaKOvrfiGO1/7koLiUsBLwFNfWk5BQT4X9G9/HLtxWE5ODsXFxcydO5fzzjuPvLw8PvvsMxYvXkzXrl2ZMWMGiYmJLFiwgMLCQs4//3zOOuss1q1bx8svv8w777xD06ZN2b17Nzk5ORQVFZGfn8/GjRt56aWXWLp0KWbG3r17ycnJobCwkPj4eHJycvje977HPffcw7e+9S1+//vf86tf/Yq7776bkpIS8vLymD9/PvPmzWPatGnMmTOHkpKScp9ZQUHBEZ+rNGy5ubk6ZhFMxy/yReMxLDs7VNHe/CLuePmLeq6mfmXtza/34xkRQ1Q45x4BHgEYOnSoq3ifp9WrV5OSkgLA/81dyars/VWua9nmvRwsKS03raC4lGmvfskry3dU+p6+nZrz24v6VVtjfn7+oTNMI0aM4KabbuLDDz/k9NNPZ8CAAQAsWrSI5cuXM3fuXAD27dvH1q1b+fDDD7nuuuto394LgWX7Eh8fT1JSEp07d6Zp06bcdtttXHjhhVx44YU0adKEhIQEEhISKC0tZf/+/YwfPx6AKVOmcPnll5OSkkJsbCxXXHEFKSkpjBgxgqlTp5KSknJoiIoyiYmJDBkypNp9lIZF962LbDp+kS+ajmHGlr08lL4eOFDp/A7NE5l10/D6LSpMJs34gG37jxwRIK1FUr0fzyBDWBbQJeR1Z39aWFUMYEebXlNlfcIqCr07u3OOv//974wdO7bcMvPmzat23XFxcXzyySfMnz+fF198kQcffJAFCxbUuLaEhATAu3jgePqmiYhI9HHOsejLncxM/4qPNuyieWIc5/dtx6Ivd1JQdPg7MSk+lqnje9MhNTHAauvO1PG9uePlL8o1SSbFx3L72JPrvZYgQ9gc4GYzex4YBuyri/5gRztjNfyuBZWebk1rkcR/fnxmbTdfrbFjx/LQQw9x7rnnEh8fz7p160hLS2PMmDFMnz6dq6666lBzZKtWrQ69Lzc3l7y8PCZMmMDw4cPp3r17ufWmpqbSsmVL3nvvPUaMGMHTTz/NyJEjw7ovIiISmYpLSnl9xTZmpn/Fqq376dA8kV9f0IcrTj+B5IS4sPebDlrZvtwzby1Ze/NJC3AfwxbCzOw5YBTQxswygd8C8QDOuZnA68AEYD2QB1wTrlpC3T725MAS8HXXXcfGjRs55ZRTcM7Rtm1bZs2axbhx48jIyGDo0KE0adKECRMm8Mc//vHQ+3Jycpg4cSIFBQU45/jrX/96xLqffPLJQx3zu3fvzhNPPBH2/RERkchRUFTCi0szeWTRBjbvzqN722b8+bKBTBqcRpO4w4MlTBqSFlWhqzJl+xh0k7J5FydGjqFDh7olS5aUm7Z69Wr69OlT43VEe8qviYp9wo71M5TgBf0/D6kdHb/IFynHcF9+Ec8s3sQTH3zNztyDDOrSgp+M7MH5fdsTE9O4B+uuj2NoZkudc0MrmxcRHfPrWmNI+SIi0rh9s7+Ax9//mmc/3kxuYTEje7XlhpE9OKN7K90ppYFolCFMREQkWm3Ykcsjizbw8mdZFJeWcuHATvx4ZHf6dUoNujSpQCFMREQkCny+ZS8zF37Fmyu30SQ2hsmndWbKiB6c0Lpp0KVJFRTCREREIpRzjvfX72Tmwq/4YP0uUhLjuHFUD64+qxttUxKCLk+OQiFMREQkwpSUOt5YsZWZC79iRdZ+2qUk8P8m9ObK008gJTE+6PKkhhTCREREIkRBUQkvfZbJo4s2sHFXHt3bNOPuSwcwaUgaCXGxQZcnx0ghrI7ExsYyYMAAiouL6datG08//TQtWrSos/V37dqVJUuW0KZNG5KTk8nNza2zdYuISMO2v6CIZxdv5rH3v2ZnbiGDOqcy83unMKZvB2Ib+TATkUwhrI6E3rbohz/8ITNmzOBXv/pVsEWJiEhE276/gMc/2MizizeRU1jMiJ5t+MnIwZzZo7WGmYgCjTOELX8B5k+HfZmQ2hlGT4OBk+ts9WeeeSbLly8H4KuvvuKmm25ix44dNG3alEcffZTevXvzzTffcMMNN7BhwwYAHnroIc466ywmTZrEli1bKCgo4NZbb2XKlCl1VpeIiESGjTsP8PCiDby0NJPi0lLGD+jIT0b2oH+ahpmIJo0vhC1/AebeAkX+/SP3bfFeQ50EsZKSEubPn8+1114LwJQpU5g5cyY9e/bk448/5sYbb2TBggXccsstjBw5kldeeYWSkpJDzYuPP/44rVq1Ij8/n9NOO41LL72U1q1b17ouERFp+L7I3MfMhV/xxoqtxMXGcNnQzkwZ0Z2ubZoFXZqEQfSFsDemwrYvqp6f+SmUFJafVpQPs2+GpU9W/p4OA2D8XdVuNj8/n8GDB5OVlUWfPn0YM2YMubm5fPjhh1x++eWHliss9La9YMECnnrqKcDrT5aa6v3r5oEHHuCVV14BYMuWLXz55ZcKYSIiUcw5x4df7WLmwq9478udpCTE8eORPbhmeFfapSQGXZ6EUfSFsKOpGMCONr2GyvqE5eXlMXbsWGbMmMHVV19NixYtDvUVO5r09HTeeecdPvroI5o2bcqoUaMoKCioVV0iItIwlZQ63lq5jYcWfsXyzH20TUlg6vjefHfYCTTXMBONQvSFsKOcseK+/l4TZEWpXeCa12q9+aZNm/LAAw8wadIkbrzxRrp168Z///tfLr/8cpxzLF++nEGDBjF69GgeeughbrvttkPNkfv27aNly5Y0bdqUNWvWsHjx4lrXIyIiDUthcQmvfJbFw4s28PXOA3Rt3ZQ/XjKAb5+SRmK8hploTGKCLqDejZ4G8Unlp8UnedPryJAhQxg4cCDPPfcczz77LI899hiDBg2iX79+zJ49G4D777+fd999lwEDBnDqqaeyatUqxo0bR3FxMX369GHq1KmcccYZdVaTiIgEK6egiIcXfsWIu99l6stfkJwQx4zvnsL8X4ziu8NOUABrhKLvTNjRlHW+r+OrIyuO2zV37txDz998880jlm/fvv2hQBbqjTfeqHT9GzdurHJbctisZVncM28t2Xvz6dQiidvHnsykIWlBl1WnyvYxa28+aYsXRN0+RvsxjPbjJ0fakVPIEx98zdOLN5FTUMzwk1rz18mDGX6Shplo7BpfCAMvcNXhkBTSMMxalsUdL39BflEJAFl787njZe8ijWj5kov2fYzU/XPO4Rw4/3mpA4c3zZsPpc4x9/Ns7py7koKiUsDbv6kvL8eVOi45tXNwO1DHoj1I19SmXQd4ZNEG/rs0k6KSUsb378ANI3swsHOLoEuTBsJc2f8lIsTQoUPdkiVLyk1bvXo1ffr0CaiiyJSTk0NKSsqh19HwGQ6/awFZe/OPmB4bY3RMLX+FUW1/7Y/2d3O01R9t+66KNezIKaS0klkxBu1SEin7R3XZv60r+1f2oWVCZpn/jvLTyq+j3Jqq2c7haeXXXXH9lb1v3Tc5FFeyg3ExRo+2yTj8gOP8T8gPPqWHQpD/01/FEdPBn+8OBaZy00KC1KHp/jY5Yj2u0mNxvGIM4mJiiIs1YmOMuBgjLjaGuBjvdXxsTMh0IzYmhnh/Xlysee+tbtmarDfGiI2t6XrLb6Os9nfXbOeeeWspLC49tG9J8bH86dsDoi6IpaenM2rUqCOmr8zex8yFG3hteTZxMTFcemoa14/oTve2yfVfpFSrqmNYl8xsqXNuaGXzGueZMIk6ew4crDSAgXcF0undWh0x3ai+GeBorQRHa0Q4+vuPffvPf1rJRSVAqYOze7UBDgeQ0HxweNqRM92hZVwl0ypblys/rdy6XPn3VTevkvpWbd1fcdcAKC51dG3TlBgzzPzPzvsvZJoX6gzA/OlwaHkz/3ll08vee8Q0bz1UMd3bVvn1xYRshwrL/umNNZXuH8BN55xEUYmjpLSU4lJHcYmjuNR/7T8v9p+XlDqKQuYVFJVSXFpSftmSUv/97oj1lvjrqssQWZ38ohJ+/kIGf1/wJcmJ8aQkxJGcEEezhDhSEr3nyWU/E8q/Tkn0lktOiCMhLqbBNt855/howy5mLtzAonU7SE6I4/qzu3Pt8G60a65hJqRyURPCnHMN9o+zoYu0s6GhDhQW8/j7X/PIog1VLpPWIom/Th5cf0WF0Xtf7qw0bKa1SOLPlw0KoKK6VdXZzLQWSTz8/Ur/IRlRnvpoU5X794vzT673ekpLQ8JdqaOkxFFUWuqFtJAQWHQouFUMd6Uh07313Pp8RuXbctC7Q3NyCovJLShie04BBwpLyCkoIrewuEaBMD7WDgW0Zk1CA1y8H95iSU6IJzkxzgt6IQEuNOw1axJXq/sthvbr67R4PmP7teezzfv4fMte2iQn8D/jTuaqYSeSmqRhJqR6URHCEhMT2bVrF61bq5PjsXLOsWvXLhITI+tfageLS3n+0808MH89O3MLOb9ve045oQX3z19/qD8ReM0gt4+t/y+3cLl97Mnl+kxBdO2j9q9+xcQYTWKMJnV4ofyf31xbZdCccdUplb7HOUd+UQm5BcXkFvqPgmI/sBVz4GAxOQWHpx8oPDxvZ+5BNu7KOzQv9LOtTtMmsVWegUvxz9KFhrnkhHiaJcSydOMeHnx3/aHm1uy9BTzxwSZaNYvnD5f059JTOusqR6mxqAhhnTt3JjMzkx07dgRdSsQoKCg4FLwSExPp3DkyOgWXljrmLs/mL2+tY/PuPIZ1a8UjPziVU05oCUCH1KSo7hBcti+Hrq6Lsn0M3b9oPIbRfvzg+IKmmdG0SRxNm8TRrpbbLy4p9c6wFRZxoLCE3MKicgEuNOQdeu6/3nwgj5yQ0FdyDO21ifGxXDXsxFpWL41NVHTMl2NXH50R65JzjvS1O/jzvLWs3rqfvh2b8z/jTmZkr7aN9uxnpB1DKS+aj180XB3pnKOwuPRQgDtQ6AWzKx+tfBBtA76+64L6LVJqTR3zRY5i6aY93P3mGj75ejcntGrK/VcM5qKBnYipRZ8OEQmfSUPSIi50VWRmJMbHkhgfS9uUhEPT01okVdrc2qlF0hHTRI5GIUwarHXf5HDPvLW8veob2iQn8LuJ/fjOaSfQJK7x3ehBRBqGhtavTyKbQpg0OJl78rjv7S95eVkmyU3iuH3syVwzvCtNm+jXVUSC1Rj69Un90beaNBi7cguZ8e5XPLN4ExhcP6I7PxnZg5bNmgRdmojIIWXNrdHcr0/qh0KYBC63sJjH3vuaR9/bQN7BYi4/tQu3ntdTfSxERCSqKYRJYAqLS3ju4838fcF6dh04yLh+Hfjl2F6c1C7l6G8WERGJcAphUu9KSh1zPs/iL2+tI3NPPmd2b83/ju/N4C4tgi5NRESk3iiESb1xzrHAv7nvmm059OvUnD9eMoARPds02rG+RESk8VIIk3qxZONu7n5zDZ9u3EPX1k35+5VDuGBAR431JSIijZZCmITVmm37uXfeWt5ZvZ22KQn8flJ/vnNaF+JjNdaXiIg0bgphEhZbdudx39vreCUji+SEOP5n3MlcfZbG+hIRESmjb0SpUztzC3lwwXqe/XgTMWZMOdsb66tFU431JSIiEkohTOpETkER/3zva/753gYKikuZPLQzt4zuScdUjfUlIiJSGYUwqZXC4hKeWbyZGe+uZ/eBg0wY0IFfnH8yPdomB12aiIhIg6YQJselpNTxyrIs7nt7HVl78xl+Umv+Z2xvBmmsLxERkRpRCJNj4pzjndXbuWfeGtZ9k8uAtFTuvnQg3+rZJujSREREIopCmNTYJ197Y30t3bSHbm2aMeO7pzC+fweN9SUiInIcFMLkqFZv3c+f31zDu2t30L55An+8ZACXD+2ssb5ERERqIawhzMzGAfcDscA/nXN3VZh/AvAk0MJfZqpz7vVw1iQ1t3lXHn99ey2zP88mJSGOqeN788Mzu5LUJDbo0kRERCJe2EKYmcUCM4AxQCbwqZnNcc6tClns18ALzrmHzKwv8DrQNVw1Sc3syCnkwQVf8u9PNhMbY9wwsgc3nN2D1KbxQZcmIiISNcJ5Jux0YL1zbgOAmT0PTARCQ5gDmvvPU4HsMNYjR7G/oIh/LtrAP9//msLiUr5zWhduHd2T9s0Tgy5NREQk6oQzhKUBW0JeZwLDKixzJ/CWmf0UaAacF8Z6pAoFRSU8s3gTM95dz568Ii4Y2JFfjOlFd431JSIiEjbmnAvPis0uA8Y5567zX38fGOacuzlkmZ/7NfzFzM4EHgP6O+dKK6xrCjAFoH379qc+//zzYam5Mfgwu4iX1hWxq6CU1okx9G8Twxc7S9ld4OjXOobLezWha6r6fEWC3NxckpMVlCOVjl/k0zGMfPVxDM8555ylzrmhlc0L55mwLKBLyOvO/rRQ1wLjAJxzH5lZItAG2B66kHPuEeARgKFDh7pRo0aFqeToNmtZFk/P/4L8IgcYuwocCzNL6NIyib9/byDDT9JYX5EkPT0d/S1ELh2/yKdjGPmCPobhHGPgU6CnmXUzsybAFcCcCstsBkYDmFkfIBHYEcaaGrV75q0lv6jkiOmlzimAiYiI1LOwhTDnXDFwMzAPWI13FeRKM5tuZhf7i/0CuN7MPgeeA6524WofFbL35lcxvaCeKxEREZGwjhPmj/n1eoVp00KerwKGh7MGOaxTiySyKglinVokBVCNiIhI46YhzxuRX4zpdcS0pPhYbh97cgDViIiING4KYY1I+1RvvK+W/qCraS2S+NO3BzBpSFqQZYmIiDRKundkIzJrWRbJCXF8dMdoFn/wnq7qERERCZDOhDUSBUUlvLliG2P7dSAxXuOAiYiIBE0hrJF4d812cgqLmTi4U9CliIiICAphjcbsjGzaJCdwVo/WQZciIiIiKIQ1Cvvyi1iwZjsXDuxIXKwOuYiISEOgb+RGYN6KbRwsKdVVkCIiIg2IQlgjMPvzLE5s3ZRBnVODLkVERER8CmFR7pv9BXz41S4mDuqEmQVdjoiIiPgUwqLc3M+zcQ4uHqymSBERkYZEISzKzc7Ipn9ac05qlxx0KSIiIhJCISyKfbUjly+y9jFJZ8FEREQaHIWwKDYnIxszuHCgBmgVERFpaBTCopRzjtkZWZzZvTUd/Bt3i4iISMOhEBallmfuY+OuPN2mSEREpIFSCItSszKyaBIbw7j+HYMuRURERCqhEBaFSkodcz/fyjm925KaFB90OSIiIlIJhbAo9NFXu9iZW8hEXRUpIiLSYCmERaFZGVmkJMRxbu92QZciIiIiVVAIizIFRSW8uWIbY/t3IDE+NuhyREREpAoKYVFmwZrt5BYW66pIERGRBk4hLMrMzsiiTXICZ/VoE3QpIiIiUg2FsCiyL7+Id9fs4KJBHYmNsaDLERERkWoohEWRN1ds5WBJqe4VKSIiEgEUwqLI7IxsurZuysDOqUGXIiIiIkehEBYltu0r4KMNu7h4cBpmaooUERFp6BTCosSry7NxDl0VKSIiEiEUwqLE7IxsBqSl0qNtctCliIiISA0ohEWBr3bk8kXWPp0FExERiSAKYVFgdkY2ZnDRIIUwERGRSKEQFuGcc8zOyOKsHq1p3zwx6HJERESkhhTCItznmfvYtCuPiYM0NpiIiEgkUQiLcLOWZdEkNoax/TsEXYqIiIgcA4WwCFZcUsqry7dybu92pCbFB12OiIiIHAOFsAj20YZd7Mwt1FWRIiIiEUghLILNWpZNSkIc5/RuF3QpIiIicowUwiJUQVEJ81ZuY1z/DiTGxwZdjoiIiBwjhbAINX/1dnILi5k4WFdFioiIRCKFsAg1OyOLtikJnNmjddCliIiIyHEIawgzs3FmttbM1pvZ1CqWmWxmq8xspZn9O5z1RIt9eUWkr93BRQM7ERtjQZcjIiIixyEuXCs2s1hgBjAGyAQ+NbM5zrlVIcv0BO4Ahjvn9piZepjXwBsrtnKwpJRJQ3RVpIiISKQK55mw04H1zrkNzrmDwPPAxArLXA/McM7tAXDObQ9jPVFjdkY23do0Y0BaatCliIiIyHEKZwhLA7aEvM70p4XqBfQysw/MbLGZjQtjPVFh274CFn+9i4sHdcJMTZEiIiKRKmzNkcew/Z7AKKAzsMjMBjjn9oYuZGZTgCkA7du3Jz09vX6rbEDe+LoI56DjwUzS07OPez25ubmN+nOMBjqGkU3HL/LpGEa+oI9hOENYFtAl5HVnf1qoTOBj51wR8LWZrcMLZZ+GLuScewR4BGDo0KFu1KhR4aq5wbv3i/cY2DmJKy74Vq3Wk56eTmP+HKOBjmFk0/GLfDqGkS/oYxjO5shPgZ5m1s3MmgBXAHMqLDML7ywYZtYGr3lyQxhrimjrt+eyImu/xgYTERGJAmELYc65YuBmYB6wGnjBObfSzKab2cX+YvOAXWa2CngXuN05tytcNUW6ORlZxBhcNLBj0KWIiIhILYW1T5hz7nXg9QrTpoU8d8DP/YdUwznHrIxszurRhnbNE4MuR0RERGpJI+ZHiIwte9m8O4+LB2tsMBERkWigEBYhZmdk0yQuhnH9OwRdioiIiNQBhbAIUFxSyqvLsxndux3NE+ODLkdERETqgEJYBPjwq13szD3IRDVFioiIRA2FsAgwKyOLlMQ4Rp2sW2uKiIhEC4WwBq6gqIR5K7Yxvn8HEuNjgy5HRERE6ohCWKjlL8B9/eHOFt7P5S8EXRHzV2/nwMESDdAqIiISZRTCyix/AebeAvu2AM77OfeWwIPYrIws2qUkcEb31nWzQj9ojkyf1GCCpoiISGNU48Fazaypcy4vnMUEav50KMovP60oH974XygtBgzMKvlJFdNDf8ZUM48q35tbWELeuqXc1K8jsVs+Oso2qlpPyLa/nAfpd0Fxgbd4WdAEGDg5LB+riIiIVO6oIczMzgL+CSQDJ5jZIODHzrkbw11cvdqXWfn0/N0w6yf1W4svGXg2DljrP8KhKN/bvyVPQLM20KxtJT/9R2ILiNHJUxERkbpQkzNh9wFj8W++7Zz73MzODmtVQUjt7DdFVpDSEa55A3DgnDfNuZDXNfzpSv3n1Pg9019dyb4DB7n38oEYFefXYD2HtulP++/Vle97aTHExMLOdbDpA8jbjb+B8iy28oDWtHX5sFY2r0mzw2cLRUREpJwaNUc657ZY+S/TkvCUE6DR07ymudAmyfgkGDMdWnWr93K27svniez93Dq6J9ajV92s9K3fVB40U7vA1a8efl1S7J0BPLDDf+ys8Nx/vWeJ9/xgTuXbi0uq5IxaaIgLDXJtIK5J7fdx+Qte0/K+TC9Yj56mplYREWmQahLCtvhNks7M4oFbgdXhLSsAZV/UDeQLfO7n2ThH3V4VWVXQHD2t/HKxcZDcznvURFF+SFALDWz+67ydkLsNvlnhTSs5WPl6ElMrCWtVnG1Lanlk02jZxRVl+6c+byIi0oDVJITdANwPpAFZwFvATeEsKjADJzeYL+vZGdkM6pxKtzbN6m6lIUHT7cvE6ipoxidBiy7e42icg8L9lYe10Oc718OmjyBvF1U2jR4KZn5gW/dm5RdXzJ/eYI6riIhImaOGMOfcTuCqeqhFfOu357Ayez/TLuxb9yv3g+bC9HRGjRpV9+s/GjPvjFdiKrTucfTlS0u8PmrVBba8nZD9GRzMrXwd+zK9MBafVLf7IiIiUgs1uTryCSo5FeGc+1FYKhJmZ2QTY3DhoI5BlxK8mFhIbus9jua+/pX3ecPBn3tAz/Ogz8XQc4wXAkVERAJUk+bIkB7bJAKXANnhKUecc8zOyGb4SW1ol5IYdDmRpao+b6f/GApzYM2rsGo2xMRD91HQ5yI4eULNAp6IiEgdq0lz5Euhr83sOeD9sFXUyC3bspfNu/P46bknBV1K5DnaxRUT7oXMT2HNXFg91wtsr94GJ5wJvS+EPhdCixMCK19ERBqXGo+YH6InUMPL5uRYzcnIpklcDGP7dwi6lMhU3cUVMTFwwjDvMeZ33tWaq1/1Atm8O7xHx8FeGOtzMbQ9uV5LFxGRxqUmfcJy8PqEmf9zG/C/Ya6rUSouKeXV5dmc16cdzRPjgy4nuplBhwHe45w7YNdXXnPl6rmw4Pfeo3VPr8myz0XQaYgGnhURkTpVk+bIlPooROCDr3axM/cgFw+qw7HBpGZa94Dht3qP/dmw5jUvkH1wP7z/V2je2T9DdpHXfBkTG3TFIiIS4aoMYWZ2SnVvdM59VvflNG6zl2WRkhjHOb3VUTxQzTvB6dd7j7zd3vhjq+fC0n/BxzO98clOnuAFsu6jIC4h6IpFRCQCVXcm7C/VzHPAuXVcS6OWf7CEeSu3ceHATiTE6SxLg9G0FQz+rvcozIX17xy+ynLZ09AkBXqd73Xs7zkGEnTiWEREaqbKEOacO6c+C2ns5q/5hgMHS5g4uFPQpUhVEpKh3yTvUVwIXy/yzpCteQ1WvASxCdDjHO8MWa/x0Kx10BWLiEgDVqOrI82sP9AXb5wwAJxzT4WrqMZo1rJs2jdPYFh3fXFHhLgE78xXzzFw4X2wefHhjv3r3vRuq3TiWd5Vlr0vgFT18xMRkfJqcnXkb4FReCHsdWA83jhhCmF1ZG/eQRau284Pz+xKbIyuwIs4MbHQdbj3GPtH2Pq5F8ZWz4U3bvceaad6Z8h6XwRtNAaciIjU7EzYZcAgYJlz7hozaw88E96yGpfXv9hGUYlj0hCdLYl4ZtBpsPcY/RvYsc4fHPZVeOdO79G2jz/0xYXQYaCGvhARaaRqEsIKnHOlZlZsZs2B7UCXMNfVqMzOyKJ722b069Q86FKkrrXtBW1/ASN+AXu3eP3H1rwK790Li/7sjdDf2x+LrMvpGvpCRKQRqW6IihnAc8AnZtYCeBRYCuQCH9VLdY1A9t58Ptm4m9tG98J0RiS6tegCZ9zgPQ7shLWve2fIPn0UFs+AZu2gtz/0RdezIa5J0BWLiEgYVXcmbB1wD9AJOIAXyMYAzZ1zy+uhtkZh7ufZOIeuimxsmrWBU37gPQr2w/q3vT5ky//rjUeWkAq9xnqB7KTR0KTZ4fcufwHmT2fkvkxYVuH+mCIiEjGqG6LifuB+MzsRuAJ4HEgCnjOzfOfcl/VUY1SbnZHNoC4t6Nqm2dEXluiU2Bz6X+o9igpgQ7oXyNa+Dl+8AHFJXhDrcxEU5Xv3uCzKxwD2bfFuRA4KYiIiEaYmty3aBNwN3G1mQ/DC2DRAnVdq6ctvcli1dT+/vahv0KVIQxGfCCeP8x4lxbD5Q/9Ky1e9vmSVKcqH+dMVwkREIkzM0RYwszgzu8jMngXeANYC3w57ZY3A7IxsYgwuGNgx6FKkIYqNg25nw4R74Gcr4boFVS+7L7P+6hIRkTpRXcf8McCVwATgE+B5YIpz7kA91RbVnHPM/jyL4Se1oV1K4tHfII1bTAx0PhVSu3hNkBU1a1P/NYmISK1UdybsDuBDoI9z7mLn3L8VwOrOZ5v3smV3PhMHa2wwOQajp0F8UoWJBgd2wDOXwTerAilLRESOXXUd83WD7jCak5FFQlwMY/u1D7oUiSRl/b7mT8fty8RSO8M5/w/ydsGie2DmcBjyPTjnV5DSIdhaRUSkWjW6d6TUraKSUl5dvpXz+rQnJTE+6HIk0gycDAMnszA9nVGjRh2ePvgqL4h98ih88RIMvwXO+mn54S1ERKTBOGrHfKl7H6zfya4DB7lYY4NJXWraCsb9CW76GHqeB+l/ggdOgc+egtKSoKsTEZEKFMICMCcjm+aJcYw6uW3QpUg0at0DJj8FP3rLG6V/zk9h5ghY/07QlYmISAiFsHqWf7CEeSu3MWFARxLiNNSahNEJw+Dat+Hyf0HRAXjmUnj6Eti2IujKREQEhbB6987qbzhwsERNkVI/zKDfJXDTJzD2j5D1Gcz8Fsy+CfZvDbo6EZFGLawhzMzGmdlaM1tvZlOrWe5SM3NmNjSc9TQEszOy6NA8kWHdWgddijQmcQlw5k1wa4b38/P/wN9PgXf/CIW5QVcnItIohS2EmVksMAMYD/QFrjSzI+7PY2YpwK3Ax+GqpaHYc+Ag6Wt3cNGgjsTGWNDlSGOU1BLG/gFu/tS7QfjCu70wtvRf3m2SRESk3oTzTNjpwHrn3Abn3EG8EfcnVrLc7/DuTVkQxloahNdXbKW41GmAVgleq25eX7Fr34GW3WDurV4z5Zdvg3NBVyci0iiEM4SlAaH3V8n0px1iZqcAXZxzr4WxjgZjdkY2Pdo2o1+n5kGXIuLpchr86E2Y/DSUFMKzl8HTk2Dr8qArExGJeoEN1mpmMcBfgatrsOwUYApA+/btSU9PD2tt4bArv5RPvs7nkpPiWbhwYdDlkJubG5GfoxxWt8ewOdb/z3TKfpOuG/9D3MNns63DOWzsehWFibovZTjobzDy6RhGvqCPYThDWBbQJeR1Z39amRSgP5BuZgAdgDlmdrFzbknoipxzjwCPAAwdOtSVGyU8Qsxc+BWwhtsuGc6JrYMfwTy94mjrEnHCcwzHQP5v4L2/0PHjmXTc+RGcdTMMvxUSUup4W42b/gYjn45h5Av6GIazOfJToKeZdTOzJsAVwJyymc65fc65Ns65rs65rsBi4IgAFi1mZ2QzuEuLBhHARKqV1ALO/53Xeb/3Bd6tkB4YAkseV+d9EZE6FLYQ5pwrBm4G5gGrgReccyvNbLqZXRyu7TZE677JYfXW/UzS2GASSVp2hcseg+sWQOue8OrP4KGzYN08dd4XEakDYe0T5px7HXi9wrRpVSw7Kpy1BGl2RhYxBhcMVAiTCNT5VLjmdVjzGrw9Df49GbqdDef/HjoOCro6EZGIpRHzw8w5x+yMbIaf1Ia2KQlBlyNyfMygz4XezcHH3+Pd+ujhkfDKDbAvM+jqREQikkJYmH22eQ+Ze/KZpLHBJBrExsOwKd7I+8NvhRUvw99PhXf+Dwr2B12diEhEUQgLs9kZ2STExXB+v/ZBlyJSdxJTYcz/wU+XQJ+L4f2/ep33P3kUSoqCrk5EJCIohIVRUUkpry7fynl925OSGB90OSJ1r8UJcOmjcP270LY3vP5Lr/P+mtfVeV9E5CgUwsLo/fU72X3gIBMHqUO+RLm0U+DqV+GK57zw9fyV8ORFkL0s6MpERBoshbAwmpORTWpSPKNObhd0KSLhZwa9J8CNH8GEe2H7KnhkFLw8BfZuOerbRUQaG4WwMMk7WMy8lduYMKADTeL0MUsjEhsPp18PtyyDb/0cVs32Ou+//Vso2Bd0dSIiDYbSQZi8s3o7eQdLuHiQroqURioxFc77Ldy8BPpdAh/8zeu8//Ej6rwvIoJCWNjMXpZFh+aJDOvWKuhSRILVogt8+2GYshDa9YU3bod/nAGrX1XnfRFp1BTCwmDPgYMsXLeDiwd3IibGgi5HpGHoNBh+OBe++wJYLPznKnhiAmQuDboyEZFAKISFwesrtlJc6pioe0WKlGcGvcbCTz6EC++DXV/CP8+FF6+FPZuCrk5EpF6F9d6RjdXsZdmc1C6Zvh2bB12KSMMUGwdDfwQDLocP7ocPH4TVc2DYDdCqB7x3r3c7pNTOMHoaDJwcdMUiInVOIayOZe3N55ONu/nFmF6YqSlSpFoJKXDur+HUa+DdP8CHD5Sfv28LzL3Fe64gJiJRRs2RdWxORjYAE3WvSJGaS02DSf+A5Epu71WUD/On139NIiJhphBWx2ZnZDHkhBac0Lpp0KWIRJ7c7ZVP35dZv3WIiNQDhbA6tHZbDmu25TBJZ8FEjk9q58qnm8HyFzSkhYhEFYWwOjQ7I4vYGGPCgI5BlyISmUZPg/ik8tPiEiD1RHj5enh6Euz6KpDSRETqmkJYHXHOMTsjm+EntaFtSkLQ5YhEpoGT4aIHILULYN7Pix+EW5Z696PM+gz+cSYsugeKDwZdrYhIrejqyDqydNMesvbm84vzewVdikhkGzi58ishT78eel8Ib06FBb+H5f+Fi+6HE8+s/xpFROqAzoTVkdkZ2STGx3B+vw5BlyISvZp3hMlPeqPuF+XDE+Ngzk8hb3fQlYmIHDOFsDpQVFLKa19s5bw+7UlO0MlFkbDrNRZuWgxn/RSWPQszTvfOjKnjvohEEIWwOvD+lzvZfeCgxgYTqU9NmsH5v4cp6dDiBHj5Onj6Eti9IejKRERqRCGsDszOyCI1KZ6RvdoGXYpI49NxIFz7ttdxP3OJ33H/XnXcF5EGTyGslvIOFvPWqm+YMKAjTeL0cYoEIibW67h/86deU+WC38HDI2DTR0FXJiJSJaWGWnp71TfkHSxh4uBOQZciIs07wuSn4Mr/wMEDXsf9ubdC/p6gKxMROYJCWC3NzsimY2oip3dtFXQpIlLm5HFwo99x/7On4cHT4IsX1XFfRBoUhbBa2H3gIIvW7eDiQZ2IibGgyxGRUAnJhzvup3aBl66FZ76tjvsi0mAohNXC619spbjU6apIkYas40C47h0Yfw9s+dTruP/eX9RxX0QCpxBWC7MzsujZLpk+HVOCLkVEqhMTC8OmwM2fQM/zYf50eGQkbP446MpEpBFTCDtOmXvy+HTjHiYO7oSZmiJFIkLzTvCdp+HK56EwBx4/H+bepo77IhIIhbDjNOfzbAA1RYpEopPHex33z7wZPnsSHjxdHfdFpN4phB2nORnZnHJCC7q0ahp0KSJyPBKSYewf/I77aX7H/Uth99dBVyYijYRC2HFYs20/a7blMGmIzoKJRLyOg+C6+TD+z7DlY/jHGfDeX6GkKOjKRCTKKYQdh9kZ2cTGGBMGdAy6FBGpCzGxMOzHcNMn0HMMzP8/ePhs2PJJ0JWJSBRTCDtGpaWOORnZfOukNrRJTgi6HBGpS6lp8J1n4IrnoGA/PHY+vPozyN8bdGUiEoUUwo7R0s17yNqbz6Qhuk2RSNTqPQFu+hjOuBGW/ssbcX/FS+q4LyJ1SiHsGM3OyCIxPoYxfTsEXYqIhFNCMoz7I1z/rje0xYs/gmcvgz0bg65MRKKEQtgxKCop5bXlWxnTtwPJCXFBlyMi9aHTYLh+AYy7GzYvhhlnwPt/U8d9Eak1hbBj8N6XO9iTV8TEQWqKFGlUYmLhjBu8jvsnjYZ3fgsPj1THfRGpFYWwYzA7I5sWTeM5u1fboEsRkSCkpsEVz8IV/4aCvX7H/Z+r476IHJewhjAzG2dma81svZlNrWT+z81slZktN7P5ZnZiOOupjQOFxby18hsmDOhIkzhlV5FGrfcFfsf9n8DSJ2DG6bDiZXXcF5FjErY0YWaxwAxgPNAXuNLM+lZYbBkw1Dk3EHgR+HO46qmtd1Z/Q35RiZoiRcSTkALj/uT1F0vpAC9eA/+eDHs2BV2ZiESIcJ7SOR1Y75zb4Jw7CDwPTAxdwDn3rnMuz3+5GOgcxnpqZXZGNp1SEzmta6ugSxGRhqTTELhuAYy7CzZ9CDOGwQf3q+O+iBxVOENYGrAl5HWmP60q1wJvhLGe47b7wEEWrdvBRYM7ERNjQZcjIg1NbJzXNHnTx9DjXHh7GjwyCrZ8GnRlItKANYhxFszse8BQYGQV86cAUwDat29Penp6/RUHLNhcRHGpo3PxVtLTv6nXbYdLbm5uvX+OUrd0DBuojlNoEzeQnl8+QpPHxpDdaRwbun+fkrhm5RbT8Yt8OoaRL+hjaC5MHUnN7EzgTufcWP/1HQDOuT9VWO484O/ASOfc9qOtd+jQoW7JkiVhqLhqlz30IfsLiph329mYRceZsPT0dEaNGhV0GVILOoYNXGEOLPgDfPIwNGsH4++GvhPB/3+Ijl/k0zGMfPVxDM1sqXNuaGXzwtkc+SnQ08y6mVkT4ApgToXChgAPAxfXJIAFYcvuPJZs2sPEwWlRE8BEpB4kpMD4u+C6+ZDSHv77Q/j3d+Cjf8B9/RmZPgnu6w/LXwi6UhEJSNiaI51zxWZ2MzAPiAUed86tNLPpwBLn3BzgHiAZ+K8fcDY75y4OV03HY+7ybAAu1lWRInI80k7xOu5/8gi8/Vv4ch4ABrBvC8y9xVtu4OTAShSRYIS1T5hz7nXg9QrTpoU8Py+c268Ls5dlc+qJLenSqmnQpYhIpIqNgzNvhA8fgJyt5ecV5cP86QphIo2QRh2txppt+1n7TQ6TBussmIjUgZxtlU/fl1m/dYhIg6AQVo1Zy7KJjTEmDOgYdCkiEg1SqxoK0cGTF2lIC5FGRiGsCqWljrmfZzOiZxtaJycEXY6IRIPR0yA+qfy0uCQYMBm+WQWPned13t/2RTD1iUi9UgirwpJNe8jam8+kwdWNLysicgwGToaLHoDULjgMUrvAxQ/ApY/CrZ/Dub+BzR/BzG/Bf6+BnV8GXbGIhFGDGKy1IZqdkUVSfCxj+rYPuhQRiSYDJ8PAySysOD5RQjKc/Us47Tr48O+w+CFYNQsGfRdG/g+0PDGoikUkTHQmrBIHi0t57YutjOnbnmYJyqkiUo+SWsDo33hnxob9BL74L/z9VHjtl1V37BeRiKQQVon3vtzB3rwiJuqqSBEJSnJbGPdHuGUZDPkeLH0C7h8Mb/0G8nYHXZ2I1AGd5gkxa1kW98xbS9befGIM9uYdDLokEWnsUtPgor/B8Fsg/W6vqXLJE3DmTd4jsXnQFYrIcdKZMN+sZVnc8fIXZO3NB6DUwa9nrWTWsqyAKxMRAVp1h28/DDcuhh7nwMK74P6B8P7f4GBe0NWJyHFQCPPdM28t+UUl5ablF5Vwz7y1AVUkIlKJdr3hO0/DlHRIOxXe+S08MBg+fgSKC4OuTkSOgUKYL9s/A1bT6SIigeo0BL73ElzzJrQ+Cd643evA/9nTUFIcdHUiUgMKYb5OLZKOabqISINw4plw9WvwvZehWRuYczP8Yxh88SKUlgZdnYhUQyHMd/vYk0mKjy03LSk+ltvHnhxQRSIiNWQGJ42G69+F7zwLsU3gpWvh4RGw9g1wLugKRaQSCmG+SUPS+NO3B5DWIgkD0lok8advD2DSEI2YLyIRwgz6XAg3vA/f/icU5cFzV8A/z4MN6UFXJyIVaIiKEJOGpCl0iUjki4mFgZdDv0mQ8W9Y+Gd4aiJ0HeHdGumEYUFXKCLoTJiISPSKjYdTfwg/XQrj7oYda+Dx8+HZybB1edDViTR6CmEiItEuPhHOuMG7FdLo38KWj73+Yi/8EHasC7o6kUZLIUxEpLFo0gxG/NwLY2ffDuvf8a6kfOUnsGdj0NWJNDoKYSIijU1SCzj3114YO+NGWPES/H0ovPpz2L816OpEGg2FMBGRxqpZGxj7B7g1A075Pnz2pDf6/rxfwYFdQVcnEvUUwkREGrvmneDC++DmJdDvElj8D+++lAv+AAX7gq5OJGophImIiKdVN7hkpneT8JNGw6I/w98Gwnt/hYMHgq5OJOoohImISHltT4bJT8GUhdDldJj/f3D/YFg8UzcJF6lDCmEiIlK5ToPhqv/Cj+ZBm17w5v/CA6fA0id1k3CROqAQJiIi1TvhDLj6Vfj+K5DcDubeAjNO003CRWpJIUxERI7ODHqcC9cvgCv+DXFJ3k3CZ34L1rymm4SLHAeFMBERqTkz6H2Bd5PwSx+D4gJ4/rvwz9Hw1QIvjC1/Ae7rD3e28H4ufyHoqkUaJN3AW0REjl1MDAy4DPpOgs//Del3w9OXQOtesHcTlPgd+Pdt8ZovAQZODqxckYZIZ8JEROT4xcbBKT+AWz6D8X+G3esPB7AyRfkwf3ow9Yk0YAphIiJSe3EJMOzHVfcN27cF5v8O1r4BuTvqtzaRBkrNkSIiUndSO3uBq6KYeHj/PnAl3usWJ0LnodD5NEgbCh0HekFOpBFRCBMRkbozeprXB6wo//C0+CS46AHofSFszYDMJZD5KWxe7N08HLyQ1mGAF8o6D4W0U6FVd+9CAJEopRAmIiJ1p6zz/fzpsC/TOzM2etrh6See5T3K7M/2QlnWEshcCsuehk8e9uYltfID2dDDwSypRb3ujkg4KYSJiEjdGji55ldCNu8EfS/2HuCNxL9jtX+2zA9nX74N+H3NWvf0z5ad6oWz9v0gNj4suyESbgphIiLScMTGec2SHQbA0Gu8aQX7IHuZ14SZuRTWv+0NiwHeoLGdBntnycqaMpunqRlTIoJCmIiINGyJqdB9lPcA7wrMvZv8M2VLvXD2ySPw0YPe/OQOfqd/vymz0xBISA6qepEqKYSJiEhkMYOWXb3HgMu8acUH4ZsvyjdjrnnVXz4G2vX1z5b5V2S26QUxsUHtgQigECYiItEgrokXstJO9cYrAziwyztTluVfjblqFnz2pDevSQqkDTk8REbnod7NyUXqkUKYiIhEp2atodf53gOgtBR2f+X3LfPPlr3/t5Cxy044HMg6nwYdBkJ84pHrXf4CzJ/OyH2ZsKzC1Z8ix0AhTEREGoeYGGjT03sM/q437WAebP388NmyLZ/Aypf95eOhQ38/mPmd/rOWHhoHzUD3xpRaUQgTEZHGq0lTOPFM71EmZ9vhAWWzlkLGv+HTR715FgOutPw6ivLhrV97FwA0SYYmzbyfMbozoFQvrCHMzMYB9wOxwD+dc3dVmJ8APAWcCuwCvuOc2xjOmkRERKqV0gH6XOg9AEpLYPtq72zZ3Fsrf0/uN/Dg0PLT4pt5gSyhLJilhDxPhoSUw8+bNPNfV/Y82XtvbD2dN/GbWysdbDdaNJAm5bAdUTOLBWYAY4BM4FMzm+OcWxWy2LXAHufcSWZ2BXA38J1w1SQiInLMYmK9ZskO/WHRvZXfG7NpGxh3FxzMgcJcOHgADuZ6j0L/58EDkLv98POy6VRx0/OKYhOOM9D5Ia7i87iEI8dTW/5C+dtORWNza8g+Bt2kHM5YfTqw3jm3AcDMngcmAqEhbCJwp//8ReBBMzPnXA1/I0VEROpRVffGHPcnGHj5sa/POSjKCwlquSEh7iiBrjDHG8h2f3b595cW12zbMXFHBrptK6CksPxyRfnw6s+8JlozwLyf5je3HnpuIfNjqnlOhXVU8vyI91U3vYp1hNYX+r43p5Y/fmX7OH96VIWwNCD0nwuZwLCqlnHOFZvZPqA1sDN0ITObAkwBaN++Penp6WEqufHIzc3V5xjhdAwjm45fpGpHu5N+QvcNT5NQuIPChLZs6P59tu9uB3V6PJvgfR22Pjwp3n9UxzliSouILSkgtiS/wqOAuOLDz0PnxRXnE5tXQMuSQiq714A7mEvxZ89izuGdufMeh1+DHeord3i61fQsXwPg9mWysJ7/JiOiY75z7hHgEYChQ4e6UaNGBVtQFEhPT0efY2TTMYxsOn6RbBTw20PHsC/QN+CK6sx9/SttbrXULsT/bMXxrdM574H/05Uefo7/utLn1byv2nVUN70Unvm214fviH3sXO9/k+EMYVlAl5DXnf1plS2TaWZxQCpeB30RERGpb1U1t46edvzrPNSU2ECc//u638fjFM7rZz8FeppZNzNrAlwBzKmwzBzgh/7zy4AF6g8mIiISkIGT4aIHILULYN7Pix6Ink75UG4fXcD7GLYzYX4fr5uBeXhDVDzunFtpZtOBJc65OcBjwNNmth7YjRfUREREJCgDJ0dX6KqMv48LA+4WENY+Yc6514HXK0ybFvK8ADiOy0lEREREIpuG8xUREREJgEKYiIiISAAUwkREREQCoBAmIiIiEgCFMBEREZEAKISJiIiIBEAhTERERCQAFmkD1JvZDmBT0HVEgTZUuFG6RBwdw8im4xf5dAwjX30cwxOdc20rmxFxIUzqhpktcc4NDboOOX46hpFNxy/y6RhGvqCPoZojRURERAKgECYiIiISAIWwxuuRoAuQWtMxjGw6fpFPxzDyBXoM1SdMREREJAA6EyYiIiISAIWwKGZm48xsrZmtN7Oplcz/uZmtMrPlZjbfzE4Mok6p2tGOYchyl5qZMzNdqdXA1OQYmtlk/29xpZn9u75rlOrV4P+lJ5jZu2a2zP//6YQg6pTKmdnjZrbdzFZUMd/M7AH/+C43s1PqqzaFsChlZrHADGA80Be40sz6VlhsGTDUOTcQeBH4c/1WKdWp4THEzFKAW4GP67dCOZqaHEMz6wncAQx3zvUDbqvvOqVqNfw7/DXwgnNuCHAF8I/6rVKO4l/AuGrmjwd6+o8pwEP1UBOgEBbNTgfWO+c2OOcOAs8DE0MXcM6965zL818uBjrXc41SvaMeQ9/vgLuBgvosTmqkJsfwemCGc24PgHNuez3XKNWryTF0QHP/eSqQXY/1yVE45xYBu6tZZCLwlPMsBlqYWcf6qE0hLHqlAVtCXmf606pyLfBGWCuSY3XUY+ifNu/inHutPguTGqvJ32EvoJeZfWBmi82sun+xS/2ryTG8E/iemWUCrwM/rZ/SpI4c6/dlnYmrj41Iw2Zm3wOGAiODrkVqzsxigL8CVwdcitROHF4zyCi8s9GLzGyAc25vkEXJMbkS+Jdz7i9mdibwtJn1d86VBl2YNGw6Exa9soAuIa87+9PKMbPzgF8BFzvnCuupNqmZox3DFKA/kG5mG4EzgDnqnN+g1OTvMBOY45wrcs59DazDC2XSMNTkGF4LvADgnPsISMS7J6FEhhp9X4aDQlj0+hToaWbdzKwJXmfROaELmNkQ4GG8AKZ+KA1PtcfQObfPOdfGOdfVOdcVr1/fxc65JcGUK5U46t8hMAvvLBhm1gaveXJDPdYo1avJMdwMjAYwsz54IWxHvVYptTEH+IF/leQZwD7n3Nb62LCaI6OUc67YzG4G5gGxwOPOuZVmNh1Y4pybA9wDJAP/NTOAzc65iwMrWsqp4TGUBqyGx3AecL6ZrQJKgNudc7uCq1pC1fAY/gJ41Mx+htdJ/2qnkdAbDDN7Du8fOm38fnu/BeIBnHMz8frxTQDWA3nANfVWm35PREREROqfmiNFREREAqAQJiIiIhIAhTARERGRACiEiYiIiARAIUxEREQkAAphItLgmVlrM8vwH9vMLMt/vtcf2qGut3enmf3yGN+TW8X0f5nZZXVTmYhEE4UwEWnwnHO7nHODnXODgZnAff7zwcBRbw1jZhoTUUQaHIUwEYl0sWb2qJmtNLO3zCwJwMzSzexvZrYEuNXMTjWzhWa21MzmmVlHf7lbzGyVmS03s+dD1tvXX8cGM7ulbKKZ/dzMVviP2yoW44+6/aCZrTWzd4B24d19EYlU+tehiES6nsCVzrnrzewF4FLgGX9eE+fcUDOLBxYCE51zO8zsO8AfgB8BU4FuzrlCM2sRst7ewDl49+hca2YPAQPxRtMeBhjwsZktdM4tC3nfJcDJQF+gPbAKeDwcOy4ikU0hTEQi3dfOuQz/+VKga8i8//g/T8a72fnb/i26YoGye8MtB541s1l493Es85p/U/tCM9uOF6i+BbzinDsAYGYvAyOA0BB2NvCcc64EyDazBbXfRRGJRgphIhLpCkOelwBJIa8P+D8NWOmcO7OS91+AF5wuAn5lZgOqWK/+fykidUp9wkSkMVgLtDWzMwHMLN7M+plZDNDFOfcu8L9AKt5N7avyHjDJzJqaWTO8psf3KiyzCPiOmcX6/c7OqeudEZHooH/ZiUjUc84d9IeJeMDMUvH+3/c3YB3wjD/NgAecc3v9JsvK1vOZmf0L+MSf9M8K/cEAXgHOxesLthn4qI53R0SihDnngq5BREREpNFRc6SIiIhIABTCRERERAKgECYiIiISAIUwERERkQAohImIiIgEQCFMREREJAAKYSIiIiIBUAgTERERCcD/B5g3kJPa8k8CAAAAAElFTkSuQmCC\n",
       "datasetInfos": [],
       "metadata": {},
       "removedWidgets": [],
       "type": "image"
      }
     },
     "output_type": "display_data"
    },
    {
     "output_type": "display_data",
     "data": {
      "image/png": "[encoded data removed]"
     },
     "metadata": {
      "application/vnd.databricks.v1+output": {
       "addedWidgets": {},
       "arguments": {},
       "data": "data:image/png;base64,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\n",
       "datasetInfos": [],
       "metadata": {},
       "removedWidgets": [],
       "type": "image"
      }
     },
     "output_type": "display_data"
    },
    {
     "output_type": "display_data",
     "data": {
      "image/png": "[encoded data removed]"
     },
     "metadata": {
      "application/vnd.databricks.v1+output": {
       "addedWidgets": {},
       "arguments": {},
       "data": "data:image/png;base64,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\n",
       "datasetInfos": [],
       "metadata": {},
       "removedWidgets": [],
       "type": "image"
      }
     },
     "output_type": "display_data"
    }
   ],
   "source": [
    "import matplotlib.pyplot as plt\n",
    "\n",
    "# Function to calculate precision and recall\n",
    "def calculate_precision_recall(filtered_pairs, ground_truth):\n",
    "    true_positives = filtered_pairs.intersection(ground_truth)\n",
    "    precision = len(true_positives) / len(filtered_pairs) if filtered_pairs else 0\n",
    "    recall = len(true_positives) / len(ground_truth) if ground_truth else 0\n",
    "    return precision, recall\n",
    "\n",
    "# Convert the ground truth to a set for faster operations\n",
    "ground_truth_set = set(ground_truth_rdd.collect())\n",
    "\n",
    "# Initialize the cumulative execution time variable\n",
    "cumulative_execution_time = time_of_preprocessing + time_of_prefix_filtering + time_of_lenght_filtering + time_of_position_filtering + time_of_deduplication + time_of_final_op\n",
    "\n",
    "# Initialize lists for plotting\n",
    "thresholds = [0.1, 0.2, 0.3, 0.4, 0.5, 0.6, 0.7, 0.8, 0.9, 1.0]\n",
    "precisions = []\n",
    "recalls = []\n",
    "cumulative_execution_times = []\n",
    "num_pairings = []  # List to store the number of pairings for each threshold\n",
    "\n",
    "# Calculate metrics for each threshold\n",
    "for threshold in sorted(thresholds):\n",
    "    start_time = time.time()\n",
    "\n",
    "    # Filter the Jaccard RDD by the current threshold\n",
    "    filtered_jaccard = jaccard_rdd.filter(lambda x: x[1] >= threshold).map(lambda x: x[0])\n",
    "\n",
    "    # Collect the filtered pairs into a set\n",
    "    filtered_pairs_set = set(filtered_jaccard.collect())\n",
    "\n",
    "    # Store the number of pairings\n",
    "    num_pairings.append(len(filtered_pairs_set))\n",
    "\n",
    "    # Print the number of pairings at specified thresholds\n",
    "    if threshold in [0.7, 0.8, 0.9, 1.0]:\n",
    "        print(f\"Number of pairings at threshold {threshold}: {len(filtered_pairs_set)}\")\n",
    "\n",
    "    # Calculate precision and recall\n",
    "    precision, recall = calculate_precision_recall(filtered_pairs_set, ground_truth_set)\n",
    "    precisions.append(precision)\n",
    "    recalls.append(recall)\n",
    "\n",
    "    # Update the cumulative execution time\n",
    "    cumulative_execution_time += (time.time() - start_time)\n",
    "    cumulative_execution_times.append(cumulative_execution_time)\n",
    "\n",
    "# Plotting Precision and Recall\n",
    "plt.figure(figsize=(10, 5))\n",
    "plt.plot(thresholds, precisions, label='Precision', marker='o')\n",
    "plt.plot(thresholds, recalls, label='Recall', marker='o')\n",
    "plt.title('Precision and Recall by Threshold - 10K')\n",
    "plt.xlabel('Threshold')\n",
    "plt.ylabel('Value')\n",
    "plt.legend()\n",
    "plt.grid(True)\n",
    "plt.show()\n",
    "\n",
    "# Plotting Cumulative Execution Time\n",
    "plt.figure(figsize=(10, 5))\n",
    "plt.plot(thresholds, cumulative_execution_times, label='Cumulative Execution Time', marker='o', linestyle='--', color='orange')\n",
    "plt.title('Cumulative Execution Time by Threshold - 10K')\n",
    "plt.xlabel('Threshold')\n",
    "plt.ylabel('Time (seconds)')\n",
    "plt.legend()\n",
    "plt.grid(True)\n",
    "plt.show()\n",
    "\n",
    "# Plotting the Number of Pairings\n",
    "plt.figure(figsize=(10, 5))\n",
    "plt.plot(thresholds, num_pairings, label='Number of Pairings', marker='x', color='red')\n",
    "plt.title('Number of Pairings by Threshold - 10K')\n",
    "plt.xlabel('Threshold')\n",
    "plt.ylabel('Number of Pairings')\n",
    "plt.legend()\n",
    "plt.grid(True)\n",
    "plt.show()\n",
    "\n"
   ]
  }
 ],
 "metadata": {
  "application/vnd.databricks.v1+notebook": {
   "dashboards": [],
   "language": "python",
   "notebookMetadata": {
    "pythonIndentUnit": 4
   },
   "notebookName": "Set Similarity Join with Spark_Q-3_step_by_step_def",
   "widgets": {}
  }
 },
 "nbformat": 4,
 "nbformat_minor": 0
}
