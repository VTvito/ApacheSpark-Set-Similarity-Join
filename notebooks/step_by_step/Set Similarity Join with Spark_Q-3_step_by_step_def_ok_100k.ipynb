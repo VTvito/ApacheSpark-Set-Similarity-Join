{
 "cells": [
  {
   "cell_type": "markdown",
   "metadata": {
    "application/vnd.databricks.v1+cell": {
     "cellMetadata": {
      "byteLimit": 2048000,
      "rowLimit": 10000
     },
     "inputWidgets": {},
     "nuid": "ea57f802-4cf3-42cb-8a08-ab1dc6704370",
     "showTitle": false,
     "title": ""
    }
   },
   "source": [
    "# INITIALIZATION "
   ]
  },
  {
   "cell_type": "code",
   "execution_count": 0,
   "metadata": {
    "application/vnd.databricks.v1+cell": {
     "cellMetadata": {
      "byteLimit": 2048000,
      "rowLimit": 10000
     },
     "inputWidgets": {},
     "nuid": "91a5f4a7-44cb-49a3-a46a-ea23250c575b",
     "showTitle": false,
     "title": ""
    }
   },
   "outputs": [],
   "source": [
    "from pyspark import SparkContext\n",
    "import json\n",
    "import time\n",
    "\n",
    "# Path to the JSON file (in DBFS)\n",
    "json_file_path = \"/FileStore/shared_uploads/datasets/100Kprofiles.json\"\n",
    "\n",
    "# path of ground_truth\n",
    "ground_truth_path = \"/FileStore/shared_uploads/datasets/100KIdDuplicates.json\" "
   ]
  },
  {
   "cell_type": "markdown",
   "metadata": {
    "application/vnd.databricks.v1+cell": {
     "cellMetadata": {
      "byteLimit": 2048000,
      "rowLimit": 10000
     },
     "inputWidgets": {},
     "nuid": "4ea795dd-d233-405b-ac5e-e5e60cda4421",
     "showTitle": false,
     "title": ""
    }
   },
   "source": [
    "#LOAD THE JSON FILE"
   ]
  },
  {
   "cell_type": "markdown",
   "metadata": {
    "application/vnd.databricks.v1+cell": {
     "cellMetadata": {
      "byteLimit": 2048000,
      "rowLimit": 10000
     },
     "inputWidgets": {},
     "nuid": "7667752f-bcb8-4560-94f1-265e9f3698e4",
     "showTitle": false,
     "title": ""
    }
   },
   "source": [
    "The code json_rdd = sc.textFile(json_file_path) reads the contents of the file as plain text (located at the json_file_path) and creates an RDD where each element corresponds to a line in the text file. This is often the first step in processing data with Spark, as it allows you to work with large datasets that are distributed across a cluster.\n",
    "\n",
    "SO IT'S ALREADY PARALLELIZE! \n",
    "reads the data in parallel from multiple workers in the cluster and distributes it across the RDD.\n",
    "sc.parallelize() it's used when we read from a list\n"
   ]
  },
  {
   "cell_type": "code",
   "execution_count": 0,
   "metadata": {
    "application/vnd.databricks.v1+cell": {
     "cellMetadata": {
      "byteLimit": 2048000,
      "rowLimit": 10000
     },
     "inputWidgets": {},
     "nuid": "4c2e5e76-bc9b-4a40-b2e0-78e200a3c17e",
     "showTitle": false,
     "title": ""
    }
   },
   "outputs": [
    {
     "output_type": "stream",
     "name": "stdout",
     "output_type": "stream",
     "text": [
      "{\"date_of_birth\":\"19190809\",\"address_1\":\"pudney street\",\"address_2\":\"arlington\",\"postcode\":\"3764\",\"soc_sec_id\":\"3423802\",\"given_name\":\"luke\",\"realProfileID\":\"0\",\"surname\":\"chandler\",\"street_number\":\"376\",\"suburb\":\"hemmant\",\"phone_number\":\"02 24496575\",\"state\":\"qld\",\"age\":\"35\"} \n\n{\"realProfileID\":\"1\",\"date_of_birth\":\"19300528\",\"surname\":\"hawes\",\"address_2\":\"northern tablelands tennis academy\",\"postcode\":\"2168\",\"soc_sec_id\":\"2180735\",\"street_number\":\"8\",\"suburb\":\"keilor east\",\"phone_number\":\"04 87308830\",\"state\":\"qld\",\"given_name\":\"millane\",\"age\":\"36\"} \n\n{\"realProfileID\":\"2\",\"surname\":\"novadk\",\"address_1\":\"rfreet rankin\",\"date_of_birth\":\"19300112\",\"soc_sec_id\":\"4272019\",\"street_number\":\"1\",\"postcode\":\"3218\",\"suburb\":\"beulah park\",\"phone_number\":\"03 39054375\",\"state\":\"qld\",\"given_name\":\"jatmike\",\"age\":\"26\"} \n\n{\"address_1\":\"davenport street\",\"date_of_birth\":\"19950727\",\"address_2\":\"vinery\",\"postcode\":\"3030\",\"soc_sec_id\":\"5381275\",\"given_name\":\"madeleine\",\"realProfileID\":\"3\",\"surname\":\"redmond\",\"street_number\":\"12\",\"suburb\":\"kangaroo flat\",\"phone_number\":\"07 69720733\",\"state\":\"qld\",\"age\":\"33\"} \n\n{\"date_of_birth\":\"19631123\",\"address_1\":\"corona place\",\"address_2\":\"glen elgin\",\"soc_sec_id\":\"2894006\",\"postcode\":\"4030\",\"given_name\":\"kayden\",\"realProfileID\":\"4\",\"surname\":\"zimmermann\",\"street_number\":\"7\",\"suburb\":\"greenacres\",\"phone_number\":\"03 48393238\",\"state\":\"nsw\",\"age\":\"31\"} \n\n"
     ]
    }
   ],
   "source": [
    "# starting measuring time for data preprocessing\n",
    "starting_preprocessing = time.time()\n",
    "\n",
    "\n",
    "def read_json_file(json_file_path):\n",
    "    # Start a Spark Context\n",
    "    sc = SparkContext.getOrCreate()\n",
    "\n",
    "    # Read the JSON file as plain text\n",
    "    json_rdd = sc.textFile(json_file_path)\n",
    "\n",
    "    return json_rdd\n",
    "\n",
    "# Call the function to read the JSON file\n",
    "json_rdd = read_json_file(json_file_path)\n",
    "\n",
    "# Print the first 5 lines to check\n",
    "for record in json_rdd.take(5):\n",
    "    print(f\"{record} \\n\")"
   ]
  },
  {
   "cell_type": "markdown",
   "metadata": {
    "application/vnd.databricks.v1+cell": {
     "cellMetadata": {
      "byteLimit": 2048000,
      "rowLimit": 10000
     },
     "inputWidgets": {},
     "nuid": "96f843ef-8d3c-47b7-a896-2a59a0c7de9a",
     "showTitle": false,
     "title": ""
    }
   },
   "source": [
    "#TOKENIZATION PHASE"
   ]
  },
  {
   "cell_type": "markdown",
   "metadata": {
    "application/vnd.databricks.v1+cell": {
     "cellMetadata": {
      "byteLimit": 2048000,
      "rowLimit": 10000
     },
     "inputWidgets": {},
     "nuid": "34694429-eadd-4fc3-aea9-acc9da1e64e2",
     "showTitle": false,
     "title": ""
    }
   },
   "source": [
    "This approach is effective for creating a rich representation of text data, capturing local patterns within strings. The use of trigrams is particularly useful for fuzzy matching, as it allows for the detection of similarities even in the presence of minor differences or typographical errors.\n",
    "\n",
    "For example, a name like \"Smith\" would be broken down into trigrams like ['smi', 'mit', 'ith']. This set of trigrams can then be compared to other sets to find similarities, even with slightly misspelled versions of the name.\n",
    "\n",
    "The tokens in an RDD for each record are tuple of (recordID, [token1, token2, ...])"
   ]
  },
  {
   "cell_type": "code",
   "execution_count": 0,
   "metadata": {
    "application/vnd.databricks.v1+cell": {
     "cellMetadata": {
      "byteLimit": 2048000,
      "rowLimit": 10000
     },
     "inputWidgets": {},
     "nuid": "c708a467-7bb8-43ad-ae55-f9e58c401e33",
     "showTitle": false,
     "title": ""
    }
   },
   "outputs": [
    {
     "output_type": "stream",
     "name": "stdout",
     "output_type": "stream",
     "text": [
      "['0', {'190', 'ton', '376', 'cha', '080', 'ngt', 'ney', '919', 'qld', '575', 'rli', 'han', 'ant', 'eet', 'yst', '496', 'lin', '965', 'udn', 'uke', '908', 'and', 'luk', '342', 'dne', '238', '224', 'hem', 'pud', 'dle', 'emm', 'ree', '380', 'ndl', 'tre', 'man', 'arl', 'ing', 'eys', '764', 'ler', '244', 'mma', '022', '809', '449', '657', '423', '802', '191', 'gto', 'str'}]\n numero di token: 52\n['1', {'216', 'nis', 'ill', 'ane', 'ort', 'ore', '883', '300', '088', 'the', 'abl', 'ade', 'isa', '735', 'rnt', 'qld', 'rea', '073', 'ast', 'kei', 'eil', '005', '930', '730', 'ten', '048', 'dem', 'lan', 'cad', '308', '180', '052', 'aca', '830', 'and', 'wes', 'rth', 'sac', 'her', 'ela', 'nor', 'tab', 'mil', '193', 'ste', '168', 'ilo', 'emy', 'nta', 'ern', 'nds', 'ble', '218', '528', 'awe', 'dst', 'lor', '487', 'lla', 'nni', 'eas', '873', 'enn', 'lel', 'haw', '807'}]\n numero di token: 66\n['2', {'011', 'adk', 'fre', 'etr', '201', '437', '300', 'tmi', 'nki', 'kin', 'qld', '543', 'par', 'mik', 'atm', '930', 'vad', 'eet', '720', 'hpa', 'ahp', 'rfr', '272', 'ark', 'eul', '339', 'tra', 'jat', '427', 'ree', 'ran', 'ank', '193', 'ova', '112', '033', 'beu', '321', 'nov', '054', '218', '375', '001', '905', '390', '019', 'lah', 'ike', 'ula'}]\n numero di token: 49\n['3', {'127', 'mad', '733', 'nga', 'ort', '072', '538', '207', 'edm', '381', '972', 'ang', 'lei', 'ade', 'qld', 'por', '073', '769', 'ein', 'fla', 'eet', 'mon', '720', '076', '995', 'tst', '507', 'ofl', 'vin', 'ond', 'del', 'lat', 'dmo', '030', 'dav', 'ree', '303', '275', 'tre', 'kan', 'gar', 'roo', 'rts', '727', '812', 'aro', '950', 'red', 'enp', 'ner', 'ine', 'npo', 'ery', 'ele', 'oof', 'ven', 'ave', 'str', '199', '697'}]\n numero di token: 60\n['4', {'348', '289', 'ena', 'gin', 'nac', 'ayd', 'nsw', 'apl', '034', 'res', '400', '311', 'cor', 'nap', 'lgi', '483', '006', 'nel', 'ron', '631', 'ace', '196', 'gre', '932', 'zim', '839', 'pla', '123', '030', '238', '403', '393', 'den', 'rma', 'ree', 'len', '112', '894', 'gle', 'ann', 'mme', 'man', '323', 'cre', 'erm', 'acr', 'imm', 'ene', 'lac', 'yde', 'mer', 'oro', '963', 'elg', 'kay', 'ona', '940', 'een'}]\n numero di token: 58\n\nAverage length of tokens: 49.08987\n"
     ]
    }
   ],
   "source": [
    "def generate_trigrams(text):\n",
    "    \"\"\"\n",
    "    Generates trigrams (3-grams) for a given text, treating each word separately.\n",
    "\n",
    "    Parameters:\n",
    "    - text: A string from which trigrams will be generated.\n",
    "    \n",
    "    Returns:\n",
    "    - A set of trigrams for the text.\n",
    "    \"\"\"\n",
    "    text = text.lower().replace(\" \", \"\")  # Remove white spaces from the text\n",
    "\n",
    "    # Generate trigrams\n",
    "    trigrams = set(text[i:i+3] for i in range(len(text) - 2))\n",
    "       \n",
    "    return trigrams\n",
    "\n",
    "\n",
    "def tokenize_line_with_trigrams(line):\n",
    "    try:\n",
    "        # Convert the JSON string to a dictionary\n",
    "        record = json.loads(line)\n",
    "        record_id = record[\"realProfileID\"]\n",
    "\n",
    "        # Tokenization using trigrams..  extracting the rpID and generate trigrams from other\n",
    "        tokens = set()\n",
    "        for key, value in record.items():\n",
    "            if key != \"realProfileID\" and value:\n",
    "                tokens.update(generate_trigrams(str(value)))  # Convert value to string to handle non-text fields\n",
    "\n",
    "        return (record_id, tokens)\n",
    "    except json.JSONDecodeError:\n",
    "        return None\n",
    "\n",
    "# Applying the tokenization with trigrams to RDD\n",
    "tokenized_rdd = json_rdd.map(tokenize_line_with_trigrams).filter(lambda x: x is not None)\n",
    "\n",
    "# Cache the results\n",
    "tokenized_rdd = tokenized_rdd.cache()\n",
    "\n",
    "# Print the first 5 sets of tokens to check\n",
    "for i, record in tokenized_rdd.take(5):\n",
    "    print([i,record])\n",
    "    print(f\" numero di token: {len(record)}\")\n",
    "\n",
    "\n",
    "# Map the RDD to lengths\n",
    "lengths_rdd = tokenized_rdd.map(lambda x: len(x[1]))\n",
    "\n",
    "# Calculate the average length of the tokens in the records\n",
    "total_length = lengths_rdd.reduce(lambda a, b: a + b)\n",
    "average_length = total_length / lengths_rdd.count()\n",
    "\n",
    "print(f\"\\nAverage length of tokens: {average_length}\")"
   ]
  },
  {
   "cell_type": "markdown",
   "metadata": {
    "application/vnd.databricks.v1+cell": {
     "cellMetadata": {
      "byteLimit": 2048000,
      "rowLimit": 10000
     },
     "inputWidgets": {},
     "nuid": "172e919f-151d-4de7-894a-15116ef367ba",
     "showTitle": false,
     "title": ""
    }
   },
   "source": [
    "#COMPUTE THE FREQUENCY"
   ]
  },
  {
   "cell_type": "markdown",
   "metadata": {
    "application/vnd.databricks.v1+cell": {
     "cellMetadata": {
      "byteLimit": 2048000,
      "rowLimit": 10000
     },
     "inputWidgets": {},
     "nuid": "78766e3b-8393-49c0-bf6d-de5a1eef063f",
     "showTitle": false,
     "title": ""
    }
   },
   "source": [
    "Remember that if token_freq... is an RDD, you'll need to first use the .collect() method to bring the data to the driver node before doing the above operations. If it's a dictionary resulting from countByValue(), you can directly use the above snippets."
   ]
  },
  {
   "cell_type": "code",
   "execution_count": 0,
   "metadata": {
    "application/vnd.databricks.v1+cell": {
     "cellMetadata": {
      "byteLimit": 2048000,
      "rowLimit": 10000
     },
     "inputWidgets": {},
     "nuid": "d2c63337-dfc7-4d25-a7e7-2bce03f09e32",
     "showTitle": false,
     "title": ""
    }
   },
   "outputs": [
    {
     "output_type": "stream",
     "name": "stdout",
     "output_type": "stream",
     "text": [
      "COMMON TOKENS: \n\nToken: ree, Frequency: 41931\nToken: eet, Frequency: 39275\nToken: tre, Frequency: 38109\nToken: str, Frequency: 35167\nToken: nsw, Frequency: 27126\nToken: vic, Frequency: 20457\nToken: ent, Frequency: 20069\nToken: lac, Frequency: 18548\nToken: cen, Frequency: 17807\nToken: ace, Frequency: 17499\n\nUNCOMMON TOKENS: \n\nToken: 17l, Frequency: 1\nToken: 7l3, Frequency: 1\nToken: sfg, Frequency: 1\nToken: kgw, Frequency: 1\nToken: mwg, Frequency: 1\nToken: vqx, Frequency: 1\nToken: jwm, Frequency: 1\nToken: hpq, Frequency: 1\nToken: 2u2, Frequency: 1\nToken: 12u, Frequency: 1\n"
     ]
    }
   ],
   "source": [
    "def analyze_token_frequency(rdd, top_k=10):\n",
    "    \"\"\"\n",
    "    Analyze and display the most common and uncommon tokens in an RDD of tokenized records.\n",
    "    \n",
    "    Parameters:\n",
    "    - rdd: Input RDD where each record is of the form (recordID, [token1, token2, ...])\n",
    "    - top_k: Number of top tokens to display for common and uncommon tokens.\n",
    "    \n",
    "    Returns:\n",
    "    - A variable containing the token frequency dictionary.\n",
    "    \"\"\"\n",
    "    \n",
    "    # Compute the frequency of each token across all sets\n",
    "    token_freq_dict = rdd.flatMap(lambda x: x[1]).countByValue()\n",
    "    \n",
    "    # Sort the tokens \n",
    "    sorted_tokens_common = sorted(token_freq_dict.items(), key=lambda x: x[1], reverse=True)\n",
    "    sorted_tokens_uncommon = sorted(token_freq_dict.items(), key=lambda x: x[1])\n",
    "    \n",
    "    # Display the most common tokens\n",
    "    print(\"COMMON TOKENS: \\n\")\n",
    "    for token, freq in sorted_tokens_common[:top_k]:\n",
    "        print(f\"Token: {token}, Frequency: {freq}\")\n",
    "    \n",
    "    # Display the most uncommon tokens\n",
    "    print(\"\\nUNCOMMON TOKENS: \\n\")\n",
    "    for token, freq in sorted_tokens_uncommon[:top_k]:\n",
    "        print(f\"Token: {token}, Frequency: {freq}\")\n",
    "    \n",
    "\n",
    "    return token_freq_dict\n",
    "\n",
    "token_freq_dict = analyze_token_frequency(tokenized_rdd)\n",
    "\n",
    "# Broadcast the dictionary of the frequency to workers\n",
    "token_freq_broadcast = sc.broadcast(token_freq_dict)"
   ]
  },
  {
   "cell_type": "markdown",
   "metadata": {
    "application/vnd.databricks.v1+cell": {
     "cellMetadata": {
      "byteLimit": 2048000,
      "rowLimit": 10000
     },
     "inputWidgets": {},
     "nuid": "a54e5a0d-3861-48a6-95ad-5645b6107f5d",
     "showTitle": false,
     "title": ""
    }
   },
   "source": [
    "#SORT TOKENS IN EACH RECORDS BY FREQUENCY\n",
    "\n",
    "Now we have the (token, frequency) in each worker and the (RID, {tokens}) RDD\n",
    "\n",
    "The sort_tokens_by_frequency function aims to reorder the tokens in each record of an RDD based on their global frequency,\n",
    "which was previously computed and broadcasted. \n",
    "\n",
    "\n",
    "Tokens are sorted based on their frequency in ascending order, meaning the rarest tokens (lowest frequency) appear first, followed by more common tokens. \n",
    "This is indicated by sorted(tokens, key=lambda token: broadcast_freq.value.get(token, 0))... good before to apply the Prefix filter"
   ]
  },
  {
   "cell_type": "markdown",
   "metadata": {
    "application/vnd.databricks.v1+cell": {
     "cellMetadata": {
      "byteLimit": 2048000,
      "rowLimit": 10000
     },
     "inputWidgets": {},
     "nuid": "abe30eba-9500-43ed-9afd-283b811840f2",
     "showTitle": false,
     "title": ""
    }
   },
   "source": [
    "\n",
    "For each record in (RID, {tokens}) RDD:\n",
    "\n",
    "-Fetch its tokens.\n",
    "\n",
    "-Sort these tokens using the broadcasted frequencies.\n",
    "\n",
    "-Return the sorted tokens along with the original RID.\n",
    "\n",
    "IT'S DONE LOCALLY ON EACH WORKERS"
   ]
  },
  {
   "cell_type": "code",
   "execution_count": 0,
   "metadata": {
    "application/vnd.databricks.v1+cell": {
     "cellMetadata": {
      "byteLimit": 2048000,
      "rowLimit": 10000
     },
     "inputWidgets": {},
     "nuid": "279b609a-9e0d-4647-8780-d9668587b923",
     "showTitle": false,
     "title": ""
    }
   },
   "outputs": [
    {
     "output_type": "stream",
     "name": "stdout",
     "output_type": "stream",
     "text": [
      "('0', ['pud', 'udn', 'dne', 'hem', 'uke', 'luk', 'mma', 'ndl', 'emm', '657', '575', '449', '496', '764', '376', 'rli', 'ney', '238', '342', '423', 'eys', 'dle', '965', '224', '244', '919', 'gto', 'ngt', '809', '802', '380', 'ler', '908', 'ant', 'yst', 'arl', 'han', '080', 'lin', 'cha', '022', 'man', 'and', '191', '190', 'ing', 'ton', 'qld', 'str', 'tre', 'eet', 'ree'])\n('1', ['rnt', 'emy', 'tab', 'sac', 'abl', 'dem', 'aca', 'awe', 'kei', 'cad', 'lel', 'ilo', 'eil', 'nis', 'rea', 'ten', 'nta', '883', 'nni', '735', '873', 'haw', 'ble', '528', '168', 'lor', 'ela', 'nds', 'ade', '180', 'isa', 'dst', '218', '487', 'ern', 'enn', '005', 'wes', '807', '830', 'ane', '730', '300', 'mil', 'eas', '930', '308', '216', '048', '088', '052', 'ore', '073', 'ste', 'her', 'nor', 'the', 'rth', 'ast', 'ort', 'lan', 'and', 'lla', '193', 'ill', 'qld'])\n\nTime of preprocessing execution: 22.41382670402527\n"
     ]
    }
   ],
   "source": [
    "def sort_tokens_by_frequency(rdd, broadcast_freq):\n",
    "    \"\"\"\n",
    "    Sort the tokens in each record by their global frequency.\n",
    "    \n",
    "    Parameters:\n",
    "    - rdd: Input RDD where each record is of the form (recordID, [token1, token2, ...])\n",
    "    - broadcast_freq: A Spark broadcast variable containing the global frequency of tokens.\n",
    "    \n",
    "    Returns:\n",
    "    - An RDD with each record having tokens sorted by their frequency.\n",
    "    \"\"\"\n",
    "    def sort_tokens_by_freq(record):\n",
    "        # unpack the record\n",
    "        record_id, tokens = record \n",
    "        # Use the broadcast variable for sorting from rare to common\n",
    "        sorted_tokens = sorted(tokens, key=lambda token: broadcast_freq.value.get(token, 0))  # if no frequencies are founded = 0\n",
    "        # Return the RID with the Sorted Tokens\n",
    "        return (record_id, sorted_tokens)\n",
    "\n",
    "    # Apply the function MAP on each RDD record\n",
    "    sorted_rdd = rdd.map(sort_tokens_by_freq)\n",
    "    return sorted_rdd\n",
    "\n",
    "sorted_tokens_rdd = sort_tokens_by_frequency(tokenized_rdd, token_freq_broadcast)\n",
    "\n",
    "# Print a sample of ordered records\n",
    "for record in sorted_tokens_rdd.take(2):\n",
    "    print(record)\n",
    "\n",
    "# stopping measuring the time for data preprocessing\n",
    "time_of_preprocessing = time.time() - starting_preprocessing\n",
    "print(f\"\\nTime of preprocessing execution: {time_of_preprocessing}\")"
   ]
  },
  {
   "cell_type": "markdown",
   "metadata": {
    "application/vnd.databricks.v1+cell": {
     "cellMetadata": {
      "byteLimit": 2048000,
      "rowLimit": 10000
     },
     "inputWidgets": {},
     "nuid": "f6ac2e1c-e3d0-4c6f-afd2-fdd884b5d182",
     "showTitle": false,
     "title": ""
    }
   },
   "source": [
    "#PREFIX FILTERING"
   ]
  },
  {
   "cell_type": "markdown",
   "metadata": {
    "application/vnd.databricks.v1+cell": {
     "cellMetadata": {
      "byteLimit": 2048000,
      "rowLimit": 10000
     },
     "inputWidgets": {},
     "nuid": "095f87d0-c6b0-4e65-a27a-ba21cb019427",
     "showTitle": false,
     "title": ""
    }
   },
   "source": [
    "\n",
    "\n",
    "The primary goal of the prefix filter is to significantly reduce the number of candidate pairs that the more computationally intensive subsequent filters (like positional filtering) have to deal with.\n",
    "The chosen threshold should balance computational efficiency with the risk of missing similar pairs.\n",
    "\n",
    "Given two documents, they can reach requested overlap similarity if they shares at least one token in theirfirst 𝑑𝑜𝑐𝐿𝑒𝑛−t+1 tokens"
   ]
  },
  {
   "cell_type": "markdown",
   "metadata": {
    "application/vnd.databricks.v1+cell": {
     "cellMetadata": {
      "byteLimit": 2048000,
      "rowLimit": 10000
     },
     "inputWidgets": {},
     "nuid": "d84128a1-0244-4aac-bf34-73b6145e4ca2",
     "showTitle": false,
     "title": ""
    }
   },
   "source": [
    "Generate Key-Value Pairs for Prefix Tokens:\n",
    " \n",
    "For each record, we will emit key-value pairs for every token in its prefix (doclen - t + 1), where the key is the token and the value is the record's RID. Generate pairs of the form (token, record_id)\n",
    "\n",
    "The function generate pairs (tokens[i], record_id) for each token in the prefix.\n",
    "\n",
    "For this record:(1, ['apple', 'banana', 'cherry']) and prefix length 2, the Mapper will emit:\n",
    "('apple', 1)\n",
    "('banana', 1)\n",
    "\n",
    "Calculating Prefix Length: The length of the prefix for each record is calculated based on the total number of tokens n and the threshold t. \n",
    "The formula prefix_length = n - t + 1 determines how many tokens to consider for generating pairs."
   ]
  },
  {
   "cell_type": "markdown",
   "metadata": {
    "application/vnd.databricks.v1+cell": {
     "cellMetadata": {
      "byteLimit": 2048000,
      "rowLimit": 10000
     },
     "inputWidgets": {},
     "nuid": "1a8b2e20-0893-439d-afad-616c444f3225",
     "showTitle": false,
     "title": ""
    }
   },
   "source": [
    "prefix_lengh = docLen|A| - t + 1 (in our datasets the lenght of A_records it's about 50 tokens)\n",
    "\n",
    "If you're getting too many candidate pairs (which might result in longer computation times in subsequent filtering stages), you can adjust the threshold to be stricter (decrease the prefix length). If you're filtering out too much and potentially missing similar pairs, increase the prefix length."
   ]
  },
  {
   "cell_type": "markdown",
   "metadata": {
    "application/vnd.databricks.v1+cell": {
     "cellMetadata": {
      "byteLimit": 2048000,
      "rowLimit": 10000
     },
     "inputWidgets": {},
     "nuid": "0ea74983-e0a6-4c90-9966-6b039b4ef2e1",
     "showTitle": false,
     "title": ""
    }
   },
   "source": [
    "Higher t: Select this for stricter similarity requirements, generating fewer more likely candidate pairs -> increase precision (fewer false positives) but decrease recall (missed true positives).\n",
    "\n",
    "Lower t: Use this for broader similarity requirements, generating more candidate pairs, including those with less overlap ->  increase recall but decrease precision.\n",
    "\n"
   ]
  },
  {
   "cell_type": "markdown",
   "metadata": {
    "application/vnd.databricks.v1+cell": {
     "cellMetadata": {
      "byteLimit": 2048000,
      "rowLimit": 10000
     },
     "inputWidgets": {},
     "nuid": "b4d13779-4ead-4ca7-82eb-087f37dc7c5d",
     "showTitle": false,
     "title": ""
    }
   },
   "source": [
    "The generate_prefix_pairs_from_rdd function now dynamically calculates the prefix length for each record using the formula\n",
    "\n",
    "prefix_length = n - int(threshold_prefix * n) + 1, \n",
    "\n",
    "Prefix Length=Tokens_of_record − ⌈threshold × Tokens_of_record⌉ + 1\n",
    "\n",
    "This allow to adjusting the prefix length based on the size of the token sets and the desired similarity threshold, this ensures that the number of tokens considered for each record is proportional to its size and the desired similarity level that allows to fine-tune the filtering process based on the characteristics of dataset and the desired level of similarity."
   ]
  },
  {
   "cell_type": "code",
   "execution_count": 0,
   "metadata": {
    "application/vnd.databricks.v1+cell": {
     "cellMetadata": {
      "byteLimit": 2048000,
      "rowLimit": 10000
     },
     "inputWidgets": {},
     "nuid": "51dde98c-32ea-48f9-96ac-6d982cd5fd25",
     "showTitle": false,
     "title": ""
    }
   },
   "outputs": [
    {
     "output_type": "stream",
     "name": "stdout",
     "output_type": "stream",
     "text": [
      "('pud', '0')\n('udn', '0')\n('dne', '0')\n('hem', '0')\n('uke', '0')\n('luk', '0')\n('mma', '0')\n('rnt', '1')\n('emy', '1')\n('tab', '1')\n('sac', '1')\n('abl', '1')\n('dem', '1')\n('aca', '1')\n('awe', '1')\n('jat', '2')\n('vad', '2')\n('rfr', '2')\n('adk', '2')\n('beu', '2')\n"
     ]
    }
   ],
   "source": [
    "# starting measure of prefix filter execution time\n",
    "starting_prefix_filtering = time.time()\n",
    "\n",
    "# Define the similarity threshold\n",
    "threshold_prefix = 0.90  \n",
    "\n",
    "# Updated MAPPER to dynamically calculate prefix length\n",
    "def generate_prefix_pairs_from_rdd(rdd, threshold_prefix):\n",
    "    \"\"\"\n",
    "    Generates prefix pairs for each record in the RDD dynamically based on threshold.\n",
    "    \n",
    "    Parameters:\n",
    "    - rdd: Input RDD where each record is of the form (recordID, [token1, token2, ...])\n",
    "    - jaccard_threshold: The Jaccard similarity threshold.\n",
    "    \n",
    "    Returns:\n",
    "    - An RDD with prefix pairs.\n",
    "    \"\"\"\n",
    "    def generate_prefix_pairs(record):\n",
    "        record_id, tokens = record\n",
    "        # contains the number of tokens of each record\n",
    "        n = len(tokens)\n",
    "        # Dynamic calculation of prefix length\n",
    "        prefix_length = n - int(threshold_prefix * n) + 1 #prefix_lengh = docLen|A| - t + 1 \n",
    "        \n",
    "        if prefix_length <= 0:\n",
    "            return []\n",
    "        \n",
    "        for i in range(prefix_length):\n",
    "            yield (tokens[i], record_id)\n",
    "\n",
    "    prefix_rdd = rdd.flatMap(generate_prefix_pairs)\n",
    "    return prefix_rdd\n",
    "\n",
    "prefix_rdd = generate_prefix_pairs_from_rdd(sorted_tokens_rdd, threshold_prefix)\n",
    "\n",
    "# For debugging or verification:\n",
    "for pair in prefix_rdd.take(20):\n",
    "    print(pair)"
   ]
  },
  {
   "cell_type": "markdown",
   "metadata": {
    "application/vnd.databricks.v1+cell": {
     "cellMetadata": {
      "byteLimit": 2048000,
      "rowLimit": 10000
     },
     "inputWidgets": {},
     "nuid": "7fe48088-b342-47cc-91de-f06611f7d15a",
     "showTitle": false,
     "title": ""
    }
   },
   "source": [
    "\n",
    "Shuffle: before the reducer starts, there's a shuffle phase. All emitted key-value pairs are shuffled across the network so that all pairs with the same key (in this case with the same token) are grouped together and end up on the same machine.\n",
    "\n",
    "This requires moving data across different nodes in the cluster, which can be network-intensive, especially for large datasets.\n",
    "\n",
    "\n",
    "Grouping(reducing): the reducer groups these key-value pairs by their keys. This means all the RIDs that have the same token in their prefix are collected together.\n",
    "\n",
    "After the shuffle, for each unique token, you get an iterable of record IDs (rids) that contain this token. This operation effectively groups all record IDs by common tokens.\n",
    "\n",
    "\n",
    "After Shuffle:\n",
    "('apple', 1)\n",
    "('apple', 3)\n",
    "('banana', 1)\n",
    "('banana', 2)\n",
    "('cherry', 2)\n",
    "\n",
    "After Grouping:\n",
    "('apple', [1, 3])\n",
    "('banana', [1, 2])\n",
    "('cherry', [2])\n"
   ]
  },
  {
   "cell_type": "code",
   "execution_count": 0,
   "metadata": {
    "application/vnd.databricks.v1+cell": {
     "cellMetadata": {
      "byteLimit": 2048000,
      "rowLimit": 10000
     },
     "inputWidgets": {},
     "nuid": "a90c206f-814e-45c2-bd42-951ddb0fac8d",
     "showTitle": false,
     "title": ""
    }
   },
   "outputs": [
    {
     "output_type": "stream",
     "name": "stdout",
     "output_type": "stream",
     "text": [
      "Token: udn RIDs:  ['0', '7624', '7735', '8026', '9171', '11091', '15394', '17116', '18078', '21413', '22890', '23314', '25055', '33918', '37994', '38001', '43931', '45144', '46751', '49421', '52590', '52982', '63746', '74606', '76267', '81961', '83778', '86442', '87984', '89667', '90012', '90431', '92289', '95228', '95448']\nToken: hem RIDs:  ['0', '800', '1302', '1365', '2156', '2471', '4499', '5116', '5689', '5932', '5949', '6005', '6071', '6703', '7625', '7722', '8281', '9519', '10149', '10377', '10883', '11470', '11982', '11989', '12546', '12560', '12630', '13311', '13616', '14075', '14255', '14748', '17592', '19486', '19895', '20081', '20321', '20380', '20436', '21336', '21465', '22557', '23483', '23623', '24071', '24168', '24376', '25861', '26128', '26415', '26454', '26475', '27661', '28074', '28886', '28994', '29173', '29468', '29839', '29852', '30274', '30869', '30880', '31039', '31178', '31492', '31790', '32736', '32780', '32872', '33505', '33779', '34031', '34203', '34533', '34961', '35161', '36589', '37052', '37093', '38062', '38290', '38587', '38679', '38811', '38887', '40131', '40956', '40986', '41176', '41303', '41641', '42170', '43656', '43702', '43837', '44232', '44447', '44891', '44958', '45119', '45189', '45471', '45840', '45975', '46029', '46150', '46362', '47075', '47734', '47767', '47830', '47937', '48138', '49083', '50174', '50524', '51163', '51926', '51955', '53130', '53573', '53750', '54002', '54380', '54580', '55157', '55216', '55605', '55896', '56196', '57072', '57136', '57233', '57728', '58923', '58996', '59041', '59440', '59636', '59958', '60075', '60803', '61274', '62268', '62300', '62374', '62797', '62888', '64191', '64242', '64742', '65662', '66830', '67334', '67712', '67820', '67932', '68121', '69115', '69484', '69980', '70085', '70175', '70457', '70916', '71855', '71872', '72451', '72467', '72477', '72772', '73590', '73737', '73802', '74051', '74490', '74556', '74852', '75255', '75294', '75759', '76798', '77326', '77622', '77861', '77936', '78001', '78146', '78345', '79187', '79429', '80310', '81107', '81122', '81840', '81858', '82076', '82096', '82172', '82641', '82829', '82987', '83806', '83934', '83990', '84922', '85046', '85801', '86097', '86371', '86816', '87752', '88483', '89009', '89610', '90030', '90180', '90317', '92419', '93011', '93111', '93206', '93391', '93937', '94709', '94994', '95329', '95482', '95682', '95738', '96297', '97148', '97226', '97293', '97651', '97755', '98413', '98861']\n"
     ]
    }
   ],
   "source": [
    "#SHUFFLING AND REDUCING\n",
    "grouped_rdd = prefix_rdd.groupByKey()\n",
    "\n",
    "# print a sample of 1 tokens and the corresponding list of record IDs (rids) from grouped_rdd.\n",
    "for token, rids in grouped_rdd.take(2):\n",
    "    print(\"Token:\",token,\"RIDs: \", list(rids))"
   ]
  },
  {
   "cell_type": "markdown",
   "metadata": {
    "application/vnd.databricks.v1+cell": {
     "cellMetadata": {
      "byteLimit": 2048000,
      "rowLimit": 10000
     },
     "inputWidgets": {},
     "nuid": "af1296b5-d10c-4c92-99da-97f03154e23d",
     "showTitle": false,
     "title": ""
    }
   },
   "source": [
    "Essentially, it's an inverted index"
   ]
  },
  {
   "cell_type": "markdown",
   "metadata": {
    "application/vnd.databricks.v1+cell": {
     "cellMetadata": {
      "byteLimit": 2048000,
      "rowLimit": 10000
     },
     "inputWidgets": {},
     "nuid": "e9227ce3-99ac-4f29-a131-da8723205265",
     "showTitle": false,
     "title": ""
    }
   },
   "source": [
    "##GENERATING CANDIDATE PAIRS"
   ]
  },
  {
   "cell_type": "markdown",
   "metadata": {
    "application/vnd.databricks.v1+cell": {
     "cellMetadata": {
      "byteLimit": 2048000,
      "rowLimit": 10000
     },
     "inputWidgets": {},
     "nuid": "c7933a01-ca47-49f4-84e9-adf6d098e002",
     "showTitle": false,
     "title": ""
    }
   },
   "source": [
    "For each token, take the list of RIDs and form candidate pairs. This essentially means for a list of RIDs [a, b, c], you will form pairs [(a, b), (a, c), (b, c)].\n",
    "\n",
    "The idea behind this step is that if two records share a token in their prefix, they might be similar. Hence, they are considered as candidate pairs and will be subjected to subsequent filters to restrict down true similarities.\n",
    "\n",
    "The function generate_candidate_pairs: \n",
    "\n",
    "Generate all 2-combinations of the list of RIDs. For each token returns all possible pairs of RIDs that have this token in their prefix.\n",
    "\n",
    "input (kv) is a key-value pair, where the key is a token and the value (kv[1]) is a list of RIDs associated with that token.\n",
    "\n",
    "flatMap \"flattens\" the results, producing an RDD of the individual elements instead an RDD of list"
   ]
  },
  {
   "cell_type": "code",
   "execution_count": 0,
   "metadata": {
    "application/vnd.databricks.v1+cell": {
     "cellMetadata": {
      "byteLimit": 2048000,
      "rowLimit": 10000
     },
     "inputWidgets": {},
     "nuid": "0a12bbab-0dff-42e8-977f-7418406a8555",
     "showTitle": false,
     "title": ""
    }
   },
   "outputs": [
    {
     "output_type": "stream",
     "name": "stdout",
     "output_type": "stream",
     "text": [
      "Candidate Pairs after Prefix Filter: 41859976 \n\n['0', '7624']\n['0', '7735']\n['0', '8026']\n['0', '9171']\n['0', '11091']\n['0', '15394']\n['0', '17116']\n['0', '18078']\n['0', '21413']\n['0', '22890']\n\nTime of execution of prefix filtering 13.88746166229248\n"
     ]
    }
   ],
   "source": [
    "from itertools import combinations\n",
    "\n",
    "def generate_candidate_pairs(grouped_rdd):\n",
    "    \"\"\"\n",
    "    Generates candidate pairs of RIDs that share a common token in their prefix.\n",
    "\n",
    "    Parameters:\n",
    "    - grouped_rdd: Input RDD where each record is a key-value pair. The key is a token and the value is a list of RIDs associated with that token.\n",
    "\n",
    "    Returns:\n",
    "    - An RDD of candidate pairs, where each element is a tuple representing a pair of RIDs that share at least one common token in their prefix.\n",
    "    \"\"\"\n",
    "    candidate_pairs_after_prefix_rdd = grouped_rdd.flatMap(lambda kv: combinations(kv[1], 2))\n",
    "\n",
    "    return candidate_pairs_after_prefix_rdd\n",
    "\n",
    "\n",
    "candidate_pairs_after_prefix_rdd = generate_candidate_pairs(grouped_rdd)\n",
    "\n",
    "candidate_pairs_after_prefix_rdd_count = candidate_pairs_after_prefix_rdd.count()\n",
    "\n",
    "print(\"Candidate Pairs after Prefix Filter:\", candidate_pairs_after_prefix_rdd_count, \"\\n\")\n",
    "\n",
    "\n",
    "# For debugging:\n",
    "sample_candidate_pairs = candidate_pairs_after_prefix_rdd.take(10)\n",
    "for pair in sample_candidate_pairs:\n",
    "    print(list(pair))\n",
    "\n",
    "#This will give you pairs of RIDs that share a common token in their prefix.\n",
    "\n",
    "# stopping measure of lenght filter execution time\n",
    "time_of_prefix_filtering = time.time() - starting_prefix_filtering\n",
    "print(f\"\\nTime of execution of prefix filtering {time_of_prefix_filtering}\")"
   ]
  },
  {
   "cell_type": "markdown",
   "metadata": {
    "application/vnd.databricks.v1+cell": {
     "cellMetadata": {
      "byteLimit": 2048000,
      "rowLimit": 10000
     },
     "inputWidgets": {},
     "nuid": "6f67662c-adba-4b09-bce6-17539a7d8a3a",
     "showTitle": false,
     "title": ""
    }
   },
   "source": [
    "#LENGHT FILTER:"
   ]
  },
  {
   "cell_type": "markdown",
   "metadata": {
    "application/vnd.databricks.v1+cell": {
     "cellMetadata": {
      "byteLimit": 2048000,
      "rowLimit": 10000
     },
     "inputWidgets": {},
     "nuid": "1eb320ee-49b3-43d0-a889-ec4225b01f09",
     "showTitle": false,
     "title": ""
    }
   },
   "source": [
    "###Create an RDD of records with RID and length of the token set\n",
    "we'll create an RDD of records that includes both the RID and the length of the token set:\n",
    "\n",
    "\n",
    "The lambda function \"lambda kv\": (kv[0], len(kv[1])) takes each key-value pair kv (where kv[0] is the RID and kv[1] is the token set) and transforms it into a new pair (RID, number_of_tokens)\n",
    "\n",
    "The result is a new RDD, record_lengths_rdd, where each element is a tuple consisting of a record ID and the corresponding number of tokens in that record.\n",
    "\n",
    "\n",
    "Purpose of Length Information: The length of the token set for each record is useful in many scenarios, especially when we need to compute similarity measures or apply filters based on token counts. For instance, in similarity join tasks, we might want to compare only those records that have a similar number of tokens.\n",
    "\n",
    "Other Steps: typically, this length information might be used in subsequent steps to apply length-based filters, such as discarding pairs of records where the difference in the number of tokens exceeds a certain threshold. This can significantly reduce the number of comparisons in similarity join algorithms."
   ]
  },
  {
   "cell_type": "code",
   "execution_count": 0,
   "metadata": {
    "application/vnd.databricks.v1+cell": {
     "cellMetadata": {
      "byteLimit": 2048000,
      "rowLimit": 10000
     },
     "inputWidgets": {},
     "nuid": "c21a2bc0-baf6-49a6-81ec-73ec997f4b38",
     "showTitle": false,
     "title": ""
    }
   },
   "outputs": [
    {
     "output_type": "display_data",
     "data": {
      "text/html": [
       "<style scoped>\n",
       "  .ansiout {\n",
       "    display: block;\n",
       "    unicode-bidi: embed;\n",
       "    white-space: pre-wrap;\n",
       "    word-wrap: break-word;\n",
       "    word-break: break-all;\n",
       "    font-family: \"Menlo\", \"Monaco\", \"Consolas\", \"Ubuntu Mono\", \"Source Code Pro\", monospace;\n",
       "    font-size: 13px;\n",
       "    color: #555;\n",
       "    margin-left: 4px;\n",
       "    line-height: 19px;\n",
       "  }\n",
       "</style>"
      ]
     },
     "metadata": {
      "application/vnd.databricks.v1+output": {
       "arguments": {},
       "data": "",
       "errorSummary": "Cancelled",
       "errorTraceType": "html",
       "metadata": {},
       "type": "ipynbError"
      }
     },
     "output_type": "display_data"
    }
   ],
   "source": [
    "# starting measure of lenght filter execution time\n",
    "starting_lenght_filtering = time.time()\n",
    "\n",
    "# compute the lenght of the token set for each record - len(kv[1]) -> number of tokens in the set\n",
    "record_lengths_rdd = tokenized_rdd.map(lambda kv: (kv[0], len(kv[1])))\n",
    "\n",
    "#MAPPER\n",
    "for record in record_lengths_rdd.take(5):\n",
    "    print(record)"
   ]
  },
  {
   "cell_type": "markdown",
   "metadata": {
    "application/vnd.databricks.v1+cell": {
     "cellMetadata": {
      "byteLimit": 2048000,
      "rowLimit": 10000
     },
     "inputWidgets": {},
     "nuid": "0a59ac61-98dc-46a2-8984-64bb5ea2b3d8",
     "showTitle": false,
     "title": ""
    }
   },
   "source": [
    "###Join the RDD with candidate pairs to get lengths for both RIDs:\n",
    "\n",
    "In this step, we're joining the candidate pairs with their corresponding token lengths. This is an important step in filtering candidate pairs based on their token lengths.\n",
    "\n",
    "We start with candidate_pairs_after_prefix_rdd, which is a result from the previous step containing potential similar pairs (RID1, RID2). This line is joining this RDD with the record_lengths_rdd to associate the length of the token set with each RID. The join operation combines records with the same key (RID) from both RDDs.\n",
    "The result, pair_lengths_rdd, will have elements in the form: {RID1, (RID2, length_of_RID1)}.\n",
    "\n",
    "After the join, we restructure the RDD to facilitate another join to get lengths for both RIDs in the pair, by swapping the keys and values. \n",
    "\n",
    "The key becomes RID2, and the value becomes a tuple (RID1, length_of_RID1).\n",
    "\n",
    "After this mapping, we join the refactored RDD with record_lengths_rdd again.\n",
    "\n",
    "The resulting RDD, pair_lengths_rdd_refactored, will have elements in the form: {RID2, ((RID1, length_of_RID1), length_of_RID2)}.\n",
    "\n",
    "Why do we do this?\n",
    "\n",
    "By knowing the lengths of the token sets for each pair of RIDs, we can apply lenght filter (only consider pairs where the length difference is within a certain threshold) to reduce the number of pairs to those most likely to be similar."
   ]
  },
  {
   "cell_type": "code",
   "execution_count": 0,
   "metadata": {
    "application/vnd.databricks.v1+cell": {
     "cellMetadata": {
      "byteLimit": 2048000,
      "rowLimit": 10000
     },
     "inputWidgets": {},
     "nuid": "9f787992-4cfb-46e9-8fda-c05c7fc18570",
     "showTitle": false,
     "title": ""
    }
   },
   "outputs": [
    {
     "output_type": "stream",
     "name": "stdout",
     "output_type": "stream",
     "text": [
      "pair_lengths_rdd: {RID1, (RID2, lenght_of_RID1)}  [('43553', ('44851', 46))]\npair_lengths_rdd: {RID2, (RID1, lenght_of_RID1), lenght_of_RID2}  [('24060', (('16690', 46), 59))]\n"
     ]
    }
   ],
   "source": [
    "# join on RID\n",
    "\n",
    "# MAPPER \n",
    "# REDUCER (join): brings together pairs from RDDs that have the same key. Combines records with the same key (RID) from both RDDs.\n",
    "pair_lengths_rdd = candidate_pairs_after_prefix_rdd.join(record_lengths_rdd) # \n",
    "print(\"pair_lengths_rdd: {RID1, (RID2, lenght_of_RID1)} \", pair_lengths_rdd.take(1))\n",
    "\n",
    "pair_lenghts_rdd_refactored = pair_lengths_rdd.map(lambda kv: (kv[1][0],(kv[0], kv[1][1]))).join(record_lengths_rdd)\n",
    "\n",
    "print(\"pair_lengths_rdd: {RID2, (RID1, lenght_of_RID1), lenght_of_RID2} \", pair_lenghts_rdd_refactored.take(1))"
   ]
  },
  {
   "cell_type": "markdown",
   "metadata": {
    "application/vnd.databricks.v1+cell": {
     "cellMetadata": {
      "byteLimit": 2048000,
      "rowLimit": 10000
     },
     "inputWidgets": {},
     "nuid": "282dd28e-5dbf-4c08-8038-a23e6cc75606",
     "showTitle": false,
     "title": ""
    }
   },
   "source": [
    "###Use formula to filter pairs based on length criteria:\n",
    "\n",
    "This is the core step of the length filter: if the lengths of the two sets in a pair are too different, they can't possibly have a high similarity. By filtering these out, we're reducing the number of pairs we need to check in the next steps... filters out pairs that are unlikely to be similar based on the length of their token sets and a specified similarity threshold.\n",
    "\n",
    "\n",
    "Now, we'll use the derived formula to filter pairs based on the length criteria: by applying the formula derived from the Jaccard similarity principle, we filter out pairs where the lengths of their sets are too different to possibly meet the threshold.\n",
    "\n",
    "For the length filter, we're interested in the numerator: \n",
    "∣A∩B∣, the size of the intersection. The goal is to find a lower bound for this intersection given a certain threshold t.\n",
    "To achieve the similarity t, the intersection ∣A∩B∣ should be: ∣A∩B∣≥t×min(∣A∣,∣B∣)\n",
    "This gives the minimum required intersection size for a given similarity threshold t.\n",
    "\n",
    "Threshold Selection: the choice of the similarity threshold is important: a high threshold might lead to missing some similar pairs, while a low threshold could include more FP.\n",
    "\n",
    "Performance Impact: the filter operation is generally efficient as it processes each record independently and doesn't involve shuffling data, but the efficiency also depends on how many records pass the filter."
   ]
  },
  {
   "cell_type": "markdown",
   "metadata": {
    "application/vnd.databricks.v1+cell": {
     "cellMetadata": {
      "byteLimit": 2048000,
      "rowLimit": 10000
     },
     "inputWidgets": {},
     "nuid": "8d5d0abe-f730-409f-b4e1-e7de71f4636c",
     "showTitle": false,
     "title": ""
    }
   },
   "source": [
    "Example:\n",
    "    \n",
    "Pair: ('7078', (('4481', 63), 57))\n",
    "Lengths: RID1 (4481) = 63, RID2 (7078) = 57\n",
    "\n",
    "Applying the Length Filter:\n",
    "\n",
    "Min Length = min(63, 57) = 57\n",
    "\n",
    "Max Length = max(63, 57) = 63\n",
    "\n",
    "Max Possible Overlap = Min Length = 57\n",
    "\n",
    "Min Required Overlap = Threshold × Min Length = 0.7 × 57 ≈ 40\n",
    "\n",
    "Check for Filtering:\n",
    "\n",
    "Calculation: (Min Length - Max Length + Max Possible Overlap) = (57 - 63 + 57) = 51\n",
    "Since 51 is greater than the Min Required Overlap (40), this pair passes the filter."
   ]
  },
  {
   "cell_type": "markdown",
   "metadata": {
    "application/vnd.databricks.v1+cell": {
     "cellMetadata": {
      "byteLimit": 2048000,
      "rowLimit": 10000
     },
     "inputWidgets": {},
     "nuid": "426e9b53-0be3-4235-a958-474f4ed2f4f9",
     "showTitle": false,
     "title": ""
    }
   },
   "source": [
    "THRESHOLD CONSIDERATION:\n",
    "\n",
    "Strict Matching: If the goal is to identify records that are very similar or nearly duplicates, a higher threshold (e.g., 0.8-0.9) ensures only very similar records are considered.\n",
    "\n",
    "Broad Matching: For exploratory analysis or when broader similarities are relevant, a lower threshold (e.g., 0.5-0.7) might be more suitable.\n",
    "\n",
    "A higher threshold generally results in fewer comparisons and better performance but might miss some relevant matches.\n",
    "\n",
    "A lower threshold increases the computational load but might capture more potential similarities."
   ]
  },
  {
   "cell_type": "markdown",
   "metadata": {
    "application/vnd.databricks.v1+cell": {
     "cellMetadata": {
      "byteLimit": 2048000,
      "rowLimit": 10000
     },
     "inputWidgets": {},
     "nuid": "20668374-a195-4c9c-b2c0-621fef8aa1f9",
     "showTitle": false,
     "title": ""
    }
   },
   "source": [
    "### METHOD-1 [Bayardo et al, WWW 07 ] - not very effective in our case"
   ]
  },
  {
   "cell_type": "markdown",
   "metadata": {
    "application/vnd.databricks.v1+cell": {
     "cellMetadata": {
      "byteLimit": 2048000,
      "rowLimit": 10000
     },
     "inputWidgets": {},
     "nuid": "960a1950-c1e8-42b0-9c72-a005995305b8",
     "showTitle": false,
     "title": ""
    }
   },
   "source": [
    "def filter_pairs_by_length(pair_rdd, alpha):\n",
    "    \"\"\"\n",
    "    Filters the RDD pairs based on the given length criteria derived from the overlapping threshold alpha.\n",
    "\n",
    "    Parameters:\n",
    "    - pair_rdd: RDD in the format {(RID1, RID2), (length_of_RID1, length_of_RID2)}.\n",
    "    - alpha: The minimum number of overlapping tokens required for a pair to be considered similar.\n",
    "\n",
    "    Returns:\n",
    "    - An RDD with pairs filtered by the given criteria.\n",
    "    \"\"\"\n",
    "\n",
    "    def length_filter(value):\n",
    "        length1, length2 = value[1]\n",
    "        # The pair is pruned if the smaller document's length is less than alpha\n",
    "        return min(length1, length2) >= alpha\n",
    "\n",
    "    return pair_rdd.filter(lambda kv: length_filter(kv))\n",
    "\n",
    "# Assuming `pair_lengths_rdd` is an RDD with pairs and their lengths\n",
    "alpha = 10\n",
    "filtered_pairs_after_lenght_rdd = filter_pairs_by_length(pair_lengths_rdd, alpha)\n",
    "\n",
    "# Collecting a small sample for demonstration purposes\n",
    "for record in filtered_pairs_after_lenght_rdd.take(10):\n",
    "    print(record)\n"
   ]
  },
  {
   "cell_type": "markdown",
   "metadata": {
    "application/vnd.databricks.v1+cell": {
     "cellMetadata": {
      "byteLimit": 2048000,
      "rowLimit": 10000
     },
     "inputWidgets": {},
     "nuid": "58de6f40-9520-4a21-8df9-8bdff92cf9db",
     "showTitle": false,
     "title": ""
    }
   },
   "source": [
    "### ALTERNATIVE METHOD WITH JACCARD-LIKE'S THRESHOLD "
   ]
  },
  {
   "cell_type": "code",
   "execution_count": 0,
   "metadata": {
    "application/vnd.databricks.v1+cell": {
     "cellMetadata": {
      "byteLimit": 2048000,
      "rowLimit": 10000
     },
     "inputWidgets": {},
     "nuid": "7e6ad39b-bf47-40cb-8002-5e707e569a55",
     "showTitle": false,
     "title": ""
    }
   },
   "outputs": [
    {
     "output_type": "stream",
     "name": "stdout",
     "output_type": "stream",
     "text": [
      "('24060', (('16690', 46), 59))\n('24060', (('16690', 46), 59))\n('24060', (('18810', 50), 59))\n('24060', (('3260', 51), 59))\n('24060', (('13097', 57), 59))\n('24060', (('17802', 50), 59))\n('24060', (('17802', 50), 59))\n('24060', (('6130', 52), 59))\n('24060', (('7420', 50), 59))\n('24060', (('13615', 63), 59))\n"
     ]
    }
   ],
   "source": [
    "# MAPPER\n",
    "\n",
    "# parametrisations lenght_filter\n",
    "threshold_lenght = 0.70\n",
    "\n",
    "def filter_pairs_by_length(pair_lengths_rdd_refactored, threshold_lenght):\n",
    "    \"\"\"\n",
    "    Filters the RDD pairs based on the given length criteria derived from the similarity threshold.\n",
    "\n",
    "    Parameters:\n",
    "    - pair_lengths_rdd_refactored: RDD in the format {RID2, (RID1, length_of_RID1, length_of_RID2)}.\n",
    "    - threshold: Desired similarity threshold.\n",
    "\n",
    "    Returns:\n",
    "    - An RDD with pairs filtered by the given criteria.\n",
    "    \"\"\"\n",
    "\n",
    "    def length_filter(value):\n",
    "        # take the tuple that contains the lenghts of the 2RIDs\n",
    "        rid1_length = value[0][1]\n",
    "        rid2_length = value[1]\n",
    "        min_length = min(rid1_length, rid2_length)\n",
    "        max_length = max(rid1_length, rid2_length)\n",
    "\n",
    "        # Calculate the maximum possible overlap\n",
    "        max_overlap = min_length\n",
    "\n",
    "        # Derive the minimum required overlap - the min. number of tokens that must overlap for the pair to be considered similar.\n",
    "        min_required_overlap = threshold_lenght * min_length\n",
    "\n",
    "        # Check the minimum required overlap against the maximum possible overlap\n",
    "        return (min_length - max_length + max_overlap) >= min_required_overlap\n",
    "\n",
    "    return pair_lengths_rdd_refactored.filter(lambda kv: length_filter(kv[1]))\n",
    "\n",
    "\n",
    "filtered_pairs_after_lenght_rdd = filter_pairs_by_length(pair_lenghts_rdd_refactored, threshold_lenght)\n",
    "\n",
    "# debugging:\n",
    "for record in filtered_pairs_after_lenght_rdd.take(10):\n",
    "    print(record)"
   ]
  },
  {
   "cell_type": "markdown",
   "metadata": {
    "application/vnd.databricks.v1+cell": {
     "cellMetadata": {
      "byteLimit": 2048000,
      "rowLimit": 10000
     },
     "inputWidgets": {},
     "nuid": "e871ff10-7605-4aee-962a-268df6ef3124",
     "showTitle": false,
     "title": ""
    }
   },
   "source": [
    "###Keep only the RIDs:\n",
    "\n",
    "Finally, keep only the RIDs, discarding the lengths:\n",
    "\n",
    "Now that we've filtered the pairs based on length, we want to keep just the RIDs for further processing. This line maps over the filtered_pairs_after_lenght_rdd and extracts just the RIDs, discarding the lengths. \n",
    "FOR SIMPLIFY DATA STRUCTURE\n",
    "\n",
    "After the length filter, we will have an RDD structure somewhat like:\n",
    "\n",
    "{RID2, ((RID1, length_of_RID1), length_of_RID2)}\n",
    "Now, you just need the RID pairs (RID1, RID2), so we can map the structure to get only the pairs of RIDs.\n",
    "\n",
    "This should get an RDD of the form: (RID1, RID2)"
   ]
  },
  {
   "cell_type": "code",
   "execution_count": 0,
   "metadata": {
    "application/vnd.databricks.v1+cell": {
     "cellMetadata": {
      "byteLimit": 2048000,
      "rowLimit": 10000
     },
     "inputWidgets": {},
     "nuid": "a663d14d-e460-44e9-aff2-c1e0b15b3cb1",
     "showTitle": false,
     "title": ""
    }
   },
   "outputs": [
    {
     "output_type": "stream",
     "name": "stdout",
     "output_type": "stream",
     "text": [
      "('16690', '24060')\n('16690', '24060')\n('18810', '24060')\n('3260', '24060')\n('13097', '24060')\n\n Candidate Pairs after Length Filter: 33648926 \n\n Candidate Pairs filtered out by Lenght Filter: 8211050 \n\nTime of execution of lenght filtering 749.9640612602234\n"
     ]
    }
   ],
   "source": [
    "#MAPPER\n",
    "pairs_after_lenght_rdd = filtered_pairs_after_lenght_rdd.map(lambda kv: (kv[1][0][0], kv[0]))\n",
    "\n",
    "for record in pairs_after_lenght_rdd.take(5):\n",
    "    print(record)\n",
    "\n",
    "pairs_after_lenght_rdd_count = pairs_after_lenght_rdd.count()\n",
    "\n",
    "print(\"\\n Candidate Pairs after Length Filter:\", pairs_after_lenght_rdd_count, \"\\n\")\n",
    "print(\" Candidate Pairs filtered out by Lenght Filter:\", candidate_pairs_after_prefix_rdd_count - pairs_after_lenght_rdd_count, \"\\n\")\n",
    "\n",
    "# stopping measuring the time of lenght filter\n",
    "time_of_lenght_filtering = time.time() - starting_lenght_filtering\n",
    "print(f\"Time of execution of lenght filtering {time_of_lenght_filtering}\")"
   ]
  },
  {
   "cell_type": "markdown",
   "metadata": {
    "application/vnd.databricks.v1+cell": {
     "cellMetadata": {
      "byteLimit": 2048000,
      "rowLimit": 10000
     },
     "inputWidgets": {},
     "nuid": "dfaa7ca4-79cb-4226-aec6-7bbc0fba1c78",
     "showTitle": false,
     "title": ""
    }
   },
   "source": [
    "After this step, final_pairs_rdd will contain candidate pairs that have passed both the prefix and length filters. These pairs have a higher likelihood of being true positives (i.e., genuinely similar pairs). The subsequent positional filter will further refine this set."
   ]
  },
  {
   "cell_type": "markdown",
   "metadata": {
    "application/vnd.databricks.v1+cell": {
     "cellMetadata": {
      "byteLimit": 2048000,
      "rowLimit": 10000
     },
     "inputWidgets": {},
     "nuid": "7e978007-6daa-4b87-a11d-345947a58918",
     "showTitle": false,
     "title": ""
    }
   },
   "source": [
    "#POSITIONAL FILTER\n",
    "\n",
    "\n",
    "Goal: Further refine our candidate pairs to those which are potentially similar by looking at the actual positions of tokens in each record.\n",
    "\n",
    "Why?\n",
    "Even after length and prefix filtering, we might have pairs of records that are not truly similar. Positional filtering checks if the common tokens between two records appear at nearly the same positions. If they do, it's likely that the records are similar. This step is particularly useful to eliminate false positives introduced by common tokens that appear at widely different positions in two records."
   ]
  },
  {
   "cell_type": "markdown",
   "metadata": {
    "application/vnd.databricks.v1+cell": {
     "cellMetadata": {
      "byteLimit": 2048000,
      "rowLimit": 10000
     },
     "inputWidgets": {},
     "nuid": "8568f99d-38ec-42e9-a42c-2ba36d246213",
     "showTitle": false,
     "title": ""
    }
   },
   "source": [
    "##1.Token Positioning\n",
    "\n",
    "For each record, mark each token with its position.\n",
    "Associate each token with its position"
   ]
  },
  {
   "cell_type": "markdown",
   "metadata": {
    "application/vnd.databricks.v1+cell": {
     "cellMetadata": {
      "byteLimit": 2048000,
      "rowLimit": 10000
     },
     "inputWidgets": {},
     "nuid": "8e7aa4f5-1294-404e-8276-b30fe5ab39db",
     "showTitle": false,
     "title": ""
    }
   },
   "source": [
    "\n",
    "This function takes a set of tokens and returns a list of tuples, each consisting of a token and its corresponding index (position) in the set.\n",
    "\n",
    "[ ('record_id1', [('token1', 0), ('token2', 1), ...]),\n",
    " ('record_id2', [('tokenA', 0), ('tokenB', 1), ...]),\n",
    " ...\n",
    "]\n",
    "\n",
    "original:\n",
    "    'record_id1', ['molly', '41', '6050']\n",
    "transformed:\n",
    "        ('record_id1', [('molly', 0), ('41', 1), ('6050', 2)])\n",
    "\n",
    "For the record '0':\n",
    "[    ('molly', 0),     ('41', 1),     ('6050', 2),     ...    ('batlow', 10)]\n",
    "\n",
    "\n",
    "The token 'molly' is in position 0, the token '41' is in position 1, and so on.\n",
    "\n",
    "This positional information will be crucial when applying the positional filtering. Positional filtering, in essence, ensures that tokens from similar records (candidate pairs) not only match but also are proximate in terms of their positions."
   ]
  },
  {
   "cell_type": "code",
   "execution_count": 0,
   "metadata": {
    "application/vnd.databricks.v1+cell": {
     "cellMetadata": {
      "byteLimit": 2048000,
      "rowLimit": 10000
     },
     "inputWidgets": {},
     "nuid": "2aa894e9-b16f-46d1-a64d-89826190d259",
     "showTitle": false,
     "title": ""
    }
   },
   "outputs": [
    {
     "output_type": "stream",
     "name": "stdout",
     "output_type": "stream",
     "text": [
      "Out[13]: [('0',\n  [('190', 0),\n   ('ton', 1),\n   ('376', 2),\n   ('cha', 3),\n   ('080', 4),\n   ('ngt', 5),\n   ('ney', 6),\n   ('919', 7),\n   ('qld', 8),\n   ('575', 9),\n   ('rli', 10),\n   ('han', 11),\n   ('ant', 12),\n   ('eet', 13),\n   ('yst', 14),\n   ('496', 15),\n   ('lin', 16),\n   ('965', 17),\n   ('udn', 18),\n   ('uke', 19),\n   ('908', 20),\n   ('and', 21),\n   ('luk', 22),\n   ('342', 23),\n   ('dne', 24),\n   ('238', 25),\n   ('224', 26),\n   ('hem', 27),\n   ('pud', 28),\n   ('dle', 29),\n   ('emm', 30),\n   ('ree', 31),\n   ('380', 32),\n   ('ndl', 33),\n   ('tre', 34),\n   ('man', 35),\n   ('arl', 36),\n   ('ing', 37),\n   ('eys', 38),\n   ('764', 39),\n   ('ler', 40),\n   ('244', 41),\n   ('mma', 42),\n   ('022', 43),\n   ('809', 44),\n   ('449', 45),\n   ('657', 46),\n   ('423', 47),\n   ('802', 48),\n   ('191', 49),\n   ('gto', 50),\n   ('str', 51)]),\n ('1',\n  [('216', 0),\n   ('nis', 1),\n   ('ill', 2),\n   ('ane', 3),\n   ('ort', 4),\n   ('ore', 5),\n   ('883', 6),\n   ('300', 7),\n   ('088', 8),\n   ('the', 9),\n   ('abl', 10),\n   ('ade', 11),\n   ('isa', 12),\n   ('735', 13),\n   ('rnt', 14),\n   ('rea', 15),\n   ('qld', 16),\n   ('073', 17),\n   ('ast', 18),\n   ('kei', 19),\n   ('eil', 20),\n   ('005', 21),\n   ('930', 22),\n   ('730', 23),\n   ('ten', 24),\n   ('048', 25),\n   ('dem', 26),\n   ('lan', 27),\n   ('cad', 28),\n   ('308', 29),\n   ('180', 30),\n   ('052', 31),\n   ('aca', 32),\n   ('830', 33),\n   ('and', 34),\n   ('wes', 35),\n   ('rth', 36),\n   ('sac', 37),\n   ('ela', 38),\n   ('nor', 39),\n   ('tab', 40),\n   ('mil', 41),\n   ('193', 42),\n   ('ste', 43),\n   ('168', 44),\n   ('ilo', 45),\n   ('emy', 46),\n   ('nta', 47),\n   ('ern', 48),\n   ('nds', 49),\n   ('ble', 50),\n   ('218', 51),\n   ('haw', 52),\n   ('528', 53),\n   ('awe', 54),\n   ('dst', 55),\n   ('lor', 56),\n   ('487', 57),\n   ('lla', 58),\n   ('nni', 59),\n   ('eas', 60),\n   ('873', 61),\n   ('enn', 62),\n   ('lel', 63),\n   ('her', 64),\n   ('807', 65)]),\n ('2',\n  [('011', 0),\n   ('adk', 1),\n   ('fre', 2),\n   ('etr', 3),\n   ('201', 4),\n   ('437', 5),\n   ('300', 6),\n   ('tmi', 7),\n   ('nki', 8),\n   ('kin', 9),\n   ('qld', 10),\n   ('543', 11),\n   ('par', 12),\n   ('mik', 13),\n   ('atm', 14),\n   ('930', 15),\n   ('vad', 16),\n   ('eet', 17),\n   ('720', 18),\n   ('hpa', 19),\n   ('ahp', 20),\n   ('rfr', 21),\n   ('272', 22),\n   ('ark', 23),\n   ('eul', 24),\n   ('339', 25),\n   ('tra', 26),\n   ('jat', 27),\n   ('427', 28),\n   ('ree', 29),\n   ('ran', 30),\n   ('ank', 31),\n   ('193', 32),\n   ('ova', 33),\n   ('112', 34),\n   ('033', 35),\n   ('beu', 36),\n   ('321', 37),\n   ('nov', 38),\n   ('054', 39),\n   ('218', 40),\n   ('375', 41),\n   ('001', 42),\n   ('905', 43),\n   ('390', 44),\n   ('019', 45),\n   ('lah', 46),\n   ('ike', 47),\n   ('ula', 48)]),\n ('3',\n  [('mad', 0),\n   ('733', 1),\n   ('127', 2),\n   ('nga', 3),\n   ('ort', 4),\n   ('072', 5),\n   ('538', 6),\n   ('207', 7),\n   ('edm', 8),\n   ('381', 9),\n   ('972', 10),\n   ('ang', 11),\n   ('lei', 12),\n   ('ade', 13),\n   ('qld', 14),\n   ('073', 15),\n   ('por', 16),\n   ('769', 17),\n   ('ein', 18),\n   ('fla', 19),\n   ('eet', 20),\n   ('mon', 21),\n   ('720', 22),\n   ('076', 23),\n   ('995', 24),\n   ('tst', 25),\n   ('507', 26),\n   ('ofl', 27),\n   ('vin', 28),\n   ('ond', 29),\n   ('del', 30),\n   ('lat', 31),\n   ('dmo', 32),\n   ('030', 33),\n   ('dav', 34),\n   ('199', 35),\n   ('ree', 36),\n   ('303', 37),\n   ('275', 38),\n   ('tre', 39),\n   ('kan', 40),\n   ('gar', 41),\n   ('roo', 42),\n   ('rts', 43),\n   ('727', 44),\n   ('812', 45),\n   ('aro', 46),\n   ('950', 47),\n   ('enp', 48),\n   ('ner', 49),\n   ('ine', 50),\n   ('npo', 51),\n   ('ery', 52),\n   ('ele', 53),\n   ('oof', 54),\n   ('ven', 55),\n   ('ave', 56),\n   ('str', 57),\n   ('red', 58),\n   ('697', 59)]),\n ('4',\n  [('348', 0),\n   ('289', 1),\n   ('ena', 2),\n   ('nac', 3),\n   ('gin', 4),\n   ('ayd', 5),\n   ('nsw', 6),\n   ('apl', 7),\n   ('034', 8),\n   ('res', 9),\n   ('400', 10),\n   ('311', 11),\n   ('cor', 12),\n   ('nap', 13),\n   ('lgi', 14),\n   ('483', 15),\n   ('006', 16),\n   ('nel', 17),\n   ('ron', 18),\n   ('631', 19),\n   ('ace', 20),\n   ('196', 21),\n   ('gre', 22),\n   ('932', 23),\n   ('zim', 24),\n   ('839', 25),\n   ('pla', 26),\n   ('123', 27),\n   ('030', 28),\n   ('238', 29),\n   ('403', 30),\n   ('393', 31),\n   ('den', 32),\n   ('rma', 33),\n   ('ree', 34),\n   ('len', 35),\n   ('112', 36),\n   ('894', 37),\n   ('gle', 38),\n   ('ann', 39),\n   ('mme', 40),\n   ('man', 41),\n   ('323', 42),\n   ('cre', 43),\n   ('erm', 44),\n   ('acr', 45),\n   ('imm', 46),\n   ('ene', 47),\n   ('lac', 48),\n   ('yde', 49),\n   ('mer', 50),\n   ('oro', 51),\n   ('963', 52),\n   ('elg', 53),\n   ('kay', 54),\n   ('ona', 55),\n   ('940', 56),\n   ('een', 57)])]"
     ]
    }
   ],
   "source": [
    "# starting measuring the time for position filtering\n",
    "starting_position_filtering = time.time()\n",
    "\n",
    "def position_tokens(tokens):\n",
    "    return [(token, idx) for idx, token in enumerate(tokens)]\n",
    "\n",
    "# mapValues only processes the values of the key-value pairs in the RDD, leaving the keys (the record IDs) unchanged.\n",
    "positioned_rdd = tokenized_rdd.mapValues(position_tokens)\n",
    "positioned_rdd = positioned_rdd.cache()\n",
    "#positioned_rdd have the same keys (RID) of tokenized_rdd, but the values now are lists of (token, index) pairs instead of sets of tokens.\n",
    "\n",
    "positioned_rdd.take(5)"
   ]
  },
  {
   "cell_type": "markdown",
   "metadata": {
    "application/vnd.databricks.v1+cell": {
     "cellMetadata": {
      "byteLimit": 2048000,
      "rowLimit": 10000
     },
     "inputWidgets": {},
     "nuid": "dca44db3-14a1-41fa-b8cc-d958e83a8dfe",
     "showTitle": false,
     "title": ""
    }
   },
   "source": [
    "##2.Join the distinct_pairs_rdd with the positioned_rdd based on tokens:"
   ]
  },
  {
   "cell_type": "markdown",
   "metadata": {
    "application/vnd.databricks.v1+cell": {
     "cellMetadata": {
      "byteLimit": 2048000,
      "rowLimit": 10000
     },
     "inputWidgets": {},
     "nuid": "3d34aaa9-85c8-49fc-b725-ba6e7241e240",
     "showTitle": false,
     "title": ""
    }
   },
   "source": [
    "Now, by using this positioned RDD (positioned_rdd) we:\n",
    "\n",
    "-Join candidate pairs based on their tokens and filter based on their positions.\n",
    "\n",
    "-Further prune candidate pairs based on Jaccard similarity.\n",
    "\n",
    "To achieve this, we first need to do the join operation on final_pairs_rdd with the positioned_rdd and then perform the positional filtering."
   ]
  },
  {
   "cell_type": "markdown",
   "metadata": {
    "application/vnd.databricks.v1+cell": {
     "cellMetadata": {
      "byteLimit": 2048000,
      "rowLimit": 10000
     },
     "inputWidgets": {},
     "nuid": "f60eb59b-a687-40cd-8381-f58a7e621297",
     "showTitle": false,
     "title": ""
    }
   },
   "source": [
    "We have the positioned_rdd in the format:\n",
    "('record_id', [('token1', position1), ('token2', position2), ...])\n",
    "\n",
    "And the pairs_after_lenght_rdd (from previous prefix filtering) in the format:\n",
    "('RID1', 'RID2')"
   ]
  },
  {
   "cell_type": "markdown",
   "metadata": {
    "application/vnd.databricks.v1+cell": {
     "cellMetadata": {
      "byteLimit": 2048000,
      "rowLimit": 10000
     },
     "inputWidgets": {},
     "nuid": "70f30205-03ae-494f-9556-5496a798aa5f",
     "showTitle": false,
     "title": ""
    }
   },
   "source": [
    "The join operation in Spark combines two RDDs based on their keys\n",
    "\n",
    "Each element in distinct_pairs_rdd is joined with the corresponding element in positioned_rdd based on matching record IDs. This join will result in a new RDD where each element consists of a record ID and a tuple containing the pair of RIDs from final_pairs_rdd and the list of positioned tokens from positioned_rdd.\n",
    "\n",
    "Output Format\n",
    "After the join, the RDD first_join should have elements in the format:\n",
    "('RID1', ('RID2', [('token_rid1_1', position1), ('token_rid_2', position2), ..., ('token_rid1_N', positionN)]))\n",
    "\n",
    "This format represents the association of each RID pair with the positioned tokens of one of the records in the pair."
   ]
  },
  {
   "cell_type": "markdown",
   "metadata": {
    "application/vnd.databricks.v1+cell": {
     "cellMetadata": {
      "byteLimit": 2048000,
      "rowLimit": 10000
     },
     "inputWidgets": {},
     "nuid": "c677d8c9-ea47-4bb6-8197-a627d96f85dd",
     "showTitle": false,
     "title": ""
    }
   },
   "source": [
    "Example:\n",
    "    \n",
    "Each element of the resulting RDD (first_join) is a tuple with two main components:\n",
    "    \n",
    "First Element:\n",
    "\n",
    "('1059', ...): This is RID1.\n",
    "\n",
    "Second Element (Nested Tuple):\n",
    "\n",
    "The first part of the nested tuple, '7078' is example of RID2.\n",
    "The second part of the nested tuple is a list of positioned tokens from RID1's (1059) token set, like [('och', 0), ('190', 1), ..., ('kwo', 62)].\n",
    "\n",
    "We get this format of data: ('RID1', ('RID2', [positioned tokens of RID1])).\n",
    "\n",
    "The key '1059' is RID1, and the value is a tuple containing '7078' as RID2 and the list of positioned tokens associated with RID1 ('1059').\n"
   ]
  },
  {
   "cell_type": "code",
   "execution_count": 0,
   "metadata": {
    "application/vnd.databricks.v1+cell": {
     "cellMetadata": {
      "byteLimit": 2048000,
      "rowLimit": 10000
     },
     "inputWidgets": {},
     "nuid": "1a0a3afe-1a61-4f7f-b7ba-25b55e433bf1",
     "showTitle": false,
     "title": ""
    }
   },
   "outputs": [
    {
     "output_type": "stream",
     "name": "stdout",
     "output_type": "stream",
     "text": [
      "Out[14]: [('6943',\n  ('74426',\n   [('406', 0),\n    ('sto', 1),\n    ('197', 2),\n    ('263', 3),\n    ('arb', 4),\n    ('326', 5),\n    ('cof', 6),\n    ('kda', 7),\n    ('our', 8),\n    ('obl', 9),\n    ('385', 10),\n    ('043', 11),\n    ('301', 12),\n    ('qld', 13),\n    ('ckd', 14),\n    ('103', 15),\n    ('215', 16),\n    ('730', 17),\n    ('340', 18),\n    ('eet', 19),\n    ('432', 20),\n    ('don', 21),\n    ('ock', 22),\n    ('637', 23),\n    ('ale', 24),\n    ('nob', 25),\n    ('373', 26),\n    ('bra', 27),\n    ('est', 28),\n    ('rbo', 29),\n    ('010', 30),\n    ('les', 31),\n    ('fsh', 32),\n    ('off', 33),\n    ('rae', 34),\n    ('062', 35),\n    ('ree', 36),\n    ('dal', 37),\n    ('700', 38),\n    ('har', 39),\n    ('738', 40),\n    ('tre', 41),\n    ('aed', 42),\n    ('ble', 43),\n    ('570', 44),\n    ('bou', 45),\n    ('621', 46),\n    ('sha', 47),\n    ('973', 48),\n    ('ffs', 49),\n    ('toc', 50),\n    ('edo', 51),\n    ('str', 52)]))]"
     ]
    }
   ],
   "source": [
    "first_join = pairs_after_lenght_rdd.join(positioned_rdd)\n",
    "\n",
    "first_join.take(1)"
   ]
  },
  {
   "cell_type": "markdown",
   "metadata": {
    "application/vnd.databricks.v1+cell": {
     "cellMetadata": {
      "byteLimit": 2048000,
      "rowLimit": 10000
     },
     "inputWidgets": {},
     "nuid": "56f4b0f8-e2a7-4650-99eb-bcecb0fb39de",
     "showTitle": false,
     "title": ""
    }
   },
   "source": [
    "#### For debugging pourpose - check the correct structure of join - change to pythoncode\n",
    "\n",
    "for i, record in positioned_rdd.collect():\n",
    "    if i=='1059':\n",
    "        print(f\"{record} \\n\")\n",
    "    if i=='7078':\n",
    "        print(f\"{record} \\n\")\n",
    "\n"
   ]
  },
  {
   "cell_type": "markdown",
   "metadata": {
    "application/vnd.databricks.v1+cell": {
     "cellMetadata": {
      "byteLimit": 2048000,
      "rowLimit": 10000
     },
     "inputWidgets": {},
     "nuid": "f731f930-833f-485f-8588-99f187a30b90",
     "showTitle": false,
     "title": ""
    }
   },
   "source": [
    "##3.Reformat the RID and token, then join again:\n",
    "\n",
    "The lambda function inside map restructures each element of first_join. It changes the format from ('RID1', ('RID2', [('token1', position1), ...])) to ('RID2', ('RID1', [('token1', position1), ...])).\n",
    "\n",
    "so the final form will be this one: ('RID2', ('RID1', [positioned tokens of RID1])).\n",
    "\n",
    "In this step, we're performing a second join operation to bring together the positioned token data for both records in each candidate pair.\n"
   ]
  },
  {
   "cell_type": "markdown",
   "metadata": {
    "application/vnd.databricks.v1+cell": {
     "cellMetadata": {
      "byteLimit": 2048000,
      "rowLimit": 10000
     },
     "inputWidgets": {},
     "nuid": "b28ee46c-ecd9-4793-a38a-20fbd0a843fa",
     "showTitle": false,
     "title": ""
    }
   },
   "source": [
    "Then join this transformed RDD with positioned_rdd on RID2.\n",
    "\n",
    "This join operation combines the positioned tokens of RID1 (already in the transformed RDD) with the positioned tokens of RID2 (from positioned_rdd).\n",
    "\n",
    "Output Format:\n",
    "\n",
    "After the join, each element of second_join should have the following format:\n",
    "\n",
    "('RID2', (('RID1', [('token1_RID1', pos1_RID1), ...]), [('token1_RID2', pos1_RID2), ...])) - ('RID2', (('RID1', [positioned tokens of RID1]), [positioned tokens of RID2]))\n",
    "\n",
    "This means for each pair of record IDs (RID1 and RID2), we have now the positioned tokens of both RID1 and RID2."
   ]
  },
  {
   "cell_type": "markdown",
   "metadata": {
    "application/vnd.databricks.v1+cell": {
     "cellMetadata": {
      "byteLimit": 2048000,
      "rowLimit": 10000
     },
     "inputWidgets": {},
     "nuid": "12414c32-0909-441b-9e62-26552b878d6a",
     "showTitle": false,
     "title": ""
    }
   },
   "source": [
    "Example:\n",
    "    \n",
    "Key: RID2 ('7078')\n",
    "\n",
    "Value -> tuple consisting of:\n",
    "\n",
    "1a Part: a tuple (('RID1', [positioned tokens of RID1])) RID1 + list of (tokens,pos)\n",
    "\n",
    "2nd Part: ([positioned tokens of RID2]), list of positioned tokens associated with RID2"
   ]
  },
  {
   "cell_type": "code",
   "execution_count": 0,
   "metadata": {
    "application/vnd.databricks.v1+cell": {
     "cellMetadata": {
      "byteLimit": 2048000,
      "rowLimit": 10000
     },
     "inputWidgets": {},
     "nuid": "cfa777c3-29f6-4e89-8779-5ec1c90dbbc6",
     "showTitle": false,
     "title": ""
    }
   },
   "outputs": [
    {
     "output_type": "stream",
     "name": "stdout",
     "output_type": "stream",
     "text": [
      "Out[15]: [('68710',\n  (('972',\n    [('197', 0),\n     ('ive', 1),\n     ('llc', 2),\n     ('cha', 3),\n     ('mbe', 4),\n     ('ver', 5),\n     ('050', 6),\n     ('hof', 7),\n     ('nsc', 8),\n     ('rmi', 9),\n     ('pin', 10),\n     ('135', 11),\n     ('ofp', 12),\n     ('amb', 13),\n     ('arm', 14),\n     ('036', 15),\n     ('771', 16),\n     ('967', 17),\n     ('fpl', 18),\n     ('ace', 19),\n     ('003', 20),\n     ('cho', 21),\n     ('mid', 22),\n     ('ale', 23),\n     ('719', 24),\n     ('pla', 25),\n     ('087', 26),\n     ('oli', 27),\n     ('ida', 28),\n     ('bel', 29),\n     ('ell', 30),\n     ('dal', 31),\n     ('ham', 32),\n     ('877', 33),\n     ('ber', 34),\n     ('lac', 35),\n     ('ins', 36),\n     ('674', 37),\n     ('905', 38),\n     ('liv', 39),\n     ('790', 40),\n     ('ers', 41),\n     ('500', 42),\n     ('lch', 43),\n     ('203', 44),\n     ('505', 45),\n     ('sch', 46),\n     ('350', 47),\n     ('979', 48),\n     ('996', 49),\n     ('199', 50),\n     ('038', 51)]),\n   [('ton', 0),\n    ('lav', 1),\n    ('326', 2),\n    ('460', 3),\n    ('ver', 4),\n    ('043', 5),\n    ('ffp', 6),\n    ('948', 7),\n    ('942', 8),\n    ('846', 9),\n    ('far', 10),\n    ('lde', 11),\n    ('032', 12),\n    ('fpl', 13),\n    ('old', 14),\n    ('ace', 15),\n    ('484', 16),\n    ('261', 17),\n    ('432', 18),\n    ('chl', 19),\n    ('lan', 20),\n    ('ert', 21),\n    ('194', 22),\n    ('ond', 23),\n    ('del', 24),\n    ('pla', 25),\n    ('den', 26),\n    ('ell', 27),\n    ('ard', 28),\n    ('arf', 29),\n    ('rde', 30),\n    ('ach', 31),\n    ('119', 32),\n    ('nds', 33),\n    ('lac', 34),\n    ('rto', 35),\n    ('611', 36),\n    ('gol', 37),\n    ('bar', 38),\n    ('594', 39),\n    ('enp', 40),\n    ('203', 41),\n    ('hla', 42),\n    ('pon', 43),\n    ('npo', 44),\n    ('rff', 45),\n    ('ave', 46)]))]"
     ]
    }
   ],
   "source": [
    "second_join = first_join.map(lambda kv: (kv[1][0], (kv[0], kv[1][1]))).join(positioned_rdd)\n",
    "\n",
    "second_join.take(1)"
   ]
  },
  {
   "cell_type": "markdown",
   "metadata": {
    "application/vnd.databricks.v1+cell": {
     "cellMetadata": {
      "byteLimit": 2048000,
      "rowLimit": 10000
     },
     "inputWidgets": {},
     "nuid": "020b4620-980a-4e1d-b563-b8204ff1ce2a",
     "showTitle": false,
     "title": ""
    }
   },
   "source": [
    "#### For debugging pourpose - test to check the correct structure of join - chance to pythoncode\n",
    "\n",
    "for i, record in positioned_rdd.collect():\n",
    "    if i=='1059':\n",
    "        print(f\"{record} \\n\")\n",
    "    if i=='7078':\n",
    "        print(f\"{record} \\n\")"
   ]
  },
  {
   "cell_type": "markdown",
   "metadata": {
    "application/vnd.databricks.v1+cell": {
     "cellMetadata": {
      "byteLimit": 2048000,
      "rowLimit": 10000
     },
     "inputWidgets": {},
     "nuid": "414b7edc-be94-45fc-bb42-014c18ef094b",
     "showTitle": false,
     "title": ""
    }
   },
   "source": [
    "Comparing Tokens and Positions:\n",
    "\n",
    "This step is crucial for positional filtering because it aligns the positioned tokens of both records in each candidate pair.Both lists have tokens and their respective positions in the records. \n",
    "\n",
    "Now, we can filter pairs where the token positions in both records are close enough based on a threshold."
   ]
  },
  {
   "cell_type": "markdown",
   "metadata": {
    "application/vnd.databricks.v1+cell": {
     "cellMetadata": {
      "byteLimit": 2048000,
      "rowLimit": 10000
     },
     "inputWidgets": {},
     "nuid": "ce613ae1-f4e3-4f8c-a3db-1f0e4cc9326a",
     "showTitle": false,
     "title": ""
    }
   },
   "source": [
    "##4.Filter out the pairs of records that doesn't satisfy the positional constraint."
   ]
  },
  {
   "cell_type": "markdown",
   "metadata": {
    "application/vnd.databricks.v1+cell": {
     "cellMetadata": {
      "byteLimit": 2048000,
      "rowLimit": 10000
     },
     "inputWidgets": {},
     "nuid": "7c2589d9-65be-42be-a16e-86373fd3b403",
     "showTitle": false,
     "title": ""
    }
   },
   "source": [
    "Threshold Interpretation\n",
    "\n",
    "The similarity_threshold represents the robustness of the similarity requirement. A higher threshold requires more evidence of similarity (more matching tokens), making it stricter.\n",
    "\n",
    "A lower threshold is more lenient, requiring fewer matching tokens to consider two records as similar.\n",
    "\n",
    "The max_positional_difference accounts for variations in the token positions between the records. It defines how closely the positions must align for a token to be considered common."
   ]
  },
  {
   "cell_type": "markdown",
   "metadata": {
    "application/vnd.databricks.v1+cell": {
     "cellMetadata": {
      "byteLimit": 2048000,
      "rowLimit": 10000
     },
     "inputWidgets": {},
     "nuid": "dd2f5b2e-ac5b-409f-8d59-4bb253953028",
     "showTitle": false,
     "title": ""
    }
   },
   "source": [
    "Logic of filter:\n",
    "\n",
    "similarity_threshold is the minimum number of common tokens that two records must have to be considered similar.\n",
    "\n",
    "max_positional_difference is the maximum distance allowed between the positions of the same token in the two records.\n",
    "\n",
    "rec1_tokens contains the positioned tokens from the first record (RID1), and rec2_tokens_dict is a dictionary that is used to lookups of the positions of tokens from the second record (RID2).\n",
    "\n",
    "common_tokens counter is initialized to zero and will keep track of how many token matches have been found between the two records.\n",
    "\n",
    "possible_common_tokens starts as the minimum length of the two token lists (since that's the maximum possible matches) and decrements as we iterate through the tokens of RID1, because there's one less token to potentially match with.\n",
    "\n",
    "For each token in rec1_tokens, the function looks up the position of the same token in rec2_positions. If the token exists in both records and the absolute difference in their positions is less than or equal to max_positional_difference, it is counted as a common token (common_tokens + 1)\n",
    "\n",
    "After each token comparison, the function checks if it's still possible to meet the similarity_threshold.\n",
    "It does this by adding common_tokens and possible_common_tokens. If their sum is less than similarity_threshold, the function concludes that the records can't be similar and returns False.\n",
    "This check allows the function to stop early if it's already impossible for the pair to meet the similarity criteria, saving unnecessary computation.\n",
    "\n",
    "If the loop completes without triggering the early stopping rule, the function checks if the number of common_tokens found meets or exceeds the similarity_threshold.\n",
    "If it does, the function returns True, indicating that the records are similar. Otherwise, it returns False.\n"
   ]
  },
  {
   "cell_type": "code",
   "execution_count": 0,
   "metadata": {
    "application/vnd.databricks.v1+cell": {
     "cellMetadata": {
      "byteLimit": 2048000,
      "rowLimit": 10000
     },
     "inputWidgets": {},
     "nuid": "c8639ec8-6a41-4ccb-ba5d-45352ed90281",
     "showTitle": false,
     "title": ""
    }
   },
   "outputs": [
    {
     "output_type": "stream",
     "name": "stdout",
     "output_type": "stream",
     "text": [
      "Out[17]: [('4088',\n  (('972',\n    [('197', 0),\n     ('ive', 1),\n     ('llc', 2),\n     ('cha', 3),\n     ('mbe', 4),\n     ('ver', 5),\n     ('050', 6),\n     ('hof', 7),\n     ('nsc', 8),\n     ('rmi', 9),\n     ('pin', 10),\n     ('135', 11),\n     ('ofp', 12),\n     ('amb', 13),\n     ('arm', 14),\n     ('036', 15),\n     ('771', 16),\n     ('967', 17),\n     ('fpl', 18),\n     ('ace', 19),\n     ('003', 20),\n     ('cho', 21),\n     ('mid', 22),\n     ('ale', 23),\n     ('719', 24),\n     ('pla', 25),\n     ('087', 26),\n     ('oli', 27),\n     ('ida', 28),\n     ('bel', 29),\n     ('ell', 30),\n     ('dal', 31),\n     ('ham', 32),\n     ('877', 33),\n     ('ber', 34),\n     ('lac', 35),\n     ('ins', 36),\n     ('674', 37),\n     ('905', 38),\n     ('liv', 39),\n     ('790', 40),\n     ('ers', 41),\n     ('500', 42),\n     ('lch', 43),\n     ('203', 44),\n     ('505', 45),\n     ('sch', 46),\n     ('350', 47),\n     ('979', 48),\n     ('996', 49),\n     ('199', 50),\n     ('038', 51)]),\n   [('190', 0),\n    ('040', 1),\n    ('406', 2),\n    ('ive', 3),\n    ('riv', 4),\n    ('llc', 5),\n    ('cha', 6),\n    ('mat', 7),\n    ('mbe', 8),\n    ('624', 9),\n    ('391', 10),\n    ('oka', 11),\n    ('nsw', 12),\n    ('277', 13),\n    ('nam', 14),\n    ('noo', 15),\n    ('amb', 16),\n    ('tji', 17),\n    ('ira', 18),\n    ('rad', 19),\n    ('col', 20),\n    ('122', 21),\n    ('oll', 22),\n    ('lom', 23),\n    ('221', 24),\n    ('att', 25),\n    ('770', 26),\n    ('oli', 27),\n    ('ama', 28),\n    ('062', 29),\n    ('bel', 30),\n    ('omb', 31),\n    ('ell', 32),\n    ('ham', 33),\n    ('kan', 34),\n    ('mba', 35),\n    ('tti', 36),\n    ('912', 37),\n    ('ber', 38),\n    ('doo', 39),\n    ('bat', 40),\n    ('dri', 41),\n    ('ook', 42),\n    ('ivi', 43),\n    ('liv', 44),\n    ('llo', 45),\n    ('jir', 46),\n    ('lch', 47),\n    ('ano', 48),\n    ('atj', 49),\n    ('adr', 50),\n    ('539', 51),\n    ('via', 52),\n    ('ers', 53),\n    ('904', 54)]))]"
     ]
    }
   ],
   "source": [
    "# parametrisations of position filter\n",
    "similarity_threshold = 10  # Number of min. common tokens required for a pair to be considered similar\n",
    "max_positional_difference = 10  # Maximum allowed positional difference between tokens\n",
    "\n",
    "def positional_filter_optimized(pair, similarity_threshold, max_positional_difference):\n",
    "    RID2, ((RID1, rec1_tokens), rec2_tokens_dict) = pair\n",
    "    \n",
    "    # Initialize counters\n",
    "    common_tokens = 0\n",
    "    \n",
    "    # Create a dictionary for the second record for fast lookups\n",
    "    rec2_positions = {token: pos for token, pos in rec2_tokens_dict}\n",
    "\n",
    "    # Calculate the maximum possible common tokens at the beginning\n",
    "    possible_common_tokens = min(len(rec1_tokens), len(rec2_tokens_dict))\n",
    "    \n",
    "    # Iterate through the positioned tokens of the first record (the prefix)\n",
    "    for token, pos1 in rec1_tokens:\n",
    "        # Decrement possible common tokens as we advance\n",
    "        possible_common_tokens -= 1\n",
    "        \n",
    "        pos2 = rec2_positions.get(token)\n",
    "        if pos2 is not None and abs(pos1 - pos2) <= max_positional_difference:\n",
    "            common_tokens += 1\n",
    "        \n",
    "        # Apply early stopping rule based on the similarity threshold\n",
    "        if common_tokens + possible_common_tokens < similarity_threshold:\n",
    "            return False\n",
    "\n",
    "    # If we complete the loop without returning False, the pair is similar\n",
    "    return common_tokens >= similarity_threshold\n",
    "\n",
    "\n",
    "# Apply the filter to the second join RDD\n",
    "filtered_positional_rdd = second_join.filter(lambda pair: positional_filter_optimized(pair, similarity_threshold, max_positional_difference))\n",
    "\n",
    "# sample for debugging\n",
    "filtered_positional_rdd.take(1)\n"
   ]
  },
  {
   "cell_type": "markdown",
   "metadata": {
    "application/vnd.databricks.v1+cell": {
     "cellMetadata": {
      "byteLimit": 2048000,
      "rowLimit": 10000
     },
     "inputWidgets": {},
     "nuid": "12d18ff3-4156-4237-855f-4fffc7e79f9d",
     "showTitle": false,
     "title": ""
    }
   },
   "source": [
    "##5.Extract Candidate Pairs"
   ]
  },
  {
   "cell_type": "markdown",
   "metadata": {
    "application/vnd.databricks.v1+cell": {
     "cellMetadata": {
      "byteLimit": 2048000,
      "rowLimit": 10000
     },
     "inputWidgets": {},
     "nuid": "292c92df-2ab1-447e-b5eb-6b3eba126729",
     "showTitle": false,
     "title": ""
    }
   },
   "source": [
    "The goal now is to convert the nested structure of filtered_positional_rdd into a simpler structure: (recordID_A, recordID_B), where recordID_A and recordID_B are the IDs of the two records that passed the positional filtering.\n",
    "\n",
    "Here's how we achieve this:\n",
    "Map to Candidate Pair RDD: Extract just the RIDs for each pair.. then we also sorted the pairs"
   ]
  },
  {
   "cell_type": "code",
   "execution_count": 0,
   "metadata": {
    "application/vnd.databricks.v1+cell": {
     "cellMetadata": {
      "byteLimit": 2048000,
      "rowLimit": 10000
     },
     "inputWidgets": {},
     "nuid": "221a75d7-835a-44f1-a8db-f2e0ce2c83f5",
     "showTitle": false,
     "title": ""
    }
   },
   "outputs": [
    {
     "output_type": "stream",
     "name": "stdout",
     "output_type": "stream",
     "text": [
      "Candidate pairs after positional filtering: 2877006 \n\nCandidate pairs removed by positional filter: 30771920 \n\nSample of candidate_pairs: [('23081', '73112'), ('23081', '73112'), ('37836', '73112'), ('37836', '73112'), ('39551', '73112')] \n\nTime of position filtering execution: 7318.785023212433\n"
     ]
    }
   ],
   "source": [
    "# Extracting candidate pairs and sorting\n",
    "candidate_pairs_rdd = filtered_positional_rdd.map(lambda x: (x[1][0][0], x[0]))\n",
    "candidate_pairs_final_rdd = candidate_pairs_rdd.map(lambda x: tuple(sorted(x)))\n",
    "\n",
    "# Caching the RDD\n",
    "candidate_pairs_final_rdd = candidate_pairs_final_rdd.cache()\n",
    "\n",
    "# Counting the candidate pairs\n",
    "candidate_pairs_final_count = candidate_pairs_final_rdd.count()\n",
    "\n",
    "print(\"Candidate pairs after positional filtering:\", candidate_pairs_final_count, \"\\n\")\n",
    "print(\"Candidate pairs removed by positional filter:\", pairs_after_lenght_rdd_count - candidate_pairs_final_count, \"\\n\")\n",
    "print(\"Sample of candidate_pairs:\", candidate_pairs_final_rdd.take(5), \"\\n\")\n",
    "\n",
    "# stopping measuring time for position filtering\n",
    "time_of_position_filtering = time.time() - starting_position_filtering\n",
    "print(f\"Time of position filtering execution: {time_of_position_filtering}\")\n"
   ]
  },
  {
   "cell_type": "markdown",
   "metadata": {
    "application/vnd.databricks.v1+cell": {
     "cellMetadata": {
      "byteLimit": 2048000,
      "rowLimit": 10000
     },
     "inputWidgets": {},
     "nuid": "7261020b-1daf-4984-af38-afdc1d629d53",
     "showTitle": false,
     "title": ""
    }
   },
   "source": [
    "#### Debugging  for check a specific RID - chanche to pythoncode to use it\n",
    "\n",
    "#### Filtering for a specific record ID '10001'\n",
    "specific_record_id = '10001'\n",
    "\n",
    "specific_pairs_rdd = candidate_pairs_final_rdd.filter(lambda x: specific_record_id in x)\n",
    "\n",
    "#### Counting and taking a sample of specific pairs\n",
    "specific_pair_sample = specific_pairs_rdd.take(5)\n",
    "\n",
    "#### print a specific sample\n",
    "for element in specific_pair_sample:\n",
    "\n",
    "    record1, record2 = element\n",
    "    \n",
    "    print(element)"
   ]
  },
  {
   "cell_type": "markdown",
   "metadata": {
    "application/vnd.databricks.v1+cell": {
     "cellMetadata": {
      "byteLimit": 2048000,
      "rowLimit": 10000
     },
     "inputWidgets": {},
     "nuid": "72f9e5a8-807f-405a-a634-5c2bb926fe2f",
     "showTitle": false,
     "title": ""
    }
   },
   "source": [
    "##DUPLICATE REMOVALS (optional) - avoidable for computational cost\n",
    "\n",
    "This function ensures that the pairs of RIDs are ordered consistently.\n",
    "\n",
    "It takes a tuple (RID1, RID2) and checks which RID is smaller. It then returns the pair in sorted order (smaller RID, larger RID)."
   ]
  },
  {
   "cell_type": "code",
   "execution_count": 0,
   "metadata": {
    "application/vnd.databricks.v1+cell": {
     "cellMetadata": {
      "byteLimit": 2048000,
      "rowLimit": 10000
     },
     "inputWidgets": {},
     "nuid": "4da77b4e-7c7a-4c65-85c1-5c5d4041a4e8",
     "showTitle": false,
     "title": ""
    }
   },
   "outputs": [
    {
     "output_type": "stream",
     "name": "stdout",
     "output_type": "stream",
     "text": [
      "Out[19]: [('23081', '73112'),\n ('23081', '73112'),\n ('37836', '73112'),\n ('37836', '73112'),\n ('39551', '73112')]"
     ]
    }
   ],
   "source": [
    "# starting measuring time for deduplication\n",
    "starting_time_of_deduplication = time.time()\n",
    "\n",
    "def order_rids(pair):\n",
    "    RID1, RID2 = pair\n",
    "    return (RID1, RID2) if RID1 < RID2 else (RID2, RID1)\n",
    "\n",
    "candidate_pairs_ordered_rdd = candidate_pairs_final_rdd.map(order_rids) #Uncomment to execute the deduplication\n",
    "\n",
    "# print sample\n",
    "candidate_pairs_ordered_rdd.take(5)"
   ]
  },
  {
   "cell_type": "markdown",
   "metadata": {
    "application/vnd.databricks.v1+cell": {
     "cellMetadata": {
      "byteLimit": 2048000,
      "rowLimit": 10000
     },
     "inputWidgets": {},
     "nuid": "641fcb52-a729-48bf-8a3d-3b6e2683e05f",
     "showTitle": false,
     "title": ""
    }
   },
   "source": [
    "it's possible, especially in distributed systems like Spark, that we might have multiple identical candidate pairs being evaluated more than once\n",
    "\n",
    "It removes duplicate pairs, ensuring that each pair of record IDs (RIDs) appears only once in distinct_candidate_pairs_rdd.\n",
    "\n",
    "This way, (A, B) and (B, A) are considered the same because they both become (A, B).\n",
    "\n",
    "Efficiency: By removing duplicates, we reduce the dataset size, which can lead to performance improvements in subsequent processing steps."
   ]
  },
  {
   "cell_type": "code",
   "execution_count": 0,
   "metadata": {
    "application/vnd.databricks.v1+cell": {
     "cellMetadata": {
      "byteLimit": 2048000,
      "rowLimit": 10000
     },
     "inputWidgets": {},
     "nuid": "8f0bbc96-c2d4-472b-bca8-7b9919e68c56",
     "showTitle": false,
     "title": ""
    }
   },
   "outputs": [
    {
     "output_type": "stream",
     "name": "stdout",
     "output_type": "stream",
     "text": [
      "('23081', '73112')\n('37836', '73112')\n('66204', '73112')\n('17114', '73112')\n('34793', '94028')\n\n Number of candidate pairs after removing the duplicate:  1635279 \n\nCandidate Pairs removed: 1241727 \n\nTime of deduplication filtering execution: 17.825580835342407\n"
     ]
    }
   ],
   "source": [
    "# take only the \"unique\" candidate pair\n",
    "distinct_candidate_pairs_rdd = candidate_pairs_ordered_rdd.distinct() #Uncomment to do the deduplication\n",
    "\n",
    "# print sample\n",
    "for record in distinct_candidate_pairs_rdd.take(5):\n",
    "    print(record)\n",
    "\n",
    "distinct_candidate_pairs_rdd_count = distinct_candidate_pairs_rdd.count()\n",
    "\n",
    "print(\"\\n Number of candidate pairs after removing the duplicate: \", distinct_candidate_pairs_rdd_count,\"\\n\")\n",
    "print(\"Candidate Pairs removed:\", candidate_pairs_final_count - distinct_candidate_pairs_rdd_count,\"\\n\")\n",
    "\n",
    "# stopping measuring time for deduplication\n",
    "\n",
    "time_of_deduplication = time.time() - starting_time_of_deduplication\n",
    "print(f\"Time of deduplication filtering execution: {time_of_deduplication}\")"
   ]
  },
  {
   "cell_type": "markdown",
   "metadata": {
    "application/vnd.databricks.v1+cell": {
     "cellMetadata": {
      "byteLimit": 2048000,
      "rowLimit": 10000
     },
     "inputWidgets": {},
     "nuid": "cb7e345a-a12b-4f63-a6ed-6479f3a56672",
     "showTitle": false,
     "title": ""
    }
   },
   "source": [
    "After running this, candidate_pairs_ordered_rdd have the structure (recordID_A, recordID_B), where each pair is a candidate for having a Jaccard similarity above the threshold.\n",
    "\n",
    "Once you have this RDD, you can easily compute the Jaccard similarity for each pair, as you will only have to deal with their IDs and can use these to retrieve and compare their token sets."
   ]
  },
  {
   "cell_type": "markdown",
   "metadata": {
    "application/vnd.databricks.v1+cell": {
     "cellMetadata": {
      "byteLimit": 2048000,
      "rowLimit": 10000
     },
     "inputWidgets": {},
     "nuid": "17d6b6b0-0797-4baa-a11c-2a44f2a97378",
     "showTitle": false,
     "title": ""
    }
   },
   "source": [
    "#APPLY JACCARD SIMILARITY FUNCTION "
   ]
  },
  {
   "cell_type": "markdown",
   "metadata": {
    "application/vnd.databricks.v1+cell": {
     "cellMetadata": {
      "byteLimit": 2048000,
      "rowLimit": 10000
     },
     "inputWidgets": {},
     "nuid": "4a572028-cba6-4134-88dc-e2ebe59fe029",
     "showTitle": false,
     "title": ""
    }
   },
   "source": [
    "Now you have a list of candidate pairs of records. For each of these pairs, you can compute the Jaccard similarity using their token sets. This will allow you to filter out those pairs whose Jaccard similarity is below your desired threshold.\n",
    "\n",
    "The next steps would involve:\n",
    "\n",
    "Join with the Tokenized RDD: For each candidate pair (A, B), you need to retrieve the original token sets for both A and B. You'll join the distinct_candidate_pairs_rdd with the tokenized_rdd to achieve this.\n",
    "\n",
    "Compute Jaccard Similarity: Once you have both token sets for each candidate pair, compute their Jaccard similarity.\n",
    "\n",
    "Filter by Threshold: Keep only those pairs whose Jaccard similarity is above the threshold."
   ]
  },
  {
   "cell_type": "markdown",
   "metadata": {
    "application/vnd.databricks.v1+cell": {
     "cellMetadata": {
      "byteLimit": 2048000,
      "rowLimit": 10000
     },
     "inputWidgets": {},
     "nuid": "50dc058c-0a4a-429f-9362-e8321571d5ca",
     "showTitle": false,
     "title": ""
    }
   },
   "source": [
    "##1. Join with the Tokenized RDD:\n",
    "\n",
    "The goal here is to retrieve the full set of tokens for each record in our candidate pairs.\n"
   ]
  },
  {
   "cell_type": "markdown",
   "metadata": {
    "application/vnd.databricks.v1+cell": {
     "cellMetadata": {
      "byteLimit": 2048000,
      "rowLimit": 10000
     },
     "inputWidgets": {},
     "nuid": "605812fa-61cf-46e5-b526-9be9f4678109",
     "showTitle": false,
     "title": ""
    }
   },
   "source": [
    "Mapping Pairs to Tokens:\n",
    "\n",
    "distinct_candidate_pairs_rdd is mapped to include the record ID (x[0]) as a key and the pair itself (x) as a value.\n",
    "You join this RDD with tokenized_rdd to bring in the tokens for the first record in each pair.\n",
    "Joining Tokens with Pairs:\n",
    "\n",
    "You then map the result to restructure it, using the second record ID in the pair as the key for another join with tokenized_rdd to bring in the tokens for the second record.\n",
    "\n",
    "Final Pairing:\n",
    "After the second join, you map over the result to create a final structure where each element is a tuple of:\n",
    "A pair of record IDs: (record1, record2)\n",
    "Corresponding tokens for each record: (tokens1, tokens2)"
   ]
  },
  {
   "cell_type": "code",
   "execution_count": 0,
   "metadata": {
    "application/vnd.databricks.v1+cell": {
     "cellMetadata": {
      "byteLimit": 2048000,
      "rowLimit": 10000
     },
     "inputWidgets": {},
     "nuid": "7a10e76a-ad38-4844-9bba-a5efdd5e1f3d",
     "showTitle": false,
     "title": ""
    }
   },
   "outputs": [
    {
     "output_type": "stream",
     "name": "stdout",
     "output_type": "stream",
     "text": [
      "[(('23014', '52978'), ({'ari', '721', '946', 'nsw', 'lep', 'par', 'tle', 'ast', 'oor', 'ras', 'eet', '172', 'oon', '595', 'heb', '932', 'att', 'ond', 'boo', 'ark', 'wat', 'nda', '219', '465', 'rma', 'ara', 'ree', 'dar', '193', 'tre', 'lar', 'man', 'roo', 'erm', 'riz', '321', 'bbe', 'epa', 'ber', 'ttl', 'ebb', 'oro', 'iza', '954', '217', 'str', '659'}, {'bes', '868', 'eld', 'mbe', '201', '672', 'bid', '689', 'tay', 'qld', 'ayl', 'sfi', '006', 'eet', 'heb', 'est', '206', '320', '087', 'eco', '890', 'rma', 'omb', 'dle', '729', 'ree', 'lec', 'tre', 'man', 'erm', 'ans', 'idd', 'bbe', 'ber', 'iel', 'fie', 'ddl', 'nsf', 'ebb', '900', '878', '667', 'yla', 'com', 'lah', '066', 'str', '786'}))]\n"
     ]
    }
   ],
   "source": [
    "# starting measuring time for jaccard and grand-trouth loading\n",
    "starting_time_of_final_op = time.time()\n",
    "\n",
    "# This results in an RDD where each entry is ((record1, record2), (tokens1, tokens2))\n",
    "paired_tokens_rdd = distinct_candidate_pairs_rdd.map(lambda x: (x[0], x)).join(tokenized_rdd).map(lambda x: (x[1][0][1], x[1])).join(tokenized_rdd).map(lambda x: ((x[1][0][0][0], x[0]), (x[1][0][1], x[1][1])))\n",
    "\n",
    "paired_tokens_rdd = paired_tokens_rdd.cache()\n",
    "\n",
    "print(paired_tokens_rdd.take(1))"
   ]
  },
  {
   "cell_type": "markdown",
   "metadata": {
    "application/vnd.databricks.v1+cell": {
     "cellMetadata": {
      "byteLimit": 2048000,
      "rowLimit": 10000
     },
     "inputWidgets": {},
     "nuid": "c9b812b8-4472-49d0-8707-f0ceef22db28",
     "showTitle": false,
     "title": ""
    }
   },
   "source": [
    "The output is an RDD where each entry has the structure ((record1, record2), (tokens1, tokens2)), which we can use to compute the Jaccard Similarity."
   ]
  },
  {
   "cell_type": "markdown",
   "metadata": {
    "application/vnd.databricks.v1+cell": {
     "cellMetadata": {
      "byteLimit": 2048000,
      "rowLimit": 10000
     },
     "inputWidgets": {},
     "nuid": "8f24bb17-d4a9-4581-816e-e8e1b34603d2",
     "showTitle": false,
     "title": ""
    }
   },
   "source": [
    "##2. Compute Jaccard Similarity:\n",
    "We will now compute the Jaccard similarity for each pair using the formula:\n",
    "Jaccard(A,B)= ∣A∪B∣/∣A∩B∣\n",
    "​\n"
   ]
  },
  {
   "cell_type": "code",
   "execution_count": 0,
   "metadata": {
    "application/vnd.databricks.v1+cell": {
     "cellMetadata": {
      "byteLimit": 2048000,
      "rowLimit": 10000
     },
     "inputWidgets": {},
     "nuid": "ad8901e0-92cd-4485-b033-638bae2d4844",
     "showTitle": false,
     "title": ""
    }
   },
   "outputs": [
    {
     "output_type": "stream",
     "name": "stdout",
     "output_type": "stream",
     "text": [
      "[(('23014', '52978'), 0.13095238095238096)] \n\n"
     ]
    }
   ],
   "source": [
    "def jaccard_similarity(set_a, set_b):\n",
    "    \"\"\"Calculate the Jaccard Similarity between two sets\n",
    "    \n",
    "    Args:\n",
    "    set_a (set): The first set.\n",
    "    set_b (set): The second set.\n",
    "    \n",
    "    Returns:\n",
    "    float: The Jaccard Similarity between the two sets.\n",
    "    \"\"\"\n",
    "    intersection = len(set_a.intersection(set_b))\n",
    "    union = len(set_a.union(set_b))\n",
    "    \n",
    "    # Avoid division by zero\n",
    "    if union == 0:\n",
    "        return 0.0\n",
    "    \n",
    "    return intersection / union\n",
    "\n",
    "# Computing Jaccard Similarity for each pair\n",
    "jaccard_rdd = paired_tokens_rdd.map(lambda x: (x[0], jaccard_similarity(x[1][0], x[1][1])))\n",
    "jaccard_rdd = jaccard_rdd.cache()\n",
    "\n",
    "# Sample for debugging or inspection\n",
    "print(jaccard_rdd.take(1), \"\\n\")"
   ]
  },
  {
   "cell_type": "markdown",
   "metadata": {
    "application/vnd.databricks.v1+cell": {
     "cellMetadata": {
      "byteLimit": 2048000,
      "rowLimit": 10000
     },
     "inputWidgets": {},
     "nuid": "828b08b4-f82e-4473-baa3-8d8ae4b5881f",
     "showTitle": false,
     "title": ""
    }
   },
   "source": [
    "\n",
    "#### Debugging if we want to inspect a specific RID - change to pythoncode to use it\n",
    "\n",
    "#### Define the specific record ID\n",
    "specific_record_id = '10001'\n",
    "\n",
    "#### Filtering for the specific record ID and collecting the results\n",
    "specific_jaccard_rdd = jaccard_rdd.filter(lambda x: specific_record_id in x[0])\n",
    "\n",
    "specific_jaccard_sample = specific_jaccard_rdd.take(50)  # Take a small sample instead of collecting all\n",
    "\n",
    "#### Print the results for the specific record ID\n",
    "for records, similarity in specific_jaccard_sample:\n",
    "\n",
    "    print(f\"Records: {records[0]}, {records[1]} | Similarity: {similarity}\")"
   ]
  },
  {
   "cell_type": "markdown",
   "metadata": {
    "application/vnd.databricks.v1+cell": {
     "cellMetadata": {
      "byteLimit": 2048000,
      "rowLimit": 10000
     },
     "inputWidgets": {},
     "nuid": "9df56eb4-6e4a-49ef-b597-9bb70208c4e5",
     "showTitle": false,
     "title": ""
    }
   },
   "source": [
    "##3. Filter by Threshold:\n",
    "Assuming you want to keep pairs with a Jaccard similarity of at least 0.7:"
   ]
  },
  {
   "cell_type": "markdown",
   "metadata": {
    "application/vnd.databricks.v1+cell": {
     "cellMetadata": {
      "byteLimit": 2048000,
      "rowLimit": 10000
     },
     "inputWidgets": {},
     "nuid": "13f72d13-0c29-4e38-b312-15cd7307ddab",
     "showTitle": false,
     "title": ""
    }
   },
   "source": [
    "\n",
    "#### just for debug\n",
    "\n",
    "threshold = 0.7\n",
    "\n",
    "filtered_jaccard_rdd = jaccard_rdd.filter(lambda x: x[1] >= threshold)\n",
    "\n",
    "filtered_jaccard_rdd = filtered_jaccard_rdd.cache()\n",
    "\n",
    "print(f\"Sample of pairs with Jaccard sim >= {threshold}:\",filtered_jaccard_rdd.take(5), \"\\n\")\n",
    "\n",
    "print(f\"Number of pairs with Jaccard sim >= {threshold}:\",filtered_jaccard_rdd.count(), \"\\n\")"
   ]
  },
  {
   "cell_type": "markdown",
   "metadata": {
    "application/vnd.databricks.v1+cell": {
     "cellMetadata": {
      "byteLimit": 2048000,
      "rowLimit": 10000
     },
     "inputWidgets": {},
     "nuid": "4ded54fc-20ea-48a6-9a1b-9bbeeef82dec",
     "showTitle": false,
     "title": ""
    }
   },
   "source": [
    "\n",
    "#### Debugging for specific RID\n",
    "\n",
    "\n",
    "#### Define the specific record ID\n",
    "specific_record_id = '10001'\n",
    "\n",
    "#### Filtering for the specific record ID within the filtered Jaccard RDD\n",
    "specific_jaccard_rdd = filtered_jaccard_rdd.filter(lambda x: specific_record_id in x[0])\n",
    "\n",
    "#### Taking a sample of specific pairs\n",
    "specific_pair_sample = specific_jaccard_rdd.take(5)\n",
    "\n",
    "#### Print the results for the specific record ID\n",
    "for records, similarity in specific_pair_sample:\n",
    "\n",
    "    print(f\"Records: {records[0]}, {records[1]} | Similarity: {similarity}\")"
   ]
  },
  {
   "cell_type": "markdown",
   "metadata": {
    "application/vnd.databricks.v1+cell": {
     "cellMetadata": {
      "byteLimit": 2048000,
      "rowLimit": 10000
     },
     "inputWidgets": {},
     "nuid": "76c32a87-0dcd-44f7-be27-aab595e6bd05",
     "showTitle": false,
     "title": ""
    }
   },
   "source": [
    "eventually show all pairs\n",
    "\n",
    "filtered_jaccard_rdd.collect()"
   ]
  },
  {
   "cell_type": "markdown",
   "metadata": {
    "application/vnd.databricks.v1+cell": {
     "cellMetadata": {
      "byteLimit": 2048000,
      "rowLimit": 10000
     },
     "inputWidgets": {},
     "nuid": "d8574487-573d-4b4a-8a28-651affb1ca73",
     "showTitle": false,
     "title": ""
    }
   },
   "source": [
    "# Results"
   ]
  },
  {
   "cell_type": "markdown",
   "metadata": {
    "application/vnd.databricks.v1+cell": {
     "cellMetadata": {
      "byteLimit": 2048000,
      "rowLimit": 10000
     },
     "inputWidgets": {},
     "nuid": "dabcb919-3768-4e45-aaed-c83a12ca38ea",
     "showTitle": false,
     "title": ""
    }
   },
   "source": [
    "## 1. Load Ground Truth Data"
   ]
  },
  {
   "cell_type": "markdown",
   "metadata": {
    "application/vnd.databricks.v1+cell": {
     "cellMetadata": {
      "byteLimit": 2048000,
      "rowLimit": 10000
     },
     "inputWidgets": {},
     "nuid": "764aa90f-0af5-410e-8e03-46baa05494e1",
     "showTitle": false,
     "title": ""
    }
   },
   "source": [
    "Loaded the JSON file into a DataFrame, converted it to an RDD, and then mapped it to a tuple format that pairs each d1Id with its corresponding d2Id.\n",
    "\n",
    "The output shows a small sample of the ground truth pairs, indicating that the data is being processed as expected."
   ]
  },
  {
   "cell_type": "code",
   "execution_count": 0,
   "metadata": {
    "application/vnd.databricks.v1+cell": {
     "cellMetadata": {
      "byteLimit": 2048000,
      "rowLimit": 10000
     },
     "inputWidgets": {},
     "nuid": "c9a849c0-d02c-4de6-8f63-2f2d110b6c34",
     "showTitle": false,
     "title": ""
    }
   },
   "outputs": [
    {
     "output_type": "stream",
     "name": "stdout",
     "output_type": "stream",
     "text": [
      "('20673', '70938')\n('31667', '75984')\n('32124', '38059')\n('12834', '66207')\n('4075', '6798')\n\n Time of final operations execution: 69.94733738899231\n"
     ]
    }
   ],
   "source": [
    "def load_ground_truth(json_file_path):\n",
    "    \"\"\"\n",
    "    Load ground truth data from a JSON file and convert it into an RDD of pairs.\n",
    "\n",
    "    Parameters:\n",
    "    - json_file_path: Path to the JSON file containing the ground truth data.\n",
    "\n",
    "    Returns:\n",
    "    - An RDD containing pairs of duplicate record IDs (d1Id, d2Id) from the ground truth.\n",
    "    \"\"\"\n",
    "    # Use Spark's DataFrame API to read the JSON file\n",
    "    ground_truth_df = spark.read.json(json_file_path)\n",
    "\n",
    "    # Convert the DataFrame to an RDD\n",
    "    # Each row in the DataFrame is expected to have 'd1Id' and 'd2Id' fields\n",
    "    # The RDD is mapped to a pair format (d1Id, d2Id) representing duplicates\n",
    "    ground_truth_rdd = ground_truth_df.rdd.map(lambda row: (row.d1Id, row.d2Id))\n",
    "\n",
    "    return ground_truth_rdd\n",
    "\n",
    "\n",
    "# Load ground truth data and convert to set\n",
    "ground_truth_rdd = load_ground_truth(ground_truth_path)\n",
    "\n",
    "for pairs in ground_truth_rdd.take(5):\n",
    "    print(pairs)\n",
    "\n",
    "\n",
    "# stopping measuring time for jaccard and grand-trouth loading\n",
    "\n",
    "time_of_final_op = time.time() - starting_time_of_final_op\n",
    "print(f\"\\n Time of final operations execution: {time_of_final_op}\")"
   ]
  },
  {
   "cell_type": "markdown",
   "metadata": {
    "application/vnd.databricks.v1+cell": {
     "cellMetadata": {
      "byteLimit": 2048000,
      "rowLimit": 10000
     },
     "inputWidgets": {},
     "nuid": "820f82b3-7827-4876-9f8c-b87b6ac0e4ae",
     "showTitle": false,
     "title": ""
    }
   },
   "source": [
    "##2.Plot the Results"
   ]
  },
  {
   "cell_type": "markdown",
   "metadata": {
    "application/vnd.databricks.v1+cell": {
     "cellMetadata": {
      "byteLimit": 2048000,
      "rowLimit": 10000
     },
     "inputWidgets": {},
     "nuid": "646b8615-7338-4ff0-aad2-abac2f152e6e",
     "showTitle": false,
     "title": ""
    }
   },
   "source": [
    "\n",
    "1. Calculate Jaccard Similarities: we created an RDD of paired tokens and applied a Jaccard similarity function to each pair. This is stored in jaccard_rdd.\n",
    "\n",
    "2. Filter by Thresholds: for a range of thresholds, we filter jaccard_rdd to retain only those pairs with a similarity above the threshold.\n",
    "\n",
    "3. Evaluate Against Ground Truth: we have a ground truth dataset, which we've loaded into ground_truth_rdd. Then we compare filtered pairs against this ground truth to determine precision and recall.\n",
    "\n",
    "4. Measure Execution Time: for each threshold, we measure the time it takes to perform the filtering and evaluation and then we add this time to the base_time_of_pipeline that measure the time passed from the starting of the operations\n",
    "\n",
    "5. Plot the Results: finally we plot precision, recall, and execution time against the different threshold values."
   ]
  },
  {
   "cell_type": "code",
   "execution_count": 0,
   "metadata": {
    "application/vnd.databricks.v1+cell": {
     "cellMetadata": {
      "byteLimit": 2048000,
      "rowLimit": 10000
     },
     "inputWidgets": {},
     "nuid": "987704ba-80e3-4f1d-a981-c1548200ed1f",
     "showTitle": false,
     "title": ""
    }
   },
   "outputs": [
    {
     "output_type": "stream",
     "name": "stdout",
     "output_type": "stream",
     "text": [
      "Number of pairings at threshold 0.7: 6632\nNumber of pairings at threshold 0.8: 1322\nNumber of pairings at threshold 0.9: 90\nNumber of pairings at threshold 1.0: 0\n"
     ]
    },
    {
     "output_type": "display_data",
     "data": {
      "image/png": "[encoded data removed]"
     },
     "metadata": {
      "application/vnd.databricks.v1+output": {
       "addedWidgets": {},
       "arguments": {},
       "data": "data:image/png;base64,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\n",
       "datasetInfos": [],
       "metadata": {},
       "removedWidgets": [],
       "type": "image"
      }
     },
     "output_type": "display_data"
    },
    {
     "output_type": "display_data",
     "data": {
      "image/png": "[encoded data removed]"
     },
     "metadata": {
      "application/vnd.databricks.v1+output": {
       "addedWidgets": {},
       "arguments": {},
       "data": "data:image/png;base64,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\n",
       "datasetInfos": [],
       "metadata": {},
       "removedWidgets": [],
       "type": "image"
      }
     },
     "output_type": "display_data"
    },
    {
     "output_type": "display_data",
     "data": {
      "image/png": "[encoded data removed]"
     },
     "metadata": {
      "application/vnd.databricks.v1+output": {
       "addedWidgets": {},
       "arguments": {},
       "data": "data:image/png;base64,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\n",
       "datasetInfos": [],
       "metadata": {},
       "removedWidgets": [],
       "type": "image"
      }
     },
     "output_type": "display_data"
    }
   ],
   "source": [
    "import matplotlib.pyplot as plt\n",
    "\n",
    "# Function to calculate precision and recall\n",
    "def calculate_precision_recall(filtered_pairs, ground_truth):\n",
    "    true_positives = filtered_pairs.intersection(ground_truth)\n",
    "    precision = len(true_positives) / len(filtered_pairs) if filtered_pairs else 0\n",
    "    recall = len(true_positives) / len(ground_truth) if ground_truth else 0\n",
    "    return precision, recall\n",
    "\n",
    "# Convert the ground truth to a set for faster operations\n",
    "ground_truth_set = set(ground_truth_rdd.collect())\n",
    "\n",
    "# Initialize the cumulative execution time variable\n",
    "cumulative_execution_time = time_of_preprocessing + time_of_prefix_filtering + time_of_lenght_filtering + time_of_position_filtering + time_of_deduplication + time_of_final_op\n",
    "\n",
    "# Initialize lists for plotting\n",
    "thresholds = [0.1, 0.2, 0.3, 0.4, 0.5, 0.6, 0.7, 0.8, 0.9, 1.0]\n",
    "precisions = []\n",
    "recalls = []\n",
    "cumulative_execution_times = []\n",
    "num_pairings = []  # List to store the number of pairings for each threshold\n",
    "\n",
    "# Calculate metrics for each threshold\n",
    "for threshold in sorted(thresholds):\n",
    "    start_time = time.time()\n",
    "\n",
    "    # Filter the Jaccard RDD by the current threshold\n",
    "    filtered_jaccard = jaccard_rdd.filter(lambda x: x[1] >= threshold).map(lambda x: x[0])\n",
    "\n",
    "    # Collect the filtered pairs into a set\n",
    "    filtered_pairs_set = set(filtered_jaccard.collect())\n",
    "\n",
    "    # Store the number of pairings\n",
    "    num_pairings.append(len(filtered_pairs_set))\n",
    "\n",
    "    # Print the number of pairings at specified thresholds\n",
    "    if threshold in [0.7, 0.8, 0.9, 1.0]:\n",
    "        print(f\"Number of pairings at threshold {threshold}: {len(filtered_pairs_set)}\")\n",
    "\n",
    "    # Calculate precision and recall\n",
    "    precision, recall = calculate_precision_recall(filtered_pairs_set, ground_truth_set)\n",
    "    precisions.append(precision)\n",
    "    recalls.append(recall)\n",
    "\n",
    "    # Update the cumulative execution time\n",
    "    cumulative_execution_time += (time.time() - start_time)\n",
    "    cumulative_execution_times.append(cumulative_execution_time)\n",
    "\n",
    "# Plotting Precision and Recall\n",
    "plt.figure(figsize=(10, 5))\n",
    "plt.plot(thresholds, precisions, label='Precision', marker='o')\n",
    "plt.plot(thresholds, recalls, label='Recall', marker='o')\n",
    "plt.title('Precision and Recall by Threshold - 10K')\n",
    "plt.xlabel('Threshold')\n",
    "plt.ylabel('Value')\n",
    "plt.legend()\n",
    "plt.grid(True)\n",
    "plt.show()\n",
    "\n",
    "# Plotting Cumulative Execution Time\n",
    "plt.figure(figsize=(10, 5))\n",
    "plt.plot(thresholds, cumulative_execution_times, label='Cumulative Execution Time', marker='o', linestyle='--', color='orange')\n",
    "plt.title('Cumulative Execution Time by Threshold - 10K')\n",
    "plt.xlabel('Threshold')\n",
    "plt.ylabel('Time (seconds)')\n",
    "plt.legend()\n",
    "plt.grid(True)\n",
    "plt.show()\n",
    "\n",
    "# Plotting the Number of Pairings\n",
    "plt.figure(figsize=(10, 5))\n",
    "plt.plot(thresholds, num_pairings, label='Number of Pairings', marker='x', color='red')\n",
    "plt.title('Number of Pairings by Threshold - 10K')\n",
    "plt.xlabel('Threshold')\n",
    "plt.ylabel('Number of Pairings')\n",
    "plt.legend()\n",
    "plt.grid(True)\n",
    "plt.show()\n",
    "\n"
   ]
  }
 ],
 "metadata": {
  "application/vnd.databricks.v1+notebook": {
   "dashboards": [],
   "language": "python",
   "notebookMetadata": {
    "pythonIndentUnit": 4
   },
   "notebookName": "Set Similarity Join with Spark_Q-3_step_by_step_def_ok",
   "widgets": {}
  }
 },
 "nbformat": 4,
 "nbformat_minor": 0
}
