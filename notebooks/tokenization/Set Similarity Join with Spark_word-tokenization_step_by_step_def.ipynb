{
 "cells": [
  {
   "cell_type": "markdown",
   "metadata": {
    "application/vnd.databricks.v1+cell": {
     "cellMetadata": {
      "byteLimit": 2048000,
      "rowLimit": 10000
     },
     "inputWidgets": {},
     "nuid": "ea57f802-4cf3-42cb-8a08-ab1dc6704370",
     "showTitle": false,
     "title": ""
    }
   },
   "source": [
    "# INITIALIZATION "
   ]
  },
  {
   "cell_type": "code",
   "execution_count": 0,
   "metadata": {
    "application/vnd.databricks.v1+cell": {
     "cellMetadata": {
      "byteLimit": 2048000,
      "rowLimit": 10000
     },
     "inputWidgets": {},
     "nuid": "91a5f4a7-44cb-49a3-a46a-ea23250c575b",
     "showTitle": false,
     "title": ""
    }
   },
   "outputs": [],
   "source": [
    "from pyspark import SparkContext\n",
    "import json\n",
    "import time\n",
    "\n",
    "# Path to the JSON file (in DBFS)\n",
    "json_file_path = \"/FileStore/shared_uploads/datasets/10Kprofiles.json\"\n",
    "\n",
    "# path of ground_truth\n",
    "ground_truth_path = \"/FileStore/shared_uploads/datasets/10KIdDuplicates.json\" "
   ]
  },
  {
   "cell_type": "markdown",
   "metadata": {
    "application/vnd.databricks.v1+cell": {
     "cellMetadata": {
      "byteLimit": 2048000,
      "rowLimit": 10000
     },
     "inputWidgets": {},
     "nuid": "4ea795dd-d233-405b-ac5e-e5e60cda4421",
     "showTitle": false,
     "title": ""
    }
   },
   "source": [
    "#LOAD THE JSON FILE"
   ]
  },
  {
   "cell_type": "markdown",
   "metadata": {
    "application/vnd.databricks.v1+cell": {
     "cellMetadata": {
      "byteLimit": 2048000,
      "rowLimit": 10000
     },
     "inputWidgets": {},
     "nuid": "7667752f-bcb8-4560-94f1-265e9f3698e4",
     "showTitle": false,
     "title": ""
    }
   },
   "source": [
    "The code json_rdd = sc.textFile(json_file_path) reads the contents of the file as plain text (located at the json_file_path) and creates an RDD where each element corresponds to a line in the text file. This is often the first step in processing data with Spark, as it allows you to work with large datasets that are distributed across a cluster.\n",
    "\n",
    "SO IT'S ALREADY PARALLELIZE! \n",
    "reads the data in parallel from multiple workers in the cluster and distributes it across the RDD.\n",
    "sc.parallelize() it's used when we read from a list\n"
   ]
  },
  {
   "cell_type": "code",
   "execution_count": 0,
   "metadata": {
    "application/vnd.databricks.v1+cell": {
     "cellMetadata": {
      "byteLimit": 2048000,
      "rowLimit": 10000
     },
     "inputWidgets": {},
     "nuid": "4c2e5e76-bc9b-4a40-b2e0-78e200a3c17e",
     "showTitle": false,
     "title": ""
    }
   },
   "outputs": [
    {
     "output_type": "stream",
     "name": "stdout",
     "output_type": "stream",
     "text": [
      "{\"realProfileID\":\"0\",\"date_of_birth\":\"19390609\",\"surname\":\"bishop\",\"address_1\":\"daley crescent\",\"street_number\":\"41\",\"postcode\":\"6050\",\"soc_sec_id\":\"4676841\",\"suburb\":\"batlow\",\"phone_number\":\"08 29028996\",\"state\":\"qld\",\"given_name\":\"molly\",\"age\":\"31\"} \n\n{\"realProfileID\":\"1\",\"date_of_birth\":\"19041109\",\"address_1\":\"nambucca street\",\"surname\":\"aidon\",\"postcode\":\"2002\",\"soc_sec_id\":\"3414163\",\"street_number\":\"7\",\"suburb\":\"devonort\",\"phone_number\":\"08 75629459\",\"state\":\"vkf\",\"given_name\":\"whkt\"} \n\n{\"realProfileID\":\"2\",\"surname\":\"anns\",\"date_of_birth\":\"19910711\",\"soc_sec_id\":\"7844876\",\"street_number\":\"12\",\"postcode\":\"2287\",\"suburb\":\"ivanhoe\",\"phone_number\":\"02 11684110\",\"state\":\"vic\",\"given_name\":\"andrew\",\"age\":\"31\"} \n\n{\"realProfileID\":\"3\",\"address_1\":\"robson street\",\"date_of_birth\":\"19390709\",\"surname\":\"whitrlsy\",\"postcode\":\"4065\",\"street_number\":\"34\",\"soc_sec_id\":\"2418360\",\"suburb\":\"christie downs\",\"phone_number\":\"04 00323207\",\"state\":\"qld\",\"given_name\":\"shsne\"} \n\n{\"realProfileID\":\"4\",\"surname\":\"roche\",\"date_of_birth\":\"19340328\",\"address_1\":\"rankin street\",\"postcode\":\"3644\",\"street_number\":\"9\",\"soc_sec_id\":\"7577436\",\"suburb\":\"frenchs forest\",\"phone_number\":\"08 53227250\",\"state\":\"qld\",\"given_name\":\"sophie\",\"age\":\"30\"} \n\n"
     ]
    }
   ],
   "source": [
    "# starting measuring time for data preprocessing\n",
    "starting_preprocessing = time.time()\n",
    "\n",
    "\n",
    "def read_json_file(json_file_path):\n",
    "    # Start a Spark Context\n",
    "    sc = SparkContext.getOrCreate()\n",
    "\n",
    "    # Read the JSON file as plain text\n",
    "    json_rdd = sc.textFile(json_file_path)\n",
    "\n",
    "    return json_rdd\n",
    "\n",
    "# Call the function to read the JSON file\n",
    "json_rdd = read_json_file(json_file_path)\n",
    "\n",
    "# Print the first 5 lines to check\n",
    "for record in json_rdd.take(5):\n",
    "    print(f\"{record} \\n\")"
   ]
  },
  {
   "cell_type": "markdown",
   "metadata": {
    "application/vnd.databricks.v1+cell": {
     "cellMetadata": {
      "byteLimit": 2048000,
      "rowLimit": 10000
     },
     "inputWidgets": {},
     "nuid": "96f843ef-8d3c-47b7-a896-2a59a0c7de9a",
     "showTitle": false,
     "title": ""
    }
   },
   "source": [
    "#TOKENIZATION PHASE"
   ]
  },
  {
   "cell_type": "markdown",
   "metadata": {
    "application/vnd.databricks.v1+cell": {
     "cellMetadata": {
      "byteLimit": 2048000,
      "rowLimit": 10000
     },
     "inputWidgets": {},
     "nuid": "34694429-eadd-4fc3-aea9-acc9da1e64e2",
     "showTitle": false,
     "title": ""
    }
   },
   "source": [
    "This approach is effective for creating a small representation of text data that is fast in terms of computation time but it's not good to capture small differences or typographical errors.\n",
    "\n",
    "The tokens in an RDD for each record are tuple of (recordID, [token1, token2, ...])"
   ]
  },
  {
   "cell_type": "code",
   "execution_count": 0,
   "metadata": {
    "application/vnd.databricks.v1+cell": {
     "cellMetadata": {
      "byteLimit": 2048000,
      "rowLimit": 10000
     },
     "inputWidgets": {},
     "nuid": "c708a467-7bb8-43ad-ae55-f9e58c401e33",
     "showTitle": false,
     "title": ""
    }
   },
   "outputs": [
    {
     "output_type": "stream",
     "name": "stdout",
     "output_type": "stream",
     "text": [
      "['0', {'289', 'ent', 'tlo', '290', 'esc', 'atl', '841', '829', '050', 'res', '899', 'qld', 'mol', 'hop', '060', 'oll', 'lly', 'ley', '939', '082', 'ycr', '609', 'bis', 'ale', 'ish', '467', 'low', 'eyc', '684', 'cen', '193', 'dal', 'sce', '906', 'cre', '028', 'bat', '902', '605', '390', '768', 'sho', '996', '676'}]\n numero di token: 44\n['1', {'190', '110', '411', 'ort', '756', '294', 'nam', 'buc', 'von', 'amb', 'ast', 'mbu', '200', 'eet', 'don', 'hkt', '629', '414', '141', '163', 'aid', '087', 'nor', '904', 'ree', '341', 'tre', 'vkf', '459', '945', '416', '562', 'whk', '875', '041', 'cca', 'dev', '002', '109', 'evo', 'ido', 'ono', 'str', 'cas', 'ucc'}]\n numero di token: 45\n['2', {'110', '411', '841', 'ndr', 'iva', '448', '107', 'dre', '228', '071', 'hoe', 'and', '844', '116', '876', '684', '711', '021', '287', 'ann', '168', 'vic', 'rew', '784', '910', 'nns', '487', 'nho', '211', 'van', '991', '199', 'anh'}]\n numero di token: 33\n['3', {'406', '040', 'chr', '207', '232', 'nst', '709', '418', '400', 'qld', 'lsy', 'own', 'rob', 'eet', '032', '003', '070', 'sne', '939', 'shs', 'whi', '183', '065', 'tie', '241', '320', 'son', 'bso', 'obs', 'ree', '193', 'hsn', 'tre', '836', '323', 'rls', '907', 'itr', '360', 'sti', 'trl', 'ons', 'ist', '390', 'wns', 'dow', 'ris', 'hit', 'ied', 'edo', 'str', 'hri'}]\n numero di token: 52\n['4', {'och', '757', '644', '532', '328', '577', 'fre', 'for', 'ore', 'phi', 'nst', 'nki', 'kin', 'res', 'qld', 'sfo', '436', '340', 'eet', '032', '250', '743', 'oph', 'enc', '853', '272', 'sop', 'est', '403', 'che', 'ank', '193', 'ran', 'ree', 'tre', 'hie', '725', 'ren', 'ins', '085', '227', 'roc', '364', 'nch', 'hsf', '322', '934', 'chs', '774', 'str'}]\n numero di token: 50\n\nAverage length of tokens: 49.0641\n"
     ]
    }
   ],
   "source": [
    "import json\n",
    "\n",
    "def tokenize_words(text):\n",
    "    \"\"\"\n",
    "    Tokenizes a given text into words.\n",
    "\n",
    "    Parameters:\n",
    "    - text: A string from which words will be tokenized.\n",
    "    \n",
    "    Returns:\n",
    "    - A set of words from the text.\n",
    "    \"\"\"\n",
    "    # Tokenize the text into words\n",
    "    words = text.lower().split()  # Split the text into words by spaces\n",
    "\n",
    "    return set(words)\n",
    "\n",
    "def tokenize_line_with_words(line):\n",
    "    try:\n",
    "        # Convert the JSON string to a dictionary\n",
    "        record = json.loads(line)\n",
    "        record_id = record[\"realProfileID\"]\n",
    "\n",
    "        # Tokenization using words\n",
    "        tokens = set()\n",
    "        for key, value in record.items():\n",
    "            if key != \"realProfileID\" and value:\n",
    "                tokens.update(tokenize_words(str(value)))  # Convert value to string to handle non-text fields\n",
    "\n",
    "        return (record_id, tokens)\n",
    "    except json.JSONDecodeError:\n",
    "        return None\n",
    "\n",
    "# Applying the word tokenization to RDD\n",
    "tokenized_rdd = json_rdd.map(tokenize_line_with_words).filter(lambda x: x is not None)\n",
    "\n",
    "# Cache the results\n",
    "tokenized_rdd = tokenized_rdd.cache()\n",
    "\n",
    "# Print the first 5 sets of tokens to check\n",
    "for i, record in tokenized_rdd.take(5):\n",
    "    print([i, record])\n",
    "    print(f\"Number of tokens: {len(record)}\")\n",
    "\n",
    "# Map the RDD to lengths\n",
    "lengths_rdd = tokenized_rdd.map(lambda x: len(x[1]))\n",
    "\n",
    "# Calculate the average length of the tokens in the records\n",
    "total_length = lengths_rdd.reduce(lambda a, b: a + b)\n",
    "average_length = total_length / lengths_rdd.count()\n",
    "\n",
    "print(f\"\\nAverage length of tokens: {average_length}\")\n"
   ]
  },
  {
   "cell_type": "markdown",
   "metadata": {
    "application/vnd.databricks.v1+cell": {
     "cellMetadata": {
      "byteLimit": 2048000,
      "rowLimit": 10000
     },
     "inputWidgets": {},
     "nuid": "172e919f-151d-4de7-894a-15116ef367ba",
     "showTitle": false,
     "title": ""
    }
   },
   "source": [
    "#COMPUTE THE FREQUENCY"
   ]
  },
  {
   "cell_type": "markdown",
   "metadata": {
    "application/vnd.databricks.v1+cell": {
     "cellMetadata": {
      "byteLimit": 2048000,
      "rowLimit": 10000
     },
     "inputWidgets": {},
     "nuid": "78766e3b-8393-49c0-bf6d-de5a1eef063f",
     "showTitle": false,
     "title": ""
    }
   },
   "source": [
    "Remember that if token_freq... is an RDD, you'll need to first use the .collect() method to bring the data to the driver node before doing the above operations. If it's a dictionary resulting from countByValue(), you can directly use the above snippets."
   ]
  },
  {
   "cell_type": "code",
   "execution_count": 0,
   "metadata": {
    "application/vnd.databricks.v1+cell": {
     "cellMetadata": {
      "byteLimit": 2048000,
      "rowLimit": 10000
     },
     "inputWidgets": {},
     "nuid": "d2c63337-dfc7-4d25-a7e7-2bce03f09e32",
     "showTitle": false,
     "title": ""
    }
   },
   "outputs": [
    {
     "output_type": "stream",
     "name": "stdout",
     "output_type": "stream",
     "text": [
      "COMMON TOKENS: \n\nToken: ree, Frequency: 4160\nToken: eet, Frequency: 3922\nToken: tre, Frequency: 3847\nToken: str, Frequency: 3557\nToken: nsw, Frequency: 2709\nToken: ent, Frequency: 2060\nToken: vic, Frequency: 1982\nToken: lac, Frequency: 1906\nToken: ace, Frequency: 1853\nToken: cen, Frequency: 1779\n\nUNCOMMON TOKENS: \n\nToken: lvs, Frequency: 1\nToken: oky, Frequency: 1\nToken: gwj, Frequency: 1\nToken: avz, Frequency: 1\nToken: wjp, Frequency: 1\nToken: vzl, Frequency: 1\nToken: hyy, Frequency: 1\nToken: afy, Frequency: 1\nToken: fyc, Frequency: 1\nToken: ljw, Frequency: 1\n"
     ]
    }
   ],
   "source": [
    "def analyze_token_frequency(rdd, top_k=10):\n",
    "    \"\"\"\n",
    "    Analyze and display the most common and uncommon tokens in an RDD of tokenized records.\n",
    "    \n",
    "    Parameters:\n",
    "    - rdd: Input RDD where each record is of the form (recordID, [token1, token2, ...])\n",
    "    - top_k: Number of top tokens to display for common and uncommon tokens.\n",
    "    \n",
    "    Returns:\n",
    "    - A variable containing the token frequency dictionary.\n",
    "    \"\"\"\n",
    "    \n",
    "    # Compute the frequency of each token across all sets\n",
    "    token_freq_dict = rdd.flatMap(lambda x: x[1]).countByValue()\n",
    "    \n",
    "    # Sort the tokens \n",
    "    sorted_tokens_common = sorted(token_freq_dict.items(), key=lambda x: x[1], reverse=True)\n",
    "    sorted_tokens_uncommon = sorted(token_freq_dict.items(), key=lambda x: x[1])\n",
    "    \n",
    "    # Display the most common tokens\n",
    "    print(\"COMMON TOKENS: \\n\")\n",
    "    for token, freq in sorted_tokens_common[:top_k]:\n",
    "        print(f\"Token: {token}, Frequency: {freq}\")\n",
    "    \n",
    "    # Display the most uncommon tokens\n",
    "    print(\"\\nUNCOMMON TOKENS: \\n\")\n",
    "    for token, freq in sorted_tokens_uncommon[:top_k]:\n",
    "        print(f\"Token: {token}, Frequency: {freq}\")\n",
    "    \n",
    "\n",
    "    return token_freq_dict\n",
    "\n",
    "token_freq_dict = analyze_token_frequency(tokenized_rdd)\n",
    "\n",
    "# Broadcast the dictionary of the frequency to workers\n",
    "token_freq_broadcast = sc.broadcast(token_freq_dict)"
   ]
  },
  {
   "cell_type": "markdown",
   "metadata": {
    "application/vnd.databricks.v1+cell": {
     "cellMetadata": {
      "byteLimit": 2048000,
      "rowLimit": 10000
     },
     "inputWidgets": {},
     "nuid": "a54e5a0d-3861-48a6-95ad-5645b6107f5d",
     "showTitle": false,
     "title": ""
    }
   },
   "source": [
    "#SORT TOKENS IN EACH RECORDS BY FREQUENCY\n",
    "\n",
    "Now we have the (token, frequency) in each worker and the (RID, {tokens}) RDD\n",
    "\n",
    "The sort_tokens_by_frequency function aims to reorder the tokens in each record of an RDD based on their global frequency,\n",
    "which was previously computed and broadcasted. \n",
    "\n",
    "\n",
    "Tokens are sorted based on their frequency in ascending order, meaning the rarest tokens (lowest frequency) appear first, followed by more common tokens. \n",
    "This is indicated by sorted(tokens, key=lambda token: broadcast_freq.value.get(token, 0))... good before to apply the Prefix filter"
   ]
  },
  {
   "cell_type": "markdown",
   "metadata": {
    "application/vnd.databricks.v1+cell": {
     "cellMetadata": {
      "byteLimit": 2048000,
      "rowLimit": 10000
     },
     "inputWidgets": {},
     "nuid": "abe30eba-9500-43ed-9afd-283b811840f2",
     "showTitle": false,
     "title": ""
    }
   },
   "source": [
    "\n",
    "For each record in (RID, {tokens}) RDD:\n",
    "\n",
    "-Fetch its tokens.\n",
    "\n",
    "-Sort these tokens using the broadcasted frequencies.\n",
    "\n",
    "-Return the sorted tokens along with the original RID.\n",
    "\n",
    "IT'S DONE LOCALLY ON EACH WORKERS"
   ]
  },
  {
   "cell_type": "code",
   "execution_count": 0,
   "metadata": {
    "application/vnd.databricks.v1+cell": {
     "cellMetadata": {
      "byteLimit": 2048000,
      "rowLimit": 10000
     },
     "inputWidgets": {},
     "nuid": "279b609a-9e0d-4647-8780-d9668587b923",
     "showTitle": false,
     "title": ""
    }
   },
   "outputs": [
    {
     "output_type": "stream",
     "name": "stdout",
     "output_type": "stream",
     "text": [
      "('0', ['tlo', 'atl', 'bat', 'mol', '676', '684', '841', '289', '768', '899', 'bis', 'sho', '829', 'eyc', 'ycr', '467', 'ish', '996', '609', 'hop', '390', '939', 'low', 'lly', '605', '906', '290', '902', '028', 'oll', '060', '050', 'dal', '082', 'ley', 'ale', '193', 'cre', 'esc', 'qld', 'sce', 'res', 'cen', 'ent'])\n('1', ['hkt', 'vkf', 'whk', 'ido', 'ucc', 'mbu', 'ono', 'buc', 'dev', 'evo', 'von', 'aid', '562', 'nam', '459', '294', '756', '629', 'cas', 'cca', '414', '875', '163', '416', '141', '002', '341', '945', '200', 'amb', '411', '904', '109', 'don', '087', 'nor', '110', '041', 'ort', 'ast', '190', 'str', 'tre', 'eet', 'ree'])\n\nTime of preprocessing execution: 2.5758450031280518\n"
     ]
    }
   ],
   "source": [
    "def sort_tokens_by_frequency(rdd, broadcast_freq):\n",
    "    \"\"\"\n",
    "    Sort the tokens in each record by their global frequency.\n",
    "    \n",
    "    Parameters:\n",
    "    - rdd: Input RDD where each record is of the form (recordID, [token1, token2, ...])\n",
    "    - broadcast_freq: A Spark broadcast variable containing the global frequency of tokens.\n",
    "    \n",
    "    Returns:\n",
    "    - An RDD with each record having tokens sorted by their frequency.\n",
    "    \"\"\"\n",
    "    def sort_tokens_by_freq(record):\n",
    "        # unpack the record\n",
    "        record_id, tokens = record \n",
    "        # Use the broadcast variable for sorting from rare to common\n",
    "        sorted_tokens = sorted(tokens, key=lambda token: broadcast_freq.value.get(token, 0))  # if no frequencies are founded = 0\n",
    "        # Return the RID with the Sorted Tokens\n",
    "        return (record_id, sorted_tokens)\n",
    "\n",
    "    # Apply the function MAP on each RDD record\n",
    "    sorted_rdd = rdd.map(sort_tokens_by_freq)\n",
    "    return sorted_rdd\n",
    "\n",
    "sorted_tokens_rdd = sort_tokens_by_frequency(tokenized_rdd, token_freq_broadcast)\n",
    "\n",
    "# Print a sample of ordered records\n",
    "for record in sorted_tokens_rdd.take(2):\n",
    "    print(record)\n",
    "\n",
    "# stopping measuring the time for data preprocessing\n",
    "time_of_preprocessing = time.time() - starting_preprocessing\n",
    "print(f\"\\nTime of preprocessing execution: {time_of_preprocessing}\")"
   ]
  },
  {
   "cell_type": "markdown",
   "metadata": {
    "application/vnd.databricks.v1+cell": {
     "cellMetadata": {
      "byteLimit": 2048000,
      "rowLimit": 10000
     },
     "inputWidgets": {},
     "nuid": "f6ac2e1c-e3d0-4c6f-afd2-fdd884b5d182",
     "showTitle": false,
     "title": ""
    }
   },
   "source": [
    "#DYNAMIC PREFIX FILTERING"
   ]
  },
  {
   "cell_type": "markdown",
   "metadata": {
    "application/vnd.databricks.v1+cell": {
     "cellMetadata": {
      "byteLimit": 2048000,
      "rowLimit": 10000
     },
     "inputWidgets": {},
     "nuid": "095f87d0-c6b0-4e65-a27a-ba21cb019427",
     "showTitle": false,
     "title": ""
    }
   },
   "source": [
    "\n",
    "\n",
    "The primary goal of the prefix filter is to significantly reduce the number of candidate pairs that the more computationally intensive subsequent filters (like positional filtering) have to deal with.\n",
    "The chosen threshold should balance computational efficiency with the risk of missing similar pairs.\n",
    "\n",
    "Given two documents, they can reach requested overlap similarity if they shares at least one token in theirfirst 𝑑𝑜𝑐𝐿𝑒𝑛−t+1 tokens"
   ]
  },
  {
   "cell_type": "markdown",
   "metadata": {
    "application/vnd.databricks.v1+cell": {
     "cellMetadata": {
      "byteLimit": 2048000,
      "rowLimit": 10000
     },
     "inputWidgets": {},
     "nuid": "d84128a1-0244-4aac-bf34-73b6145e4ca2",
     "showTitle": false,
     "title": ""
    }
   },
   "source": [
    "Generate Key-Value Pairs for Prefix Tokens:\n",
    " \n",
    "For each record, we will emit key-value pairs for every token in its prefix (doclen - t + 1), where the key is the token and the value is the record's RID. Generate pairs of the form (token, record_id)\n",
    "\n",
    "The function generate pairs (tokens[i], record_id) for each token in the prefix.\n",
    "\n",
    "For this record:(1, ['apple', 'banana', 'cherry']) and prefix length 2, the Mapper will emit:\n",
    "('apple', 1)\n",
    "('banana', 1)\n",
    "\n",
    "Calculating Prefix Length: The length of the prefix for each record is calculated based on the total number of tokens n and the threshold t. \n",
    "The formula prefix_length = n - t + 1 determines how many tokens to consider for generating pairs."
   ]
  },
  {
   "cell_type": "markdown",
   "metadata": {
    "application/vnd.databricks.v1+cell": {
     "cellMetadata": {
      "byteLimit": 2048000,
      "rowLimit": 10000
     },
     "inputWidgets": {},
     "nuid": "1a8b2e20-0893-439d-afad-616c444f3225",
     "showTitle": false,
     "title": ""
    }
   },
   "source": [
    "prefix_lengh = docLen|A| - t + 1 (in our datasets the lenght of A_records it's about 50 tokens)\n",
    "\n",
    "If you're getting too many candidate pairs (which might result in longer computation times in subsequent filtering stages), you can adjust the threshold (higher) to be stricter (decrease the prefix length). If you're filtering out too much and potentially missing similar pairs, increase the prefix length."
   ]
  },
  {
   "cell_type": "markdown",
   "metadata": {
    "application/vnd.databricks.v1+cell": {
     "cellMetadata": {
      "byteLimit": 2048000,
      "rowLimit": 10000
     },
     "inputWidgets": {},
     "nuid": "0ea74983-e0a6-4c90-9966-6b039b4ef2e1",
     "showTitle": false,
     "title": ""
    }
   },
   "source": [
    "Higher t: Select this for stricter similarity requirements, generating fewer more likely candidate pairs -> increase precision (fewer false positives) but decrease recall (missed true positives).\n",
    "\n",
    "Lower t: Use this for broader similarity requirements, generating more candidate pairs, including those with less overlap ->  increase recall but decrease precision.\n",
    "\n"
   ]
  },
  {
   "cell_type": "markdown",
   "metadata": {
    "application/vnd.databricks.v1+cell": {
     "cellMetadata": {
      "byteLimit": 2048000,
      "rowLimit": 10000
     },
     "inputWidgets": {},
     "nuid": "194695a5-114f-45e4-82ee-1ab0ab51dbd5",
     "showTitle": false,
     "title": ""
    }
   },
   "source": [
    "The generate_prefix_pairs_from_rdd function now dynamically calculates the prefix length for each record using the formula\n",
    "\n",
    "prefix_length = n - int(threshold_prefix * n) + 1, \n",
    "\n",
    "Prefix Length=Tokens_of_record − ⌈threshold × Tokens_of_record⌉ + 1\n",
    "\n",
    "This allow to adjusting the prefix length based on the size of the token sets and the desired similarity threshold, this ensures that the number of tokens considered for each record is proportional to its size and the desired similarity level that allows to fine-tune the filtering process based on the characteristics of dataset and the desired level of similarity."
   ]
  },
  {
   "cell_type": "code",
   "execution_count": 0,
   "metadata": {
    "application/vnd.databricks.v1+cell": {
     "cellMetadata": {
      "byteLimit": 2048000,
      "rowLimit": 10000
     },
     "inputWidgets": {},
     "nuid": "51dde98c-32ea-48f9-96ac-6d982cd5fd25",
     "showTitle": false,
     "title": ""
    }
   },
   "outputs": [
    {
     "output_type": "stream",
     "name": "stdout",
     "output_type": "stream",
     "text": [
      "('tlo', '0')\n('atl', '0')\n('bat', '0')\n('mol', '0')\n('676', '0')\n('684', '0')\n('841', '0')\n('289', '0')\n('768', '0')\n('899', '0')\n('hkt', '1')\n('vkf', '1')\n('whk', '1')\n('ido', '1')\n('ucc', '1')\n('mbu', '1')\n('ono', '1')\n('buc', '1')\n('dev', '1')\n('evo', '1')\n"
     ]
    }
   ],
   "source": [
    "# starting measure of prefix filter execution time\n",
    "starting_prefix_filtering = time.time()\n",
    "\n",
    "# Define the similarity threshold\n",
    "threshold_prefix = 0.8  \n",
    "\n",
    "# Updated MAPPER to dynamically calculate prefix length\n",
    "def generate_prefix_pairs_from_rdd(rdd, threshold_prefix):\n",
    "    \"\"\"\n",
    "    Generates prefix pairs for each record in the RDD dynamically based on threshold.\n",
    "    \n",
    "    Parameters:\n",
    "    - rdd: Input RDD where each record is of the form (recordID, [token1, token2, ...])\n",
    "    - jaccard_threshold: The Jaccard similarity threshold.\n",
    "    \n",
    "    Returns:\n",
    "    - An RDD with prefix pairs.\n",
    "    \"\"\"\n",
    "    def generate_prefix_pairs(record):\n",
    "        record_id, tokens = record\n",
    "        # contains the number of tokens of each record\n",
    "        n = len(tokens)\n",
    "        # Dynamic calculation of prefix length\n",
    "        prefix_length = n - int(threshold_prefix * n) + 1 #prefix_lengh = docLen|A| - t + 1 \n",
    "        \n",
    "        if prefix_length <= 0:\n",
    "            return []\n",
    "        \n",
    "        for i in range(prefix_length):\n",
    "            yield (tokens[i], record_id)\n",
    "\n",
    "    prefix_rdd = rdd.flatMap(generate_prefix_pairs)\n",
    "    return prefix_rdd\n",
    "\n",
    "prefix_rdd = generate_prefix_pairs_from_rdd(sorted_tokens_rdd, threshold_prefix)\n",
    "\n",
    "# For debugging or verification:\n",
    "for pair in prefix_rdd.take(20):\n",
    "    print(pair)\n"
   ]
  },
  {
   "cell_type": "markdown",
   "metadata": {
    "application/vnd.databricks.v1+cell": {
     "cellMetadata": {
      "byteLimit": 2048000,
      "rowLimit": 10000
     },
     "inputWidgets": {},
     "nuid": "7fe48088-b342-47cc-91de-f06611f7d15a",
     "showTitle": false,
     "title": ""
    }
   },
   "source": [
    "\n",
    "Shuffle: before the reducer starts, there's a shuffle phase. All emitted key-value pairs are shuffled across the network so that all pairs with the same key (in this case with the same token) are grouped together and end up on the same machine.\n",
    "\n",
    "This requires moving data across different nodes in the cluster, which can be network-intensive, especially for large datasets.\n",
    "\n",
    "\n",
    "Grouping(reducing): the reducer groups these key-value pairs by their keys. This means all the RIDs that have the same token in their prefix are collected together.\n",
    "\n",
    "After the shuffle, for each unique token, you get an iterable of record IDs (rids) that contain this token. This operation effectively groups all record IDs by common tokens.\n",
    "\n",
    "\n",
    "After Shuffle:\n",
    "('apple', 1)\n",
    "('apple', 3)\n",
    "('banana', 1)\n",
    "('banana', 2)\n",
    "('cherry', 2)\n",
    "\n",
    "After Grouping:\n",
    "('apple', [1, 3])\n",
    "('banana', [1, 2])\n",
    "('cherry', [2])\n"
   ]
  },
  {
   "cell_type": "code",
   "execution_count": 0,
   "metadata": {
    "application/vnd.databricks.v1+cell": {
     "cellMetadata": {
      "byteLimit": 2048000,
      "rowLimit": 10000
     },
     "inputWidgets": {},
     "nuid": "a90c206f-814e-45c2-bd42-951ddb0fac8d",
     "showTitle": false,
     "title": ""
    }
   },
   "outputs": [
    {
     "output_type": "stream",
     "name": "stdout",
     "output_type": "stream",
     "text": [
      "Token: tlo RIDs:  ['0', '324', '634', '686', '946', '2392', '3136', '3248', '4481', '4827', '4983', '5579', '5980', '6325', '9139']\n"
     ]
    }
   ],
   "source": [
    "#SHUFFLING AND REDUCING\n",
    "grouped_rdd = prefix_rdd.groupByKey()\n",
    "\n",
    "# print a sample of 1 tokens and the corresponding list of record IDs (rids) from grouped_rdd.\n",
    "for token, rids in grouped_rdd.take(1):\n",
    "    print(\"Token:\",token,\"RIDs: \", list(rids))"
   ]
  },
  {
   "cell_type": "markdown",
   "metadata": {
    "application/vnd.databricks.v1+cell": {
     "cellMetadata": {
      "byteLimit": 2048000,
      "rowLimit": 10000
     },
     "inputWidgets": {},
     "nuid": "af1296b5-d10c-4c92-99da-97f03154e23d",
     "showTitle": false,
     "title": ""
    }
   },
   "source": [
    "Essentially, it's an inverted index"
   ]
  },
  {
   "cell_type": "markdown",
   "metadata": {
    "application/vnd.databricks.v1+cell": {
     "cellMetadata": {
      "byteLimit": 2048000,
      "rowLimit": 10000
     },
     "inputWidgets": {},
     "nuid": "e9227ce3-99ac-4f29-a131-da8723205265",
     "showTitle": false,
     "title": ""
    }
   },
   "source": [
    "##GENERATING CANDIDATE PAIRS"
   ]
  },
  {
   "cell_type": "markdown",
   "metadata": {
    "application/vnd.databricks.v1+cell": {
     "cellMetadata": {
      "byteLimit": 2048000,
      "rowLimit": 10000
     },
     "inputWidgets": {},
     "nuid": "c7933a01-ca47-49f4-84e9-adf6d098e002",
     "showTitle": false,
     "title": ""
    }
   },
   "source": [
    "For each token, take the list of RIDs and form candidate pairs. This essentially means for a list of RIDs [a, b, c], you will form pairs [(a, b), (a, c), (b, c)].\n",
    "\n",
    "The idea behind this step is that if two records share a token in their prefix, they might be similar. Hence, they are considered as candidate pairs and will be subjected to subsequent filters to restrict down true similarities.\n",
    "\n",
    "The function generate_candidate_pairs: \n",
    "\n",
    "Generate all 2-combinations of the list of RIDs. For each token returns all possible pairs of RIDs that have this token in their prefix.\n",
    "\n",
    "input (kv) is a key-value pair, where the key is a token and the value (kv[1]) is a list of RIDs associated with that token.\n",
    "\n",
    "flatMap \"flattens\" the results, producing an RDD of the individual elements instead an RDD of list"
   ]
  },
  {
   "cell_type": "code",
   "execution_count": 0,
   "metadata": {
    "application/vnd.databricks.v1+cell": {
     "cellMetadata": {
      "byteLimit": 2048000,
      "rowLimit": 10000
     },
     "inputWidgets": {},
     "nuid": "0a12bbab-0dff-42e8-977f-7418406a8555",
     "showTitle": false,
     "title": ""
    }
   },
   "outputs": [
    {
     "output_type": "stream",
     "name": "stdout",
     "output_type": "stream",
     "text": [
      "Candidate Pairs after Prefix Filter: 1732742 \n\n['0', '324']\n['0', '634']\n['0', '686']\n['0', '946']\n['0', '2392']\n['0', '3136']\n['0', '3248']\n['0', '4481']\n['0', '4827']\n['0', '4983']\n\nTime of execution of prefix filtering 1.6018919944763184\n"
     ]
    }
   ],
   "source": [
    "from itertools import combinations\n",
    "\n",
    "def generate_candidate_pairs(grouped_rdd):\n",
    "    \"\"\"\n",
    "    Generates candidate pairs of RIDs that share a common token in their prefix.\n",
    "\n",
    "    Parameters:\n",
    "    - grouped_rdd: Input RDD where each record is a key-value pair. The key is a token and the value is a list of RIDs associated with that token.\n",
    "\n",
    "    Returns:\n",
    "    - An RDD of candidate pairs, where each element is a tuple representing a pair of RIDs that share at least one common token in their prefix.\n",
    "    \"\"\"\n",
    "    candidate_pairs_after_prefix_rdd = grouped_rdd.flatMap(lambda kv: combinations(kv[1], 2))\n",
    "\n",
    "    return candidate_pairs_after_prefix_rdd\n",
    "\n",
    "\n",
    "candidate_pairs_after_prefix_rdd = generate_candidate_pairs(grouped_rdd)\n",
    "\n",
    "candidate_pairs_after_prefix_rdd_count = candidate_pairs_after_prefix_rdd.count()\n",
    "\n",
    "print(\"Candidate Pairs after Prefix Filter:\", candidate_pairs_after_prefix_rdd_count, \"\\n\")\n",
    "\n",
    "\n",
    "# For debugging:\n",
    "sample_candidate_pairs = candidate_pairs_after_prefix_rdd.take(10)\n",
    "for pair in sample_candidate_pairs:\n",
    "    print(list(pair))\n",
    "\n",
    "#This will give you pairs of RIDs that share a common token in their prefix.\n",
    "\n",
    "# stopping measure of lenght filter execution time\n",
    "time_of_prefix_filtering = time.time() - starting_prefix_filtering\n",
    "print(f\"\\nTime of execution of prefix filtering {time_of_prefix_filtering}\")"
   ]
  },
  {
   "cell_type": "markdown",
   "metadata": {
    "application/vnd.databricks.v1+cell": {
     "cellMetadata": {
      "byteLimit": 2048000,
      "rowLimit": 10000
     },
     "inputWidgets": {},
     "nuid": "6f67662c-adba-4b09-bce6-17539a7d8a3a",
     "showTitle": false,
     "title": ""
    }
   },
   "source": [
    "#LENGHT FILTER:"
   ]
  },
  {
   "cell_type": "markdown",
   "metadata": {
    "application/vnd.databricks.v1+cell": {
     "cellMetadata": {
      "byteLimit": 2048000,
      "rowLimit": 10000
     },
     "inputWidgets": {},
     "nuid": "1eb320ee-49b3-43d0-a889-ec4225b01f09",
     "showTitle": false,
     "title": ""
    }
   },
   "source": [
    "###Create an RDD of records with RID and length of the token set\n",
    "we'll create an RDD of records that includes both the RID and the length of the token set:\n",
    "\n",
    "\n",
    "The lambda function \"lambda kv\": (kv[0], len(kv[1])) takes each key-value pair kv (where kv[0] is the RID and kv[1] is the token set) and transforms it into a new pair (RID, number_of_tokens)\n",
    "\n",
    "The result is a new RDD, record_lengths_rdd, where each element is a tuple consisting of a record ID and the corresponding number of tokens in that record.\n",
    "\n",
    "\n",
    "Purpose of Length Information: The length of the token set for each record is useful in many scenarios, especially when we need to compute similarity measures or apply filters based on token counts. For instance, in similarity join tasks, we might want to compare only those records that have a similar number of tokens.\n",
    "\n",
    "Other Steps: typically, this length information might be used in subsequent steps to apply length-based filters, such as discarding pairs of records where the difference in the number of tokens exceeds a certain threshold. This can significantly reduce the number of comparisons in similarity join algorithms."
   ]
  },
  {
   "cell_type": "code",
   "execution_count": 0,
   "metadata": {
    "application/vnd.databricks.v1+cell": {
     "cellMetadata": {
      "byteLimit": 2048000,
      "rowLimit": 10000
     },
     "inputWidgets": {},
     "nuid": "c21a2bc0-baf6-49a6-81ec-73ec997f4b38",
     "showTitle": false,
     "title": ""
    }
   },
   "outputs": [
    {
     "output_type": "stream",
     "name": "stdout",
     "output_type": "stream",
     "text": [
      "('0', 44)\n('1', 45)\n('2', 33)\n('3', 52)\n('4', 50)\n"
     ]
    }
   ],
   "source": [
    "# starting measure of lenght filter execution time\n",
    "starting_lenght_filtering = time.time()\n",
    "\n",
    "# compute the lenght of the token set for each record - len(kv[1]) -> number of tokens in the set\n",
    "record_lengths_rdd = tokenized_rdd.map(lambda kv: (kv[0], len(kv[1])))\n",
    "\n",
    "#MAPPER\n",
    "for record in record_lengths_rdd.take(5):\n",
    "    print(record)"
   ]
  },
  {
   "cell_type": "markdown",
   "metadata": {
    "application/vnd.databricks.v1+cell": {
     "cellMetadata": {
      "byteLimit": 2048000,
      "rowLimit": 10000
     },
     "inputWidgets": {},
     "nuid": "0a59ac61-98dc-46a2-8984-64bb5ea2b3d8",
     "showTitle": false,
     "title": ""
    }
   },
   "source": [
    "###Join the RDD with candidate pairs to get lengths for both RIDs:\n",
    "\n",
    "In this step, we're joining the candidate pairs with their corresponding token lengths. This is an important step in filtering candidate pairs based on their token lengths.\n",
    "\n",
    "We start with candidate_pairs_after_prefix_rdd, which is a result from the previous step containing potential similar pairs (RID1, RID2). This line is joining this RDD with the record_lengths_rdd to associate the length of the token set with each RID. The join operation combines records with the same key (RID) from both RDDs.\n",
    "The result, pair_lengths_rdd, will have elements in the form: {RID1, (RID2, length_of_RID1)}.\n",
    "\n",
    "After the join, we restructure the RDD to facilitate another join to get lengths for both RIDs in the pair, by swapping the keys and values. \n",
    "\n",
    "The key becomes RID2, and the value becomes a tuple (RID1, length_of_RID1).\n",
    "\n",
    "After this mapping, we join the refactored RDD with record_lengths_rdd again.\n",
    "\n",
    "The resulting RDD, pair_lengths_rdd_refactored, will have elements in the form: {RID2, ((RID1, length_of_RID1), length_of_RID2)}.\n",
    "\n",
    "Why do we do this?\n",
    "\n",
    "By knowing the lengths of the token sets for each pair of RIDs, we can apply lenght filter (only consider pairs where the length difference is within a certain threshold) to reduce the number of pairs to those most likely to be similar."
   ]
  },
  {
   "cell_type": "code",
   "execution_count": 0,
   "metadata": {
    "application/vnd.databricks.v1+cell": {
     "cellMetadata": {
      "byteLimit": 2048000,
      "rowLimit": 10000
     },
     "inputWidgets": {},
     "nuid": "9f787992-4cfb-46e9-8fda-c05c7fc18570",
     "showTitle": false,
     "title": ""
    }
   },
   "outputs": [
    {
     "output_type": "stream",
     "name": "stdout",
     "output_type": "stream",
     "text": [
      "pair_lengths_rdd: {RID1, (RID2, lenght_of_RID1)}  [('2392', ('3136', 49))]\npair_lengths_rdd: {RID2, (RID1, lenght_of_RID1), lenght_of_RID2}  [('3136', (('2392', 49), 53))]\n"
     ]
    }
   ],
   "source": [
    "# join on RID\n",
    "\n",
    "# MAPPER \n",
    "# REDUCER (join): brings together pairs from RDDs that have the same key. Combines records with the same key (RID) from both RDDs.\n",
    "pair_lengths_rdd = candidate_pairs_after_prefix_rdd.join(record_lengths_rdd) # \n",
    "print(\"pair_lengths_rdd: {RID1, (RID2, lenght_of_RID1)} \", pair_lengths_rdd.take(1))\n",
    "\n",
    "pair_lenghts_rdd_refactored = pair_lengths_rdd.map(lambda kv: (kv[1][0],(kv[0], kv[1][1]))).join(record_lengths_rdd)\n",
    "\n",
    "print(\"pair_lengths_rdd: {RID2, (RID1, lenght_of_RID1), lenght_of_RID2} \", pair_lenghts_rdd_refactored.take(1))"
   ]
  },
  {
   "cell_type": "markdown",
   "metadata": {
    "application/vnd.databricks.v1+cell": {
     "cellMetadata": {
      "byteLimit": 2048000,
      "rowLimit": 10000
     },
     "inputWidgets": {},
     "nuid": "282dd28e-5dbf-4c08-8038-a23e6cc75606",
     "showTitle": false,
     "title": ""
    }
   },
   "source": [
    "###Use formula to filter pairs based on length criteria:\n",
    "\n",
    "This is the core step of the length filter: if the lengths of the two sets in a pair are too different, they can't possibly have a high similarity. By filtering these out, we're reducing the number of pairs we need to check in the next steps... filters out pairs that are unlikely to be similar based on the length of their token sets and a specified similarity threshold.\n",
    "\n",
    "\n",
    "Now, we'll use the derived formula to filter pairs based on the length criteria: by applying the formula derived from the Jaccard similarity principle, we filter out pairs where the lengths of their sets are too different to possibly meet the threshold.\n",
    "\n",
    "For the length filter, we're interested in the numerator: \n",
    "∣A∩B∣, the size of the intersection. The goal is to find a lower bound for this intersection given a certain threshold t.\n",
    "To achieve the similarity t, the intersection ∣A∩B∣ should be: ∣A∩B∣≥t×min(∣A∣,∣B∣)\n",
    "This gives the minimum required intersection size for a given similarity threshold t.\n",
    "\n",
    "Threshold Selection: the choice of the similarity threshold is important: a high threshold might lead to missing some similar pairs, while a low threshold could include more FP.\n",
    "\n",
    "Performance Impact: the filter operation is generally efficient as it processes each record independently and doesn't involve shuffling data, but the efficiency also depends on how many records pass the filter."
   ]
  },
  {
   "cell_type": "markdown",
   "metadata": {
    "application/vnd.databricks.v1+cell": {
     "cellMetadata": {
      "byteLimit": 2048000,
      "rowLimit": 10000
     },
     "inputWidgets": {},
     "nuid": "8d5d0abe-f730-409f-b4e1-e7de71f4636c",
     "showTitle": false,
     "title": ""
    }
   },
   "source": [
    "Example:\n",
    "    \n",
    "Pair: ('7078', (('4481', 63), 57))\n",
    "Lengths: RID1 (4481) = 63, RID2 (7078) = 57\n",
    "\n",
    "Applying the Length Filter:\n",
    "\n",
    "Min Length = min(63, 57) = 57\n",
    "\n",
    "Max Length = max(63, 57) = 63\n",
    "\n",
    "Max Possible Overlap = Min Length = 57\n",
    "\n",
    "Min Required Overlap = Threshold × Min Length = 0.7 × 57 ≈ 40\n",
    "\n",
    "Check for Filtering:\n",
    "\n",
    "Calculation: (Min Length - Max Length + Max Possible Overlap) = (57 - 63 + 57) = 51\n",
    "Since 51 is greater than the Min Required Overlap (40), this pair passes the filter."
   ]
  },
  {
   "cell_type": "markdown",
   "metadata": {
    "application/vnd.databricks.v1+cell": {
     "cellMetadata": {
      "byteLimit": 2048000,
      "rowLimit": 10000
     },
     "inputWidgets": {},
     "nuid": "426e9b53-0be3-4235-a958-474f4ed2f4f9",
     "showTitle": false,
     "title": ""
    }
   },
   "source": [
    "THRESHOLD CONSIDERATION:\n",
    "\n",
    "Strict Matching: If the goal is to identify records that are very similar or nearly duplicates, a higher threshold (e.g., 0.8-0.9) ensures only very similar records are considered.\n",
    "\n",
    "Broad Matching: For exploratory analysis or when broader similarities are relevant, a lower threshold (e.g., 0.5-0.7) might be more suitable.\n",
    "\n",
    "A higher threshold generally results in fewer comparisons and better performance but might miss some relevant matches.\n",
    "\n",
    "A lower threshold increases the computational load but might capture more potential similarities."
   ]
  },
  {
   "cell_type": "markdown",
   "metadata": {
    "application/vnd.databricks.v1+cell": {
     "cellMetadata": {
      "byteLimit": 2048000,
      "rowLimit": 10000
     },
     "inputWidgets": {},
     "nuid": "20668374-a195-4c9c-b2c0-621fef8aa1f9",
     "showTitle": false,
     "title": ""
    }
   },
   "source": [
    "### METHOD-1 [Bayardo et al, WWW 07 ] - not very effective in our case"
   ]
  },
  {
   "cell_type": "markdown",
   "metadata": {
    "application/vnd.databricks.v1+cell": {
     "cellMetadata": {
      "byteLimit": 2048000,
      "rowLimit": 10000
     },
     "inputWidgets": {},
     "nuid": "960a1950-c1e8-42b0-9c72-a005995305b8",
     "showTitle": false,
     "title": ""
    }
   },
   "source": [
    "def filter_pairs_by_length(pair_rdd, alpha):\n",
    "    \"\"\"\n",
    "    Filters the RDD pairs based on the given length criteria derived from the overlapping threshold alpha.\n",
    "\n",
    "    Parameters:\n",
    "    - pair_rdd: RDD in the format {(RID1, RID2), (length_of_RID1, length_of_RID2)}.\n",
    "    - alpha: The minimum number of overlapping tokens required for a pair to be considered similar.\n",
    "\n",
    "    Returns:\n",
    "    - An RDD with pairs filtered by the given criteria.\n",
    "    \"\"\"\n",
    "\n",
    "    def length_filter(value):\n",
    "        length1, length2 = value[1]\n",
    "        # The pair is pruned if the smaller document's length is less than alpha\n",
    "        return min(length1, length2) >= alpha\n",
    "\n",
    "    return pair_rdd.filter(lambda kv: length_filter(kv))\n",
    "\n",
    "# Assuming `pair_lengths_rdd` is an RDD with pairs and their lengths\n",
    "alpha = 10\n",
    "filtered_pairs_after_lenght_rdd = filter_pairs_by_length(pair_lengths_rdd, alpha)\n",
    "\n",
    "# Collecting a small sample for demonstration purposes\n",
    "for record in filtered_pairs_after_lenght_rdd.take(10):\n",
    "    print(record)\n"
   ]
  },
  {
   "cell_type": "markdown",
   "metadata": {
    "application/vnd.databricks.v1+cell": {
     "cellMetadata": {
      "byteLimit": 2048000,
      "rowLimit": 10000
     },
     "inputWidgets": {},
     "nuid": "58de6f40-9520-4a21-8df9-8bdff92cf9db",
     "showTitle": false,
     "title": ""
    }
   },
   "source": [
    "### ALTERNATIVE METHOD WITH JACCARD-LIKE'S THRESHOLD "
   ]
  },
  {
   "cell_type": "code",
   "execution_count": 0,
   "metadata": {
    "application/vnd.databricks.v1+cell": {
     "cellMetadata": {
      "byteLimit": 2048000,
      "rowLimit": 10000
     },
     "inputWidgets": {},
     "nuid": "7e6ad39b-bf47-40cb-8002-5e707e569a55",
     "showTitle": false,
     "title": ""
    }
   },
   "outputs": [
    {
     "output_type": "stream",
     "name": "stdout",
     "output_type": "stream",
     "text": [
      "('3136', (('2392', 49), 53))\n('3136', (('2392', 49), 53))\n('3136', (('2392', 49), 53))\n('3136', (('2392', 49), 53))\n('3136', (('2392', 49), 53))\n('3136', (('2392', 49), 53))\n('3136', (('2392', 49), 53))\n('3136', (('1812', 44), 53))\n('3136', (('1506', 50), 53))\n('3136', (('1347', 47), 53))\n"
     ]
    }
   ],
   "source": [
    "# MAPPER\n",
    "\n",
    "# parametrisations lenght_filter\n",
    "threshold_lenght = 0.70\n",
    "\n",
    "def filter_pairs_by_length(pair_lengths_rdd_refactored, threshold_lenght):\n",
    "    \"\"\"\n",
    "    Filters the RDD pairs based on the given length criteria derived from the similarity threshold.\n",
    "\n",
    "    Parameters:\n",
    "    - pair_lengths_rdd_refactored: RDD in the format {RID2, (RID1, length_of_RID1, length_of_RID2)}.\n",
    "    - threshold: Desired similarity threshold.\n",
    "\n",
    "    Returns:\n",
    "    - An RDD with pairs filtered by the given criteria.\n",
    "    \"\"\"\n",
    "\n",
    "    def length_filter(value):\n",
    "        # take the tuple that contains the lenghts of the 2RIDs\n",
    "        rid1_length = value[0][1]\n",
    "        rid2_length = value[1]\n",
    "        min_length = min(rid1_length, rid2_length)\n",
    "        max_length = max(rid1_length, rid2_length)\n",
    "\n",
    "        # Calculate the maximum possible overlap\n",
    "        max_overlap = min_length\n",
    "\n",
    "        # Derive the minimum required overlap - the min. number of tokens that must overlap for the pair to be considered similar.\n",
    "        min_required_overlap = threshold_lenght * min_length\n",
    "\n",
    "        # Check the minimum required overlap against the maximum possible overlap\n",
    "        return (min_length - max_length + max_overlap) >= min_required_overlap\n",
    "\n",
    "    return pair_lengths_rdd_refactored.filter(lambda kv: length_filter(kv[1]))\n",
    "\n",
    "\n",
    "filtered_pairs_after_lenght_rdd = filter_pairs_by_length(pair_lenghts_rdd_refactored, threshold_lenght)\n",
    "\n",
    "# debugging:\n",
    "for record in filtered_pairs_after_lenght_rdd.take(10):\n",
    "    print(record)"
   ]
  },
  {
   "cell_type": "markdown",
   "metadata": {
    "application/vnd.databricks.v1+cell": {
     "cellMetadata": {
      "byteLimit": 2048000,
      "rowLimit": 10000
     },
     "inputWidgets": {},
     "nuid": "e871ff10-7605-4aee-962a-268df6ef3124",
     "showTitle": false,
     "title": ""
    }
   },
   "source": [
    "###Keep only the RIDs:\n",
    "\n",
    "Finally, keep only the RIDs, discarding the lengths:\n",
    "\n",
    "Now that we've filtered the pairs based on length, we want to keep just the RIDs for further processing. This line maps over the filtered_pairs_after_lenght_rdd and extracts just the RIDs, discarding the lengths. \n",
    "FOR SIMPLIFY DATA STRUCTURE\n",
    "\n",
    "After the length filter, we will have an RDD structure somewhat like:\n",
    "\n",
    "{RID2, ((RID1, length_of_RID1), length_of_RID2)}\n",
    "Now, you just need the RID pairs (RID1, RID2), so we can map the structure to get only the pairs of RIDs.\n",
    "\n",
    "This should get an RDD of the form: (RID1, RID2)"
   ]
  },
  {
   "cell_type": "code",
   "execution_count": 0,
   "metadata": {
    "application/vnd.databricks.v1+cell": {
     "cellMetadata": {
      "byteLimit": 2048000,
      "rowLimit": 10000
     },
     "inputWidgets": {},
     "nuid": "a663d14d-e460-44e9-aff2-c1e0b15b3cb1",
     "showTitle": false,
     "title": ""
    }
   },
   "outputs": [
    {
     "output_type": "stream",
     "name": "stdout",
     "output_type": "stream",
     "text": [
      "('2392', '3136')\n('2392', '3136')\n('2392', '3136')\n('2392', '3136')\n('2392', '3136')\n\n Candidate Pairs after Length Filter: 1382747 \n\n Candidate Pairs filtered out by Lenght Filter: 349995 \n\nTime of execution of lenght filtering 21.002475261688232\n"
     ]
    }
   ],
   "source": [
    "#MAPPER\n",
    "pairs_after_lenght_rdd = filtered_pairs_after_lenght_rdd.map(lambda kv: (kv[1][0][0], kv[0]))\n",
    "\n",
    "for record in pairs_after_lenght_rdd.take(5):\n",
    "    print(record)\n",
    "\n",
    "pairs_after_lenght_rdd_count = pairs_after_lenght_rdd.count()\n",
    "\n",
    "print(\"\\n Candidate Pairs after Length Filter:\", pairs_after_lenght_rdd_count, \"\\n\")\n",
    "print(\" Candidate Pairs filtered out by Lenght Filter:\", candidate_pairs_after_prefix_rdd_count - pairs_after_lenght_rdd_count, \"\\n\")\n",
    "\n",
    "# stopping measuring the time of lenght filter\n",
    "time_of_lenght_filtering = time.time() - starting_lenght_filtering\n",
    "print(f\"Time of execution of lenght filtering {time_of_lenght_filtering}\")"
   ]
  },
  {
   "cell_type": "markdown",
   "metadata": {
    "application/vnd.databricks.v1+cell": {
     "cellMetadata": {
      "byteLimit": 2048000,
      "rowLimit": 10000
     },
     "inputWidgets": {},
     "nuid": "dfaa7ca4-79cb-4226-aec6-7bbc0fba1c78",
     "showTitle": false,
     "title": ""
    }
   },
   "source": [
    "After this step, final_pairs_rdd will contain candidate pairs that have passed both the prefix and length filters. These pairs have a higher likelihood of being true positives (i.e., genuinely similar pairs). The subsequent positional filter will further refine this set."
   ]
  },
  {
   "cell_type": "markdown",
   "metadata": {
    "application/vnd.databricks.v1+cell": {
     "cellMetadata": {
      "byteLimit": 2048000,
      "rowLimit": 10000
     },
     "inputWidgets": {},
     "nuid": "7e978007-6daa-4b87-a11d-345947a58918",
     "showTitle": false,
     "title": ""
    }
   },
   "source": [
    "#POSITIONAL FILTER\n",
    "\n",
    "\n",
    "Goal: Further refine our candidate pairs to those which are potentially similar by looking at the actual positions of tokens in each record.\n",
    "\n",
    "Why?\n",
    "Even after length and prefix filtering, we might have pairs of records that are not truly similar. Positional filtering checks if the common tokens between two records appear at nearly the same positions. If they do, it's likely that the records are similar. This step is particularly useful to eliminate false positives introduced by common tokens that appear at widely different positions in two records."
   ]
  },
  {
   "cell_type": "markdown",
   "metadata": {
    "application/vnd.databricks.v1+cell": {
     "cellMetadata": {
      "byteLimit": 2048000,
      "rowLimit": 10000
     },
     "inputWidgets": {},
     "nuid": "8568f99d-38ec-42e9-a42c-2ba36d246213",
     "showTitle": false,
     "title": ""
    }
   },
   "source": [
    "##1.Token Positioning\n",
    "\n",
    "For each record, mark each token with its position.\n",
    "Associate each token with its position"
   ]
  },
  {
   "cell_type": "markdown",
   "metadata": {
    "application/vnd.databricks.v1+cell": {
     "cellMetadata": {
      "byteLimit": 2048000,
      "rowLimit": 10000
     },
     "inputWidgets": {},
     "nuid": "8e7aa4f5-1294-404e-8276-b30fe5ab39db",
     "showTitle": false,
     "title": ""
    }
   },
   "source": [
    "\n",
    "This function takes a set of tokens and returns a list of tuples, each consisting of a token and its corresponding index (position) in the set.\n",
    "\n",
    "[ ('record_id1', [('token1', 0), ('token2', 1), ...]),\n",
    " ('record_id2', [('tokenA', 0), ('tokenB', 1), ...]),\n",
    " ...\n",
    "]\n",
    "\n",
    "original:\n",
    "    'record_id1', ['molly', '41', '6050']\n",
    "transformed:\n",
    "        ('record_id1', [('molly', 0), ('41', 1), ('6050', 2)])\n",
    "\n",
    "For the record '0':\n",
    "[    ('molly', 0),     ('41', 1),     ('6050', 2),     ...    ('batlow', 10)]\n",
    "\n",
    "\n",
    "The token 'molly' is in position 0, the token '41' is in position 1, and so on.\n",
    "\n",
    "This positional information will be crucial when applying the positional filtering. Positional filtering, in essence, ensures that tokens from similar records (candidate pairs) not only match but also are proximate in terms of their positions."
   ]
  },
  {
   "cell_type": "code",
   "execution_count": 0,
   "metadata": {
    "application/vnd.databricks.v1+cell": {
     "cellMetadata": {
      "byteLimit": 2048000,
      "rowLimit": 10000
     },
     "inputWidgets": {},
     "nuid": "2aa894e9-b16f-46d1-a64d-89826190d259",
     "showTitle": false,
     "title": ""
    }
   },
   "outputs": [
    {
     "output_type": "stream",
     "name": "stdout",
     "output_type": "stream",
     "text": [
      "Out[49]: [('0',\n  [('289', 0),\n   ('ent', 1),\n   ('tlo', 2),\n   ('290', 3),\n   ('esc', 4),\n   ('atl', 5),\n   ('841', 6),\n   ('829', 7),\n   ('050', 8),\n   ('res', 9),\n   ('899', 10),\n   ('qld', 11),\n   ('mol', 12),\n   ('hop', 13),\n   ('060', 14),\n   ('oll', 15),\n   ('lly', 16),\n   ('ley', 17),\n   ('939', 18),\n   ('082', 19),\n   ('ycr', 20),\n   ('609', 21),\n   ('bis', 22),\n   ('ale', 23),\n   ('ish', 24),\n   ('467', 25),\n   ('low', 26),\n   ('eyc', 27),\n   ('684', 28),\n   ('cen', 29),\n   ('193', 30),\n   ('dal', 31),\n   ('sce', 32),\n   ('906', 33),\n   ('cre', 34),\n   ('028', 35),\n   ('bat', 36),\n   ('902', 37),\n   ('605', 38),\n   ('390', 39),\n   ('768', 40),\n   ('sho', 41),\n   ('996', 42),\n   ('676', 43)]),\n ('1',\n  [('190', 0),\n   ('110', 1),\n   ('411', 2),\n   ('ort', 3),\n   ('756', 4),\n   ('294', 5),\n   ('ucc', 6),\n   ('nam', 7),\n   ('von', 8),\n   ('buc', 9),\n   ('amb', 10),\n   ('ast', 11),\n   ('mbu', 12),\n   ('200', 13),\n   ('eet', 14),\n   ('don', 15),\n   ('hkt', 16),\n   ('629', 17),\n   ('414', 18),\n   ('141', 19),\n   ('163', 20),\n   ('087', 21),\n   ('nor', 22),\n   ('904', 23),\n   ('ree', 24),\n   ('341', 25),\n   ('tre', 26),\n   ('vkf', 27),\n   ('459', 28),\n   ('945', 29),\n   ('416', 30),\n   ('562', 31),\n   ('whk', 32),\n   ('875', 33),\n   ('041', 34),\n   ('cca', 35),\n   ('dev', 36),\n   ('002', 37),\n   ('109', 38),\n   ('evo', 39),\n   ('ido', 40),\n   ('ono', 41),\n   ('str', 42),\n   ('cas', 43),\n   ('aid', 44)]),\n ('2',\n  [('110', 0),\n   ('411', 1),\n   ('841', 2),\n   ('ndr', 3),\n   ('iva', 4),\n   ('448', 5),\n   ('107', 6),\n   ('dre', 7),\n   ('228', 8),\n   ('071', 9),\n   ('hoe', 10),\n   ('and', 11),\n   ('844', 12),\n   ('116', 13),\n   ('876', 14),\n   ('684', 15),\n   ('991', 16),\n   ('711', 17),\n   ('021', 18),\n   ('287', 19),\n   ('ann', 20),\n   ('168', 21),\n   ('rew', 22),\n   ('784', 23),\n   ('910', 24),\n   ('nns', 25),\n   ('487', 26),\n   ('nho', 27),\n   ('211', 28),\n   ('van', 29),\n   ('vic', 30),\n   ('199', 31),\n   ('anh', 32)]),\n ('3',\n  [('406', 0),\n   ('040', 1),\n   ('chr', 2),\n   ('207', 3),\n   ('232', 4),\n   ('nst', 5),\n   ('709', 6),\n   ('418', 7),\n   ('400', 8),\n   ('qld', 9),\n   ('own', 10),\n   ('lsy', 11),\n   ('rob', 12),\n   ('eet', 13),\n   ('032', 14),\n   ('003', 15),\n   ('070', 16),\n   ('sne', 17),\n   ('939', 18),\n   ('shs', 19),\n   ('whi', 20),\n   ('183', 21),\n   ('065', 22),\n   ('tie', 23),\n   ('241', 24),\n   ('320', 25),\n   ('son', 26),\n   ('bso', 27),\n   ('obs', 28),\n   ('ree', 29),\n   ('193', 30),\n   ('hsn', 31),\n   ('tre', 32),\n   ('836', 33),\n   ('323', 34),\n   ('rls', 35),\n   ('907', 36),\n   ('itr', 37),\n   ('360', 38),\n   ('sti', 39),\n   ('trl', 40),\n   ('ons', 41),\n   ('ist', 42),\n   ('390', 43),\n   ('wns', 44),\n   ('dow', 45),\n   ('ris', 46),\n   ('hit', 47),\n   ('ied', 48),\n   ('edo', 49),\n   ('str', 50),\n   ('hri', 51)]),\n ('4',\n  [('och', 0),\n   ('757', 1),\n   ('644', 2),\n   ('328', 3),\n   ('532', 4),\n   ('577', 5),\n   ('fre', 6),\n   ('for', 7),\n   ('ore', 8),\n   ('774', 9),\n   ('phi', 10),\n   ('nst', 11),\n   ('nki', 12),\n   ('kin', 13),\n   ('res', 14),\n   ('qld', 15),\n   ('sfo', 16),\n   ('436', 17),\n   ('340', 18),\n   ('eet', 19),\n   ('032', 20),\n   ('250', 21),\n   ('743', 22),\n   ('oph', 23),\n   ('enc', 24),\n   ('853', 25),\n   ('272', 26),\n   ('est', 27),\n   ('403', 28),\n   ('che', 29),\n   ('ank', 30),\n   ('193', 31),\n   ('ran', 32),\n   ('ree', 33),\n   ('tre', 34),\n   ('hie', 35),\n   ('725', 36),\n   ('ren', 37),\n   ('ins', 38),\n   ('085', 39),\n   ('227', 40),\n   ('roc', 41),\n   ('364', 42),\n   ('nch', 43),\n   ('hsf', 44),\n   ('322', 45),\n   ('934', 46),\n   ('chs', 47),\n   ('sop', 48),\n   ('str', 49)])]"
     ]
    }
   ],
   "source": [
    "# starting measuring the time for position filtering\n",
    "starting_position_filtering = time.time()\n",
    "\n",
    "def position_tokens(tokens):\n",
    "    return [(token, idx) for idx, token in enumerate(tokens)]\n",
    "\n",
    "# mapValues only processes the values of the key-value pairs in the RDD, leaving the keys (the record IDs) unchanged.\n",
    "positioned_rdd = tokenized_rdd.mapValues(position_tokens)\n",
    "positioned_rdd = positioned_rdd.cache()\n",
    "#positioned_rdd have the same keys (RID) of tokenized_rdd, but the values now are lists of (token, index) pairs instead of sets of tokens.\n",
    "\n",
    "positioned_rdd.take(5)"
   ]
  },
  {
   "cell_type": "markdown",
   "metadata": {
    "application/vnd.databricks.v1+cell": {
     "cellMetadata": {
      "byteLimit": 2048000,
      "rowLimit": 10000
     },
     "inputWidgets": {},
     "nuid": "dca44db3-14a1-41fa-b8cc-d958e83a8dfe",
     "showTitle": false,
     "title": ""
    }
   },
   "source": [
    "##2.Join the distinct_pairs_rdd with the positioned_rdd based on tokens:"
   ]
  },
  {
   "cell_type": "markdown",
   "metadata": {
    "application/vnd.databricks.v1+cell": {
     "cellMetadata": {
      "byteLimit": 2048000,
      "rowLimit": 10000
     },
     "inputWidgets": {},
     "nuid": "3d34aaa9-85c8-49fc-b725-ba6e7241e240",
     "showTitle": false,
     "title": ""
    }
   },
   "source": [
    "Now, by using this positioned RDD (positioned_rdd) we:\n",
    "\n",
    "-Join candidate pairs based on their tokens and filter based on their positions.\n",
    "\n",
    "-Further prune candidate pairs based on Jaccard similarity.\n",
    "\n",
    "To achieve this, we first need to do the join operation on final_pairs_rdd with the positioned_rdd and then perform the positional filtering."
   ]
  },
  {
   "cell_type": "markdown",
   "metadata": {
    "application/vnd.databricks.v1+cell": {
     "cellMetadata": {
      "byteLimit": 2048000,
      "rowLimit": 10000
     },
     "inputWidgets": {},
     "nuid": "f60eb59b-a687-40cd-8381-f58a7e621297",
     "showTitle": false,
     "title": ""
    }
   },
   "source": [
    "We have the positioned_rdd in the format:\n",
    "('record_id', [('token1', position1), ('token2', position2), ...])\n",
    "\n",
    "And the pairs_after_lenght_rdd (from previous prefix filtering) in the format:\n",
    "('RID1', 'RID2')"
   ]
  },
  {
   "cell_type": "markdown",
   "metadata": {
    "application/vnd.databricks.v1+cell": {
     "cellMetadata": {
      "byteLimit": 2048000,
      "rowLimit": 10000
     },
     "inputWidgets": {},
     "nuid": "70f30205-03ae-494f-9556-5496a798aa5f",
     "showTitle": false,
     "title": ""
    }
   },
   "source": [
    "The join operation in Spark combines two RDDs based on their keys\n",
    "\n",
    "Each element in distinct_pairs_rdd is joined with the corresponding element in positioned_rdd based on matching record IDs. This join will result in a new RDD where each element consists of a record ID and a tuple containing the pair of RIDs from final_pairs_rdd and the list of positioned tokens from positioned_rdd.\n",
    "\n",
    "Output Format\n",
    "After the join, the RDD first_join should have elements in the format:\n",
    "('RID1', ('RID2', [('token_rid1_1', position1), ('token_rid_2', position2), ..., ('token_rid1_N', positionN)]))\n",
    "\n",
    "This format represents the association of each RID pair with the positioned tokens of one of the records in the pair."
   ]
  },
  {
   "cell_type": "markdown",
   "metadata": {
    "application/vnd.databricks.v1+cell": {
     "cellMetadata": {
      "byteLimit": 2048000,
      "rowLimit": 10000
     },
     "inputWidgets": {},
     "nuid": "c677d8c9-ea47-4bb6-8197-a627d96f85dd",
     "showTitle": false,
     "title": ""
    }
   },
   "source": [
    "Example:\n",
    "    \n",
    "Each element of the resulting RDD (first_join) is a tuple with two main components:\n",
    "    \n",
    "First Element:\n",
    "\n",
    "('1059', ...): This is RID1.\n",
    "\n",
    "Second Element (Nested Tuple):\n",
    "\n",
    "The first part of the nested tuple, '7078' is example of RID2.\n",
    "The second part of the nested tuple is a list of positioned tokens from RID1's (1059) token set, like [('och', 0), ('190', 1), ..., ('kwo', 62)].\n",
    "\n",
    "We get this format of data: ('RID1', ('RID2', [positioned tokens of RID1])).\n",
    "\n",
    "The key '1059' is RID1, and the value is a tuple containing '7078' as RID2 and the list of positioned tokens associated with RID1 ('1059').\n"
   ]
  },
  {
   "cell_type": "code",
   "execution_count": 0,
   "metadata": {
    "application/vnd.databricks.v1+cell": {
     "cellMetadata": {
      "byteLimit": 2048000,
      "rowLimit": 10000
     },
     "inputWidgets": {},
     "nuid": "1a0a3afe-1a61-4f7f-b7ba-25b55e433bf1",
     "showTitle": false,
     "title": ""
    }
   },
   "outputs": [
    {
     "output_type": "stream",
     "name": "stdout",
     "output_type": "stream",
     "text": [
      "Out[50]: [('2392',\n  ('3136',\n   [('190', 0),\n    ('avi', 1),\n    ('ent', 2),\n    ('tlo', 3),\n    ('cyc', 4),\n    ('esc', 5),\n    ('for', 6),\n    ('ore', 7),\n    ('000', 8),\n    ('075', 9),\n    ('300', 10),\n    ('591', 11),\n    ('dge', 12),\n    ('res', 13),\n    ('730', 14),\n    ('ier', 15),\n    ('936', 16),\n    ('adi', 17),\n    ('odg', 18),\n    ('nad', 19),\n    ('377', 20),\n    ('606', 21),\n    ('lod', 22),\n    ('007', 23),\n    ('ycr', 24),\n    ('071', 25),\n    ('719', 26),\n    ('xav', 27),\n    ('517', 28),\n    ('171', 29),\n    ('eon', 30),\n    ('est', 31),\n    ('037', 32),\n    ('cen', 33),\n    ('193', 34),\n    ('sce', 35),\n    ('755', 36),\n    ('773', 37),\n    ('vie', 38),\n    ('erc', 39),\n    ('cre', 40),\n    ('559', 41),\n    ('907', 42),\n    ('rcy', 43),\n    ('stl', 44),\n    ('ona', 45),\n    ('064', 46),\n    ('per', 47),\n    ('leo', 48)]))]"
     ]
    }
   ],
   "source": [
    "first_join = pairs_after_lenght_rdd.join(positioned_rdd)\n",
    "\n",
    "first_join.take(1)"
   ]
  },
  {
   "cell_type": "markdown",
   "metadata": {
    "application/vnd.databricks.v1+cell": {
     "cellMetadata": {
      "byteLimit": 2048000,
      "rowLimit": 10000
     },
     "inputWidgets": {},
     "nuid": "56f4b0f8-e2a7-4650-99eb-bcecb0fb39de",
     "showTitle": false,
     "title": ""
    }
   },
   "source": [
    "#### For debugging pourpose - check the correct structure of join - change to pythoncode\n",
    "\n",
    "for i, record in positioned_rdd.collect():\n",
    "    if i=='1059':\n",
    "        print(f\"{record} \\n\")\n",
    "    if i=='7078':\n",
    "        print(f\"{record} \\n\")\n",
    "\n"
   ]
  },
  {
   "cell_type": "markdown",
   "metadata": {
    "application/vnd.databricks.v1+cell": {
     "cellMetadata": {
      "byteLimit": 2048000,
      "rowLimit": 10000
     },
     "inputWidgets": {},
     "nuid": "f731f930-833f-485f-8588-99f187a30b90",
     "showTitle": false,
     "title": ""
    }
   },
   "source": [
    "##3.Reformat the RID and token, then join again:\n",
    "\n",
    "The lambda function inside map restructures each element of first_join. It changes the format from ('RID1', ('RID2', [('token1', position1), ...])) to ('RID2', ('RID1', [('token1', position1), ...])).\n",
    "\n",
    "so the final form will be this one: ('RID2', ('RID1', [positioned tokens of RID1])).\n",
    "\n",
    "In this step, we're performing a second join operation to bring together the positioned token data for both records in each candidate pair.\n"
   ]
  },
  {
   "cell_type": "markdown",
   "metadata": {
    "application/vnd.databricks.v1+cell": {
     "cellMetadata": {
      "byteLimit": 2048000,
      "rowLimit": 10000
     },
     "inputWidgets": {},
     "nuid": "b28ee46c-ecd9-4793-a38a-20fbd0a843fa",
     "showTitle": false,
     "title": ""
    }
   },
   "source": [
    "Then join this transformed RDD with positioned_rdd on RID2.\n",
    "\n",
    "This join operation combines the positioned tokens of RID1 (already in the transformed RDD) with the positioned tokens of RID2 (from positioned_rdd).\n",
    "\n",
    "Output Format:\n",
    "\n",
    "After the join, each element of second_join should have the following format:\n",
    "\n",
    "('RID2', (('RID1', [('token1_RID1', pos1_RID1), ...]), [('token1_RID2', pos1_RID2), ...])) - ('RID2', (('RID1', [positioned tokens of RID1]), [positioned tokens of RID2]))\n",
    "\n",
    "This means for each pair of record IDs (RID1 and RID2), we have now the positioned tokens of both RID1 and RID2."
   ]
  },
  {
   "cell_type": "markdown",
   "metadata": {
    "application/vnd.databricks.v1+cell": {
     "cellMetadata": {
      "byteLimit": 2048000,
      "rowLimit": 10000
     },
     "inputWidgets": {},
     "nuid": "12414c32-0909-441b-9e62-26552b878d6a",
     "showTitle": false,
     "title": ""
    }
   },
   "source": [
    "Example:\n",
    "    \n",
    "Key: RID2 ('7078')\n",
    "\n",
    "Value -> tuple consisting of:\n",
    "\n",
    "1a Part: a tuple (('RID1', [positioned tokens of RID1])) RID1 + list of (tokens,pos)\n",
    "\n",
    "2nd Part: ([positioned tokens of RID2]), list of positioned tokens associated with RID2"
   ]
  },
  {
   "cell_type": "code",
   "execution_count": 0,
   "metadata": {
    "application/vnd.databricks.v1+cell": {
     "cellMetadata": {
      "byteLimit": 2048000,
      "rowLimit": 10000
     },
     "inputWidgets": {},
     "nuid": "cfa777c3-29f6-4e89-8779-5ec1c90dbbc6",
     "showTitle": false,
     "title": ""
    }
   },
   "outputs": [
    {
     "output_type": "stream",
     "name": "stdout",
     "output_type": "stream",
     "text": [
      "Out[51]: [('7458',\n  (('2392',\n    [('190', 0),\n     ('avi', 1),\n     ('ent', 2),\n     ('tlo', 3),\n     ('cyc', 4),\n     ('esc', 5),\n     ('for', 6),\n     ('ore', 7),\n     ('000', 8),\n     ('075', 9),\n     ('300', 10),\n     ('591', 11),\n     ('dge', 12),\n     ('res', 13),\n     ('730', 14),\n     ('ier', 15),\n     ('936', 16),\n     ('adi', 17),\n     ('odg', 18),\n     ('nad', 19),\n     ('377', 20),\n     ('606', 21),\n     ('lod', 22),\n     ('007', 23),\n     ('ycr', 24),\n     ('071', 25),\n     ('719', 26),\n     ('xav', 27),\n     ('517', 28),\n     ('171', 29),\n     ('eon', 30),\n     ('est', 31),\n     ('037', 32),\n     ('cen', 33),\n     ('193', 34),\n     ('sce', 35),\n     ('755', 36),\n     ('773', 37),\n     ('vie', 38),\n     ('erc', 39),\n     ('cre', 40),\n     ('559', 41),\n     ('907', 42),\n     ('rcy', 43),\n     ('stl', 44),\n     ('ona', 45),\n     ('064', 46),\n     ('per', 47),\n     ('leo', 48)]),\n   [('arb', 0),\n    ('223', 1),\n    ('391', 2),\n    ('713', 3),\n    ('mor', 4),\n    ('ore', 5),\n    ('rin', 6),\n    ('dge', 7),\n    ('rco', 8),\n    ('530', 9),\n    ('775', 10),\n    ('the', 11),\n    ('253', 12),\n    ('cor', 13),\n    ('960', 14),\n    ('106', 15),\n    ('ord', 16),\n    ('239', 17),\n    ('sta', 18),\n    ('odg', 19),\n    ('lod', 20),\n    ('071', 21),\n    ('orn', 22),\n    ('rbo', 23),\n    ('bor', 24),\n    ('607', 25),\n    ('515', 26),\n    ('eri', 27),\n    ('anm', 28),\n    ('585', 29),\n    ('har', 30),\n    ('751', 31),\n    ('erc', 32),\n    ('pep', 33),\n    ('tan', 34),\n    ('063', 35),\n    ('epp', 36),\n    ('910', 37),\n    ('158', 38),\n    ('ppe', 39),\n    ('022', 40),\n    ('639', 41),\n    ('cat', 42),\n    ('ath', 43),\n    ('rnl', 44),\n    ('nlo', 45),\n    ('ine', 46),\n    ('per', 47),\n    ('996', 48),\n    ('199', 49),\n    ('her', 50),\n    ('nmo', 51)]))]"
     ]
    }
   ],
   "source": [
    "second_join = first_join.map(lambda kv: (kv[1][0], (kv[0], kv[1][1]))).join(positioned_rdd)\n",
    "\n",
    "second_join.take(1)"
   ]
  },
  {
   "cell_type": "markdown",
   "metadata": {
    "application/vnd.databricks.v1+cell": {
     "cellMetadata": {
      "byteLimit": 2048000,
      "rowLimit": 10000
     },
     "inputWidgets": {},
     "nuid": "020b4620-980a-4e1d-b563-b8204ff1ce2a",
     "showTitle": false,
     "title": ""
    }
   },
   "source": [
    "#### For debugging pourpose - test to check the correct structure of join - chance to pythoncode\n",
    "\n",
    "for i, record in positioned_rdd.collect():\n",
    "    if i=='1059':\n",
    "        print(f\"{record} \\n\")\n",
    "    if i=='7078':\n",
    "        print(f\"{record} \\n\")"
   ]
  },
  {
   "cell_type": "markdown",
   "metadata": {
    "application/vnd.databricks.v1+cell": {
     "cellMetadata": {
      "byteLimit": 2048000,
      "rowLimit": 10000
     },
     "inputWidgets": {},
     "nuid": "414b7edc-be94-45fc-bb42-014c18ef094b",
     "showTitle": false,
     "title": ""
    }
   },
   "source": [
    "Comparing Tokens and Positions:\n",
    "\n",
    "This step is crucial for positional filtering because it aligns the positioned tokens of both records in each candidate pair.Both lists have tokens and their respective positions in the records. \n",
    "\n",
    "Now, we can filter pairs where the token positions in both records are close enough based on a threshold."
   ]
  },
  {
   "cell_type": "markdown",
   "metadata": {
    "application/vnd.databricks.v1+cell": {
     "cellMetadata": {
      "byteLimit": 2048000,
      "rowLimit": 10000
     },
     "inputWidgets": {},
     "nuid": "ce613ae1-f4e3-4f8c-a3db-1f0e4cc9326a",
     "showTitle": false,
     "title": ""
    }
   },
   "source": [
    "##4.Filter out the pairs of records that doesn't satisfy the positional constraint."
   ]
  },
  {
   "cell_type": "markdown",
   "metadata": {
    "application/vnd.databricks.v1+cell": {
     "cellMetadata": {
      "byteLimit": 2048000,
      "rowLimit": 10000
     },
     "inputWidgets": {},
     "nuid": "7c2589d9-65be-42be-a16e-86373fd3b403",
     "showTitle": false,
     "title": ""
    }
   },
   "source": [
    "Threshold Interpretation\n",
    "\n",
    "The similarity_threshold represents the robustness of the similarity requirement. A higher threshold requires more evidence of similarity (more matching tokens), making it stricter.\n",
    "\n",
    "A lower threshold is more lenient, requiring fewer matching tokens to consider two records as similar.\n",
    "\n",
    "The max_positional_difference accounts for variations in the token positions between the records. It defines how closely the positions must align for a token to be considered common."
   ]
  },
  {
   "cell_type": "markdown",
   "metadata": {
    "application/vnd.databricks.v1+cell": {
     "cellMetadata": {
      "byteLimit": 2048000,
      "rowLimit": 10000
     },
     "inputWidgets": {},
     "nuid": "dd2f5b2e-ac5b-409f-8d59-4bb253953028",
     "showTitle": false,
     "title": ""
    }
   },
   "source": [
    "Logic of filter:\n",
    "\n",
    "similarity_threshold is the minimum number of common tokens that two records must have to be considered similar.\n",
    "\n",
    "max_positional_difference is the maximum distance allowed between the positions of the same token in the two records.\n",
    "\n",
    "rec1_tokens contains the positioned tokens from the first record (RID1), and rec2_tokens_dict is a dictionary that is used to lookups of the positions of tokens from the second record (RID2).\n",
    "\n",
    "common_tokens counter is initialized to zero and will keep track of how many token matches have been found between the two records.\n",
    "\n",
    "possible_common_tokens starts as the minimum length of the two token lists (since that's the maximum possible matches) and decrements as we iterate through the tokens of RID1, because there's one less token to potentially match with.\n",
    "\n",
    "For each token in rec1_tokens, the function looks up the position of the same token in rec2_positions. If the token exists in both records and the absolute difference in their positions is less than or equal to max_positional_difference, it is counted as a common token (common_tokens + 1)\n",
    "\n",
    "After each token comparison, the function checks if it's still possible to meet the similarity_threshold.\n",
    "It does this by adding common_tokens and possible_common_tokens. If their sum is less than similarity_threshold, the function concludes that the records can't be similar and returns False.\n",
    "This check allows the function to stop early if it's already impossible for the pair to meet the similarity criteria, saving unnecessary computation.\n",
    "\n",
    "If the loop completes without triggering the early stopping rule, the function checks if the number of common_tokens found meets or exceeds the similarity_threshold.\n",
    "If it does, the function returns True, indicating that the records are similar. Otherwise, it returns False.\n"
   ]
  },
  {
   "cell_type": "code",
   "execution_count": 0,
   "metadata": {
    "application/vnd.databricks.v1+cell": {
     "cellMetadata": {
      "byteLimit": 2048000,
      "rowLimit": 10000
     },
     "inputWidgets": {},
     "nuid": "c8639ec8-6a41-4ccb-ba5d-45352ed90281",
     "showTitle": false,
     "title": ""
    }
   },
   "outputs": [
    {
     "output_type": "stream",
     "name": "stdout",
     "output_type": "stream",
     "text": [
      "Out[52]: [('2990',\n  (('714',\n    [('188', 0),\n     ('ill', 1),\n     ('197', 2),\n     ('jad', 3),\n     ('ahi', 4),\n     ('975', 5),\n     ('750', 6),\n     ('rah', 7),\n     ('225', 8),\n     ('erb', 9),\n     ('031', 10),\n     ('der', 11),\n     ('805', 12),\n     ('ade', 13),\n     ('ter', 14),\n     ('par', 15),\n     ('buc', 16),\n     ('lls', 17),\n     ('880', 18),\n     ('goy', 19),\n     ('clu', 20),\n     ('eet', 21),\n     ('852', 22),\n     ('258', 23),\n     ('rst', 24),\n     ('rbu', 25),\n     ('oyd', 26),\n     ('utt', 27),\n     ('680', 28),\n     ('522', 29),\n     ('090', 30),\n     ('509', 31),\n     ('ara', 32),\n     ('ree', 33),\n     ('275', 34),\n     ('tre', 35),\n     ('tte', 36),\n     ('885', 37),\n     ('yde', 38),\n     ('lut', 39),\n     ('568', 40),\n     ('ers', 41),\n     ('hil', 42),\n     ('056', 43),\n     ('901', 44),\n     ('vic', 45),\n     ('str', 46),\n     ('uck', 47),\n     ('318', 48)]),\n   [('464', 0),\n    ('647', 1),\n    ('uci', 2),\n    ('608', 3),\n    ('ars', 4),\n    ('erb', 5),\n    ('nsw', 6),\n    ('ear', 7),\n    ('ter', 8),\n    ('550', 9),\n    ('523', 10),\n    ('mol', 11),\n    ('buc', 12),\n    ('311', 13),\n    ('215', 14),\n    ('clu', 15),\n    ('eet', 16),\n    ('852', 17),\n    ('tlu', 18),\n    ('631', 19),\n    ('oll', 20),\n    ('rst', 21),\n    ('196', 22),\n    ('046', 23),\n    ('lly', 24),\n    ('rbu', 25),\n    ('260', 26),\n    ('utt', 27),\n    ('455', 28),\n    ('lea', 29),\n    ('cle', 30),\n    ('ree', 31),\n    ('112', 32),\n    ('cia', 33),\n    ('tre', 34),\n    ('tte', 35),\n    ('745', 36),\n    ('085', 37),\n    ('lut', 38),\n    ('155', 39),\n    ('074', 40),\n    ('504', 41),\n    ('963', 42),\n    ('stl', 43),\n    ('129', 44),\n    ('luc', 45),\n    ('str', 46),\n    ('uck', 47)]))]"
     ]
    }
   ],
   "source": [
    "# parametrisations of position filter\n",
    "similarity_threshold = 10  # Number of min. common tokens required for a pair to be considered similar\n",
    "max_positional_difference = 10  # Maximum allowed positional difference between tokens\n",
    "\n",
    "def positional_filter_optimized(pair, similarity_threshold, max_positional_difference):\n",
    "    RID2, ((RID1, rec1_tokens), rec2_tokens_dict) = pair\n",
    "    \n",
    "    # Initialize counters\n",
    "    common_tokens = 0\n",
    "    \n",
    "    # Create a dictionary for the second record for fast lookups\n",
    "    rec2_positions = {token: pos for token, pos in rec2_tokens_dict}\n",
    "\n",
    "    # Calculate the maximum possible common tokens at the beginning\n",
    "    possible_common_tokens = min(len(rec1_tokens), len(rec2_tokens_dict))\n",
    "    \n",
    "    # Iterate through the positioned tokens of the first record (the prefix)\n",
    "    for token, pos1 in rec1_tokens:\n",
    "        # Decrement possible common tokens as we advance\n",
    "        possible_common_tokens -= 1\n",
    "        \n",
    "        pos2 = rec2_positions.get(token)\n",
    "        if pos2 is not None and abs(pos1 - pos2) <= max_positional_difference:\n",
    "            common_tokens += 1\n",
    "        \n",
    "        # Apply early stopping rule based on the similarity threshold\n",
    "        if common_tokens + possible_common_tokens < similarity_threshold:\n",
    "            return False\n",
    "\n",
    "    # If we complete the loop without returning False, the pair is similar\n",
    "    return common_tokens >= similarity_threshold\n",
    "\n",
    "\n",
    "# Apply the filter to the second join RDD\n",
    "filtered_positional_rdd = second_join.filter(lambda pair: positional_filter_optimized(pair, similarity_threshold, max_positional_difference))\n",
    "\n",
    "# sample for debugging\n",
    "filtered_positional_rdd.take(1)\n"
   ]
  },
  {
   "cell_type": "markdown",
   "metadata": {
    "application/vnd.databricks.v1+cell": {
     "cellMetadata": {
      "byteLimit": 2048000,
      "rowLimit": 10000
     },
     "inputWidgets": {},
     "nuid": "12d18ff3-4156-4237-855f-4fffc7e79f9d",
     "showTitle": false,
     "title": ""
    }
   },
   "source": [
    "##5.Extract Candidate Pairs"
   ]
  },
  {
   "cell_type": "markdown",
   "metadata": {
    "application/vnd.databricks.v1+cell": {
     "cellMetadata": {
      "byteLimit": 2048000,
      "rowLimit": 10000
     },
     "inputWidgets": {},
     "nuid": "292c92df-2ab1-447e-b5eb-6b3eba126729",
     "showTitle": false,
     "title": ""
    }
   },
   "source": [
    "The goal now is to convert the nested structure of filtered_positional_rdd into a simpler structure: (recordID_A, recordID_B), where recordID_A and recordID_B are the IDs of the two records that passed the positional filtering.\n",
    "\n",
    "Here's how we achieve this:\n",
    "Map to Candidate Pair RDD: Extract just the RIDs for each pair.. then we also sorted the pairs"
   ]
  },
  {
   "cell_type": "code",
   "execution_count": 0,
   "metadata": {
    "application/vnd.databricks.v1+cell": {
     "cellMetadata": {
      "byteLimit": 2048000,
      "rowLimit": 10000
     },
     "inputWidgets": {},
     "nuid": "221a75d7-835a-44f1-a8db-f2e0ce2c83f5",
     "showTitle": false,
     "title": ""
    }
   },
   "outputs": [
    {
     "output_type": "stream",
     "name": "stdout",
     "output_type": "stream",
     "text": [
      "Candidate pairs after positional filtering: 102561 \n\nCandidate pairs removed by positional filter: 1280186 \n\nSample of candidate_pairs: [('2990', '714'), ('2990', '714'), ('2990', '714'), ('2990', '714'), ('2990', '714')] \n\nTime of position filtering execution: 74.72627449035645\n"
     ]
    }
   ],
   "source": [
    "# Extracting candidate pairs and sorting\n",
    "candidate_pairs_rdd = filtered_positional_rdd.map(lambda x: (x[1][0][0], x[0]))\n",
    "candidate_pairs_final_rdd = candidate_pairs_rdd.map(lambda x: tuple(sorted(x)))\n",
    "\n",
    "# Caching the RDD\n",
    "candidate_pairs_final_rdd = candidate_pairs_final_rdd.cache()\n",
    "\n",
    "# Counting the candidate pairs\n",
    "candidate_pairs_final_count = candidate_pairs_final_rdd.count()\n",
    "\n",
    "print(\"Candidate pairs after positional filtering:\", candidate_pairs_final_count, \"\\n\")\n",
    "print(\"Candidate pairs removed by positional filter:\", pairs_after_lenght_rdd_count - candidate_pairs_final_count, \"\\n\")\n",
    "print(\"Sample of candidate_pairs:\", candidate_pairs_final_rdd.take(5), \"\\n\")\n",
    "\n",
    "# stopping measuring time for position filtering\n",
    "time_of_position_filtering = time.time() - starting_position_filtering\n",
    "print(f\"Time of position filtering execution: {time_of_position_filtering}\")\n"
   ]
  },
  {
   "cell_type": "markdown",
   "metadata": {
    "application/vnd.databricks.v1+cell": {
     "cellMetadata": {
      "byteLimit": 2048000,
      "rowLimit": 10000
     },
     "inputWidgets": {},
     "nuid": "7261020b-1daf-4984-af38-afdc1d629d53",
     "showTitle": false,
     "title": ""
    }
   },
   "source": [
    "#### Debugging  for check a specific RID - chanche to pythoncode to use it\n",
    "\n",
    "#### Filtering for a specific record ID '10001'\n",
    "specific_record_id = '10001'\n",
    "\n",
    "specific_pairs_rdd = candidate_pairs_final_rdd.filter(lambda x: specific_record_id in x)\n",
    "\n",
    "#### Counting and taking a sample of specific pairs\n",
    "specific_pair_sample = specific_pairs_rdd.take(5)\n",
    "\n",
    "#### print a specific sample\n",
    "for element in specific_pair_sample:\n",
    "\n",
    "    record1, record2 = element\n",
    "    \n",
    "    print(element)"
   ]
  },
  {
   "cell_type": "markdown",
   "metadata": {
    "application/vnd.databricks.v1+cell": {
     "cellMetadata": {
      "byteLimit": 2048000,
      "rowLimit": 10000
     },
     "inputWidgets": {},
     "nuid": "72f9e5a8-807f-405a-a634-5c2bb926fe2f",
     "showTitle": false,
     "title": ""
    }
   },
   "source": [
    "##DUPLICATE REMOVALS (optional) - avoided for computational cost\n",
    "\n",
    "This function ensures that the pairs of RIDs are ordered consistently.\n",
    "\n",
    "It takes a tuple (RID1, RID2) and checks which RID is smaller. It then returns the pair in sorted order (smaller RID, larger RID)."
   ]
  },
  {
   "cell_type": "code",
   "execution_count": 0,
   "metadata": {
    "application/vnd.databricks.v1+cell": {
     "cellMetadata": {
      "byteLimit": 2048000,
      "rowLimit": 10000
     },
     "inputWidgets": {},
     "nuid": "4da77b4e-7c7a-4c65-85c1-5c5d4041a4e8",
     "showTitle": false,
     "title": ""
    }
   },
   "outputs": [
    {
     "output_type": "stream",
     "name": "stdout",
     "output_type": "stream",
     "text": [
      "Out[54]: [('2990', '714'),\n ('2990', '714'),\n ('2990', '714'),\n ('2990', '714'),\n ('2990', '714')]"
     ]
    }
   ],
   "source": [
    "# starting measuring time for deduplication\n",
    "starting_time_of_deduplication = time.time()\n",
    "\n",
    "def order_rids(pair):\n",
    "    RID1, RID2 = pair\n",
    "    return (RID1, RID2) if RID1 < RID2 else (RID2, RID1)\n",
    "\n",
    "candidate_pairs_ordered_rdd = candidate_pairs_final_rdd.map(order_rids) #Uncomment to execute the deduplication\n",
    "\n",
    "# print sample\n",
    "candidate_pairs_ordered_rdd.take(5)"
   ]
  },
  {
   "cell_type": "markdown",
   "metadata": {
    "application/vnd.databricks.v1+cell": {
     "cellMetadata": {
      "byteLimit": 2048000,
      "rowLimit": 10000
     },
     "inputWidgets": {},
     "nuid": "641fcb52-a729-48bf-8a3d-3b6e2683e05f",
     "showTitle": false,
     "title": ""
    }
   },
   "source": [
    "it's possible, especially in distributed systems like Spark, that we might have multiple identical candidate pairs being evaluated more than once\n",
    "\n",
    "It removes duplicate pairs, ensuring that each pair of record IDs (RIDs) appears only once in distinct_candidate_pairs_rdd.\n",
    "\n",
    "This way, (A, B) and (B, A) are considered the same because they both become (A, B).\n",
    "\n",
    "Efficiency: By removing duplicates, we reduce the dataset size, which can lead to performance improvements in subsequent processing steps."
   ]
  },
  {
   "cell_type": "code",
   "execution_count": 0,
   "metadata": {
    "application/vnd.databricks.v1+cell": {
     "cellMetadata": {
      "byteLimit": 2048000,
      "rowLimit": 10000
     },
     "inputWidgets": {},
     "nuid": "8f0bbc96-c2d4-472b-bca8-7b9919e68c56",
     "showTitle": false,
     "title": ""
    }
   },
   "outputs": [
    {
     "output_type": "stream",
     "name": "stdout",
     "output_type": "stream",
     "text": [
      "('2478', '9672')\n('5188', '7333')\n('3490', '4810')\n('4923', '5884')\n('5171', '5625')\n\n Number of candidate pairs after removing the duplicate:  37646 \n\nCandidate Pairs removed: 64915 \n\nTime of deduplication filtering execution: 1.4652369022369385\n"
     ]
    }
   ],
   "source": [
    "# take only the \"unique\" candidate pair\n",
    "distinct_candidate_pairs_rdd = candidate_pairs_ordered_rdd.distinct() #Uncomment to do the deduplication\n",
    "\n",
    "# print sample\n",
    "for record in distinct_candidate_pairs_rdd.take(5):\n",
    "    print(record)\n",
    "\n",
    "distinct_candidate_pairs_rdd_count = distinct_candidate_pairs_rdd.count()\n",
    "\n",
    "print(\"\\n Number of candidate pairs after removing the duplicate: \", distinct_candidate_pairs_rdd_count,\"\\n\")\n",
    "print(\"Candidate Pairs removed:\", candidate_pairs_final_count - distinct_candidate_pairs_rdd_count,\"\\n\")\n",
    "\n",
    "# stopping measuring time for deduplication\n",
    "\n",
    "time_of_deduplication = time.time() - starting_time_of_deduplication\n",
    "print(f\"Time of deduplication filtering execution: {time_of_deduplication}\")"
   ]
  },
  {
   "cell_type": "markdown",
   "metadata": {
    "application/vnd.databricks.v1+cell": {
     "cellMetadata": {
      "byteLimit": 2048000,
      "rowLimit": 10000
     },
     "inputWidgets": {},
     "nuid": "cb7e345a-a12b-4f63-a6ed-6479f3a56672",
     "showTitle": false,
     "title": ""
    }
   },
   "source": [
    "After running this, candidate_pairs_ordered_rdd have the structure (recordID_A, recordID_B), where each pair is a candidate for having a Jaccard similarity above the threshold.\n",
    "\n",
    "Once you have this RDD, you can easily compute the Jaccard similarity for each pair, as you will only have to deal with their IDs and can use these to retrieve and compare their token sets."
   ]
  },
  {
   "cell_type": "markdown",
   "metadata": {
    "application/vnd.databricks.v1+cell": {
     "cellMetadata": {
      "byteLimit": 2048000,
      "rowLimit": 10000
     },
     "inputWidgets": {},
     "nuid": "17d6b6b0-0797-4baa-a11c-2a44f2a97378",
     "showTitle": false,
     "title": ""
    }
   },
   "source": [
    "#APPLY JACCARD SIMILARITY FUNCTION "
   ]
  },
  {
   "cell_type": "markdown",
   "metadata": {
    "application/vnd.databricks.v1+cell": {
     "cellMetadata": {
      "byteLimit": 2048000,
      "rowLimit": 10000
     },
     "inputWidgets": {},
     "nuid": "4a572028-cba6-4134-88dc-e2ebe59fe029",
     "showTitle": false,
     "title": ""
    }
   },
   "source": [
    "Now you have a list of candidate pairs of records. For each of these pairs, you can compute the Jaccard similarity using their token sets. This will allow you to filter out those pairs whose Jaccard similarity is below your desired threshold.\n",
    "\n",
    "The next steps would involve:\n",
    "\n",
    "Join with the Tokenized RDD: For each candidate pair (A, B), you need to retrieve the original token sets for both A and B. You'll join the distinct_candidate_pairs_rdd with the tokenized_rdd to achieve this.\n",
    "\n",
    "Compute Jaccard Similarity: Once you have both token sets for each candidate pair, compute their Jaccard similarity.\n",
    "\n",
    "Filter by Threshold: Keep only those pairs whose Jaccard similarity is above the threshold."
   ]
  },
  {
   "cell_type": "markdown",
   "metadata": {
    "application/vnd.databricks.v1+cell": {
     "cellMetadata": {
      "byteLimit": 2048000,
      "rowLimit": 10000
     },
     "inputWidgets": {},
     "nuid": "50dc058c-0a4a-429f-9362-e8321571d5ca",
     "showTitle": false,
     "title": ""
    }
   },
   "source": [
    "##1. Join with the Tokenized RDD:\n",
    "\n",
    "The goal here is to retrieve the full set of tokens for each record in our candidate pairs.\n"
   ]
  },
  {
   "cell_type": "markdown",
   "metadata": {
    "application/vnd.databricks.v1+cell": {
     "cellMetadata": {
      "byteLimit": 2048000,
      "rowLimit": 10000
     },
     "inputWidgets": {},
     "nuid": "605812fa-61cf-46e5-b526-9be9f4678109",
     "showTitle": false,
     "title": ""
    }
   },
   "source": [
    "Mapping Pairs to Tokens:\n",
    "\n",
    "distinct_candidate_pairs_rdd is mapped to include the record ID (x[0]) as a key and the pair itself (x) as a value.\n",
    "You join this RDD with tokenized_rdd to bring in the tokens for the first record in each pair.\n",
    "Joining Tokens with Pairs:\n",
    "\n",
    "You then map the result to restructure it, using the second record ID in the pair as the key for another join with tokenized_rdd to bring in the tokens for the second record.\n",
    "\n",
    "Final Pairing:\n",
    "After the second join, you map over the result to create a final structure where each element is a tuple of:\n",
    "A pair of record IDs: (record1, record2)\n",
    "Corresponding tokens for each record: (tokens1, tokens2)"
   ]
  },
  {
   "cell_type": "code",
   "execution_count": 0,
   "metadata": {
    "application/vnd.databricks.v1+cell": {
     "cellMetadata": {
      "byteLimit": 2048000,
      "rowLimit": 10000
     },
     "inputWidgets": {},
     "nuid": "7a10e76a-ad38-4844-9bba-a5efdd5e1f3d",
     "showTitle": false,
     "title": ""
    }
   },
   "outputs": [
    {
     "output_type": "stream",
     "name": "stdout",
     "output_type": "stream",
     "text": [
      "[(('3722', '4520'), ({'ton', 'enj', '675', '650', 'ngt', 'rcu', '996', 'pad', '759', 'cus', 'eet', '032', 'min', '629', '196', '308', 'ami', '965', '052', 'nja', 'est', '206', 'ark', '320', 'les', '935', 'cla', 'kes', '520', 'mil', 'ree', 'mar', 'arc', 'ben', 'tre', 'lar', '067', 'add', 'usc', 'ing', 'din', 'jam', '085', '299', '593', '611', 'ddi', '961', '505', 'scl', 'rke', 'gto', 'str', 'ile'}, {'ton', '190', '691', '110', '069', '198', 'ngt', 'nst', '672', 'rin', '748', 'qld', 'cul', 'ego', 'pid', 'lbu', 'eac', 'eet', 'gon', 'rab', 'bea', '065', '908', '811', 'abe', 'nin', '651', 'urr', 'rra', '890', 'eri', 'ree', '722', 'ulb', 'tre', '981', '101', 'bur', 'ach', '906', 'ing', '013', '519', 'din', 'idd', 'ons', 'ddi', 'oni', '480', 'reg', '089', 'gto', 'str', '806'}))]\n"
     ]
    }
   ],
   "source": [
    "# starting measuring time for jaccard and grand-trouth loading\n",
    "starting_time_of_final_op = time.time()\n",
    "\n",
    "# This results in an RDD where each entry is ((record1, record2), (tokens1, tokens2))\n",
    "paired_tokens_rdd = distinct_candidate_pairs_rdd.map(lambda x: (x[0], x)).join(tokenized_rdd).map(lambda x: (x[1][0][1], x[1])).join(tokenized_rdd).map(lambda x: ((x[1][0][0][0], x[0]), (x[1][0][1], x[1][1])))\n",
    "\n",
    "paired_tokens_rdd = paired_tokens_rdd.cache()\n",
    "\n",
    "print(paired_tokens_rdd.take(1))"
   ]
  },
  {
   "cell_type": "markdown",
   "metadata": {
    "application/vnd.databricks.v1+cell": {
     "cellMetadata": {
      "byteLimit": 2048000,
      "rowLimit": 10000
     },
     "inputWidgets": {},
     "nuid": "c9b812b8-4472-49d0-8707-f0ceef22db28",
     "showTitle": false,
     "title": ""
    }
   },
   "source": [
    "The output is an RDD where each entry has the structure ((record1, record2), (tokens1, tokens2)), which we can use to compute the Jaccard Similarity."
   ]
  },
  {
   "cell_type": "markdown",
   "metadata": {
    "application/vnd.databricks.v1+cell": {
     "cellMetadata": {
      "byteLimit": 2048000,
      "rowLimit": 10000
     },
     "inputWidgets": {},
     "nuid": "8f24bb17-d4a9-4581-816e-e8e1b34603d2",
     "showTitle": false,
     "title": ""
    }
   },
   "source": [
    "##2. Compute Jaccard Similarity:\n",
    "We will now compute the Jaccard similarity for each pair using the formula:\n",
    "Jaccard(A,B)= ∣A∪B∣/∣A∩B∣\n",
    "​\n"
   ]
  },
  {
   "cell_type": "code",
   "execution_count": 0,
   "metadata": {
    "application/vnd.databricks.v1+cell": {
     "cellMetadata": {
      "byteLimit": 2048000,
      "rowLimit": 10000
     },
     "inputWidgets": {},
     "nuid": "ad8901e0-92cd-4485-b033-638bae2d4844",
     "showTitle": false,
     "title": ""
    }
   },
   "outputs": [
    {
     "output_type": "stream",
     "name": "stdout",
     "output_type": "stream",
     "text": [
      "[(('3722', '4520'), 0.10204081632653061)] \n\n"
     ]
    }
   ],
   "source": [
    "def jaccard_similarity(set_a, set_b):\n",
    "    \"\"\"Calculate the Jaccard Similarity between two sets\n",
    "    \n",
    "    Args:\n",
    "    set_a (set): The first set.\n",
    "    set_b (set): The second set.\n",
    "    \n",
    "    Returns:\n",
    "    float: The Jaccard Similarity between the two sets.\n",
    "    \"\"\"\n",
    "    intersection = len(set_a.intersection(set_b))\n",
    "    union = len(set_a.union(set_b))\n",
    "    \n",
    "    # Avoid division by zero\n",
    "    if union == 0:\n",
    "        return 0.0\n",
    "    \n",
    "    return intersection / union\n",
    "\n",
    "# Computing Jaccard Similarity for each pair\n",
    "jaccard_rdd = paired_tokens_rdd.map(lambda x: (x[0], jaccard_similarity(x[1][0], x[1][1])))\n",
    "jaccard_rdd = jaccard_rdd.cache()\n",
    "\n",
    "# Sample for debugging or inspection\n",
    "print(jaccard_rdd.take(1), \"\\n\")"
   ]
  },
  {
   "cell_type": "markdown",
   "metadata": {
    "application/vnd.databricks.v1+cell": {
     "cellMetadata": {
      "byteLimit": 2048000,
      "rowLimit": 10000
     },
     "inputWidgets": {},
     "nuid": "828b08b4-f82e-4473-baa3-8d8ae4b5881f",
     "showTitle": false,
     "title": ""
    }
   },
   "source": [
    "\n",
    "#### Debugging if we want to inspect a specific RID - change to pythoncode to use it\n",
    "\n",
    "#### Define the specific record ID\n",
    "specific_record_id = '10001'\n",
    "\n",
    "#### Filtering for the specific record ID and collecting the results\n",
    "specific_jaccard_rdd = jaccard_rdd.filter(lambda x: specific_record_id in x[0])\n",
    "\n",
    "specific_jaccard_sample = specific_jaccard_rdd.take(50)  # Take a small sample instead of collecting all\n",
    "\n",
    "#### Print the results for the specific record ID\n",
    "for records, similarity in specific_jaccard_sample:\n",
    "\n",
    "    print(f\"Records: {records[0]}, {records[1]} | Similarity: {similarity}\")"
   ]
  },
  {
   "cell_type": "markdown",
   "metadata": {
    "application/vnd.databricks.v1+cell": {
     "cellMetadata": {
      "byteLimit": 2048000,
      "rowLimit": 10000
     },
     "inputWidgets": {},
     "nuid": "9df56eb4-6e4a-49ef-b597-9bb70208c4e5",
     "showTitle": false,
     "title": ""
    }
   },
   "source": [
    "##3. Filter by Threshold:\n",
    "Assuming you want to keep pairs with a Jaccard similarity of at least 0.7:"
   ]
  },
  {
   "cell_type": "markdown",
   "metadata": {
    "application/vnd.databricks.v1+cell": {
     "cellMetadata": {
      "byteLimit": 2048000,
      "rowLimit": 10000
     },
     "inputWidgets": {},
     "nuid": "13f72d13-0c29-4e38-b312-15cd7307ddab",
     "showTitle": false,
     "title": ""
    }
   },
   "source": [
    "\n",
    "#### just for debug\n",
    "\n",
    "threshold = 0.7\n",
    "\n",
    "filtered_jaccard_rdd = jaccard_rdd.filter(lambda x: x[1] >= threshold)\n",
    "\n",
    "filtered_jaccard_rdd = filtered_jaccard_rdd.cache()\n",
    "\n",
    "print(f\"Sample of pairs with Jaccard sim >= {threshold}:\",filtered_jaccard_rdd.take(5), \"\\n\")\n",
    "\n",
    "print(f\"Number of pairs with Jaccard sim >= {threshold}:\",filtered_jaccard_rdd.count(), \"\\n\")"
   ]
  },
  {
   "cell_type": "markdown",
   "metadata": {
    "application/vnd.databricks.v1+cell": {
     "cellMetadata": {
      "byteLimit": 2048000,
      "rowLimit": 10000
     },
     "inputWidgets": {},
     "nuid": "4ded54fc-20ea-48a6-9a1b-9bbeeef82dec",
     "showTitle": false,
     "title": ""
    }
   },
   "source": [
    "\n",
    "#### Debugging for specific RID\n",
    "\n",
    "\n",
    "#### Define the specific record ID\n",
    "specific_record_id = '10001'\n",
    "\n",
    "#### Filtering for the specific record ID within the filtered Jaccard RDD\n",
    "specific_jaccard_rdd = filtered_jaccard_rdd.filter(lambda x: specific_record_id in x[0])\n",
    "\n",
    "#### Taking a sample of specific pairs\n",
    "specific_pair_sample = specific_jaccard_rdd.take(5)\n",
    "\n",
    "#### Print the results for the specific record ID\n",
    "for records, similarity in specific_pair_sample:\n",
    "\n",
    "    print(f\"Records: {records[0]}, {records[1]} | Similarity: {similarity}\")"
   ]
  },
  {
   "cell_type": "markdown",
   "metadata": {
    "application/vnd.databricks.v1+cell": {
     "cellMetadata": {
      "byteLimit": 2048000,
      "rowLimit": 10000
     },
     "inputWidgets": {},
     "nuid": "76c32a87-0dcd-44f7-be27-aab595e6bd05",
     "showTitle": false,
     "title": ""
    }
   },
   "source": [
    "eventually show all pairs\n",
    "\n",
    "filtered_jaccard_rdd.collect()"
   ]
  },
  {
   "cell_type": "markdown",
   "metadata": {
    "application/vnd.databricks.v1+cell": {
     "cellMetadata": {
      "byteLimit": 2048000,
      "rowLimit": 10000
     },
     "inputWidgets": {},
     "nuid": "d8574487-573d-4b4a-8a28-651affb1ca73",
     "showTitle": false,
     "title": ""
    }
   },
   "source": [
    "# Results"
   ]
  },
  {
   "cell_type": "markdown",
   "metadata": {
    "application/vnd.databricks.v1+cell": {
     "cellMetadata": {
      "byteLimit": 2048000,
      "rowLimit": 10000
     },
     "inputWidgets": {},
     "nuid": "dabcb919-3768-4e45-aaed-c83a12ca38ea",
     "showTitle": false,
     "title": ""
    }
   },
   "source": [
    "## 1. Load Ground Truth Data"
   ]
  },
  {
   "cell_type": "markdown",
   "metadata": {
    "application/vnd.databricks.v1+cell": {
     "cellMetadata": {
      "byteLimit": 2048000,
      "rowLimit": 10000
     },
     "inputWidgets": {},
     "nuid": "764aa90f-0af5-410e-8e03-46baa05494e1",
     "showTitle": false,
     "title": ""
    }
   },
   "source": [
    "Loaded the JSON file into a DataFrame, converted it to an RDD, and then mapped it to a tuple format that pairs each d1Id with its corresponding d2Id.\n",
    "\n",
    "The output shows a small sample of the ground truth pairs, indicating that the data is being processed as expected."
   ]
  },
  {
   "cell_type": "code",
   "execution_count": 0,
   "metadata": {
    "application/vnd.databricks.v1+cell": {
     "cellMetadata": {
      "byteLimit": 2048000,
      "rowLimit": 10000
     },
     "inputWidgets": {},
     "nuid": "c9a849c0-d02c-4de6-8f63-2f2d110b6c34",
     "showTitle": false,
     "title": ""
    }
   },
   "outputs": [
    {
     "output_type": "stream",
     "name": "stdout",
     "output_type": "stream",
     "text": [
      "('101', '8933')\n('4101', '4614')\n('7213', '8466')\n('4856', '7485')\n('4829', '9725')\n\n Time of final operations execution: 5.989480495452881\n"
     ]
    }
   ],
   "source": [
    "def load_ground_truth(json_file_path):\n",
    "    \"\"\"\n",
    "    Load ground truth data from a JSON file and convert it into an RDD of pairs.\n",
    "\n",
    "    Parameters:\n",
    "    - json_file_path: Path to the JSON file containing the ground truth data.\n",
    "\n",
    "    Returns:\n",
    "    - An RDD containing pairs of duplicate record IDs (d1Id, d2Id) from the ground truth.\n",
    "    \"\"\"\n",
    "    # Use Spark's DataFrame API to read the JSON file\n",
    "    ground_truth_df = spark.read.json(json_file_path)\n",
    "\n",
    "    # Convert the DataFrame to an RDD\n",
    "    # Each row in the DataFrame is expected to have 'd1Id' and 'd2Id' fields\n",
    "    # The RDD is mapped to a pair format (d1Id, d2Id) representing duplicates\n",
    "    ground_truth_rdd = ground_truth_df.rdd.map(lambda row: (row.d1Id, row.d2Id))\n",
    "\n",
    "    return ground_truth_rdd\n",
    "\n",
    "\n",
    "# Load ground truth data and convert to set\n",
    "ground_truth_rdd = load_ground_truth(ground_truth_path)\n",
    "\n",
    "for pairs in ground_truth_rdd.take(5):\n",
    "    print(pairs)\n",
    "\n",
    "\n",
    "# stopping measuring time for jaccard and grand-trouth loading\n",
    "\n",
    "time_of_final_op = time.time() - starting_time_of_final_op\n",
    "print(f\"\\n Time of final operations execution: {time_of_final_op}\")"
   ]
  },
  {
   "cell_type": "markdown",
   "metadata": {
    "application/vnd.databricks.v1+cell": {
     "cellMetadata": {
      "byteLimit": 2048000,
      "rowLimit": 10000
     },
     "inputWidgets": {},
     "nuid": "820f82b3-7827-4876-9f8c-b87b6ac0e4ae",
     "showTitle": false,
     "title": ""
    }
   },
   "source": [
    "##2.Plot the Results"
   ]
  },
  {
   "cell_type": "markdown",
   "metadata": {
    "application/vnd.databricks.v1+cell": {
     "cellMetadata": {
      "byteLimit": 2048000,
      "rowLimit": 10000
     },
     "inputWidgets": {},
     "nuid": "646b8615-7338-4ff0-aad2-abac2f152e6e",
     "showTitle": false,
     "title": ""
    }
   },
   "source": [
    "\n",
    "1. Calculate Jaccard Similarities: we created an RDD of paired tokens and applied a Jaccard similarity function to each pair. This is stored in jaccard_rdd.\n",
    "\n",
    "2. Filter by Thresholds: for a range of thresholds, we filter jaccard_rdd to retain only those pairs with a similarity above the threshold.\n",
    "\n",
    "3. Evaluate Against Ground Truth: we have a ground truth dataset, which we've loaded into ground_truth_rdd. Then we compare filtered pairs against this ground truth to determine precision and recall.\n",
    "\n",
    "4. Measure Execution Time: for each threshold, we measure the time it takes to perform the filtering and evaluation and then we add this time to the base_time_of_pipeline that measure the time passed from the starting of the operations\n",
    "\n",
    "5. Plot the Results: finally we plot precision, recall, and execution time against the different threshold values."
   ]
  },
  {
   "cell_type": "code",
   "execution_count": 0,
   "metadata": {
    "application/vnd.databricks.v1+cell": {
     "cellMetadata": {
      "byteLimit": 2048000,
      "rowLimit": 10000
     },
     "inputWidgets": {},
     "nuid": "987704ba-80e3-4f1d-a981-c1548200ed1f",
     "showTitle": false,
     "title": ""
    }
   },
   "outputs": [
    {
     "output_type": "stream",
     "name": "stdout",
     "output_type": "stream",
     "text": [
      "Number of pairings at threshold 0.7: 658\nNumber of pairings at threshold 0.8: 132\nNumber of pairings at threshold 0.9: 12\nNumber of pairings at threshold 1.0: 1\n"
     ]
    },
    {
     "output_type": "display_data",
     "data": {
      "image/png": "[encoded data removed]"
     },
     "metadata": {
      "application/vnd.databricks.v1+output": {
       "addedWidgets": {},
       "arguments": {},
       "data": "data:image/png;base64,iVBORw0KGgoAAAANSUhEUgAAAmEAAAFNCAYAAABIc7ibAAAAOXRFWHRTb2Z0d2FyZQBNYXRwbG90bGliIHZlcnNpb24zLjUuMSwgaHR0cHM6Ly9tYXRwbG90bGliLm9yZy/YYfK9AAAACXBIWXMAAAsTAAALEwEAmpwYAABMnklEQVR4nO3dd3hUZd7/8fc3PUDoPUGKovQmooisKCpgo6isrg0b69rWZx99Hvy5iz5s03V33bWsrh2xsgoIiqICsQEqJoBYQERKQm+BkJ7cvz/OBCYhgUAyOZnJ53Vdc83MOWfO+Z65k8wn59xzH3POISIiIiK1K8rvAkRERETqI4UwERERER8ohImIiIj4QCFMRERExAcKYSIiIiI+UAgTERER8YFCmEgdZWZXmtn7VVjuSTP7XW3UdKzMrJOZOTOL8buWUmaWamY3Bh5PMLNPK1muVmqvzfcosJ0TjuF1h63RzO43s5eqX6FI/aAQJnIMzGydmeWaWbaZbTWzF8ysUU1uwzn3snPuvCosd7Nz7vc1ue3aVu793BKK99NvgbCcHbgVmFlh0PN3/a6vLjCz35vZ12ZWZGb3VzD/F2a23sz2m9ksM2seNG+dmZ0T9PxyM9ttZmfWUvkiR00hTOTYXeScawQMAAYCvy2/QF068hMGSt/PfkB/4B5/y6lZgbDcKLCPfwJeL33unBt1tOuL0J+tNcD/AO+Un2FmPYF/A1cDbYAc4F8VrcTMrgUeBy5wzn0UsmpFqkkhTKSanHOZwLtALzhwqudWM/sB+CEw7UIzW2Zme8xskZn1KX29mXUwsxlmtt3MdprZY4HpB06RmedhM9tmZnsDRwtKt/eCmf0haH03mdkaM9tlZrPNrH3QPGdmN5vZD4FaHjczq2i/zGyQmS0OLLfZzB4zs7iqrMvMos3sr2a2w8zWAhccxfu5BZiHF8ZKt3Va4H3bY2bLzWxY0LzmZva8mW0KHPmYFZjezMzeDryvuwOPU6paRwWuD2xjs5ndFdhGWzPLMbMWQfUMCGwz9hi3c6WZbQi8d/cGrfd+M3vDzF4ys73ABDNrYmbPBmrKNLM/mFl0YPkTzOwjM8sKrOv1cts5p5K2izKz3waOOG0zsxfNrElFhZpZ58A29pnZB0DLY9xnAJxzU51z7wL7KnpfgDnOuY+dc9nA74BxZpZUrqZfAn8DRjjnFlWnHpFQUwgTqSYz6wCcD6QHTR4DnAr0MLP+wHPAL4EWeP/Nzzaz+MAH5tvAeqATkAy8VsFmzgN+BpwINAHGAzsrqOVs4M+B+e0C6y2/vguBU4A+geVGVLJrxcB/4X2wDgaGA7dUcV03Beb1xztKeGkl2zhEICiNwjsqgpkl4x0Z+QPQHLgLeNPMWgVeMg1oAPQEWgMPB6ZHAc8DHYHjgFzgsarWUYGzgK54bfG/ZnZOIDCm4u17qauB15xzhce4nTOAk/De78lm1j1o3mjgDaAp8DLwAlAEnID3Xp8H3BhY9vfA+0AzIAV4tNx2Kmu7CYHbWUAXoBGVv2+vAF/h/Yz8Hrj2aHb0KPUElpc+cc79CBTg/U6U+hUwBRjunFsawlpEaoRCmMixm2Vme4BPgY/wTjGV+rNzbpdzLheYCPzbOfe5c67YOTcVyAdOAwYB7YG7nXP7nXN5zrmKOogXAklAN8Ccc9855zZXsNyVwHPOuTTnXD7eKb3BZtYpaJkHnHN7nHMbgIUEHXEK5pz7yjm3xDlX5Jxbhxcey/evqWxd44F/OOc2Oud24QXDI5llZvuAjcA24L7A9KuAuc65uc65EufcB8BS4Hwza4cX2G52zu12zhWWnn5yzu10zr3pnMtxzu0D/lhB/Ufj/wJt9DVeuLsiMH1qoEYCofoKvGBYne3kOueW44WOvkHzFjvnZjnnSoDGeOH/zkBd2/AC6OWBZQvxAmj7Sn6uKmu7K4G/O+fWBo443QNcbuVOf5rZcXgh7nfOuXzn3MfAnGrs95E0ArLKTcvC+70odS6wBPg6hHWI1BiFMJFjN8Y519Q519E5d0sgcJXaGPS4I/DfgdM+ewLBrQNe+OoArHfOFR1uQ865BXhHIx4HtpnZU2bWuIJF2+Md/Sp9XTbeEbPkoGW2BD3OwftwO4SZnRg4hbclcPrrTxx6uqmydbWn7HuwniMb45xLAobhhc3SbXUELiv3/p2Bd6SvA7DLObe7gvobmNm/A6fV9gIfA01LT9cdg/L7U3qa9y28I56d8UJAlnPui2PcBhy+fcr/XMUCm4Pel3/jHQ0Er2+VAV+Y2Tdmdn0Vt1PmZyjwOAavH1aw9sBu59z+cstWyMzetYNfRLiysuUOIxsveAZrTNlTl7/COzL2TOnpVZG6TCFMJDRc0OONwB8Dga301sA592pg3nHljzJUuELnHnHOnQz0wPugubuCxTbhfTgDYGYN8U6BZh7DPjwBfA90dc41Bv4f3od6VWzGC0iljqvqRgNHsl4A/hqYtBGYVu79a+iceyAwr7mZNa1gVf+Nd1rv1ED9PwtMP9YP5/L7sylQbx4wHe9o2NVU7yjYkZT/ucoHWga9L42dcz0DdW1xzt3knGuPdyr8X1a1YSnK/Azh7WsRsLXccpuBZoGfseBlKy7cuVFBX0R4uQp1lPcNQUcFzawLEA+sDlpmK95p3KFU0mlfpC5RCBMJvaeBm83sVPM0NLMLAh2Kv8D7MHsgMD3BzIaUX4GZnRJ4fSywH8gDSirY1qvAdWbWz8zi8Y5efR44nXi0koC9QLaZdcM7ylBV04E7zCzFzJoBk45y2/8AzjWzvsBLwEVmNsK8Dv8JZjbMzFICp2TfxQsYzcws1sxKw1YSXj+wPeYNZXBfRRs6Cr8LHF3rCVwHBHd0fxGvH9XFhDaEHRDY9/eBv5lZ40CH+uMtMCSDmV1mB7+IsBsvwFX0M1Peq8B/BTrdB3+Ts8zRWufcerzTwv9nZnFmdgZwUXX2KdB+CXifTTGBti49cvky3s/B0EDwmwLMCJxqDq5rE14QG2lmDyNShymEiYRYoIPwTXinE3fjdTifEJhXjPfBdQKwAcgAfl7BahrjhbndeKd8dgIPVbCtD/G+NfYmXrg7noN9hI7WXcAv8E73PE3Z0HEkT+N9w3E5kAbMOJoNO+e24wWbyc65jXgd0v8fsB3vCNDdHPz7dTVe/6fv8fqS3RmY/g8gEdiB10/ovaOpoQIf4bXdfOCvzrkDA+k65z7DCzhpgXBSW64B4oBv8X423sA7TQtef63PzSwbmA382jm3tgrrfA4vSH4M/IQX+G+vZNlf4H0BZRdeyH3x2HbjgKfxgvMVwL2Bx1cDOOe+AW7GC2Pb8EJ2+S+KEFh2A3A2cKmZVaU/oogvzDl35KVEROSwzGwB8Ipz7hm/axGR8KAQJiJSTWZ2CvAB0KH86TERkcrodKSISDWY2VTgQ7yhIhTARKTKdCRMRERExAc6EiYiIiLiA4UwERERER8ccYDIuqZly5auU6dOfpcR9vbv30/Dhg2PvKDUWWrD8Kb2C39qw/BXG2341Vdf7XDOtapoXtiFsE6dOrF0qa7LWl2pqakMGzbM7zKkGtSG4U3tF/7UhuGvNtrQzCodO1CnI0VERER8oBAmIiIi4gOFMBEREREfhF2fsIoUFhaSkZFBXl6e36WEjSZNmvDdd98BkJCQQEpKCrGxsT5XJSIiUn9ERAjLyMggKSmJTp06YWZ+lxMW9u3bR1JSEs45du7cSUZGBp07d/a7LBERkXojIk5H5uXl0aJFCwWwY2BmtGjRQkcRRUREallEhDBAAawa9N6JiIjUvpCFMDN7zsy2mdnKSuabmT1iZmvMbIWZDQhVLbUhOjqafv360atXLy677DJycnKqvc7Jkyfz4YcfVjr/ySef5MUXX6z2dkRERErNSs9kyAML6DzpHYY8sIBZ6Zl+l1TjSvdxwnv7fd3HUB4JewEYeZj5o4CugdtE4IkQ1hJyiYmJLFu2jJUrVxIXF8eTTz5ZZn5RUdFRr3PKlCmcc845lc6/+eabueaaa456vSIiIhWZlZ7JPTO+JnNPLg7I3JPLPTO+jqggFryP4O8+hqxjvnPuYzPrdJhFRgMvOuccsMTMmppZO+fc5lDVVGpWeiYPzVvFpj25tG+ayN0jTmJM/+QaW//QoUNZsWIFqamp/O53v6NZs2Z8//33fPfdd0yaNInU1FTy8/O59dZb+eUvfwnAgw8+yEsvvURUVBSjRo3igQceYMKECVx44YVceumlTJo0idmzZxMTE8N5553HX//6V+6//34aNWrEXXfdxbJly7j55pvJycnh+OOP57nnnqNZs2YMGzaMU089lYULF7Jnzx6effZZhg4dWmP7KiIikeOheavILSwuMy23sJj7Z39zyPRw9eC731e4jw/NW1WjWaAq/Px2ZDKwMeh5RmDaISHMzCbiHS2jTZs2pKamlpnfpEkT9u3bV6WNvrNyK/e/8wN5RSWAl4AnvbmCvLxcLujV5hh246B9+/ZRVFTEnDlzOOecc8jJySEtLY0lS5bQqVMnHn/8cRISEliwYAH5+fmcd955nH766axevZoZM2bw4Ycf0qBBA3bt2sW+ffsoLCwkNzeXdevW8eabb/LVV19hZuzZs4d9+/aRn59PbGws+/bt46qrruKhhx7ijDPO4A9/+AP33nsvDz74IMXFxeTk5DB//nzmzZvH5MmTmT17NsXFxWXes7y8vEPeV6nbsrOz1WZhTO0X/iKtDZ1zB44Olbcnt5B7ZnxdyxXVrsw9ubXenmExRIVz7ingKYCBAwe68td5+u6770hKSgLg/+Z8w7eb9la6rvQNeygoLikzLa+ohMlv/8DMFdsrfE2P9o2576Keh60xNzf3wBGmoUOHcuutt7Jo0SIGDRpE7969Afj4449ZsWIFc+bMASArK4vNmzezaNEibrzxRtq08UJg6b7ExsaSmJhISkoKDRo04M477+TCCy/kwgsvJC4ujvj4eOLj4ykpKWHv3r2MGjUKgIkTJ3LZZZeRlJREdHQ0l19+OUlJSQwdOpRJkyaRlJR0YIiKUgkJCfTv3/+w+yh1i65bF97UfuEvUtowr7CYOcs38cKidZUu07ZxArNuHVJ7RYXQmMc/Y8veQ0cESG6aWOvt6WcIywQ6BD1PCUwLqfIB7EjTq6q0T1h5wVdnd87x6KOPMmLEiDLLzJs377DrjomJ4YsvvmD+/Pm88cYbPPbYYyxYsKDKtcXHxwPelweOpW+aiIhEnq1783hpyXpe+XwDO/cX0LV1Iy4bmMKc5ZvIKzz4mZgYG82kUd1o2yTBx2przqRR3bhnxtdlTkkmxkZz94iTar0WP0PYbOA2M3sNOBXIqon+YEc6YjXkgQUVHm5NbprI678cXN3NH9aIESN44oknOPvss4mNjWX16tUkJydz7rnnMmXKFK688soDpyObN29+4HXZ2dnk5ORw/vnnM2TIELp06VJmvU2aNKFZs2Z88sknDB06lGnTpnHmmWeGdF9ERCQ8pW/YzfOfrWPu15spdo7h3Voz4fTODDnBG29zyPEtQ9pv2m+l+/LQvFVk7skl2cd9DFkIM7NXgWFASzPLAO4DYgGcc08Cc4HzgTVADnBdqGoJdveIk3xLwDfeeCPr1q1jwIABOOdo1aoVs2bNYuTIkSxbtoyBAwcSFxfH+eefz5/+9KcDr9u3bx+jR48mLy8P5xx///vfD1n31KlTD3TM79KlC88//3zI90dERMJDQVEJ767czHOfrWP5xj0kxcdwzeBOXDO4I51aNiyz7Jj+yREVuipSuo9+n1I278uJ4WPgwIFu6dKlZaZ99913dO/evcrrCPW3I8NB+T5hR/seiv/8/uMh1aP2C3/h0IY7svN55fMNvLRkPdv25dO5ZUMmnN6JS05OoVF8WHQLD6naaEMz+8o5N7CiefWyBepDyhcRkfprZWYWz3+2jjnLN1FQXMLPTmzFg5d24syurYiK0lVS6op6GcJEREQiTVFxCe9/u5XnP/uJL9ftpkFcND8/pQPXnt6JE1o38rs8qYBCmIiISBjbvb+A177cyLTF69iUlUeH5on89oLuXDawA00SY/0uTw5DIUxERCQMrdqyjxcW/cTM9EzyCks4/fgW3H9xT4Z3b0O0TjmGBYUwERGRMFFc4ljw/Tae/+wnFv24k/iYKMb2T2bCkE50a9vY7/LkKCmEiYiI1HFZuYX8Z+lGXly8ng27cmjXJIH/GXkSV5xyHM0axvldnhwjhbAaEh0dTe/evSkqKqJz585MmzaNpk2b1tj6O3XqxNKlS2nZsiWNGjUiOzu7xtYtIiJ104/bs5m6aB1vfJVBTkExp3Rqxv+O7MaInm2IiY7yuzypJoWwGhJ82aJrr72Wxx9/nHvvvdffokREJOyUlDg+/mE7z3+2jo9WbycuOoqL+rZnwumd6J3SxO/ypAbVzxC2YjrMnwJZGdAkBYZPhj7ja2z1gwcPZsWKFQD8+OOP3HrrrWzfvp0GDRrw9NNP061bN7Zu3crNN9/M2rVrAXjiiSc4/fTTGTNmDBs3biQvL49f//rXTJw4scbqEhGRuis7v4gZaRm8sGgda7fvp1VSPL8590SuGHQcrZLi/S5PQqD+hbAV02HOHVAYuH5k1kbvOdRIECsuLmb+/PnccMMNAEycOJEnn3ySrl278vnnn3PLLbewYMEC7rjjDs4880xmzpxJcXHxgdOLzz33HM2bNyc3N5dTTjmFSy65hBYtWlS7LhERqZs27Mxh6uJ1TP9yI/vyi+jboSn/vLwfo3q1Iy5GpxwjWeSFsHcnwZavK5+f8SUU55edVpgLb90GX02t+DVte8OoBw672dzcXPr160dmZibdu3fn3HPPJTs7m0WLFnHZZZcdWC4/39v2ggULePHFFwGvP1mTJt4h5kceeYSZM2cCsHHjRn744QeFMBGRCOOcY9GPO3n+s3XM/34r0Wac37sd1w3pRP/jmvldntSSyAthR1I+gB1pehWV9gnLyclhxIgRPP7440yYMIGmTZse6Ct2JKmpqXz44YcsXryYBg0aMGzYMPLy8qpVl4iI1B25BcXMTM/khUU/sXprNi0axnHbWSdw1WkdadM4we/ypJZFXgg7whErHu7lnYIsr0kHuO6dam++QYMGPPLII4wZM4ZbbrmFzp0785///IfLLrsM5xwrVqygb9++DB8+nCeeeII777zzwOnIrKwsmjVrRoMGDfj+++9ZsmRJtesRERH/Ze7J5cXF63jti41k5RbSo11jHrq0Dxf1bU9CbLTf5YlP6t/J5uGTITax7LTYRG96Denfvz99+vTh1Vdf5eWXX+bZZ5+lb9++9OzZk7feeguAf/7znyxcuJDevXtz8skn8+233zJy5EiKioro3r07kyZN4rTTTquxmkREpHY55/jip13c8vJX/OwvC3n647WcfnwLpv9yMO/ccQaXDeygAFbPRd6RsCMp7Xxfw9+OLD9u15w5cw48fu+99w5Zvk2bNgcCWbB33323wvWvW7eu0m3JQbPSM3lo3io27cmlfdNE7h5xEmP6J/tdlhyFSG/D0v3L3JNL8pIFEbd/EPlteCR5hcXMWb6JFxat45tNe2mSGMuNQztzzeBOJDdNPPIKpN6ofyEMvMBVg0NSSN0wKz2Te2Z8TW5hMeAd/r9nhvcljUj6AIjkD/FIb8NI3z+oH/tYma1783hpyXpe+XwDO/cXcGKbRvxpbG/G9k8mMU5HvORQ9TOESUR6aN6qA3/4S+UWFvM/b6zgtS83EB1lRJl3O/gY73GUER14fvBxYHoURJthgdcd8toD66vgtYFlDrw2ML3C1wbXdWDZstM/XbOdfy38kfyiEsD7gPvfN1ewYdd+fnZia5xzOMA5AIdzHHgePM/hzXCB96l02sHlvWUJnl5uXoXbKLeOQ9Z9uPUDD777fYVteN/sb8jKLSy3D5Vso9zzUs5VXivl3pvyy3Gg1srXc2AbFa0/MO2tZZkV7t89M77m49XbD3l/SypphxJXWRs4Sg7z3pS44H0uNz3ofaV8DRWs8+BrgmuEDbtyKC4JeuNLfw/fXMGsZZkkxEQTHxtFfEwU8THRxMdEkRDr3XvTqzAtaB0JsdHERUcRVYsXrC7/j9BlA1NYu30/c7/eTLFzDO/WhuuGdOL041tgpgtpS+UUwiTsFZc45n+3lcw9uRXOLyguocRBUWEJxc5RUuJ9UBWXOEqcO3AfPK2kxFHsHMUl3odMcelypa8NWsa5Cjdba/KLSvj7Bz/w9w9+8LeQEMrKLeS+2d+EdBtmYICZBe7B8CZamWXskGUJfl7BekrXkFNQXH6zgBdSvli3q8z6oypaN4HpVlpPUK1lXhO8D95yUeX2x6LAiCIq6uA2y68zqtw+lK6vtIby75GZ8dOO/RXuY0FRCbv2F5BfWEJ+UTH5RSXkFR68L6nm71FcdFTZ0BYU3sqGugqmlQt1wQExPrbstI9Xb+dv768iL+gfoX98+APx0ca1p3fimsEd6diiYfV2RuqNiAlhzjn9x3GMnN8p4hjt3l/A60s3Mm3xejL35BJlVPiHPLlpItN/OThkdbjyAe5AYAuEtaDAVuK8S5IUHwhwXtA75LWB6WUDoWPC819WWsdzEwYe8oEYHCZKP0CpKEiUfgBz6AduReuh/HoPWedRrCNo3tjHF7Fl76HDsrRtksA7t59RcUCqwjYC1VS8bC3+3RjywIIK/1lIbprIp/97dq3VEUpp63dXuo+zbzuj0tcVFZeUCWberZj8woqnlV02cF9YQt6B+Qdfk1dYzJ7cQvILiykoOvS1hcXV/xvYvFE8v7uwR7XXI/VLRISwhIQEdu7cSYsWOvR7tJxz7Ny5k4SE8BmfZmVmFlMXrWP28k3kF5UwuEsLfndhd3Lyi7h31jdlTvckxkZz94iTQlqP2cHTjqGW3DSx0g+4s7u1Cfn2Q23SqG5l+hOB14aTRnajRaPwv2zL3SNOqnD/Qv0zWpuOdR9joqOIiY6iYXztfywVlzgKqhjqbnk5rcJ1bMnSmI5y9CIihKWkpJCRkcH27dv9LiVs5OXlHQheCQkJpKSk+FzR4RUUlfDuys1MXbSOtA17aBAXzWUDU7hmcCdObJN0YLmoqKiI/lZWpH+Il7ZVpLZh8P5l7sklOcL2D8KzDaOjjMS46Cp1nq/sH6H2+tajHAMLt1NRAwcOdEuXLvW7jLCXmprKsGHD/C7jiLbuzePlzzfwyucb2JGdT+eWDbn6tI5ccnIKTRJj/S7PF2U6BYfBB5xULFx+B6Ws8t/+BO8foT+P663fwzBUG7+HZvaVc25gRfMi4kiYRBbnHF+u283UxeuYt3ILxc5x9kmtueb0Tgw9oWWtfguqLhrTP5kx/ZP1IS7ig/pwNFNqj0KY1Bm5BcW8tSyTqYvX891mb4DD68/ozFWnduS4Fg38Lk9EBNA/QlJzFMLEdxt25jBtyTpe/3Ije/OK6NY2iQfG9WZ0Pw1wKCIikUshTHxRUuL4+IftvLh4PQtXbSPajBG92jLh9E4M7NhM33IVEZGIpxAmtWpvXiFvLM1g2pL1/LRjPy0bxXP72V35xaDjaNskfIbJEBERqS6FMKkVq7fuY+qidcxMzySnoJiTOzbjznO6MqpXO+JiovwuT0REpNYphEnIFBWX8OF3W5m6aD2L1+4kLiaK0X3bc+3pneiV3MTv8kRERHylECY1bkd2Pq9/uZGXlqxnc1YeyU0TmTSqGz8f2IFmDeP8Lk9ERKROUAiTGrN84x6mLlrH2ys2U1BcwhkntGTK6F6c3a11rVzSR0REJJwohEm15BcV886KzUxdvJ7lG/fQMC6aKwZ14OrBHTmhddKRVyAiIlJPKYTJMdm0J5eXP1/Pa19sZOf+Ao5v1ZApo3sytn8ySQn183JCIiIiR0MhTKrMOceStbt4cfE63v92K845hndvw7WDOzHkhBYa20tEROQoKITJEe3PL2JmeiYvLl7H6q3ZNG0Qy01Du3DlqcfRobkuJyQiInIsFMKkUj/t2M+0xev5z1cb2ZdXRM/2jfnLpX24uG97EmJ1OSEREZHqUAiTMkpKHKmrtzF10Xo+Wr2d2Gjj/N7tuGZwJwYc11SnHEVERGqIQpgAkJVTyPSlG5m2ZD0bduXQpnE8vzn3RC4f1IHWSbqckIiISE1TCKtnZqVn8tC8VWTuySV5yQJ+cepxZOzOYWZ6JnmFJQzq1Jz/GXkSI3q2JTZalxMSEREJFYWwemRWeib3zPia3MJiADL35PLQvFXERMFlAztw9Wmd6NG+sc9VioiI1A8hPdRhZiPNbJWZrTGzSRXMP87MFppZupmtMLPzQ1lPfffQvFUHAliwVkkJ/HlcHwUwERGRWhSyEGZm0cDjwCigB3CFmfUot9hvgenOuf7A5cC/QlWPeAOsVmRLVl4tVyIiIiKhPBI2CFjjnFvrnCsAXgNGl1vGAaWHX5oAm0JYT73XvmniUU0XERGR0AllCEsGNgY9zwhMC3Y/cJWZZQBzgdtDWE+99+vhJxwyLTE2mrtHnORDNSIiIvWb3x3zrwBecM79zcwGA9PMrJdzriR4ITObCEwEaNOmDampqbVfaQRYs6kIgMZxsLfA0SIhiktOjKZp1g+kpv7gc3VytLKzs/W7EMbUfuFPbRj+/G7DUIawTKBD0POUwLRgNwAjAZxzi80sAWgJbAteyDn3FPAUwMCBA92wYcNCVHJke/bZz+nQPIqP7jqLjz/+CL2P4S01NVVtGMbUfuFPbRj+/G7DUJ6O/BLoamadzSwOr+P97HLLbACGA5hZdyAB2B7CmuqtLVl5fLZmB2P7JRMVpVHvRURE/BayEOacKwJuA+YB3+F9C/IbM5tiZhcHFvtv4CYzWw68CkxwzrlQ1VSfvbUskxIHYwek+F2KiIiIEOI+Yc65uXgd7oOnTQ56/C0wJJQ1HJUV02H+FMjKgCYpMHwy9Bnvd1XV5pxjRlom/Y9rSueWDf0uR0RERAjxYK1hZcV0mHMHZG0EnHc/5w5vepj7dvNeVm3dx7gBKd7+PNyLM1PHwMO9ImL/REREwpHf346sO+ZPgcJyg5kW5sLcuyB7G0TFQFR0ufvyjwPPrYJphzw/zDIHXl8zGXlGWiax0cbY6M9gzm+gMBeDg0ETIuKIn4iISDhRCCuVlVHx9LwseP/e2q3lADtCeDtyACyJimb4uixGN4mn0bzlUFRudPzCXC+AKoSJiIjUKoWwUk1SAqciy2mcArcshpIiKCkO3BeBKy77/MCt/PRyy1T4uuIKli3/upJKtlXZ673ne7P3k1CcTcf4Isip5PJEWRvhhQuhfT9o1w/a94dmnWvsSJyIiIgcSiGs1PDJ3qm54FOSsYlwzn2QEL4Xtp78ajof79zOF7eeA4/2qThoxjWEgmz4/N9QXOBNi28M7foGbv28gNb8eAUzERGRGqIQVqr0dFwEfTtyX14h877ZwviBHYiLiao8aF74D28/iwpg+/eweRlsWubdf/E0FOd7y8YlQbs+ZYNZixO806AiIiJyVBTCgvUZH9ahq7x3V24hv6iEsQMCl+wMCpouKwMrHzRj4gIhqw8MuMabVlwI21eVDWZLn4eiQJCLbXhoMGt5ooKZiIjIESiERbAZaRl0btmQ/h2aHpwYCJofVfVSDdGx0LaXd+t/lTetuAh2rC4bzNJehMInvfmxDaBtby+UtesbCGYnQbR+3ERERErpUzFCZezOYcnaXfzm3BMxq+HLFEXHQJse3q3fL7xpJcWw44eywSz9Jfji3978mEQvyAUHs1bdvJAnIiJSDymERai3lm0CYGz/5NrZYFQ0tO7m3fpe7k0rKYadP5YNZstfgy+f9uZHx1cQzLp7p0VFREQinEJYBHLO8WZaBoM6NadD8wb+FRIVDa1O9G6l/c5KSmDX2kAwS4fNy+Hr/8DSZ7350XHQpmfZYNa6B8TE+7QTIiIioaEQFoFWZGSxdvt+Jg7t4ncph4qKgpYneLfel3rTSkpg909lj5h9MwO+ej7wmljv1Gdpx/92faFNr4qDWYRe/1NERCKPQlgEmpGWQVxMFOf3aed3KVUTFQUtjvduvS7xpjkHu9eVDWbfvgVpUwOviYHW3YOCWX/Y/p13manSITh0WSYREanDFMIiTEFRCXNWbObcHm1onBDGnd7NoHln79ZzrDfNOdizoWww+/4dSJ9W+Xp0WSYREamjFMIizEert7NrfwGXDKilDvm1yQyadfRuPUZ705zzTj1uXgavX1Xx6yq7LqiIiIiPdA2aCDMjLYMWDeMY2rWV36XUDjNo2gG6XwRNOlS8TEyC92UAERGROkQhLIJk5RQy/7ttXNyvPbHR9bBph0/2LsMULCrWGyrj8VPhg8mQt9ef2kRERMqph5/UkevtrzdRUFzCuP4pfpfijz7j4aJHAkfEzLsf8y+4cwX0uhQ++yc8OgC+esELZiIiIj5Sn7AIMjMtk66tG9ErubHfpfinsut/jn0CBt0E790Dc34NXzwDI/8MnYfWfo0iIiLoSFjEWL9zP0vX72bcgJSav0xRpEgeANe/B5c+B3l7YOqF8NqVsOsnvysTEZF6SCEsQsxMz8QMxvRv73cpdZuZNxbZbV/C2b+FHxfC44PUX0xERGqdQlgEcM4xIy2T049vQbsmiUd+gXgd+H92N9z+Vbn+YlPVX0xERGqFQlgE+Gr9bjbsymFsfe2QXx2N23n9xW5aCM2P90bYf+pM+OkTvysTEZEIpxAWAWakZ5IYG83IXm39LiV8BfcXy93j9Rd7/Sr1FxMRkZBRCAtzeYXFvL18EyN6tqFRvL7sWi3B/cXO+i2sma/+YiIiEjIKYWFu4ffb2JtXxLgBOhVZY2IT4cy74fa0oP5iJ0Pai+ovJiIiNUYhLMy9mZZJ66R4hpzQ0u9SIs+B/mILvAuJz77d6y+27lO/KxMRkQigEBbGdu0vIHXVNsb0TyY6SmODhUzyyXD9vIP9xV64QP3FRESk2hTCwtic5ZsoKnGMG5DsdymRr9L+Yvepv5iIiBwThbAwNiMtg+7tGtOtbT2+TFFtO9Bf7CsvlH32D/UXExGRY6IQFqbWbMtmeUYWl+gomD8at4exT5brLzZM/cVERKTKFMLC1Mz0DKIMLu6ryxT5qrS/2CXPQs6uQH+xq9VfTEREjkghLAyVlDhmpW9iaNdWtG6c4Hc5Yga9L4Xblwb6i33o9Rf78H71FxMRkUophIWhz3/aReaeXHXIr2vK9xf79GH1FxMRkUophIWhmekZNIqP4bweukxRnVRpf7HP/K5MRETqEIWwMJNbUMzcr7cwqldbEuOi/S5HDueQ/mLnw/RrYPc6vysTEZE6QCEszLz/7Ray84sYq1OR4aG0v9htX8JZ98IPH8Bjp3j9xfL3+V2diIj4SCEszMxMz6R9kwRO69zC71LkaMQ1gDP/p2x/sUcGQNo09RcTEamnFMLCyLZ9eXy8ejtj+icTpcsUhafS/mI3LoBmnWD2beovJiJSTymEhZHZyzZR4tC3IiNByslww/vqLyYiUo+FNISZ2UgzW2Vma8xsUiXLjDezb83sGzN7JZT1hLsZaZn0SWnCCa2T/C5FakKF/cUGwYf/p/5iIiL1QMhCmJlFA48Do4AewBVm1qPcMl2Be4AhzrmewJ2hqifcfb9lL99u3su4/joKFnFK+4vdthR6joVP/x7UX6zE7+pERCREQnkkbBCwxjm31jlXALwGjC63zE3A48653QDOuW0hrCeszUzLJCbKuEiXKYpcTZJh3L/L9Rc7U/3FREQiVChDWDKwMeh5RmBasBOBE83sMzNbYmYjQ1hP2Couccxalsmwk1rRolG83+VIqKm/mIhIvRBTB7bfFRgGpAAfm1lv59ye4IXMbCIwEaBNmzakpqbWbpU+W7mjmK1787m0S1aN7Xt2dna9ex/DT0ui+v6dDhtncdz3b2LfzWVjh9HkJrSh0/rpnJm/nbzFrVjb5Wq2tTnT72LlKOl3MPypDcOf320YyhCWCXQIep4SmBYsA/jcOVcI/GRmq/FC2ZfBCznnngKeAhg4cKAbNmxYqGquk956fRlJCVu5/ZKzSIitmVHyU1NTqW/vY/gaAVm/hflT6LjitTJzEvK302PNE/To3h36jPepPjkW+h0Mf2rD8Od3G4bydOSXQFcz62xmccDlwOxyy8zCOwqGmbXEOz25NoQ1hZ39+UW8t3ILF/ZpX2MBTMJQaX+xRq0PnVeYC/On1H5NIiJSLSELYc65IuA2YB7wHTDdOfeNmU0xs4sDi80DdprZt8BC4G7n3M5Q1RSO3lu5hdzCYo0NJp7s7RVPz8qo3TpERKTaQtonzDk3F5hbbtrkoMcO+E3gJhWYmZ5Jh+aJDOzYzO9SpC5okgJZGw+d3rBV7dciIiLVohHz67DNWbl89uMOxvVPwUyXKRJg+GSITSw30WD/Dkh70ZeSRETk2CiE1WGz0jfhHIzVAK1Sqs94uOgRaNIBh0GTDnDhw9DlTJh9O7w7CYqL/K5SRESqwO8hKqQSzjlmpGVwcsdmdGrZ0O9ypC7pMx76jOej4G/19L8a3v8tfP4EbP8eLnseEnUKW0SkLtORsDrqm017+WFbto6CSdVEx8CoB+DiR2Hdp/D0cNi+2u+qRETkMBTC6qgZaZnERUdxYZ92fpci4WTANXDtHMjLgmeGexcFFxGROkkhrA4qKi5h9vJMzu7WmqYN4vwuR8JNx8EwMRWadoRXxsOiR8E5v6sSEZFyFMLqoE9+2MGO7AKNDSbHrmkHuGEedLvQ6ys26xYozPO7KhERCaIQVge9mZZBswaxDDupgtHRRaoqriFcNhWG3QPLX4GpF8K+rX5XJSIiAVUOYWbWIJSFiGdvXiHvf7uVi/q2Jy5GGVmqKSoKhk3ywtjWb+Dps2BTut9ViYgIVQhhZnZ64LJC3wee9zWzf4W8snrq3a83U1BUwrgBKX6XIpGk5xi4fh5YFDw3Cla+6XdFIiL1XlUOtTwMjAB2AjjnlgM/C2VR9dmbaZl0admQvilN/C5FIk27PnDTQmjXF964Hub/HkpK/K5KRKTeqtL5Ludc+YvVFYeglnpv464cvvhpF+MGJOsyRRIajVrBtbOh/1XwyV9h+tWQn+13VSIi9VJVQthGMzsdcGYWa2Z3Ad+FuK56aVZ6JgCj++lbkRJCMfFw8WMw8kFYNReePQ92r/O7KhGReqcqIexm4FYgGcgE+gWeSw1yzjEzPZNTOzenQ3N9B0JCzAxOuxmuehP2ZsBTZ3kj7YuISK05Yghzzu1wzl3pnGvjnGvtnLvKObezNoqrT5Zt3MPaHfu5RB3ypTYdfzbcuAAatIAXR8PS5/yuSESk3jjiBbzN7HngkOG2nXPXh6SiempGWibxMVGM6t3W71Kkvml5Atw03+us//Z/wdZvYeSfITrW78pERCLaEUMY8HbQ4wRgLLApNOXUTwVFJcxZsYnzerYlKUEffOKDhCbwi+nw4X3eZY52rPLGFmvQ3O/KREQi1hFDmHOuzIBCZvYqoM4jNWjhqm3sySlkXH91yBcfRUXDeX+A1j1gzq+9gV2veA1ad/e7MhGRiHQsQ7J3BXQ9nRo0My2Tlo3iGNq1pd+liEC/X8CEuVCQA8+cC6ve87siEZGIVJUR8/eZ2d7Se2AO8L+hL61+2JNTwPzvt3Jx32RionWZIqkjOpwCE1OhRRd49XL49GFwh3QNFRGRaqjK6cik2iikvnp7xWYKix3jBuhUpNQxTZLhuvfgrVvhw/u9a09e/CjEJvpdmYhIRKg0hJnZgMO90DmXVvPl1D8z0jI4qU0SPds39rsUkUPFNYBLn4M2PWDBH2Dnj3D5y9C4vd+ViYiEvcMdCfvbYeY54OwarqXe+WnHftI27GHSqG66TJHUXWbws7u9Dvtv3uQN7Hr5K5Byst+ViYiEtUpDmHPurNospD6amZ6JGYzRZYokHHS7AG78wOsj9vwoGP0Y9Bnvd1UiImGrKuOEYWa9gB5444QB4Jx7MVRF1QfeZYoyGHJ8S9o2STjyC0TqgjY94aZUmH4NzLjJ6yc2fLI3vIWIiByVqnw78j7g0cDtLOAvwMUhriviLV2/m427ctUhX8JPwxZw9Uw4+Tr47B/w6hWQt9fvqkREwk5VxkS4FBgObHHOXQf0BZqEtKp6YEZaBomx0YzoqcsUSRiKiYOL/gHn/xXWfAjPnON12hcRkSqrSgjLc86VAEVm1hjYBnQIbVmRLa+wmLdXbGZUr7Y0jK/SGWGRumnQTd5Rsf3b4OmzYe1HflckIhI2Kg1hZva4mZ0BfGFmTYGnga+ANGBx7ZQXmeZ/t419eUWM1alIiQRdzoSbFkBSW5g2Fr54WgO7iohUweEOw6wGHgLaA/uBV4FzgcbOuRW1UFvEmpGWQZvG8Zx+vC5TJBGieRe44QOYMRHm3gVbV8Koh7zTliIiUqFKj4Q55/7pnBsM/AzYCTwHvAeMNbOutVRfxNmRnc9Hq7czpn8y0VEaG0wiSEJjbyDXM/4LvnoBpo2B/Tv8rkpEpM46Yp8w59x659yDzrn+wBXAGOD7UBcWqeYs30RRiWNc/xS/SxGpeVHRcM79MO5pyFgKT58FW1b6XZWISJ1UlSEqYszsIjN7GXgXWAWMC3llEWpmeiY92zfmpLa6JKdEsD7j4fp3obgQnj0Pvnvb74pEROqcw3XMP9fMngMygJuAd4DjnXOXO+feqq0CI8mabftYkZHF2P7qkC/1QPLJcNNCaN0NXr8SPnpIHfZFRIIc7kjYPcAioLtz7mLn3CvOuf21VFdEmpGWSXSUcXE/XfxY6onG7WDCO9B7PCz8A7xxHRTk+F2ViEidcLhrR+oC3TWopMQxMz2ToV1b0jpJlymSeiQ2EcY95V3y6MP7Ydda7wLgTdQvUkTqt6oM1io1YMnanWzOymPcAH3wSD1kBmfcCVe8BjvXwlNnwcYv/K5KRMRXCmG1ZEZ6JknxMZzXo43fpYj456SRcOOHENcQXrgA0l/2uyIREd8ohNWC3IJi3v16M6N6tyUhNtrvckT81bqbN8L+cafBW7fAvHuhpNjvqkREap1CWC14/9st7C8o1qlIkVINmsNVM2DQRFj8GLwyHnL3+F2ViEitUgirBW+mZZLcNJFBnZr7XYpI3REdC+c/BBf+A9amwjPnwI41flclIlJrQhrCzGykma0yszVmNukwy11iZs7MBoayHj9s25vHpz9sZ2z/ZKJ0mSKRQw28Dq6ZDbm74Jmz4YP74OFecH9T737FdL8rFBEJiZCFMDOLBh4HRgE9gCvMrEcFyyUBvwY+D1Utfnpr2SZKHIwdoAFaRSrVaYg3sGtsI/jsH5C1EXDe/Zw7FMREJCKF8kjYIGCNc26tc64AeA0YXcFyvwceBPJCWItvZqRn0rdDU45v1cjvUkTqtmYdoaKDxYW5MH9KrZcjIhJqoQxhycDGoOcZgWkHmNkAoINz7p0Q1uGbbzft5bvNe7lER8FEqmbvpoqnZ2XUbh0iIrWg0hHzQ83MooC/AxOqsOxEYCJAmzZtSE1NDWltNeW17/OJNmi27ydSU9f5XU4Z2dnZYfM+SsUisQ1Pi29JQv72Q6bnxzVlcYTtayS2X32jNgx/frdhKENYJtAh6HlKYFqpJKAXkGpmAG2B2WZ2sXNuafCKnHNPAU8BDBw40A0bNiyEZdeMouIS7v5sAWd3b8FF59W97xukpqYSDu+jVC4i27D5n7w+YIW5ZSbHF+cxrEMJHB85V1OLyParZ9SG4c/vNgzl6cgvga5m1tnM4oDLgdmlM51zWc65ls65Ts65TsAS4JAAFq4++3En2/flM66/TkWKVFmf8XDRI9CkA2De/cgHoEVneOlS+PIZvysUEakxITsS5pwrMrPbgHlANPCcc+4bM5sCLHXOzT78GsLbzLQMGifEcHb31n6XIhJe+oz3bsH6XwVv3ADv/DdsXw0j/gTRvvWmEBGpESH9K+acmwvMLTdtciXLDgtlLbUpO7+I977ZwrgBKcTH6DJFItUWnwRXvAofTPZG2N+5Bi57HhKa+F2ZiMgx04j5IfDeyi3kFZboW5EiNSkqGkb8ES76J/z0ETxzLuz6ye+qRESOmUJYCMxIy6BjiwYMOK6Z36WIRJ6TJ8DVMyF7Kzx9Nqxf5HdFIiLHRCGshm3ak8vitTsZ2z+ZwLc+RaSmdf4Z3LTAuxD41Ith2St+VyQictQUwmrYrGWZOAfj+qf4XYpIZGtxPNz4IXQcDLN+5V1zsqTE76pERKpMIawGOeeYkZbJwI7NOK5FA7/LEYl8ic3gqhlw8nXeNSenXw352X5XJSJSJQphNWhl5l7WbMtm3AAdBROpNdGxcOHD3nhiq+bC8yMhK/PIrxMR8ZlCWA16My2DuOgoLujdzu9SROoXMzjtV/CL6bBrHTx9FmR+5XdVIiKHpRBWQwqLS5izfBPn9GhNkwaxfpcjUj91PRdueB9i4uH582HlDL8rEhGplEJYDfl49XZ27i9grDrki/irTQ+4cQG06wdvXAepD4JzflclInIIhbAaMiMtk+YN4zjzxFZ+lyIijVrBtbOhz+WQ+id480YozPO7KhGRMhTCakBWbiEffLeVi/u2Jy5Gb6lInRATD2OfhOGTYeUb8MIFsG+r31WJiBygxFAD5n69mYKiEsb212WKROoUMxj63zB+Gmz9xhthf8tKv6sSEQEUwmrEzLRMjm/VkD4pupiwSJ3U42K4/j1wxfDsebDqXb8rEhFRCKuujbty+GLdLsYNSNFlikTqsvb94KaF0LIrvHoFLHpUHfZFxFcKYdU0M90bFHKMTkWK1H2N28F173pHxt7/Lcy+HYoK/K5KROophbBq8C5TlMFpXZqT3DTR73JEpCriGsClL8DQuyB9GkwbCzm7/K5KROohhbBqSNuwh3U7c3SZIpFwExUFw38HY5+CjC+8DvvbV/tdlYjUMwph1TAzPYOE2ChG9Wrrdykiciz6/hwmvAMF2fDMOfDjQr8rEpF6RCHsGOUXFTNn+WbO69GWpARdpkgkbHUYBDfOhybJ8NIl8OUzflckIvWEQtgxWvj9drJyCxk3QB3yRcJes45w/Tw44Rx4579h7v9AcZHfVYlIhFMIO0Yz0jJo2SieM05o6XcpIlITEhrDFa/CabfCF/+GV8ZDXpbfVYlIBFMIOwa79xewcNU2xvRrT0y03kKRiBEVDSP/BBf9E376yBvYdddPflclIhFKCeIYvL1iE4XFjrE6FSkSmU6eAFfNgH1b4JnhsH6R3xWJSARSCDsGb6Zl0q1tEj3aNfa7FBEJlS5neh32E5vB1Ith2St+VyQiEUYh7Cit3Z7Nso17GDcgWZcpEol0LU+AGz+EjoNh1q/gw/uhpMTvqkQkQiiEHaWZ6ZlEGYzup1ORIvVCYjPv1OTJE+DTh2H61VCw3++qRCQCKIQdhZISx8z0TIac0JI2jRP8LkdEakt0LFz4DxjxZ1g1F54bAVmZflclImFOIewofLluFxm7czU2mEh9ZAaDb4ErXodd67xLHWV+5XdVIhLGFMKOwsz0TBrERTOipy5TJFJvnXge3PA+xMTB8+fDNzP9rkhEwpRCWBXlFRbzzorNjOzVlgZxMX6XIyJ+atMDblwA7frCfybAR38B5/yuSkTCjEJYFX3w7Vb25RdxyYAUv0sRkbqgUSu4Zjb0+Tks/CPMuAkK8/yuSkTCiA7pVNHM9EzaNUngtC4t/C5FROqK2AQY+29oeSIs+D3sXgeXvwKNWvtdmYiEAR0Jq4Lt+/L5aPV2RvdLJjpKY4OJSBAz+NldMP5F2LLS67C/ZaXfVYlIGFAIq4I5yzdRXOL0rUgRqVyP0XD9u1BS5A1hsepdvysSkTpOIawKZqRn0Cu5MSe2SfK7FBGpy9r3h5sWQIsT4NUrYNGj6rAvIpVSCDuC1Vv3sTJzL+P6q0O+iFRB4/Zw3bvQ/SJ4/7cw+3YoKvC7KhGpgxTCjmBGWibRUcbF/dr7XYqIhIu4BnDZVBh6F6RPg5fGQc4uv6sSkTpGIewwikscs9IzOfPEVrRsFO93OSISTqKiYPjvYOxTsPFzeGY4bF/td1UiUocohB3GkrU72bI3Tx3yReTY9f05XPs25O2FZ86BD+6Hh3txZuoYeLgXrJjud4Ui4hOFsMN4My2DpPgYzunexu9SRCScHXeq12E/riF89jBkbcRwkLUR5tyhICZST4U0hJnZSDNbZWZrzGxSBfN/Y2bfmtkKM5tvZh1DWc/RyCko4r2VW7igTzsSYqP9LkdEwl2zjt6YYuUV5sL8KbVfj4j4LmQhzMyigceBUUAP4Aoz61FusXRgoHOuD/AG8JdQ1XO05n2zhZyCYsb216lIEakhezdVPD0ro3brEJE6IZRHwgYBa5xza51zBcBrwOjgBZxzC51zOYGnS4A6Mw7EjLRMUpolckqn5n6XIiKRokklf+JiEyF7W+3WIiK+C2UISwY2Bj3PCEyrzA1AnRhiektWHp+t2cHY/slE6TJFIlJThk/2AlewqBgoyofHBsJXL0BJiS+liUjtqxMX8Dazq4CBwJmVzJ8ITARo06YNqampIalj0aZC3lxdyM48b4TrbZnrSU3dHJJt+S07Oztk76PUDrVhOGpN6xN+RZe104jP305+fCvWdrma7EbHc+LqJ2g659fs+fjfrD7xV+Q0PM7vYuUI9DsY/vxuQ3MhuqSGmQ0G7nfOjQg8vwfAOffncsudAzwKnOmcO+Lx+IEDB7qlS5fWeL2z0jO5Z8bX5BYWH5iWGBvNn8f1ZkwE9gtLTU1l2LBhfpch1aA2DG+HtJ9zsOxlb5T9/GwY8mvvwuDlj5xJnaHfwfBXG21oZl855wZWNC+UpyO/BLqaWWcziwMuB2aXK6w/8G/g4qoEsFB6aN6qMgEMILewmIfmrfKpIhGpV8yg/1Vw21LodQl88lf412D4caHflYlIiIQshDnnioDbgHnAd8B059w3ZjbFzC4OLPYQ0Aj4j5ktM7PZlawu5DbtyT2q6SIiIdGwJYz7N1zzlhfMpo2BGRMhe7vflYlIDQtpnzDn3Fxgbrlpk4MenxPK7R+N9k0TyawgcLVvqlMBIuKDLsPgV4vhk7/Bpw/D6nlw3u+h31XeJZFEJOzpNzng7hEnkVhuUNbE2GjuHnGSTxWJSL0XmwBn3ws3fwqtu8Ps2+GFC2C7ukmIRAKFsIAx/ZP587jeJDdNxIDkpokR2ylfRMJM624wYS5c/Chs+xaeGAIL/giFeX5XJiLVUCeGqKgrxvRPVugSkbopKgoGXAMnjoJ5/w8+/gusfBMufBi6VDi6j4jUcToSJiISThq1gkuehqtngiuBFy+GmTfD/h1+VyYiR0khTEQkHB1/NtyyGIbeBV//Bx47BdJf9sYbE5GwoBAmIhKuYhNh+O+8jvstT4S3boEXLoQdP/hdmYhUgUKYiEi4a90drnsXLvonbP0anjgdFv7ZuyaliNRZCmEiIpEgKgpOnuCNuN9jNHz0gBfGfvrE78pEpBIKYSIikaRRa7jkGbjqTSguhKkXwqxbYP9OvysTkXIUwkREItEJ58AtS+CM38CK1+GxgbDsVXXcF6lDFMJERCJVXAM45z745cfQ4gSYdbM3pMWONX5XJiIohImIRL42PeH6eXDB32HTcq+v2Ed/Ucd9EZ8phImI1AdRUXDKDXDbF9DtAlj4R3jyDFj3md+VidRbCmEiIvVJUlu47Hm48g0oyoMXzoe3boOcXX5XJlLvKISJiNRHXc+FWz6HIb+GZa94I+4vf10d90VqkUKYiEh9FdcAzp3iddxv1glmToQXR8POH/2uTKReUAgTEanv2vaCG96HC/4Gm9LhX4Ph44egqMDvykQimkKYiIhAVDScciPc+gWcNAoW/MHruL9+sd+ViUQshTARETmocTsYPxV+MR0Kc+H5kTD7dsjd7XdlIhFHIUxERA514gi4dQmcfjukv+x13P/6DXXcF6lBCmEiIlKxuIZw3h9gYio0PQ7evAFeGge71vpdmUhEUAgTEZHDa9cHbvgAzv8rbPzS67j/yd/UcV+kmhTCRETkyKKiYdBN3oj7Xc+D+VPgqTNhw+d+VyYSthTCRESk6hq3h59Pgyteg7y98Nx5MOdOddwXOQYKYSIicvROGgW3fg6Db4O0qfDYoIMd91dMh4d7wf1NvfsV0/2uVqROivG7ABERCVPxjWDEH6H3ZfD2nV7H/U/+Drt+9K5LCZC1Eebc4T3uM963UkXqIh0JExGR6mnfD26cDyMfhG3fHgxgpQpzvT5kIlKGQpiIiFRfVDScdnPl87M2wt7NtVePSBjQ6UgREak5TVK8wFWRv3eD5l3guNOhY+DWrBOY1WqJInWFQpiIiNSc4ZO9PmCFuQenxSbCGb+B2AawfhGsegeWveTNS2oPHQcHQtkQaHkSROkkjdQPCmEiIlJzSjvfz58CWRnekbHhkw9OP/02KCmBHatg/WdeKFu/CFa+6c1PbA7HDT54pKxtH4jWR5VEJv1ki4hIzeoz/vDfhIyKgtbdvdspN3rDWuxedzCQbQgcLQOIawQdTg0cLRsC7QdAbEKt7IZIqCmEiYiIv8ygeWfv1v9Kb9rezV4YW78I1i+GBX/wpkfHQ8rAg0fLOgyC+CT/ahepBoUwERGpexq3g16XeDeAnF2wYcnBU5ifPgyf/BUsGtr1PXj68rjB0KC5v7WLVJFCmIiI1H0NmkO3870bQH42ZHxx8BTmF0/D4se8ea17HAxkHYd4gU6kDlIIExGR8BPfCI4/27sBFOVDZtrBI2XLX4Mvn/HmNevshbHSb2E266xhMaROUAgTEZHwFxMfCFmDvefFRbD164NHylbNDRoWo13ZI2WtumlYDPGFQpiIiESe6Bho39+7Db41MCzG6kqGxWgWGEA2cKSsbV8NiyG1Qj9lIiIS+aKioHU373bKDd6wGHvWBwLZZwcHkYXAsBiDAkfLTofkk8sOi7FiOsyfwplZGZBebhw0kaOgECYiIvWPmXfJpGadoN8vvGn7thw8SrZ+UdCwGHGQPNALZSWF8PlTUJSLgXeJpjl3eMspiMlRUggTEREBSGoLvcZ5N/CGxdj4edlhMVzxoa8rzIW5d0FeFsQ39sYti0/yvjwQ/DwmQV8IkDJCGsLMbCTwTyAaeMY590C5+fHAi8DJwE7g5865daGsSUREpEoaNIeTRnk38IbF+HMK4A5dNi/LC2KHExXjneo8JKiVPg5Mj6tgWvBycUmh7bMWON1a4WWnIkUdOaUcslY0s2jgceBcIAP40sxmO+e+DVrsBmC3c+4EM7sceBD4eahqEhEROWbxjbxQkrXx0HmNU2BiKuTvhfx9B28F2YdOyw+alrMLdq8PLBdYvipiEoOC2mFucUeYH9ug7NG5FdPLXoA9Ek+3Bu2j36eUQ3kkbBCwxjm3FsDMXgNGA8EhbDRwf+DxG8BjZmbOuQr+zRAREfHZ8MllQwpAbCKccx80auXdqqOk+GAgyy+931su1JWbVrrcno1lp5cUHnl7FlU2qO36EYoLyi5TmAtz7vROy2LeayxwH/wcC0yvbF7519kR5tXE+qMO7mfp8/cmlW2/0n2cPyWiQlgyEPzvQgZwamXLOOeKzCwLaAHsCF7IzCYCEwHatGlDampqiEquP7Kzs/U+hjm1YXhT+4Wr1rQ+4Vd0WTuN+Pzt5Me3Ym2Xq9m2qzWErD2jgaaBW0Bc4HaYy2ZaSSExRTlEF+cQU5RLdHFu0PMcoovLT8ulZXEBFfVac4X7KVwxC+9UrMMOHCspwZx3700vfQzmyt6Dwyo6lVtHuKwMPqrl38mw6JjvnHsKeApg4MCBbtiwYf4WFAFSU1PR+xje1IbhTe0XzoYB9x1owx5AD58rqjEP96rwdKs16UDcf62smW04B67EuyfosSsp+7zMvNLnFSx34Hn5x5XMmzYWsrdWsI8ptf47GcoQlgl0CHqeEphW0TIZZhYDNMHroC8iIiK1rbLTrcMn19w2zLwLr/vlvD+Efh+rKJTXafgS6Gpmnc0sDrgcmF1umdnAtYHHlwIL1B9MRETEJ33Gw0WPQJMOgHn3Fz0SOZ3yocw+Op/3MWRHwgJ9vG4D5uGd0H7OOfeNmU0BljrnZgPPAtPMbA2wCy+oiYiIiF/6jI+s0FWRwD5+5HO3gJD2CXPOzQXmlps2OehxHnBZKGsQERERqYt02XgRERERHyiEiYiIiPhAIUxERETEBwphIiIiIj5QCBMRERHxgUKYiIiIiA8UwkRERER8YOE2QL2ZbQfW+11HBGhJuQulS9hRG4Y3tV/4UxuGv9pow47OuVYVzQi7ECY1w8yWOucG+l2HHDu1YXhT+4U/tWH487sNdTpSRERExAcKYSIiIiI+UAirv57yuwCpNrVheFP7hT+1YfjztQ3VJ0xERETEBzoSJiIiIuIDhbAIZmYjzWyVma0xs0kVzP+NmX1rZivMbL6ZdfSjTqnckdowaLlLzMyZmb6pVcdUpQ3NbHzgd/EbM3ultmuUw6vC39LjzGyhmaUH/p6e70edUjEze87MtpnZykrmm5k9EmjfFWY2oLZqUwiLUGYWDTwOjAJ6AFeYWY9yi6UDA51zfYA3gL/UbpVyOFVsQ8wsCfg18HntVihHUpU2NLOuwD3AEOdcT+DO2q5TKlfF38PfAtOdc/2By4F/1W6VcgQvACMPM38U0DVwmwg8UQs1AQphkWwQsMY5t9Y5VwC8BowOXsA5t9A5lxN4ugRIqeUa5fCO2IYBvwceBPJqszipkqq04U3A48653QDOuW21XKMcXlXa0AGNA4+bAJtqsT45Aufcx8CuwywyGnjReZYATc2sXW3UphAWuZKBjUHPMwLTKnMD8G5IK5KjdcQ2DBw27+Cce6c2C5Mqq8rv4YnAiWb2mZktMbPD/ccuta8qbXg/cJWZZQBzgdtrpzSpIUf7eVljYmpjI1K3mdlVwEDgTL9rkaozsyjg78AEn0uR6onBOw0yDO9o9Mdm1ts5t8fPouSoXAG84Jz7m5kNBqaZWS/nXInfhUndpiNhkSsT6BD0PCUwrQwzOwe4F7jYOZdfS7VJ1RypDZOAXkCqma0DTgNmq3N+nVKV38MMYLZzrtA59xOwGi+USd1QlTa8AZgO4JxbDCTgXZNQwkOVPi9DQSEscn0JdDWzzmYWh9dZdHbwAmbWH/g3XgBTP5S657Bt6JzLcs61dM51cs51wuvXd7Fzbqk/5UoFjvh7CMzCOwqGmbXEOz25thZrlMOrShtuAIYDmFl3vBC2vVarlOqYDVwT+JbkaUCWc25zbWxYpyMjlHOuyMxuA+YB0cBzzrlvzGwKsNQ5Nxt4CGgE/MfMADY45y72rWgpo4ptKHVYFdtwHnCemX0LFAN3O+d2+le1BKtiG/438LSZ/RdeJ/0JTiOh1xlm9irePzotA/327gNiAZxzT+L14zsfWAPkANfVWm36ORERERGpfTodKSIiIuIDhTARERERHyiEiYiIiPhAIUxERETEBwphIiIiIj5QCBOROs/MWpjZssBti5llBh7vCQztUNPbu9/M7jrK12RXMv0FM7u0ZioTkUiiECYidZ5zbqdzrp9zrh/wJPBw4HE/4IiXhjEzjYkoInWOQpiIhLtoM3vazL4xs/fNLBHAzFLN7B9mthT4tZmdbGYfmdlXZjbPzNoFlrvDzL41sxVm9lrQensE1rHWzO4onWhmvzGzlYHbneWLCYy6/ZiZrTKzD4HWod19EQlX+u9QRMJdV+AK59xNZjYduAR4KTAvzjk30MxigY+A0c657Wb2c+CPwPXAJKCzcy7fzJoGrbcbcBbeNTpXmdkTQB+80bRPBQz43Mw+cs6lB71uLHAS0ANoA3wLPBeKHReR8KYQJiLh7ifn3LLA46+ATkHzXg/cn4R3sfMPApfoigZKrw23AnjZzGbhXcex1DuBi9rnm9k2vEB1BjDTObcfwMxmAEOB4BD2M+BV51wxsMnMFlR/F0UkEimEiUi4yw96XAwkBj3fH7g34Bvn3OAKXn8BXnC6CLjXzHpXsl79vRSRGqU+YSJSH6wCWpnZYAAzizWznmYWBXRwzi0E/hdogndR+8p8AowxswZm1hDv1OMn5Zb5GPi5mUUH+p2dVdM7IyKRQf/ZiUjEc84VBIaJeMTMmuD97fsHsBp4KTDNgEecc3sCpywrWk+amb0AfBGY9Ey5/mAAM4Gz8fqCbQAW1/DuiEiEMOec3zWIiIiI1Ds6HSkiIiLiA4UwERERER8ohImIiIj4QCFMRERExAcKYSIiIiI+UAgTERER8YFCmIiIiIgPFMJEREREfPD/AVtedVQq441VAAAAAElFTkSuQmCC\n",
       "datasetInfos": [],
       "metadata": {},
       "removedWidgets": [],
       "type": "image"
      }
     },
     "output_type": "display_data"
    },
    {
     "output_type": "display_data",
     "data": {
      "image/png": "[encoded data removed]"
     },
     "metadata": {
      "application/vnd.databricks.v1+output": {
       "addedWidgets": {},
       "arguments": {},
       "data": "data:image/png;base64,iVBORw0KGgoAAAANSUhEUgAAAm4AAAFNCAYAAAC5eOMWAAAAOXRFWHRTb2Z0d2FyZQBNYXRwbG90bGliIHZlcnNpb24zLjUuMSwgaHR0cHM6Ly9tYXRwbG90bGliLm9yZy/YYfK9AAAACXBIWXMAAAsTAAALEwEAmpwYAABDqUlEQVR4nO3dd3xV9f3H8deHMEOQKZSdyFI2FVDqArG4cU/qqFXcqz9ttbTVVu2w1rqr1Fq0UtHa4t5IpA5EUTbKMOy9hBAIJPn8/jgneAkZlyR3Je/n43Ef957vOffcz7nfe3M/+Y5zzN0RERERkeRXJ9EBiIiIiEh0lLiJiIiIpAglbiIiIiIpQombiIiISIpQ4iYiIiKSIpS4iYiIiKQIJW4iScrM7jSzZ6vw/LlmNrT6IkoNZva4mf0qzq/5CzN7Mg6vk2lmbmZ1a8LrhK/lZta1Es8rN8aqfn9EkpUSN5ESzOxCM/vczHLNbLWZvWlmRyY6rvKY2TgzuzuyzN17uXt2Nb9O8Y9lbonbedX5OvsRz6Vm9mFkmbtf5e53VfPrPB5xrLvMbHfE8pvu/jt3v7w6XzOWKjqeRMeXDMzsLjObbWYFZnZnKesvNLOlZrbdzF4ysxYR65aY2XERy+eb2WYzOyZO4UsNpsRNJIKZ/RR4APgd0AboBDwGnJbAsJJRM3fPiLg9n+iAYilMBjPcPYPgs/F8xLGfmOj49ld1H088WuYSYBHwM+D1kivMrBfwBHARwd+JPIK/E/sws0uAR4GT3f2DmEUrtYYSN5GQmTUFfgtc6+7/dfft7r7b3V9191vDbfZq2TKzoWa2ImJ5iZndamazwv/E/25mbcJWu21m9p6ZNS/tuRHPP45SmNm/zWyNmX1rZlPCHw/MbDQwCvhZ2GLyauS+zKydme0o0SIwwMw2mFm9cPkyM5sftgq8bWadK/H+1TezGWZ2fbicZmYfmdmvw+V2ZvYfM1tvZjlmdkPEc9PC7sbF4fs03cw6ltYdZmbZZna5mR0CPA4MCY97Sxl1dIWZLTKzTWb2ipm1i1jnZnaVmS00sy1m9qiZWSWOfU+3XETMPzaz5eF7epWZDQo/F1vM7JESz9/f9/8yM1tlQYvwLeE+vmdmeWbWMmK/3w/f73r7e0yhUWa2LPysjClxvC+a2bNmthW41Myahp/31Wa20szuNrO0cPuuZvZB+NndYGYlE/3jSqsDM6tjZr+0oGVrnZk9Y8H3dB9mlhW+xjYzexdoVcljBsDdn3b3N4Ftpb0vwKvuPsXdc4FfAWeaWZMSMV0J/Bk43t0/rko8IsWUuIl8ZwjQEJhYxf2cBfwQ6A6cCrwJ/AI4kOA7d0PZTy3Xm0A3oDXwBTAewN3Hho/vDVtMTo18kruvAj4J4yp2IfCiu+82s9PC+M4MY/wf8Nz+Bufuu4AfAb8Nk6rbgDTgHjOrA7wKzATaA8OBm8zs+PDpPwUuAE4CDgAuI2jFKO/15gNXAZ+Ex92s5DZmdizwe+BcoC2wFJhQYrNTgEFA33C746kehxHU13kErbhjgOOAXsC5FnabVfL9HxbuewTwczM7zt3XANnhMRS7CJjg7rsreQxHAj0I6uvXYb0WOw14EWhG8PkbBxQAXYEBYWzF3cd3Ae8AzYEOwMMlXqesOrg0vA0DDgIygEco3b+A6QQJ213AJftzoPupF8FnGQB3XwzsIvjOF7ua4B/B4e7+eQxjkVpGiZvId1oCG9y9oIr7edjd17r7SoIf4U/d/Ut330mQFA6ozE7d/Sl33+bu+cCdQL+yWh9K8S+CxIiwNeP8sAyC5Of37j4/PPbfAf0raPXZELaOFN8OCWOcA9wNvATcAlzk7oUEP8oHuvtv3X2Xu38D/C2MA4If+F+6+9cemOnuG6M8tvKMAp5y9y/C9+12gha6zIht/uDuW9x9GTAZ6F8Nrwtwl7vvdPd3gO3Ac+6+LuJzUfw5qMz7/5uwRXg28A/CugWeJkieCVu7LgD+WYVj+I2773D3mQSJSr+IdZ+4+0vuXkSQbJ8E3BTGtQ74C9/V726gM9AufE/2GpdI2XUwCrjf3b8JW7ZuB863El2zZtaJ4DP2K3fPd/cpBP8oxEoG8G2Jsm+ByBa3HwJTgdkxjENqISVuIt/ZCLQq+aNQCWsjHu8oZTljf3cYdiX+IexK3AosCVdF2x30H4KEpS1wNFBEkDxA8IP6YHESBmwCjKBlrCyt3L1ZxG1+xLqnw32+4e4LI16jXWSyR9DK1CZc3xFYHOWx7I92BK1sAIQ//hvZ+9jWRDzOoxL1U4ZoPweVef+XRzxeSnCcAC8DPc0siyBx+Nbdp1X6CMp/byJj6AzUA1ZHHMcTBK3DEIwVM2CaBbOdL4vydfaqv/BxXb773BCx3WZ3315i21JZMHSheDLGqLK2K0cuQbIa6QD27la9mqAF7snKdL+LlKUmDigVqaxPgHzgdIIuoNJsB9Ijlr9Xhdfba19hC8mBZWx7IUHX1HEESVtTYDPBjyGAl/dC7r7ZzN4h6LY7hKD7rPg5y4F73H185Q5jH48BrwHHm9mRYevKciDH3buV8ZzlQBdgTony4h/idGBr+DjyPS/3uIFVBEkFAGbWmKBldWVFBxFHlXn/OwJfhY87ERwn7r7TzF4gaHU7mKq1tlUk8r1fTvDdaVVai3XYjXsFgAUztN8zsynuvqiC19ir/giOtYAgCe4QUb4aaG5mjSOSt06U8fmohgklc4lofTSzg4AGwIKIbdYSdDF/QPCduLqKrykCqMVNZA93/xb4NfComZ1uZulmVs/MTjSze8PNZgAnmVkLM/secFMVXnIB0NDMTg4Hj/+S4I9/aZoQ/DBuJEhifldi/VqCMUDl+RdwMXA233WTQjDA/3b7brJDUzM7Z38OpJiZXQQcSjAu6QbgaTPLAKYB28zs52bWKGxB7G1mg8KnPgncZWbdLNDXzFq6+3qCJOtH4XMuI0jwIo+7g5nVLyOk54Afm1l/M2tA8L596u5LKnN8MVKZ9/9X4eezF/BjIHKw/zME7/9IYpu47eHuqwnGsP3ZzA4IJxV0iRjHd46ZFSdamwkSqqIodv0ccHM48SByBuxeyaG7LwU+B35jwSSZIwnGl1Za+N1vSPA7WdfMGob/XEEwpu9UMzsq/Gfgt8B/3X2viQzh+NLhwAlm9peqxCNSTImbSAR3/zPBQPlfAusJWhKuIxizBcEP4UyCVq932PsHc39f61vgGoKkZSVB69KKMjZ/hqDrZyUwj2DsTKS/E3SRbTGzlyjdKwQD2teEY5aK45gI/BGYEHbDzgEqapHYYnufx+2n4TijB4CL3T3X3f9F8GP6l3Cc2ykEY5dygA3hcReP0bsfeIHgPd0aHk+jcN0VwK0ESWsvIHJ23vsErR9rzGxDySDd/T2CGX//IWiV6cJ3466SQiXf/w8ITlcxCbgvHEdXvL+PCJKiL8KEJl4uBuoTfD43E7Ratw3XDQI+NbNcgs/hjeE4x4o8RfCdm0LwudkJXF/GthcSTAjZBNxB8J2pir8RdGlfQDCxZAfBZA/cfS7B2MTxwDqCf6yuKW0n4bi9Y4Gzzez3VYxJBPuut0RERGoCM3sf+Je7x/xqDiISX0rcRERqkLD7+V2gY8muOxFJfeoqFRGpIczsaeA9gtNyKGkTqYHU4iYiIiKSItTiJiIiIpIilLiJiIiIpIhacQLeVq1aeWZmZqLDSHnbt2+ncePGiQ5DKkn1l/pUh6lPdZj64lGH06dP3+DupZ6QvVYkbpmZmXz+ua7xW1XZ2dkMHTo00WFIJan+Up/qMPWpDlNfPOrQzMo8B6O6SkVERERShBI3ERERkRShxE1EREQkRdSKMW6l2b17NytWrGDnzp2JDiVlNG3alPnz5yc6jFqpYcOGdOjQgXr16iU6FBERSaBam7itWLGCJk2akJmZiZklOpyUsG3bNpo0aZLoMGodd2fjxo2sWLGCrKysRIcjIiIJVGu7Snfu3EnLli2VtEnSMzNatmyp1mEREam9iRugpE1Shj6rIiICtTxxS7Q1a9Zw/vnn06VLFw499FBOOukkFixYENPXHDp0aIXntHvggQfIy8vbs3zSSSexZcuWKr92ZmYmffr0oX///vTv358bbrihyvusyJYtW3jsscf2LK9atYqzzz67yvs944wz6N+/P127dqVp06Z7junjjz/mBz/4QZX3LyIiSSZnPLyUyTGrjoWXMoPlBKi1Y9wSzd0544wzuOSSS5gwYQIAM2fOZO3atXTv3j2hsT3wwAP86Ec/Ij09HYA33ngDCMa4VdXkyZNp1apVlfcTreLE7ZprrgGgXbt2vPjii1Xe78SJE4HgRIz33Xcfr7322p51H3/8cZX3LyIiSSRnPEwbDYV5GEDe0mAZIGtUXENRi1u0wkybf9Wplkx78uTJ1KtXj6uuumpPWb9+/TjqqKPIzs7mlFNO2VN+3XXXMW7cOCBotbr99tvp378/AwcO5IsvvuD444+nS5cuPP744wDlPj/S1VdfzcCBA+nVqxd33HEHAA899BCrVq1i2LBhDBs2bM9rbtiwgTvuuINHH310z/PvvPNO7rvvPgD+9Kc/MWjQIPr27btnX9EoKChg0KBBZGdnA3D77bczZswYAJ599lkGDx5M//79ufLKKyksLATgrbfe4vvf/z79+vVj+PDh+8QC0Lt3b5YsWcJtt93G4sWL6d+/P7feeitLliyhd+/eQDDO8cc//jF9+vRhwIABTJ48GYBx48Zx5plncsIJJ9CtWzd+9rOfRX08ABkZGUBQD8cccwynnXYaBx10ELfddhvjx49n8ODB9OnTh8WLFwOwfv16zjrrLAYNGsSgQYP46KOP9uv1REQkxmaOgcK8vcsK84LyOFOLWzQiMm2gWjLtOXPmcOihh1bquZ06dWLGjBncfPPNXHrppXz00Ufs3LmT3r1775UIVuSee+6hRYsWFBYWMnz4cGbNmsUNN9zA/fffX2rL2JlnnsmYMWO49tprAXjhhRd4++23eeedd1i4cCHTpk3D3Rk5ciRTpkzh6KOP3uc1hw0bRlpaGgCXXHIJN998M+PGjePss8/m4Ycf5q233uLTTz9l/vz5PP/883z00UfUq1ePa665hvHjx3PiiSdyxRVXMGXKFLKysti0aVO5x/iHP/yBOXPmMGPGDACWLFmyZ92jjz6KmTF79my++uorRowYsaeresaMGXz55Zc0aNCAHj16cP3119OxY8eo39tiM2fOZP78+bRo0YKDDjqIyy+/nGnTpvHggw/y8MMP88ADD3DjjTdy8803c+SRR7Js2TKOP/54nXZFRCRZbF8KectKX1dWeQwpcSv23tB9yzqdC92vgZm3l55pT78xSNx2boAPS4ybOi47VpEycuRIAPr06UNubi5NmjShSZMmNGjQYL/Gor3wwguMHTuWgoICVq9ezbx58+jbt2+Z2/fr149169axatUq1q9fT/PmzenYsSMPPvgg77zzDgMGDAAgNzeXhQsXlpq4lZYQ9urVi4suuohTTjmFTz75hPr16zNp0iSmT5/OoEGDANixYwetW7dm6tSpHH300XtOi9GiRYuoj7ekDz/8kOuvvx6Agw8+mM6dO+9J3IYPH07Tpk0B6NmzJ0uXLq1U4jZo0CDatm0LQJcuXRgxYgQQ1F1xC997773HvHnz9jxn69at5Obm7mm5ExGROPMiWP0OfP0QrH4TGn4Pdq7Zd7v0TnEPTYlbNPJWlF6+a2Old9mrV68yx1rVrVuXoqKiPcslTwPRoEEDAOrUqbPncfFyQUFBhc8HyMnJ4b777uOzzz6jefPmXHrppVGdbuKcc87hxRdfZM2aNZx33nlAMF7v9ttv58orr6zw+WWZPXs2zZo1Y926dXv2eckll/D73/9+r+1effXVUp8fzTHvj8j3NS0tjYKCgirvJ7K+iusKoKioiKlTp9KwYcMqRCwiIlVWsAMW/x0WPAzbFgQJW587oUFr+PKWvRtx0tKh3z1xD1Fj3Iodl73vrXswoL3MjDq9c3DfsNW+z63AscceS35+PmPHjt1TNmvWLP73v//RuXNn5s2bR35+Plu2bGHSpEn7dSjRPH/r1q00btyYpk2bsnbtWt58880965o0aVLmRITzzjuPCRMm8OKLL3LOOecAcPzxx/PUU0+Rm5sLwMqVK/ckYNH473//y6ZNm5gyZQrXX389W7ZsYfjw4bz44ot79rNp0yaWLl3K4YcfzpQpU8jJydlTDsE4vC+++AKAL774Ys/68o7lqKOOYvz4YKziggULWLZsGT169Ig67uoyYsQIHn744T3Lxd26IiISJwXFCVkRzPol1G8OPxgPpy2FPndA96th8FhI74xjwe//4LFxn5gAanGLTr979h7jBlXOtM2MiRMnctNNN/HHP/6Rhg0bkpmZyQMPPEDHjh0599xz6d27N1lZWXu6IKMVzfP79evHgAEDOPjgg+nYsSNHHHHEnnWjR4/mhBNOoF27dnu684r16tWLbdu20b59+z1dgCNGjGD+/PkMGTIECAbnP/vss7Ru3Xqf140c49a3b1/uv/9+brvtNiZNmkTHjh257rrruPHGG3n66ae5++67GTFiBEVFRdSrV49HH32Uww8/nLFjx3LmmWdSVFRE69ateffddznrrLN45pln6NWrF4cddtiembktW7bkiCOOoHfv3px44ol7xucBXHPNNVx99dX06dOHunXrMm7cuL1ayOLloYce4tprr6Vv374UFBRw9NFH75loIiIiMeJFsPpdWPAQ5ObAyXOgbmM4eS6kt993+6xRkDWKD7KzGTp0aNzDLWbunrAXj5eBAwd6yXOXzZ8/n0MOOST6neSMD2aP5C0LWuD63ZOQTDuRdMmrxNrvz2wJ2Qn+YyNVpzpMfarDJLB7G+Q8E3SHbv0aGraBbldDz59DWsVDVuJRh2Y23d0HlrZOLW7RCjNtERERSUHuYAar3oDPr4MWg2DIs9DpHEirn+jooqbETURERGomd1jzbjA79MAjoddt0PFMGDEVWh2W6OgqRYmbiIiI1Cx7ukMfga1fQcPW0DY4HRN16qVs0ga1PHFzd128W1JCbRiLKiJSbaZeBstfhBYDYcg/w+7Q+E8+i4VaezqQhg0bsnHjRv0gStJzdzZu3KjzvImIlMY9mB36wWnB7FCAXr+AEZ/A8dMg60c1JmmDWtzi1qFDB1asWMH69esTHUrK2Llzp5KHBGnYsCEdOnRIdBgiIsljdy4s+Sd8/TBsnQ8NDoStCyAjC1rs32m0UkmtTdzq1au357JJEp3s7Oz9PqeciIhItSvYAa92gZ3roMWhcPjT0Pm8GtWyVpZam7iJiIhIinCHtZNg7eTgPKp1G0HvO6D5AGh1eHCaj1pCiZuIiIgkp4LtkPPP4GS5384LZof2uDm41GTxZSlrGSVuIiIiknzW/Q8+GAm7t0Dz74fdoedGdXWDmkyJm4iIiCSeO6x9P7iGaNsfQvN+0P5U6HYVtBpSq7pDyxOz04GY2VNmts7M5kSUnWNmc82syMwGRpT/0Mymm9ns8P7YMvZ5p5mtNLMZ4e2kWMUvIiIicVCwHRY+AW/0gfePg3l/CMrrHQA/eAYO/IGStgixPI/bOOCEEmVzgDOBKSXKNwCnunsf4BLgn+Xs9y/u3j+8vVFdwYqIiEicLXgMJnaAz66COvXh8HEw9PVER5XUYtZV6u5TzCyzRNl8YJ+rFbj7lxGLc4FGZtbA3fNjFZ+IiIjEmTusy4bm/aF+c6jfLLgUVY8boJVa1qKRjFdOOAv4opyk7TozmxV2xTaPZ2AiIiJSCQV5sGgsvNEXJh0L34wLyjMvhCOfhwOPUNIWJYvlJZ/CFrfX3L13ifJs4BZ3/7xEeS/gFWCEuy8uZX9tCLpVHbgLaOvul5Xx2qOB0QBt2rQ5dMKECVU+ntouNzeXjIyMRIchlaT6S32qw9RX6+rQizho299ou/116vk2ttXtysqMs1jX6FiKrH6io6uUeNThsGHDprv7wNLWJc2sUjPrAEwELi4taQNw97UR2/8NeK2s/bn7WGAswMCBA33o0KHVGm9tlJ2djd7H1KX6S32qw9RXY+swZzzMHAN5yyC9I3S7Bnr9PFg3+U/Q4gTofgNNDjyCg804OLHRVkmi6zApEjczawa8Dtzm7h+Vs11bd18dLp5BMNlBREREEiVnPEwbDYV5wXLeMph5G9RNhx7XwzGvQZ20xMZYg8TydCDPAZ8APcxshZn9xMzOMLMVwBDgdTN7O9z8OqAr8OuIU320DvfzZMSpQ+4NTxkyCxgG3Byr+EVERCQKM2//LmmLNP9Pwb2StmoVy1mlF5SxamIp294N3F3Gfi6PeHxR9UQnIiIi1SJvxf6VS5Uk46xSERERSVaFu2Dh4zD1J8FyeqfStyurXKpEiZuIiIhUrHBXcEqPV7vBZ1fD1q+Cqx70uwfS0vfeNi09KJdqlxSTE0RERCSJbfoC/ncWbF8CLQ+DwWODE+eaQdaoYJs9s0o7BUlbcblUKyVuIiIisq+iAtixEhp3howu0KQrDHoM2p6w78lys0YpUYsTJW4iIiLynaICWPoczP4tpDWEk2ZC/aZw7LuJjkxQ4iYiIiIARYWw7HmY/RvYtiC4nmifOwFdiiqZKHETERERWP4ifDwKmvWFo/4LHU4D0xzGZKPETUREpDbyIlj+HyjaHVzsveNZcPTL0P4UJWxJTDUjIiJSm3gRLPsPvNkfPjwXFv0tKK9TFzqMVNKW5NTiJiIiUlusmwKf3wBbZsIBPeAH46HTeYmOSvaDEjcREZGazB2K8oMZokW7guuKDvkndL5A1xFNQUrcREREaiJ3WPUmzL4DDjwKDr0f2gyHk+crYUthStxERERqEndY/U6QsG38FBpnQYvvB+vMwJS0pTIlbiIiIjXJ7Dtgzl3BFQ8G/w0OugTq1Et0VFJNlLiJiIikMndYOxnS2wcTDjpfCI3aw0E/hrT6iY5Oqpnm/IqIiKSqtdkwaSi8Pxzm/zkoa3owdLtSSVsNpRY3ERGRVLPuQ5j1K1iXDY3awqEPQ9fLEx2VxIESNxERkVSz8mXYOh++/wB0HQ11GyU6IokTdZWKiIgkuw2fwuQTYNXbwXLvX8HIb+DgG5W01TJqcRMREUlWGz+DWXfA6jehQSvYtTkor3dAYuOShFHiJiIikow+vQIWPwn1W0D/P0C3a6FeRqKjkgRT4iYiIpIsNs+Epj2D8661GgIZWdD9eqjXJNGRSZJQ4iYiIpJom2fB7DthxUQ47Eno8hPoclmio5IkpMRNREQkUbbMCRK25f8Jxq31vgM6npXoqCSJKXETERGJtZzxMHMMx+Qtg5c6Qb97IPNC+OQi2LY4mCV68M1Qv3miI5Ukp8RNREQklnLGw7TRUJiHAeQthWlXBOuG/DM4gW6DlomMUFKIzuMmIiISSzPHQGHe3mWFO4LyZr2VtMl+UeImIiISK4X5QQtbafKWxTcWqRGUuImIiFSnokLYMDV4nNYA0hqXvl16p/jFJDWGEjcREZHqULADFv4VXusB7x4J28OWtsFPQFr63tumpQcTFET2kyYniIiIVMWuLfD1w7DgYchfDy0Hw4B7oVGHYH3WqOB+5hg8bxmWHs4qLS4X2Q8xa3Ezs6fMbJ2ZzYkoO8fM5ppZkZkNjCj/oZlNN7PZ4f2xZeyzhZm9a2YLw3vNmxYRkcQoKgzuC3Jh7t1BwnbcBzBiKnQ8E+qkfbdt1ig4fQkftHsfTl+ipE0qLZZdpeOAE0qUzQHOBKaUKN8AnOrufYBLgH+Wsc/bgEnu3g2YFC6LiIjEz+YZ8NEo+ODkYDm9A5y2BIa+Bq2PBrNERic1XMwSN3efAmwqUTbf3b8uZdsv3X1VuDgXaGRmDUrZ7WnA0+Hjp4HTqy9iERGRMrjDmknw/vHw5gBY+Qo07fVdq1ujtomNT2qNZBzjdhbwhbvnl7KujbuvDh+vAdrELywREam1vhkHn14GDdtAv99Dt6ugfrNERyW1kLl77HZulgm85u69S5RnA7e4++clynsBrwAj3H1xKfvb4u7NIpY3u3up49zMbDQwGqBNmzaHTpgwoWoHI+Tm5pKRkZHoMKSSVH+pT3UYP3WKdvK9HW+Sn9aajQ2PIK1oO613ZLM2/YcUWf1K71d1mPriUYfDhg2b7u4DS1uXNC1uZtYBmAhcXFrSFlprZm3dfbWZtQXWlbU/dx8LjAUYOHCgDx06tLpDrnWys7PR+5i6VH+pT3UYB/kbYcGj4QzRDXDQpXD4mHDlyfSo4u5Vh6kv0XWYFOdxM7NmwOvAbe7+UTmbvkIweYHw/uUYhyYiIrXF/D8HF4CffQe0GgLH/Q8OeyrRUYnsJZanA3kO+AToYWYrzOwnZnaGma0AhgCvm9nb4ebXAV2BX5vZjPDWOtzPkxGnDvkD8EMzWwgcFy6LiIhUzqYvYffW4HGjdtD5PDh5LhzzCrQ+UjNEJenErKvU3S8oY9XEUra9G7i7jP1cHvF4IzC8WgIUEZHayR3WvAfz7w3uB9wHh/wfZF4Q3ESSWNKMcRMREYkpd1g6IUjYNs8ITuHR/4/Q5fIKnyqSLJS4iYhIzVZUAHXqBt2ei5+Ewp1w2N8hc1RwEXiRFKLETUREaqad62HBI7D4b3D8tOAKB0dMgAYtwZJibp7IflPiJiIiNUvuN8EM0W+eClrX2o+Egh3BuoYHJjY2kSpS4iYiIjVH/kZ47ZDgcdZFcPD/QdNDEhuTSDVS4iYiIqnLHVa/A+s/hH53Bd2gh4+D1sdAertERydS7ZS4iYhI6inaDcv+DfPuhS0zg3OwHfJ/wfVDdUoPqcGUuImISGrZ+Bl8eA5sXwoHHBJc3SDzQs0QlVpBiZuIiCS/netgxxpo3hcyukCT7nDow9D+ZM0QlVpFiZuIiCSvbYvgq/vhm39A015wwufQoAUc+06iIxNJCCVuIiKSWDnjYeYYyFsG6Z2g3z3QrBfM/R0s/w9YXci6OJghKlLLKXETEZHEyRkP00ZDYV6wnLc0WO58QTBb9JCfQY8bgstTiYgSNxERSaCZY75L2ooV5sGad+H0ZVDvgMTEJZKkNKJTREQSY/e2oIWtNHnLlbSJlEKJm4iIJMZH55e9Lr1T/OIQSSFK3EREJD62LoBpVwWn9QDofQf0vhPS0vfeLi09mKAgIvvQGDcREYmtDZ/CvD/CipegTn1oewJ0PB1aDQ5uTbruO6s0a1SioxZJSkrcREQkNop2w/sjYF021G8OvcZA9+ugUZu9t8sapURNJEpK3EREpPoU7oL1U+B7x0GdetCsL3Q4Hbr8BOplJDo6kZSnxE1ERKpu91ZYNBa+egB2rIRTFsAB3WDgg4mOTKRGUeImIiKVl78J5t8LC/8aJG9thsPhTwXj1kSk2kWVuJlZHaAf0A7YAcxx93WxDExERJJYYT6kNQAvhAWPQruToeet0OLQREcmUqOVm7iZWRfg58BxwEJgPdAQ6G5mecATwNPuXhTrQEVEJAms/wjm3Qv5G+CHH0LDA4MrHNRvnujIRGqFilrc7gb+Clzp7h65wsxaAxcCFwFPxyY8ERFJOC+CFa/A/D/Bho+hQUvodl3Q2mZ1lbSJxFG5iZu7X1DOunXAA9UdkIiIJJmcf8LUS6FxJhz6MHT5MdRtnOioRGqlaMe4nQO85e7bzOxXwADgbnf/IqbRiYhI/O3aAgsfh8adIPNC6HQOpDWEjmdBHc1pE0mkaC959aswaTsSGA78naALVUREaoq8FfDFLfBSR5h5O6zNDsrrpkPn85S0iSSBaL+FheH9ycBYd3/dzO6OUUwiIhJvc38Ps34NOHQ6L5gh2rx/oqMSkRKiTdxWmtkTwA+BP5pZA3SBehGR1OUO66ZA017QsBU07Q3droGDb4aMzERHJyJliDb5Ohd4Gzje3bcALYBbYxWUiIjESFEhLPsPvHM4TBoKi8cG5R1ODa5yoKRNJKlVdB63FhGL2RFl+cDnsQtLRESq3aKxMO9PkLsIMrrAoL9C1iWJjkpE9kNFLW7TCRK06QQn313AdyfinV7eE83sKTNbZ2ZzIsrOMbO5ZlZkZgMjylua2WQzyzWzR8rZ551mttLMZoS3kyo+RBGRWqwg77vHK18Pzrl25L/hlK+h21VQt1HiYhOR/VZu4ubuWe5+EPAecKq7t3L3lsApwDsV7HsccEKJsjnAmcCUEuU7gV8Bt0QR81/cvX94eyOK7UVEap/tS2H6TTCxLWxbFJT94Fk4/lPodDbUSUtoeCJSOdFOTjjc3a8oXnD3N83s3vKe4O5TzCyzRNl8ADMrue124EMz01WJRUSqYvPM4AoHSycAFpyHzcI/9fWaJDQ0Eam6aBO3VWb2S+DZcHkUsCo2IVXoOjO7mKAL9//cfXOC4hARSS67NsPbh0GdetDjRuhxEzTumOioRKQaWYlLkJa+UTAh4Q7g6LBoCvAbd99UwfMygdfcvXeJ8mzgFnf/vET5pcBAd7+ujP21ATYADtwFtHX3y8rYdjQwGqBNmzaHTpgwobxQJQq5ublkZGQkOgypJNVf6itZh+aFtNo5hWb5M1jY7GYAWuycytb6vSioo9a1ZKTvYeqLRx0OGzZsursPLG1dVC1uYYJ2Y7VGVQnuvrb4sZn9DXitnG3HAmMBBg4c6EOHDo15fDVddnY2eh9Tl+ovheWMh5lj8LxlWEEn6HMHFO6Ar/4Mud9Ak+60H9IXGrQAhiY6WimHvoepL9F1GO21SrsTTBzIjHyOux8bm7DKjKOtu68OF88gmOwgIlJz5YyHaaOhMA8DyFsKn4YdDS0PhwF/hg4jwXROdJHaINoxbv8GHgee5LvLX5XLzJ4j+NevlZmtIOhq3QQ8DBwIvG5mM9z9+HD7JcABQH0zOx0Y4e7zzOxJ4PGwW/VeM+tP0FW6BLgyyvhFRFLTzDFQmLdvecM2MOJjKDHZS0RqtmgTtwJ336+Lyrv7BWWsmljG9plllF8e8fii/YlBRCRlFe2G5RODFrbS7FynpE2kFoo2cXvVzK4hSLryiwsrmpwgIiKV8M3TMPN22LEaLA28lI6O9E7xj0tEEi7axK34miiR1yd14KDqDUdEpBZyh/X/Cy743qAl1KkPzfrD4L9B/ib47Kq9u0vT0qHfPQkLV0QSJ9pZpVmxDkREpNbZnQtLnoUFj8K3c6D/vdDzVsi8ILgVszrfzSpN7xQkbVmjEhe3iCRMtLNK6wFX89153LKBJ9x9d4ziEhGpubwIvvgpfPMP2L0Vmg+Aw56EzmUMDc4aBVmj+ECnkhCp9aLtKv0rUA94LFy+KCy7vMxniIjId4oKYONncOCQoAVt+xJofyp0uxZaHa6JBiISlWgTt0Hu3i9i+X0zmxmLgEREapSd62Dxk7DwcdixEkbmQONOcNREJWsist+iTdwKzayLuy8GMLODiPJ8biIitVLuEpj1S1j2byjaBd87Dg59CBq1C9YraRORSog2cbsVmGxm3wAGdAZ+HLOoRERSUUFe0MKWkQlpDWD1W9D1Suh2DTQ9ONHRiUgNEO2s0klm1g3oERZ97e755T1HRKTW2LYo6Ar95ilo3h+Gvw+N2sLpqyCtfqKjE5EaJNpZpdcC4919Vrjc3Mx+4u6PVfBUEZGaa+0HMO+PsPpNsLrQ8cygda2YkjYRqWbRXpX4CnffUrzg7puBK2ISkYhIMsvfCIU7g8ebv4AtM6DPnXDaUjjyeWhzTCKjE5EaLtrELc3su5G0ZpYG6F9JEak9Nn4OU38ML3WAJc8FZd2uDhK2PndAervExicitUK0kxPeAp43syfC5SvDMhGRmsuLYMl4WPAIbJwGdRtD1iXQakiwPq1hYuMTkVon2sTt5wTJ2tXh8rvAkzGJSEQk0XZ9C/WbAgZfPQCF2+HQB4OkrX7TREcnIrVYtLNKi8xsHPC+u38d25BERBLAi2DNe8F1Q9dOhtOXQf1mMPQNaNha510TkaQQ1Rg3MxsJzCDsHjWz/mb2SgzjEhGJj13fBq1qrx0Mk4+HDZ9Aj+uDRA6gURslbSKSNKLtKr0DGExwcXncfYaZZcUqKBGRmCvMD06Sm7cCvrg5GLfW+w7odHZQLiKShKJN3Ha7+7e293+dHoN4RERip3AXLP8vLHwE0jvCEc9Bs15wytdwQPdERyciUqFoE7e5ZnYhwWlBugE3AB/HLiwRkWqUtxIWPQGLxsLOtZBxEHQ697v1StpEJEVEex6364FeQD7wHLAVuClGMYmIVJ17cIPgdB5z7oYWA4PJBqcuhB43JDY+EZFKiHZWaR4wBhgTnny3sbvvjGlkIiLRyhkPM8dA3jJI7wBtjoVNn0H/e6H9ydDjJuh6RdDSJiKSwqKdVfovMzvAzBoDs4F5ZnZrbEMTEYlCzniYNhrylgIOecsh52koyIM64QVeGrVR0iYiNUK0XaU93X0rcDrwJpAFXBSroEREojZzDBTm7VvuRdD2h/GPR0QkhqJN3OqZWT2CxO0Vd9+NZpWKSCJ9Ox8+uzboHi1N3vL4xiMiEgfRzip9AlgCzASmmFlnggkKIiLx9e1XMOe3sHQC1E2Hhm1g55p9t0vvFP/YRERiLKoWN3d/yN3bu/tJ7u7AMmBYbEMTEYmwOxc+/hG80QtWvgI9fwYjl8CA+yAtfe9t09Kh3z0JCVNEJJbKTdzM7Edmts82Higwsy5mdmTswhORWm/Xt8F93cZB9+fBt8DIHOj/B2jYCrJGweCxkN4ZsOB+8NigXESkhqmoq7Ql8KWZTQemA+uBhkBX4BhgA3BbTCMUkdpp60KYcxesfBVGLoIGLWF4dunXDc0apURNRGqFchM3d3/QzB4BjgWOAPoCO4D5wEXuXsaoYBGRStq2OEjYljwbnM6j2zVAmKzpYu8iUstVODnB3QuBd8ObiEjsbF8Orx0MdepC9xuCcWyNvpfoqEREkka0s0pFRGIjNwfWToYul0HjjjDor8HVDhq1TXRkIiJJJ9rzuO03M3vKzNaZ2ZyIsnPMbK6ZFZnZwIjylmY22cxyw67ZsvbZwszeNbOF4X3zWMUvIjGWuwQ+vQJe7Q6fXw/5m4LyrpcraRMRKUPMEjdgHHBCibI5wJnAlBLlO4FfAbdUsM/bgEnu3g2YhCZGiKSeHWtg2pXwajfIeQa6XQWnLoAGLRIdmYhI0ov2WqVtzOzvZvZmuNzTzH5S3nPcfQqwqUTZfHf/upRtt7v7hwQJXHlOA54OHz9NcCUHEUkFXhTeF8CS56DraBi5GAY+DOntExubiEiKiLbFbRzwNtAuXF4A3BSDeCrSxt1Xh4/XAG0SEIOI7I/ty+GzayD75GA5vQOcsRIGPRo8FhGRqEU7OaGVu79gZrcDhCffLYxhXBVydzezMq+XamajgdEAbdq0ITs7O16h1Vi5ubl6H1NYvOuvQeF6Om0bT9u8NwBnTfqJLJz8Lm714hZDTaPvYOpTHaa+RNdhtInbdjNrSXhheTM7HPg2ZlGVba2ZtXX31WbWFlhX1obuPhYYCzBw4EAfOnRonEKsubKzs9H7mLriWn+r34UPfhR0j3a9DHr9gnaNO+9pspfK0Xcw9akOU1+i6zDaxO2nwCtAFzP7CDgQODtmUZXtFeAS4A/h/csJiEFESpO3CnashJaDoNUQ6HolHPxTyMhMdGQiIjVGVImbu39hZscAPQhOYf61u+8u7zlm9hwwFGhlZiuAOwgmKzxMkPi9bmYz3P34cPslwAFAfTM7HRjh7vPM7EngcXf/nCBheyGcGLEUOHc/j1dEqtuO1TDvj7DoCcjoCifNgnoZMPChREcmIlLjRJW4mVkacBKQGT5nhJnh7veX9Rx3v6CMVRPL2D6zjPLLIx5vBIZHE7OIxNiONTDvXlj0VyjaDVkXQ+9f6rJUIiIxFG1X6asEp+qYDRTFLhwRSRlrJsGChyDrIug1Bpp0TXREIiI1XrSJWwd37xvTSEQkue1cB/P/BOkdoccN0Pl8aHU4NOmS6MhERGqNaM/j9qaZjYhpJCKSnHauhy9/Di9nwVf3Q+43QXmdNCVtIiJxFm2L21RgopnVAXYTTFBwdz8gZpGJSOIt/gdMvx4K8iDzQuj9KzigR6KjEhGptaJN3O4HhgCz3b3Mk96KSA2QvxHcoWGroEWt/Ujo/WtoenCiIxMRqfWi7SpdDsxR0iZSg+Vvgplj4OVMmH1nUNb6aDjiX0raRESSRLQtbt8A2eFF5vOLC8s7HYiIpIhdm2H+/fD1g1CQC53OgW5XJzoqEREpRbSJW054qx/eRKSm+PJnsPjJIGHr/Wto1jvREYmISBmivXLCb2IdiIjESM54mDmGY/KWwUudoPcYyFsJHU6DFgOCk+b2uAGa9Ul0pCIiUoFyEzcze8TdrzOzVwkvMB/J3UfGLDIRqbqc8TBtNBTmYQB5S4NlgLrpQeLWuHMiIxQRkf1QUYvbxcB1wH1xiEVEqtvMMVCYt295w7bQ82fxj0dERKqkosRtMYC7fxCHWESkOuVvgrxlpa/buSa+sYiISLWoKHE70Mx+WtZKzSoVSUI71sJX98HCv0KDVpC/ft9t0jvFPy4REamyihK3NCCD4EoJIpLM8lbCvHth8Vgo2gWdzofm34fZv967uzQtHfrdk7g4RUSk0ipK3Fa7+2/jEomIVJ47TBoGuTmQdRH0vB0O6Basa/Q9mDkGz1uGpXcKkrasUYmNV0REKqWixE0tbSLJatsiWPAY9P89pDWAwWODGaIZWXtvlzUKskbxQXY2Q4cOTUioIiJSPSpK3IbHJQoRid63X8Hce2Dpv8DqQcczofWR0GZooiMTEZEYKzdxc/dN8QpERCqwOxc+vRyWvQBpjaDHTXDILdCobaIjExGROIn2klcikig71kKjNlC3cTBDtOdtcPDN0PDAREcmIiJxpsRNJFltmApz7oJ1U+C0JdCgJRz7HpiGnoqI1FZK3ESSzbopQcK25j2o3yJoYatTP1inpE1EpFZT4iaSTLYugPeOgYatof+90O1qqJeR6KhERCRJKHETSSR3WP0WbP4Sev0CDugOR02EtiOCi8CLiIhEqJPoAERqJXdY8TK8PRiyT4LFf4eCHcG6jqcraRMRkVKpxU0k3jZ9CVMvhS2zIOMgOOxJyLwI0uonOjIREUlyStxE4qGoAPI3BJefatg6KBvyDHS+AOroaygiItHRL4ZILBXthpxnYe7vIL0DHDcZ0tvDiTM0Q1RERPabEjeRWCjMh2/Gwbw/wPYl0HwA9LghGNtmpqRNREQqRYmbSCwsegKm3wgtD4OBj0C7k5SsiYhIlSlxE6kOBdth4eOQkRVc9P2gy+CAQ+B7xylhExGRaqPTgYhUxe6tMPf38HImfHkLrHorKK+XAW1/qKRNRESqVcwSNzN7yszWmdmciLJzzGyumRWZ2cAS299uZovM7GszO76MfY4zsxwzmxHe+scqfpEKLXoySNhm/gJaDIQffgSHjU10VCIiUoPFsqt0HPAI8ExE2RzgTOCJyA3NrCdwPtALaAe8Z2bd3b2wlP3e6u4vxiRikYrkb4Q6DYIWtbqN4cCjoPcvoeWgREcmIiK1QMxa3Nx9CrCpRNl8d/+6lM1PAya4e7675wCLgMGxik1kv+1YC1/+DF7uDAseCcoyL4BjXlbSJiIicZMsY9zaA8sjlleEZaW5x8xmmdlfzKxB7EOTWi1vJUy/CV7Jgq/+DO1Pgw4jEx2ViIjUUqk2q/R2YA1QHxgL/Bz4bWkbmtloYDRAmzZtyM7OjlOINVdubm6NfB9b573HQduepEHhOvLTWvNNk8tZl34cAH023kaL/M9Y02gEy5qMYsfuDvDlOmBdYoOuhJpaf7WJ6jD1qQ5TX6LrMFkSt5VAx4jlDmHZXtx9dfgw38z+AdxS1g7dfSxBcsfAgQN96NCh1RZsbZWdnU2Nex9zxsO0v0BhHgANC9fS89s/0vOg1nDwDfDtU5DWiLYZWbRNcKhVVSPrr5ZRHaY+1WHqS3QdJktX6SvA+WbWwMyygG7AtJIbmVnb8N6A0wkmO4hU3swxe5K2PbwA5t4VPG7aMzg3m4iISBKI5elAngM+AXqY2Qoz+4mZnWFmK4AhwOtm9jaAu88FXgDmAW8B1xbPKDWzN8ysXbjb8WY2G5gNtALujlX8UkvkLSu9PH9jfOMQERGJQsy6St39gjJWTSxj+3uAe0opPyni8bHVE53UesXXDE3vBHlL912f3in+MYmIiFQgWbpKReJnw1R4Zwhs/Bz63QNp6XuvT0sPykVERJKMEjepPfJWwccXB0lb3vKgOzRrFAweC+mdAQvuB48NykVERJJMsswqFYmtrx6EWb+Eol3Q6xfQ8/bg6gcQJGlK1EREJAUocZOayz24N4OCbfC94TDgz9CkS2LjEhERqSQlblIzfTs/uOJBtyuh45lBK5tpZICIiKQ2/ZJJzbJrC0z/KbzRFzZ+Cru3BeVK2kREpAZQi5vUHEtfgM+vg/wN0OVy6Hc3NGyd6KhERESqjRI3SX3F52Qr2g0HdIdD34IW3090VCIiItVO/UeSuvJWwEej4Kv7g+XMC+G4/ylpExGRGkstbpJ6CnfC/D/D3N+BF0KzPkG5WWLjEhERiTElbpJa1k6GqT+B7TnBbNEB9+ki8CIiUmsocZPUUDyOrU59qNsYjn0vOC+biIhILaLETZLbrs0w6w7AYOCDcOARcNJMnd5DRERqJf36SXIqKoSFT8Cr3WDho0BRxJUQ9LEVEZHaSS1uknw2z4Spl8LmGdD6aDj0IWjeL9FRiYiIJJwSN0kexePY6h0ABXlwxPPQ6RzNFhUREQkpcZPEK9gB8++DLTPhyH8Hs0RPma8uURERkRL0yyiJ4w7L/gOvHwKzfx0kaoU7g3VK2kRERPahFjdJjO3LgnFsaydDs74wfDK0GZroqERERJKaEjeJrz3j2JrCzrUw6DHocgXU0UdRRESkIvq1lPgoKoBFY2HZ83DsJKjfFE6arS5RERGR/aBfTYm9tdnw1qHw+bVAHdi1KShX0iYiIrJf1OImsbNrC0wbDcv+DY07w5EvBtcX1ek9REREKkWJm1S/4nFsdTOCSQh9fgOH3Ap1GyU6MhERkZSmxE2qj3vQujb/T3Dsu1C/GYz4WF2iIiIi1US/qFI9Ns+ASUPho/OgaHcwYxSUtImIiFQjtbhJ1RTths9vgMVjoX5zGPQ4dLkc6qQlOjIREZEaR4mbVE7xOLY69WDHKuh2HfS9M0jeREREJCaUuEnFcsbDzDEck7cMXuoEmRfCmnfgyBcg4yA4eqK6REVEROJAv7ZSvpzxwSk98pZiOOQthXm/h9ylsGNNsI2SNhERkbjQL66Ub+YYKMzbt7xuIzjwB/GPR0REpBaLaeJmZk+Z2TozmxNRdo6ZzTWzIjMbWGL7281skZl9bWbHl7HPLDP7NNzueTOrH8tjqNWKCiBvWenr8lbENxYRERGJeYvbOOCEEmVzgDOBKZGFZtYTOB/oFT7nMTMrbWriH4G/uHtXYDPwk2qOWYoKIeef8Go3aNi69G3SO8U3JhEREYlt4ubuU4BNJcrmu/vXpWx+GjDB3fPdPQdYBAyO3MDMDDgWeDEseho4vbrjrrXcYeXr8NYA+OTiYIZo16sgLX3v7dLSod89iYlRRESkFkumWaXtgakRyyvCskgtgS3uXlDONlJZ/zsTVrwEGV3gB89B53ODiQdNusHMMXjeMiy9U5C0ZY1KdLQiIiK1TjIlbtXKzEYDowHatGlDdnZ2YgNKUo0KlrMjrT1YHdpuPwhreiOr00/Gl9SDJcW92e2h2Thy6+aSkZEBS4Gl2QmMWiojNzdX34MUpzpMfarD1JfoOkymxG0l0DFiuUNYFmkj0MzM6oatbqVtA4C7jwXGAgwcONCHDh1a7QGntO3LYfadkDMODn8asn4EDAWgexlPyc7ORu9j6lL9pT7VYepTHaa+RNdhMp0O5BXgfDNrYGZZQDdgWuQG7u7AZODssOgS4OW4Rpnq8jfBl7cGEw+WPAvdb4C2pU7gFRERkSQT0xY3M3uOoBmnlZmtAO4gmKzwMHAg8LqZzXD34919rpm9AMwDCoBr3b0w3M8bwOXuvgr4OTDBzO4GvgT+HstjqHGyT4SNn0HWRdDnN5CRmeiIREREJEoxTdzc/YIyVk0sY/t7gH2mK7r7SRGPv6HEbFMpR9FuyHkGOp0H9TJgwH1Qvxk065PoyERERGQ/JdMYN6lO7rD8P8GVD7YtCJa7Xg6tj0p0ZCIiIlJJStxqojXvw4zbYNNn0LQnHP0StB+Z6KhERESkipS41URz74ada+CwpyDrYqhT2gUoREREJNUocasJti2G2b+B/r+D9A4w5Blo0ArSGiY6MhEREalGStxS2Y61MOcuWPQE1KkHHc8IErf0DomOTERERGJAiVsqcoc5v4X5f4LCndDlcuj9a0hvl+jIREREJIaUuKWSosJgvJoZbF8K7U6CvnfDAWVd60BERERqkmS6coKUpagQvnkGXu0Km6YHZYP/Bke+oKRNRESkFlGLWzJzh1VvwMzbYctsaD4gSOJAM0VFRERqISVuycodPjgVVr0OGV3gB89B53PB1EgqIiJSWylxSzbbFgWJmhm0HRGMY+tyOaTVT3RkIiIikmBqvkkW25fD1MvgtR6wIryUa48boPs1StpEREQEUItb4uVvgnm/h68fBhy63wgHHp3oqERERCQJKXFLJHeYdCxsmRVcmqrvb6Bx50RHJSIiIklKiVu8Fe2GnGch84LgklTfvx8atoZmvRMdmYiIiCQ5JW7x4g7L/wMzx8C2BVCnPmSNgu8dm+jIREREJEVockI8rHkf3j4MPjwnuKbo0S9D5oWJjkpERERSjFrcYs0dZv4Cdq6Bw/8BmRfp5LkiIiJSKUrcqipnfND9mbcM0jtBv3ug1eEw5y4YcG8wfu3I56Fhm2BMm4iIiEglKXGripzxMG00FOYFy3lLYeql4IWQ1gg6nQPtT9ZMUREREakWStyqYuaY75K2Yl4AdTPg1AXQqG1i4hIREZEaSZMTqiJvWenlBduVtImIiEi1U+JWFemd9q9cREREpAqUuFVFv3sgLX3vsrT0oFxERESkmilxq4qsUTB4LKR3Biy4Hzw2KBcRERGpZpqcUFVZo5SoiYiISFyoxU1EREQkRShxExEREUkRStxEREREUoQSNxEREZEUocRNREREJEUocRMRERFJEUrcRERERFKEEjcRERGRFGHunugYYs7M1gNLEx1HDdAK2JDoIKTSVH+pT3WY+lSHqS8eddjZ3Q8sbUWtSNykepjZ5+4+MNFxSOWo/lKf6jD1qQ5TX6LrUF2lIiIiIilCiZuIiIhIilDiJvtjbKIDkCpR/aU+1WHqUx2mvoTWoca4iYiIiKQItbiJiIiIpAglbrIXMzvBzL42s0Vmdlsp639qZvPMbJaZTTKzzomIU8pWUR1GbHeWmbmZaYZbkommDs3s3PC7ONfM/hXvGKV8Ufwt7WRmk83sy/Dv6UmJiFNKZ2ZPmdk6M5tTxnozs4fC+p1lZt+PV2xK3GQPM0sDHgVOBHoCF5hZzxKbfQkMdPe+wIvAvfGNUsoTZR1iZk2AG4FP4xuhVCSaOjSzbsDtwBHu3gu4Kd5xStmi/B7+EnjB3QcA5wOPxTdKqcA44IRy1p8IdAtvo4G/xiEmQImb7G0wsMjdv3H3XcAE4LTIDdx9srvnhYtTgQ5xjlHKV2Edhu4C/gjsjGdwEpVo6vAK4FF33wzg7uviHKOUL5o6dOCA8HFTYFUc45MKuPsUYFM5m5wGPOOBqUAzM2sbj9iUuEmk9sDyiOUVYVlZfgK8GdOIZH9VWIdhk35Hd389noFJ1KL5HnYHupvZR2Y21czKaxmQ+IumDu8EfmRmK4A3gOvjE5pUk/39vaw2dePxIlLzmNmPgIHAMYmORaJnZnWA+4FLExyKVE1dgi6aoQSt3lPMrI+7b0lkULJfLgDGufufzWwI8E8z6+3uRYkOTJKbWtwk0kqgY8Ryh7BsL2Z2HDAGGOnu+XGKTaJTUR02AXoD2Wa2BDgceEUTFJJKNN/DFcAr7r7b3XOABQSJnCSHaOrwJ8ALAO7+CdCQ4BqYkhqi+r2MBSVuEukzoJuZZZlZfYIBs69EbmBmA4AnCJI2jatJPuXWobt/6+6t3D3T3TMJximOdPfPExOulKLC7yHwEkFrG2bWiqDr9Js4xijli6YOlwHDAczsEILEbX1co5SqeAW4OJxdejjwrbuvjscLq6tU9nD3AjO7DngbSAOecve5ZvZb4HN3fwX4E5AB/NvMAJa5+8iEBS17ibIOJYlFWYdvAyPMbB5QCNzq7hsTF7VEirIO/w/4m5ndTDBR4VLXGfGThpk9R/DPUatwHOIdQD0Ad3+cYFziScAiIA/4cdxi0+dEREREJDWoq1REREQkRShxExEREUkRStxEREREUoQSNxEREZEUocRNREREJEUocRORGsnMWprZjPC2xsxWho+3hKfRqO7Xu9PMbtnP5+SWUT7OzM6unshEpCZR4iYiNZK7b3T3/u7eH3gc+Ev4uD9Q4WWFzEznuRSRpKPETURqozQz+5uZzTWzd8ysEYCZZZvZA2b2OXCjmR1qZh+Y2XQze9vM2obb3WBm88xslplNiNhvz3Af35jZDcWFZvZTM5sT3m4qGUx49vVHzOxrM3sPaB3bwxeRVKX/KEWkNuoGXODuV5jZC8BZwLPhuvruPtDM6gEfAKe5+3ozOw+4B7gMuA3Icvd8M2sWsd+DgWEE14T92sz+CvQlOKv6YYABn5rZB+7+ZcTzzgB6AD2BNsA84KlYHLiIpDYlbiJSG+W4+4zw8XQgM2Ld8+F9D6A38G54ebc0oPhahLOA8Wb2EsF1Q4u97u75QL6ZrSNIwo4EJrr7dgAz+y9wFBCZuB0NPOfuhcAqM3u/6ocoIjWREjcRqY3yIx4XAo0ilreH9wbMdfchpTz/ZIJk61RgjJn1KWO/+hsrItVKY9xEREr3NXCgmQ0BMLN6ZtbLzOoAHd19MvBzoCmQUc5+/gecbmbpZtaYoFv0fyW2mQKcZ2Zp4Ti6YdV9MCJSM+i/QRGRUrj7rvCUHA+ZWVOCv5cPAAuAZ8MyAx5y9y1hd2pp+/nCzMYB08KiJ0uMbwOYCBxLMLZtGfBJNR+OiNQQ5u6JjkFEREREoqCuUhEREZEUocRNREREJEUocRMRERFJEUrcRERERFKEEjcRERGRFKHETURERCRFKHETERERSRFK3ERERERSxP8Dr5uJfAHdEWcAAAAASUVORK5CYII=\n",
       "datasetInfos": [],
       "metadata": {},
       "removedWidgets": [],
       "type": "image"
      }
     },
     "output_type": "display_data"
    },
    {
     "output_type": "display_data",
     "data": {
      "image/png": "[encoded data removed]"
     },
     "metadata": {
      "application/vnd.databricks.v1+output": {
       "addedWidgets": {},
       "arguments": {},
       "data": "data:image/png;base64,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\n",
       "datasetInfos": [],
       "metadata": {},
       "removedWidgets": [],
       "type": "image"
      }
     },
     "output_type": "display_data"
    }
   ],
   "source": [
    "import matplotlib.pyplot as plt\n",
    "\n",
    "# Function to calculate precision and recall\n",
    "def calculate_precision_recall(filtered_pairs, ground_truth):\n",
    "    true_positives = filtered_pairs.intersection(ground_truth)\n",
    "    precision = len(true_positives) / len(filtered_pairs) if filtered_pairs else 0\n",
    "    recall = len(true_positives) / len(ground_truth) if ground_truth else 0\n",
    "    return precision, recall\n",
    "\n",
    "# Convert the ground truth to a set for faster operations\n",
    "ground_truth_set = set(ground_truth_rdd.collect())\n",
    "\n",
    "# Initialize the cumulative execution time variable\n",
    "cumulative_execution_time = time_of_preprocessing + time_of_prefix_filtering + time_of_lenght_filtering + time_of_position_filtering + time_of_deduplication + time_of_final_op\n",
    "\n",
    "# Initialize lists for plotting\n",
    "thresholds = [0.1, 0.2, 0.3, 0.4, 0.5, 0.6, 0.7, 0.8, 0.9, 1.0]\n",
    "precisions = []\n",
    "recalls = []\n",
    "cumulative_execution_times = []\n",
    "num_pairings = []  # List to store the number of pairings for each threshold\n",
    "\n",
    "# Calculate metrics for each threshold\n",
    "for threshold in sorted(thresholds):\n",
    "    start_time = time.time()\n",
    "\n",
    "    # Filter the Jaccard RDD by the current threshold\n",
    "    filtered_jaccard = jaccard_rdd.filter(lambda x: x[1] >= threshold).map(lambda x: x[0])\n",
    "\n",
    "    # Collect the filtered pairs into a set\n",
    "    filtered_pairs_set = set(filtered_jaccard.collect())\n",
    "\n",
    "    # Store the number of pairings\n",
    "    num_pairings.append(len(filtered_pairs_set))\n",
    "\n",
    "    # Print the number of pairings at specified thresholds\n",
    "    if threshold in [0.7, 0.8, 0.9, 1.0]:\n",
    "        print(f\"Number of pairings at threshold {threshold}: {len(filtered_pairs_set)}\")\n",
    "\n",
    "    # Calculate precision and recall\n",
    "    precision, recall = calculate_precision_recall(filtered_pairs_set, ground_truth_set)\n",
    "    precisions.append(precision)\n",
    "    recalls.append(recall)\n",
    "\n",
    "    # Update the cumulative execution time\n",
    "    cumulative_execution_time += (time.time() - start_time)\n",
    "    cumulative_execution_times.append(cumulative_execution_time)\n",
    "\n",
    "# Plotting Precision and Recall\n",
    "plt.figure(figsize=(10, 5))\n",
    "plt.plot(thresholds, precisions, label='Precision', marker='o')\n",
    "plt.plot(thresholds, recalls, label='Recall', marker='o')\n",
    "plt.title('Precision and Recall by Threshold - 10K')\n",
    "plt.xlabel('Threshold')\n",
    "plt.ylabel('Value')\n",
    "plt.legend()\n",
    "plt.grid(True)\n",
    "plt.show()\n",
    "\n",
    "# Plotting Cumulative Execution Time\n",
    "plt.figure(figsize=(10, 5))\n",
    "plt.plot(thresholds, cumulative_execution_times, label='Cumulative Execution Time', marker='o', linestyle='--', color='orange')\n",
    "plt.title('Cumulative Execution Time by Threshold - 10K')\n",
    "plt.xlabel('Threshold')\n",
    "plt.ylabel('Time (seconds)')\n",
    "plt.legend()\n",
    "plt.grid(True)\n",
    "plt.show()\n",
    "\n",
    "# Plotting the Number of Pairings\n",
    "plt.figure(figsize=(10, 5))\n",
    "plt.plot(thresholds, num_pairings, label='Number of Pairings', marker='x', color='red')\n",
    "plt.title('Number of Pairings by Threshold - 10K')\n",
    "plt.xlabel('Threshold')\n",
    "plt.ylabel('Number of Pairings')\n",
    "plt.legend()\n",
    "plt.grid(True)\n",
    "plt.show()\n",
    "\n"
   ]
  }
 ],
 "metadata": {
  "application/vnd.databricks.v1+notebook": {
   "dashboards": [],
   "language": "python",
   "notebookMetadata": {
    "pythonIndentUnit": 4
   },
   "notebookName": "Set Similarity Join with Spark_word-tokenization_step_by_step_def",
   "widgets": {}
  }
 },
 "nbformat": 4,
 "nbformat_minor": 0
}
